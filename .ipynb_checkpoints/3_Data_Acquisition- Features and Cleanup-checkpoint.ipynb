{
 "cells": [
  {
   "cell_type": "markdown",
   "metadata": {},
   "source": [
    "# Getting Fetaures for each Track using Spotify API w. Spotipy Library\n",
    "Before I look through each track to pull audio features from Spotify, the dataset needs a little cleaning of Null Values."
   ]
  },
  {
   "cell_type": "markdown",
   "metadata": {},
   "source": [
    "### Imports and Credentials"
   ]
  },
  {
   "cell_type": "code",
   "execution_count": 1,
   "metadata": {},
   "outputs": [],
   "source": [
    "import pandas as pd   \n",
    "import numpy as np\n",
    "\n",
    "import spotipy\n",
    "from spotipy.oauth2 import SpotifyClientCredentials, SpotifyOAuth\n",
    "import spotipy.util as util"
   ]
  },
  {
   "cell_type": "code",
   "execution_count": 2,
   "metadata": {},
   "outputs": [],
   "source": [
    "token = util.prompt_for_user_token('222ugx5gr6cxvoyfbs5z2xpvy', # my user id on spotify\n",
    "                                   client_id=\"28926b2395b54676a52b39cbd9477300\", # my 'app' information\n",
    "                                   client_secret=\"6acaf3dbedba475c8c2a5d431de42129\",\n",
    "                                   redirect_uri='http://localhost:8000/')\n",
    "sp = spotipy.Spotify(auth=token) # getting the authorization token"
   ]
  },
  {
   "cell_type": "code",
   "execution_count": 3,
   "metadata": {},
   "outputs": [],
   "source": [
    "tracks_df = pd.read_csv('./data/all_tracks.csv')"
   ]
  },
  {
   "cell_type": "code",
   "execution_count": 4,
   "metadata": {},
   "outputs": [
    {
     "data": {
      "text/html": [
       "<div>\n",
       "<style scoped>\n",
       "    .dataframe tbody tr th:only-of-type {\n",
       "        vertical-align: middle;\n",
       "    }\n",
       "\n",
       "    .dataframe tbody tr th {\n",
       "        vertical-align: top;\n",
       "    }\n",
       "\n",
       "    .dataframe thead th {\n",
       "        text-align: right;\n",
       "    }\n",
       "</style>\n",
       "<table border=\"1\" class=\"dataframe\">\n",
       "  <thead>\n",
       "    <tr style=\"text-align: right;\">\n",
       "      <th></th>\n",
       "      <th>artists</th>\n",
       "      <th>title</th>\n",
       "      <th>track_id</th>\n",
       "      <th>popularity</th>\n",
       "      <th>explicit</th>\n",
       "      <th>release_date</th>\n",
       "    </tr>\n",
       "  </thead>\n",
       "  <tbody>\n",
       "    <tr>\n",
       "      <th>0</th>\n",
       "      <td>Shawn Mendes</td>\n",
       "      <td>Wonder</td>\n",
       "      <td>5KCbr5ndeby4y4ggthdiAb</td>\n",
       "      <td>0</td>\n",
       "      <td>False</td>\n",
       "      <td>2020-10-02</td>\n",
       "    </tr>\n",
       "    <tr>\n",
       "      <th>1</th>\n",
       "      <td>Justin Bieber</td>\n",
       "      <td>Holy (feat. Chance The Rapper)</td>\n",
       "      <td>5u1n1kITHCxxp8twBcZxWy</td>\n",
       "      <td>92</td>\n",
       "      <td>False</td>\n",
       "      <td>2020-09-18</td>\n",
       "    </tr>\n",
       "    <tr>\n",
       "      <th>2</th>\n",
       "      <td>24kGoldn</td>\n",
       "      <td>Mood (feat. Iann Dior)</td>\n",
       "      <td>3tjFYV6RSFtuktYl3ZtYcq</td>\n",
       "      <td>100</td>\n",
       "      <td>True</td>\n",
       "      <td>2020-07-24</td>\n",
       "    </tr>\n",
       "    <tr>\n",
       "      <th>3</th>\n",
       "      <td>Internet Money</td>\n",
       "      <td>Lemonade</td>\n",
       "      <td>02kDW379Yfd5PzW5A6vuGt</td>\n",
       "      <td>93</td>\n",
       "      <td>True</td>\n",
       "      <td>2020-08-14</td>\n",
       "    </tr>\n",
       "    <tr>\n",
       "      <th>4</th>\n",
       "      <td>BLACKPINK</td>\n",
       "      <td>Bet You Wanna (feat. Cardi B)</td>\n",
       "      <td>1hPkiovjTqiJAJen4uyNRg</td>\n",
       "      <td>0</td>\n",
       "      <td>False</td>\n",
       "      <td>2020-10-02</td>\n",
       "    </tr>\n",
       "  </tbody>\n",
       "</table>\n",
       "</div>"
      ],
      "text/plain": [
       "          artists                           title                track_id  \\\n",
       "0    Shawn Mendes                          Wonder  5KCbr5ndeby4y4ggthdiAb   \n",
       "1   Justin Bieber  Holy (feat. Chance The Rapper)  5u1n1kITHCxxp8twBcZxWy   \n",
       "2        24kGoldn          Mood (feat. Iann Dior)  3tjFYV6RSFtuktYl3ZtYcq   \n",
       "3  Internet Money                        Lemonade  02kDW379Yfd5PzW5A6vuGt   \n",
       "4       BLACKPINK   Bet You Wanna (feat. Cardi B)  1hPkiovjTqiJAJen4uyNRg   \n",
       "\n",
       "   popularity explicit release_date  \n",
       "0           0    False   2020-10-02  \n",
       "1          92    False   2020-09-18  \n",
       "2         100     True   2020-07-24  \n",
       "3          93     True   2020-08-14  \n",
       "4           0    False   2020-10-02  "
      ]
     },
     "execution_count": 4,
     "metadata": {},
     "output_type": "execute_result"
    }
   ],
   "source": [
    "tracks_df.head()"
   ]
  },
  {
   "cell_type": "code",
   "execution_count": 5,
   "metadata": {},
   "outputs": [
    {
     "data": {
      "text/html": [
       "<div>\n",
       "<style scoped>\n",
       "    .dataframe tbody tr th:only-of-type {\n",
       "        vertical-align: middle;\n",
       "    }\n",
       "\n",
       "    .dataframe tbody tr th {\n",
       "        vertical-align: top;\n",
       "    }\n",
       "\n",
       "    .dataframe thead th {\n",
       "        text-align: right;\n",
       "    }\n",
       "</style>\n",
       "<table border=\"1\" class=\"dataframe\">\n",
       "  <thead>\n",
       "    <tr style=\"text-align: right;\">\n",
       "      <th></th>\n",
       "      <th>artists</th>\n",
       "      <th>title</th>\n",
       "      <th>track_id</th>\n",
       "      <th>popularity</th>\n",
       "      <th>explicit</th>\n",
       "      <th>release_date</th>\n",
       "    </tr>\n",
       "  </thead>\n",
       "  <tbody>\n",
       "    <tr>\n",
       "      <th>6498</th>\n",
       "      <td>Cody Johnson</td>\n",
       "      <td>Dear Rodeo</td>\n",
       "      <td>5S8TnsIYMVrUg1bKxiGf6e</td>\n",
       "      <td>60</td>\n",
       "      <td>False</td>\n",
       "      <td>2019-01-18</td>\n",
       "    </tr>\n",
       "  </tbody>\n",
       "</table>\n",
       "</div>"
      ],
      "text/plain": [
       "           artists       title                track_id  popularity explicit  \\\n",
       "6498  Cody Johnson  Dear Rodeo  5S8TnsIYMVrUg1bKxiGf6e          60    False   \n",
       "\n",
       "     release_date  \n",
       "6498   2019-01-18  "
      ]
     },
     "execution_count": 5,
     "metadata": {},
     "output_type": "execute_result"
    }
   ],
   "source": [
    "tracks_df.loc[tracks_df['title'] == 'Dear Rodeo']"
   ]
  },
  {
   "cell_type": "markdown",
   "metadata": {},
   "source": [
    "### Tracks Dataset Cleanup\n",
    "\n",
    "There were 46 rows where no value was pulled from Spotify accross all 6 columns. In the grand scale of 103k rows, dropping 46 is a good choice, \n",
    "alternatively I would need to repull everything in hopes that I get these 46 rows filled, which in my opinion is not worth it."
   ]
  },
  {
   "cell_type": "code",
   "execution_count": 6,
   "metadata": {},
   "outputs": [],
   "source": [
    "tracks_df = tracks_df.loc[tracks_df['release_date'] != '0']"
   ]
  },
  {
   "cell_type": "code",
   "execution_count": 7,
   "metadata": {},
   "outputs": [
    {
     "data": {
      "text/plain": [
       "artists          6\n",
       "title            5\n",
       "track_id        18\n",
       "popularity       0\n",
       "explicit         0\n",
       "release_date    25\n",
       "dtype: int64"
      ]
     },
     "execution_count": 7,
     "metadata": {},
     "output_type": "execute_result"
    }
   ],
   "source": [
    "tracks_df.isnull().sum()"
   ]
  },
  {
   "cell_type": "markdown",
   "metadata": {},
   "source": [
    "I need to fill the missing values of date, and looking at Spotify the information I can gather myself is in year only format, so I will create a release_year column that extracts the first 4 characters from the release_date. This will also match the column in the Skip Challenge dataset"
   ]
  },
  {
   "cell_type": "code",
   "execution_count": 8,
   "metadata": {},
   "outputs": [],
   "source": [
    "tracks_df['release_year'] = tracks_df['release_date'].str[:4]"
   ]
  },
  {
   "cell_type": "code",
   "execution_count": 9,
   "metadata": {},
   "outputs": [
    {
     "data": {
      "text/plain": [
       "(103598, 7)"
      ]
     },
     "execution_count": 9,
     "metadata": {},
     "output_type": "execute_result"
    }
   ],
   "source": [
    "tracks_df.shape"
   ]
  },
  {
   "cell_type": "code",
   "execution_count": 10,
   "metadata": {},
   "outputs": [
    {
     "data": {
      "text/html": [
       "<div>\n",
       "<style scoped>\n",
       "    .dataframe tbody tr th:only-of-type {\n",
       "        vertical-align: middle;\n",
       "    }\n",
       "\n",
       "    .dataframe tbody tr th {\n",
       "        vertical-align: top;\n",
       "    }\n",
       "\n",
       "    .dataframe thead th {\n",
       "        text-align: right;\n",
       "    }\n",
       "</style>\n",
       "<table border=\"1\" class=\"dataframe\">\n",
       "  <thead>\n",
       "    <tr style=\"text-align: right;\">\n",
       "      <th></th>\n",
       "      <th>artists</th>\n",
       "      <th>title</th>\n",
       "      <th>track_id</th>\n",
       "      <th>popularity</th>\n",
       "      <th>explicit</th>\n",
       "      <th>release_date</th>\n",
       "      <th>release_year</th>\n",
       "    </tr>\n",
       "  </thead>\n",
       "  <tbody>\n",
       "    <tr>\n",
       "      <th>0</th>\n",
       "      <td>Shawn Mendes</td>\n",
       "      <td>Wonder</td>\n",
       "      <td>5KCbr5ndeby4y4ggthdiAb</td>\n",
       "      <td>0</td>\n",
       "      <td>False</td>\n",
       "      <td>2020-10-02</td>\n",
       "      <td>2020</td>\n",
       "    </tr>\n",
       "    <tr>\n",
       "      <th>1</th>\n",
       "      <td>Justin Bieber</td>\n",
       "      <td>Holy (feat. Chance The Rapper)</td>\n",
       "      <td>5u1n1kITHCxxp8twBcZxWy</td>\n",
       "      <td>92</td>\n",
       "      <td>False</td>\n",
       "      <td>2020-09-18</td>\n",
       "      <td>2020</td>\n",
       "    </tr>\n",
       "    <tr>\n",
       "      <th>2</th>\n",
       "      <td>24kGoldn</td>\n",
       "      <td>Mood (feat. Iann Dior)</td>\n",
       "      <td>3tjFYV6RSFtuktYl3ZtYcq</td>\n",
       "      <td>100</td>\n",
       "      <td>True</td>\n",
       "      <td>2020-07-24</td>\n",
       "      <td>2020</td>\n",
       "    </tr>\n",
       "    <tr>\n",
       "      <th>3</th>\n",
       "      <td>Internet Money</td>\n",
       "      <td>Lemonade</td>\n",
       "      <td>02kDW379Yfd5PzW5A6vuGt</td>\n",
       "      <td>93</td>\n",
       "      <td>True</td>\n",
       "      <td>2020-08-14</td>\n",
       "      <td>2020</td>\n",
       "    </tr>\n",
       "    <tr>\n",
       "      <th>4</th>\n",
       "      <td>BLACKPINK</td>\n",
       "      <td>Bet You Wanna (feat. Cardi B)</td>\n",
       "      <td>1hPkiovjTqiJAJen4uyNRg</td>\n",
       "      <td>0</td>\n",
       "      <td>False</td>\n",
       "      <td>2020-10-02</td>\n",
       "      <td>2020</td>\n",
       "    </tr>\n",
       "  </tbody>\n",
       "</table>\n",
       "</div>"
      ],
      "text/plain": [
       "          artists                           title                track_id  \\\n",
       "0    Shawn Mendes                          Wonder  5KCbr5ndeby4y4ggthdiAb   \n",
       "1   Justin Bieber  Holy (feat. Chance The Rapper)  5u1n1kITHCxxp8twBcZxWy   \n",
       "2        24kGoldn          Mood (feat. Iann Dior)  3tjFYV6RSFtuktYl3ZtYcq   \n",
       "3  Internet Money                        Lemonade  02kDW379Yfd5PzW5A6vuGt   \n",
       "4       BLACKPINK   Bet You Wanna (feat. Cardi B)  1hPkiovjTqiJAJen4uyNRg   \n",
       "\n",
       "   popularity explicit release_date release_year  \n",
       "0           0    False   2020-10-02         2020  \n",
       "1          92    False   2020-09-18         2020  \n",
       "2         100     True   2020-07-24         2020  \n",
       "3          93     True   2020-08-14         2020  \n",
       "4           0    False   2020-10-02         2020  "
      ]
     },
     "execution_count": 10,
     "metadata": {},
     "output_type": "execute_result"
    }
   ],
   "source": [
    "tracks_df.head()"
   ]
  },
  {
   "cell_type": "markdown",
   "metadata": {},
   "source": [
    "There are 25 missing values in release_date (which matches release year), I will manually fill these in looking at Spotify's web player. Some of these are also missing track ID, so I'll fill those at the same time in my search. The ones that have track_id but have release year missing are episodes and not songs, so I'll drop those first."
   ]
  },
  {
   "cell_type": "code",
   "execution_count": 11,
   "metadata": {},
   "outputs": [],
   "source": [
    "tracks_df.drop('release_date', axis = 1, inplace = True) # dropping the original date column"
   ]
  },
  {
   "cell_type": "code",
   "execution_count": 12,
   "metadata": {},
   "outputs": [
    {
     "data": {
      "text/html": [
       "<div>\n",
       "<style scoped>\n",
       "    .dataframe tbody tr th:only-of-type {\n",
       "        vertical-align: middle;\n",
       "    }\n",
       "\n",
       "    .dataframe tbody tr th {\n",
       "        vertical-align: top;\n",
       "    }\n",
       "\n",
       "    .dataframe thead th {\n",
       "        text-align: right;\n",
       "    }\n",
       "</style>\n",
       "<table border=\"1\" class=\"dataframe\">\n",
       "  <thead>\n",
       "    <tr style=\"text-align: right;\">\n",
       "      <th></th>\n",
       "      <th>artists</th>\n",
       "      <th>title</th>\n",
       "      <th>track_id</th>\n",
       "      <th>popularity</th>\n",
       "      <th>explicit</th>\n",
       "      <th>release_year</th>\n",
       "    </tr>\n",
       "  </thead>\n",
       "  <tbody>\n",
       "    <tr>\n",
       "      <th>23979</th>\n",
       "      <td>Ray LaMontagne</td>\n",
       "      <td>I Still Care For You</td>\n",
       "      <td>NaN</td>\n",
       "      <td>0</td>\n",
       "      <td>False</td>\n",
       "      <td>NaN</td>\n",
       "    </tr>\n",
       "    <tr>\n",
       "      <th>25580</th>\n",
       "      <td>Shania Twain</td>\n",
       "      <td>Youre Still The One</td>\n",
       "      <td>NaN</td>\n",
       "      <td>0</td>\n",
       "      <td>False</td>\n",
       "      <td>NaN</td>\n",
       "    </tr>\n",
       "    <tr>\n",
       "      <th>43607</th>\n",
       "      <td>John Wizards</td>\n",
       "      <td>Lusaka By Night</td>\n",
       "      <td>NaN</td>\n",
       "      <td>0</td>\n",
       "      <td>False</td>\n",
       "      <td>NaN</td>\n",
       "    </tr>\n",
       "    <tr>\n",
       "      <th>54197</th>\n",
       "      <td>NTS x Netflix: Top Boy Academy</td>\n",
       "      <td>Abi Leland &amp; Michael Asante: Top Boy Music Tea...</td>\n",
       "      <td>1s1NBYDmNokyUdKGgpjkfo</td>\n",
       "      <td>0</td>\n",
       "      <td>False</td>\n",
       "      <td>NaN</td>\n",
       "    </tr>\n",
       "    <tr>\n",
       "      <th>54201</th>\n",
       "      <td>The New Music Business with Ari Herstand</td>\n",
       "      <td>Euphoria Music Supervisor Jen Malone Gives a Sh*t</td>\n",
       "      <td>122ngSFhxBLq02tp5kaehl</td>\n",
       "      <td>0</td>\n",
       "      <td>True</td>\n",
       "      <td>NaN</td>\n",
       "    </tr>\n",
       "    <tr>\n",
       "      <th>54205</th>\n",
       "      <td>Showstopper</td>\n",
       "      <td>Insecure - ft. Kier Lehman, Raphael Saadiq, &amp; ...</td>\n",
       "      <td>4KplnOanGnfyCBV1v0rK5X</td>\n",
       "      <td>0</td>\n",
       "      <td>False</td>\n",
       "      <td>NaN</td>\n",
       "    </tr>\n",
       "    <tr>\n",
       "      <th>54209</th>\n",
       "      <td>Mundos Diferentes: El Podcast</td>\n",
       "      <td>Episodio 12 - Supervisión musical con Javier N...</td>\n",
       "      <td>0nnvOmX8BbQszi1X1rGt9l</td>\n",
       "      <td>0</td>\n",
       "      <td>False</td>\n",
       "      <td>NaN</td>\n",
       "    </tr>\n",
       "    <tr>\n",
       "      <th>54213</th>\n",
       "      <td>Showstopper</td>\n",
       "      <td>This Is Us - ft. Siddhartha Khosla &amp; Jennifer ...</td>\n",
       "      <td>0rfTSGTzmTpLPSiwI5yTuB</td>\n",
       "      <td>0</td>\n",
       "      <td>False</td>\n",
       "      <td>NaN</td>\n",
       "    </tr>\n",
       "    <tr>\n",
       "      <th>54217</th>\n",
       "      <td>Sound Opinions</td>\n",
       "      <td>#673 Film &amp; T.V. Music Supervisor Susan Jacobs...</td>\n",
       "      <td>6BBNDM0W2JD3g3orcyezjM</td>\n",
       "      <td>0</td>\n",
       "      <td>False</td>\n",
       "      <td>NaN</td>\n",
       "    </tr>\n",
       "    <tr>\n",
       "      <th>54221</th>\n",
       "      <td>In Conversation</td>\n",
       "      <td>Morgan Rhodes</td>\n",
       "      <td>52QXHOXaFXeHDeuaSPknAs</td>\n",
       "      <td>0</td>\n",
       "      <td>False</td>\n",
       "      <td>NaN</td>\n",
       "    </tr>\n",
       "    <tr>\n",
       "      <th>82071</th>\n",
       "      <td>Dev</td>\n",
       "      <td>Bass Down Low (feat. The Cataracs)</td>\n",
       "      <td>NaN</td>\n",
       "      <td>0</td>\n",
       "      <td>False</td>\n",
       "      <td>NaN</td>\n",
       "    </tr>\n",
       "    <tr>\n",
       "      <th>99404</th>\n",
       "      <td>Hit Crew</td>\n",
       "      <td>Witch Doctor</td>\n",
       "      <td>NaN</td>\n",
       "      <td>0</td>\n",
       "      <td>False</td>\n",
       "      <td>NaN</td>\n",
       "    </tr>\n",
       "    <tr>\n",
       "      <th>101018</th>\n",
       "      <td>Pendulum</td>\n",
       "      <td>Comprachicos</td>\n",
       "      <td>NaN</td>\n",
       "      <td>0</td>\n",
       "      <td>False</td>\n",
       "      <td>NaN</td>\n",
       "    </tr>\n",
       "    <tr>\n",
       "      <th>101026</th>\n",
       "      <td>Pendulum</td>\n",
       "      <td>Crush</td>\n",
       "      <td>NaN</td>\n",
       "      <td>0</td>\n",
       "      <td>False</td>\n",
       "      <td>NaN</td>\n",
       "    </tr>\n",
       "    <tr>\n",
       "      <th>101045</th>\n",
       "      <td>Pendulum</td>\n",
       "      <td>Encoder</td>\n",
       "      <td>NaN</td>\n",
       "      <td>0</td>\n",
       "      <td>False</td>\n",
       "      <td>NaN</td>\n",
       "    </tr>\n",
       "    <tr>\n",
       "      <th>101050</th>\n",
       "      <td>Pendulum</td>\n",
       "      <td>Genesis</td>\n",
       "      <td>NaN</td>\n",
       "      <td>0</td>\n",
       "      <td>False</td>\n",
       "      <td>NaN</td>\n",
       "    </tr>\n",
       "    <tr>\n",
       "      <th>101060</th>\n",
       "      <td>Pendulum</td>\n",
       "      <td>Immunize (feat. Liam H)</td>\n",
       "      <td>NaN</td>\n",
       "      <td>0</td>\n",
       "      <td>False</td>\n",
       "      <td>NaN</td>\n",
       "    </tr>\n",
       "    <tr>\n",
       "      <th>101095</th>\n",
       "      <td>Pendulum</td>\n",
       "      <td>Salt In The Wounds</td>\n",
       "      <td>NaN</td>\n",
       "      <td>0</td>\n",
       "      <td>False</td>\n",
       "      <td>NaN</td>\n",
       "    </tr>\n",
       "    <tr>\n",
       "      <th>101098</th>\n",
       "      <td>Pendulum</td>\n",
       "      <td>Set Me On Fire</td>\n",
       "      <td>NaN</td>\n",
       "      <td>0</td>\n",
       "      <td>False</td>\n",
       "      <td>NaN</td>\n",
       "    </tr>\n",
       "    <tr>\n",
       "      <th>101123</th>\n",
       "      <td>Pendulum</td>\n",
       "      <td>The Vulture</td>\n",
       "      <td>NaN</td>\n",
       "      <td>0</td>\n",
       "      <td>False</td>\n",
       "      <td>NaN</td>\n",
       "    </tr>\n",
       "    <tr>\n",
       "      <th>101130</th>\n",
       "      <td>Pendulum</td>\n",
       "      <td>Under The Waves</td>\n",
       "      <td>NaN</td>\n",
       "      <td>0</td>\n",
       "      <td>False</td>\n",
       "      <td>NaN</td>\n",
       "    </tr>\n",
       "    <tr>\n",
       "      <th>101139</th>\n",
       "      <td>Pendulum</td>\n",
       "      <td>Watercolour</td>\n",
       "      <td>NaN</td>\n",
       "      <td>0</td>\n",
       "      <td>False</td>\n",
       "      <td>NaN</td>\n",
       "    </tr>\n",
       "    <tr>\n",
       "      <th>101145</th>\n",
       "      <td>Pendulum</td>\n",
       "      <td>Witchcraft</td>\n",
       "      <td>NaN</td>\n",
       "      <td>0</td>\n",
       "      <td>False</td>\n",
       "      <td>NaN</td>\n",
       "    </tr>\n",
       "    <tr>\n",
       "      <th>101263</th>\n",
       "      <td>Tomas Andersson-Wij</td>\n",
       "      <td>Blues från Sverige</td>\n",
       "      <td>NaN</td>\n",
       "      <td>0</td>\n",
       "      <td>False</td>\n",
       "      <td>NaN</td>\n",
       "    </tr>\n",
       "    <tr>\n",
       "      <th>101870</th>\n",
       "      <td>Veronica Maggio</td>\n",
       "      <td>Jag kommer</td>\n",
       "      <td>NaN</td>\n",
       "      <td>0</td>\n",
       "      <td>False</td>\n",
       "      <td>NaN</td>\n",
       "    </tr>\n",
       "  </tbody>\n",
       "</table>\n",
       "</div>"
      ],
      "text/plain": [
       "                                         artists  \\\n",
       "23979                             Ray LaMontagne   \n",
       "25580                               Shania Twain   \n",
       "43607                               John Wizards   \n",
       "54197             NTS x Netflix: Top Boy Academy   \n",
       "54201   The New Music Business with Ari Herstand   \n",
       "54205                                Showstopper   \n",
       "54209              Mundos Diferentes: El Podcast   \n",
       "54213                                Showstopper   \n",
       "54217                             Sound Opinions   \n",
       "54221                            In Conversation   \n",
       "82071                                        Dev   \n",
       "99404                                   Hit Crew   \n",
       "101018                                  Pendulum   \n",
       "101026                                  Pendulum   \n",
       "101045                                  Pendulum   \n",
       "101050                                  Pendulum   \n",
       "101060                                  Pendulum   \n",
       "101095                                  Pendulum   \n",
       "101098                                  Pendulum   \n",
       "101123                                  Pendulum   \n",
       "101130                                  Pendulum   \n",
       "101139                                  Pendulum   \n",
       "101145                                  Pendulum   \n",
       "101263                       Tomas Andersson-Wij   \n",
       "101870                           Veronica Maggio   \n",
       "\n",
       "                                                    title  \\\n",
       "23979                                I Still Care For You   \n",
       "25580                                 Youre Still The One   \n",
       "43607                                     Lusaka By Night   \n",
       "54197   Abi Leland & Michael Asante: Top Boy Music Tea...   \n",
       "54201   Euphoria Music Supervisor Jen Malone Gives a Sh*t   \n",
       "54205   Insecure - ft. Kier Lehman, Raphael Saadiq, & ...   \n",
       "54209   Episodio 12 - Supervisión musical con Javier N...   \n",
       "54213   This Is Us - ft. Siddhartha Khosla & Jennifer ...   \n",
       "54217   #673 Film & T.V. Music Supervisor Susan Jacobs...   \n",
       "54221                                       Morgan Rhodes   \n",
       "82071                  Bass Down Low (feat. The Cataracs)   \n",
       "99404                                        Witch Doctor   \n",
       "101018                                       Comprachicos   \n",
       "101026                                              Crush   \n",
       "101045                                            Encoder   \n",
       "101050                                            Genesis   \n",
       "101060                            Immunize (feat. Liam H)   \n",
       "101095                                 Salt In The Wounds   \n",
       "101098                                     Set Me On Fire   \n",
       "101123                                        The Vulture   \n",
       "101130                                    Under The Waves   \n",
       "101139                                        Watercolour   \n",
       "101145                                         Witchcraft   \n",
       "101263                                 Blues från Sverige   \n",
       "101870                                         Jag kommer   \n",
       "\n",
       "                      track_id  popularity explicit release_year  \n",
       "23979                      NaN           0    False          NaN  \n",
       "25580                      NaN           0    False          NaN  \n",
       "43607                      NaN           0    False          NaN  \n",
       "54197   1s1NBYDmNokyUdKGgpjkfo           0    False          NaN  \n",
       "54201   122ngSFhxBLq02tp5kaehl           0     True          NaN  \n",
       "54205   4KplnOanGnfyCBV1v0rK5X           0    False          NaN  \n",
       "54209   0nnvOmX8BbQszi1X1rGt9l           0    False          NaN  \n",
       "54213   0rfTSGTzmTpLPSiwI5yTuB           0    False          NaN  \n",
       "54217   6BBNDM0W2JD3g3orcyezjM           0    False          NaN  \n",
       "54221   52QXHOXaFXeHDeuaSPknAs           0    False          NaN  \n",
       "82071                      NaN           0    False          NaN  \n",
       "99404                      NaN           0    False          NaN  \n",
       "101018                     NaN           0    False          NaN  \n",
       "101026                     NaN           0    False          NaN  \n",
       "101045                     NaN           0    False          NaN  \n",
       "101050                     NaN           0    False          NaN  \n",
       "101060                     NaN           0    False          NaN  \n",
       "101095                     NaN           0    False          NaN  \n",
       "101098                     NaN           0    False          NaN  \n",
       "101123                     NaN           0    False          NaN  \n",
       "101130                     NaN           0    False          NaN  \n",
       "101139                     NaN           0    False          NaN  \n",
       "101145                     NaN           0    False          NaN  \n",
       "101263                     NaN           0    False          NaN  \n",
       "101870                     NaN           0    False          NaN  "
      ]
     },
     "execution_count": 12,
     "metadata": {},
     "output_type": "execute_result"
    }
   ],
   "source": [
    "tracks_df.loc[tracks_df['release_year'].isnull()] # SEE IF WE CAN FIX THIS WITH FILLING THE TRACK ID AND RELEASE YEAR"
   ]
  },
  {
   "cell_type": "code",
   "execution_count": 13,
   "metadata": {},
   "outputs": [],
   "source": [
    "# function to drop specific rows based on artist, all of these were episodes and not songs\n",
    "\n",
    "def drop_episodes(artist):\n",
    "    tracks_df.drop(tracks_df.loc[tracks_df['artists'] == artist].index, inplace=True)"
   ]
  },
  {
   "cell_type": "code",
   "execution_count": 14,
   "metadata": {},
   "outputs": [],
   "source": [
    "#Calling the function above with rows to drop\n",
    "\n",
    "drop_episodes('NTS x Netflix: Top Boy Academy')\n",
    "drop_episodes('The New Music Business with Ari Herstand')\n",
    "drop_episodes('Showstopper')\n",
    "drop_episodes('Mundos Diferentes: El Podcast')\n",
    "drop_episodes('Sound Opinions')\n",
    "drop_episodes('In Conversation')"
   ]
  },
  {
   "cell_type": "code",
   "execution_count": 15,
   "metadata": {},
   "outputs": [],
   "source": [
    "# function to fill in specific rows with title match. function will find the row with the title, and fill in the track_id\n",
    "# and the release_year based on what was shown on Spotify.\n",
    "\n",
    "def fill_track_year(title, track_id, year):\n",
    "    tracks_df.loc[tracks_df['title'] == title, ['track_id', 'release_year']] = [track_id, year]"
   ]
  },
  {
   "cell_type": "code",
   "execution_count": 16,
   "metadata": {},
   "outputs": [],
   "source": [
    "# Calling the function to fill in missing track_id and release_year values\n",
    "\n",
    "fill_track_year('I Still Care For You', '4kQF23eYkc18zXyvyqSFjz', 2009)\n",
    "fill_track_year('Youre Still The One', '1wb4P4F0sxAQ2KXrRvsx6n', 1997)\n",
    "fill_track_year('Lusaka By Night', '3gdvhtMXa3JgkZbrKcoPJx', 2013)\n",
    "fill_track_year('Bass Down Low (feat. The Cataracs)', '7EqcHxisQRcdgx9VgpLFFd', 2012)\n",
    "fill_track_year('Witch Doctor', '1lhYMdj0EqBUvjjRpujknM', 2010)\n",
    "fill_track_year('Comprachicos', '2ZIJUwprFZrAaZCRKYfAno', 2010)\n",
    "fill_track_year('Crush', '6hzwfFKrTabeUsW5SWti17', 2010)\n",
    "fill_track_year('Encoder', '1SgUE0s8KGfJW9JeuN0ns2', 2010)\n",
    "fill_track_year('Genesis', '7wZtIGsr1acUjLQMPIpM9A', 2010)\n",
    "fill_track_year('Immunize (feat. Liam H)', '75Ik1zcZSvXSVCFHPwQr4E', 2010)\n",
    "fill_track_year('Salt In The Wounds', '4ESOC1Jott4MYNH9cYuF8z', 2010)\n",
    "fill_track_year('Set Me On Fire', '5E1UIRcuHd7Rr7PYbQSEOu', 2010)\n",
    "fill_track_year('The Vulture', '3cNsLpqu5TGoGKwM6cyZXB', 2010)\n",
    "fill_track_year('Under The Waves', '5AhJXm6nrCNDjVphyBUeLH', 2010)\n",
    "fill_track_year('Watercolour', '5ami95W9OOWQPwrBb5tud5', 2010)\n",
    "fill_track_year('Witchcraft', '4Y2glvLjQGOb4dXnwm1hQf', 2010)\n",
    "fill_track_year('Blues från Sverige', '38Qhu88rMBRJHjZD7X5DpZ', 2004)\n",
    "fill_track_year('Jag kommer','2QyTvPHRT9P6ZZSOAzG7eG', 2010)"
   ]
  },
  {
   "cell_type": "code",
   "execution_count": 17,
   "metadata": {},
   "outputs": [
    {
     "data": {
      "text/plain": [
       "artists         6\n",
       "title           5\n",
       "track_id        0\n",
       "popularity      0\n",
       "explicit        0\n",
       "release_year    0\n",
       "dtype: int64"
      ]
     },
     "execution_count": 17,
     "metadata": {},
     "output_type": "execute_result"
    }
   ],
   "source": [
    "tracks_df.isnull().sum()"
   ]
  },
  {
   "cell_type": "markdown",
   "metadata": {},
   "source": [
    "Looking at the last missing values which are artists and title, the only thing I had to search with was the track_id. Backtracking these through Spotify lead to compilation albums from 'various artists' that have since been removed. Some of the tracks were from Johnny Cash, and one From Jay McShann. Despite knowing these 2 artists, I will drop them anyways because the tracks technically no longer exist and may cause issues in my feature pulls. Additionally the 1 track at index 63707 will also be dropped because it is a 20 min long discussion about the Petrushka Ballet.  "
   ]
  },
  {
   "cell_type": "code",
   "execution_count": 18,
   "metadata": {},
   "outputs": [
    {
     "data": {
      "text/html": [
       "<div>\n",
       "<style scoped>\n",
       "    .dataframe tbody tr th:only-of-type {\n",
       "        vertical-align: middle;\n",
       "    }\n",
       "\n",
       "    .dataframe tbody tr th {\n",
       "        vertical-align: top;\n",
       "    }\n",
       "\n",
       "    .dataframe thead th {\n",
       "        text-align: right;\n",
       "    }\n",
       "</style>\n",
       "<table border=\"1\" class=\"dataframe\">\n",
       "  <thead>\n",
       "    <tr style=\"text-align: right;\">\n",
       "      <th></th>\n",
       "      <th>artists</th>\n",
       "      <th>title</th>\n",
       "      <th>track_id</th>\n",
       "      <th>popularity</th>\n",
       "      <th>explicit</th>\n",
       "      <th>release_year</th>\n",
       "    </tr>\n",
       "  </thead>\n",
       "  <tbody>\n",
       "    <tr>\n",
       "      <th>40226</th>\n",
       "      <td>NaN</td>\n",
       "      <td>NaN</td>\n",
       "      <td>7DRill2AgyTf9LV7uWAK5E</td>\n",
       "      <td>0</td>\n",
       "      <td>False</td>\n",
       "      <td>2012</td>\n",
       "    </tr>\n",
       "    <tr>\n",
       "      <th>41918</th>\n",
       "      <td>NaN</td>\n",
       "      <td>NaN</td>\n",
       "      <td>1e6kD8AXQ152lFZLr7kKPN</td>\n",
       "      <td>0</td>\n",
       "      <td>False</td>\n",
       "      <td>2012</td>\n",
       "    </tr>\n",
       "    <tr>\n",
       "      <th>63707</th>\n",
       "      <td>NaN</td>\n",
       "      <td>Leonard Bernstein Discusses Stravinsky and the...</td>\n",
       "      <td>5OJZjoVoyNbzD24C7tkycW</td>\n",
       "      <td>5</td>\n",
       "      <td>False</td>\n",
       "      <td>1962</td>\n",
       "    </tr>\n",
       "    <tr>\n",
       "      <th>69181</th>\n",
       "      <td>NaN</td>\n",
       "      <td>NaN</td>\n",
       "      <td>3e6ZqyhDUkiPdVaQ9MiNm7</td>\n",
       "      <td>0</td>\n",
       "      <td>False</td>\n",
       "      <td>2012</td>\n",
       "    </tr>\n",
       "    <tr>\n",
       "      <th>82048</th>\n",
       "      <td>NaN</td>\n",
       "      <td>NaN</td>\n",
       "      <td>69gRFGOWY9OMpFJgFol1u0</td>\n",
       "      <td>0</td>\n",
       "      <td>False</td>\n",
       "      <td>2012</td>\n",
       "    </tr>\n",
       "    <tr>\n",
       "      <th>86795</th>\n",
       "      <td>NaN</td>\n",
       "      <td>NaN</td>\n",
       "      <td>16TbVkFPNUtNkwCSZIziXJ</td>\n",
       "      <td>0</td>\n",
       "      <td>False</td>\n",
       "      <td>2013</td>\n",
       "    </tr>\n",
       "  </tbody>\n",
       "</table>\n",
       "</div>"
      ],
      "text/plain": [
       "      artists                                              title  \\\n",
       "40226     NaN                                                NaN   \n",
       "41918     NaN                                                NaN   \n",
       "63707     NaN  Leonard Bernstein Discusses Stravinsky and the...   \n",
       "69181     NaN                                                NaN   \n",
       "82048     NaN                                                NaN   \n",
       "86795     NaN                                                NaN   \n",
       "\n",
       "                     track_id  popularity explicit release_year  \n",
       "40226  7DRill2AgyTf9LV7uWAK5E           0    False         2012  \n",
       "41918  1e6kD8AXQ152lFZLr7kKPN           0    False         2012  \n",
       "63707  5OJZjoVoyNbzD24C7tkycW           5    False         1962  \n",
       "69181  3e6ZqyhDUkiPdVaQ9MiNm7           0    False         2012  \n",
       "82048  69gRFGOWY9OMpFJgFol1u0           0    False         2012  \n",
       "86795  16TbVkFPNUtNkwCSZIziXJ           0    False         2013  "
      ]
     },
     "execution_count": 18,
     "metadata": {},
     "output_type": "execute_result"
    }
   ],
   "source": [
    "tracks_df.loc[tracks_df['artists'].isnull()]"
   ]
  },
  {
   "cell_type": "code",
   "execution_count": 19,
   "metadata": {},
   "outputs": [],
   "source": [
    "tracks_df.drop(tracks_df.loc[tracks_df['artists'].isnull()].index, inplace=True)"
   ]
  },
  {
   "cell_type": "code",
   "execution_count": 20,
   "metadata": {},
   "outputs": [
    {
     "data": {
      "text/plain": [
       "(103585, 6)"
      ]
     },
     "execution_count": 20,
     "metadata": {},
     "output_type": "execute_result"
    }
   ],
   "source": [
    "tracks_df.shape"
   ]
  },
  {
   "cell_type": "markdown",
   "metadata": {},
   "source": [
    "There are some duplicates as the songs/tracks were pulled from playlists. A song/ track could appear multiple times in different playlists: '1990s', 'Best of the 90s', etc. The drop is done based on artist and title match only, because the track_id and popularity change based on which playlist it was on."
   ]
  },
  {
   "cell_type": "code",
   "execution_count": 21,
   "metadata": {},
   "outputs": [],
   "source": [
    "tracks_df.drop_duplicates(['artists','title'],keep= 'first', inplace = True)"
   ]
  },
  {
   "cell_type": "code",
   "execution_count": 22,
   "metadata": {},
   "outputs": [],
   "source": [
    "tracks_df.reset_index(drop=True, inplace=True)"
   ]
  },
  {
   "cell_type": "code",
   "execution_count": 26,
   "metadata": {},
   "outputs": [
    {
     "data": {
      "text/html": [
       "<div>\n",
       "<style scoped>\n",
       "    .dataframe tbody tr th:only-of-type {\n",
       "        vertical-align: middle;\n",
       "    }\n",
       "\n",
       "    .dataframe tbody tr th {\n",
       "        vertical-align: top;\n",
       "    }\n",
       "\n",
       "    .dataframe thead th {\n",
       "        text-align: right;\n",
       "    }\n",
       "</style>\n",
       "<table border=\"1\" class=\"dataframe\">\n",
       "  <thead>\n",
       "    <tr style=\"text-align: right;\">\n",
       "      <th></th>\n",
       "      <th>artists</th>\n",
       "      <th>title</th>\n",
       "      <th>track_id</th>\n",
       "      <th>popularity</th>\n",
       "      <th>explicit</th>\n",
       "      <th>release_year</th>\n",
       "    </tr>\n",
       "  </thead>\n",
       "  <tbody>\n",
       "    <tr>\n",
       "      <th>0</th>\n",
       "      <td>Shawn Mendes</td>\n",
       "      <td>Wonder</td>\n",
       "      <td>5KCbr5ndeby4y4ggthdiAb</td>\n",
       "      <td>0</td>\n",
       "      <td>False</td>\n",
       "      <td>2020</td>\n",
       "    </tr>\n",
       "    <tr>\n",
       "      <th>1</th>\n",
       "      <td>Justin Bieber</td>\n",
       "      <td>Holy (feat. Chance The Rapper)</td>\n",
       "      <td>5u1n1kITHCxxp8twBcZxWy</td>\n",
       "      <td>92</td>\n",
       "      <td>False</td>\n",
       "      <td>2020</td>\n",
       "    </tr>\n",
       "    <tr>\n",
       "      <th>2</th>\n",
       "      <td>24kGoldn</td>\n",
       "      <td>Mood (feat. Iann Dior)</td>\n",
       "      <td>3tjFYV6RSFtuktYl3ZtYcq</td>\n",
       "      <td>100</td>\n",
       "      <td>True</td>\n",
       "      <td>2020</td>\n",
       "    </tr>\n",
       "    <tr>\n",
       "      <th>3</th>\n",
       "      <td>Internet Money</td>\n",
       "      <td>Lemonade</td>\n",
       "      <td>02kDW379Yfd5PzW5A6vuGt</td>\n",
       "      <td>93</td>\n",
       "      <td>True</td>\n",
       "      <td>2020</td>\n",
       "    </tr>\n",
       "    <tr>\n",
       "      <th>4</th>\n",
       "      <td>BLACKPINK</td>\n",
       "      <td>Bet You Wanna (feat. Cardi B)</td>\n",
       "      <td>1hPkiovjTqiJAJen4uyNRg</td>\n",
       "      <td>0</td>\n",
       "      <td>False</td>\n",
       "      <td>2020</td>\n",
       "    </tr>\n",
       "  </tbody>\n",
       "</table>\n",
       "</div>"
      ],
      "text/plain": [
       "          artists                           title                track_id  \\\n",
       "0    Shawn Mendes                          Wonder  5KCbr5ndeby4y4ggthdiAb   \n",
       "1   Justin Bieber  Holy (feat. Chance The Rapper)  5u1n1kITHCxxp8twBcZxWy   \n",
       "2        24kGoldn          Mood (feat. Iann Dior)  3tjFYV6RSFtuktYl3ZtYcq   \n",
       "3  Internet Money                        Lemonade  02kDW379Yfd5PzW5A6vuGt   \n",
       "4       BLACKPINK   Bet You Wanna (feat. Cardi B)  1hPkiovjTqiJAJen4uyNRg   \n",
       "\n",
       "   popularity explicit release_year  \n",
       "0           0    False         2020  \n",
       "1          92    False         2020  \n",
       "2         100     True         2020  \n",
       "3          93     True         2020  \n",
       "4           0    False         2020  "
      ]
     },
     "execution_count": 26,
     "metadata": {},
     "output_type": "execute_result"
    }
   ],
   "source": [
    "tracks_df.head()"
   ]
  },
  {
   "cell_type": "code",
   "execution_count": 28,
   "metadata": {},
   "outputs": [],
   "source": [
    "#tracks_df.to_csv('./data/tracks_cleaned.csv', index = False) #Check point"
   ]
  },
  {
   "cell_type": "markdown",
   "metadata": {},
   "source": [
    "### Getting Track Features for 103k+ tracks"
   ]
  },
  {
   "cell_type": "code",
   "execution_count": null,
   "metadata": {},
   "outputs": [],
   "source": [
    "track_features = []"
   ]
  },
  {
   "cell_type": "code",
   "execution_count": null,
   "metadata": {},
   "outputs": [],
   "source": [
    "token = util.prompt_for_user_token('222ugx5gr6cxvoyfbs5z2xpvy', # my user id on spotify\n",
    "                                   client_id=\"28926b2395b54676a52b39cbd9477300\", # my 'app' information\n",
    "                                   client_secret=\"6acaf3dbedba475c8c2a5d431de42129\",\n",
    "                                   redirect_uri='http://localhost:8000/')\n",
    "sp = spotipy.Spotify(auth=token) # getting the authorization token"
   ]
  },
  {
   "cell_type": "code",
   "execution_count": null,
   "metadata": {},
   "outputs": [],
   "source": [
    "for track in tracks_df.values[]:\n",
    "    features = sp.audio_features(track[2])\n",
    "    track_features.append(features) \n"
   ]
  },
  {
   "cell_type": "code",
   "execution_count": null,
   "metadata": {},
   "outputs": [],
   "source": [
    "track_features[0]"
   ]
  },
  {
   "cell_type": "code",
   "execution_count": null,
   "metadata": {},
   "outputs": [],
   "source": [
    "danceability = []\n",
    "energy = []\n",
    "key = []\n",
    "loudness = []\n",
    "mode = []\n",
    "speechiness = []\n",
    "acousticness = []\n",
    "instrumentalness = []\n",
    "liveness = []\n",
    "valence = []\n",
    "tempo = []\n",
    "duration_ms = []\n",
    "time_signature = []"
   ]
  },
  {
   "cell_type": "code",
   "execution_count": null,
   "metadata": {},
   "outputs": [],
   "source": [
    "for track in track_features:\n",
    "    try:\n",
    "        danceability.append( track[0]['danceability'])\n",
    "        energy.append( track[0]['energy'])\n",
    "        key.append( track[0]['key'])\n",
    "        loudness.append( track[0]['loudness'])\n",
    "        mode.append( track[0]['mode'])\n",
    "        speechiness.append( track[0]['speechiness'])\n",
    "        acousticness.append( track[0]['acousticness'])\n",
    "        instrumentalness.append( track[0]['instrumentalness'])\n",
    "        liveness.append( track[0]['liveness'])\n",
    "        valence.append( track[0]['valence'])\n",
    "        tempo.append( track[0]['tempo'])\n",
    "        duration_ms.append( track[0]['duration_ms'])\n",
    "        time_signature.append( track[0]['time_signature'])\n",
    "    except:\n",
    "        danceability.append(np.NaN)\n",
    "        energy.append(np.NaN)\n",
    "        key.append(np.NaN)\n",
    "        loudness.append(np.NaN)\n",
    "        mode.append(np.NaN)\n",
    "        speechiness.append(np.NaN)\n",
    "        acousticness.append(np.NaN)\n",
    "        instrumentalness.append(np.NaN)\n",
    "        liveness.append(np.NaN)\n",
    "        valence.append(np.NaN)\n",
    "        tempo.append(np.NaN)\n",
    "        duration_ms.append(np.NaN)\n",
    "        time_signature.append(np.NaN)"
   ]
  },
  {
   "cell_type": "code",
   "execution_count": null,
   "metadata": {},
   "outputs": [],
   "source": [
    "tracks_df['danceability'] = danceability\n",
    "tracks_df['energy'] = energy\n",
    "tracks_df['key'] = key\n",
    "tracks_df['loudness'] = loudness\n",
    "tracks_df['mode'] = mode\n",
    "tracks_df['speechiness'] = speechiness\n",
    "tracks_df['acousticness'] = acousticness\n",
    "tracks_df['instrumentalness'] = instrumentalness\n",
    "tracks_df['liveness'] = liveness\n",
    "tracks_df['valence'] = valence\n",
    "tracks_df['tempo'] = tempo\n",
    "tracks_df['duration_ms'] = duration_ms\n",
    "tracks_df['time_signature'] = time_signature"
   ]
  },
  {
   "cell_type": "code",
   "execution_count": null,
   "metadata": {},
   "outputs": [],
   "source": [
    "tracks_df.isnull().sum()"
   ]
  },
  {
   "cell_type": "markdown",
   "metadata": {},
   "source": [
    "These missing values (audio features) are for nature sound tracks and Audiobooks. I will drop these as well."
   ]
  },
  {
   "cell_type": "code",
   "execution_count": null,
   "metadata": {},
   "outputs": [],
   "source": [
    "tracks_df.loc[tracks_df['danceability'].isnull()]"
   ]
  },
  {
   "cell_type": "code",
   "execution_count": null,
   "metadata": {},
   "outputs": [],
   "source": [
    "tracks_df.drop(tracks_df.loc[tracks_df['danceability'].isnull()].index, inplace=True)"
   ]
  },
  {
   "cell_type": "code",
   "execution_count": null,
   "metadata": {},
   "outputs": [],
   "source": [
    "tracks_df.shape"
   ]
  },
  {
   "cell_type": "code",
   "execution_count": null,
   "metadata": {},
   "outputs": [],
   "source": [
    "tracks_df.reset_index(drop=True, inplace=True)"
   ]
  },
  {
   "cell_type": "code",
   "execution_count": null,
   "metadata": {},
   "outputs": [],
   "source": [
    "tracks_df.tail()"
   ]
  },
  {
   "cell_type": "code",
   "execution_count": null,
   "metadata": {},
   "outputs": [],
   "source": [
    "#tracks_df.to_csv('./data/tracks_and_features.csv', index = False)"
   ]
  }
 ],
 "metadata": {
  "kernelspec": {
   "display_name": "Python 3",
   "language": "python",
   "name": "python3"
  },
  "language_info": {
   "codemirror_mode": {
    "name": "ipython",
    "version": 3
   },
   "file_extension": ".py",
   "mimetype": "text/x-python",
   "name": "python",
   "nbconvert_exporter": "python",
   "pygments_lexer": "ipython3",
   "version": "3.8.3"
  }
 },
 "nbformat": 4,
 "nbformat_minor": 4
}
