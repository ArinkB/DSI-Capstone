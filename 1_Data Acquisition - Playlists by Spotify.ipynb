{
 "cells": [
  {
   "cell_type": "markdown",
   "metadata": {},
   "source": [
    "# Getting Playlists using Spotify API w. Spotipy Library\n",
    "\n",
    "I have the dataset from AICrowd's Spotify Sequential Skip Prediction Challenge, however the datasets are missing the original track ID which will help me identify which songs were skipped, and get a closer in depth view of the lyrics to the songs that were skipped. <p> In an attempt to try and rectify the missing information, I will pull all of the playlists that were created by Spotify (not user created) and then pull all the tracks with audio features from the Playlists and compare them to the Skip Challenge dataset. Should all go well, I will then scrape the lyrics to the songs from Genius and determine how much the artist's need to self announce at the beginning of the song plays into a user skipping the track. </p>"
   ]
  },
  {
   "cell_type": "markdown",
   "metadata": {},
   "source": [
    "### Imports"
   ]
  },
  {
   "cell_type": "code",
   "execution_count": 9,
   "metadata": {},
   "outputs": [
    {
     "data": {
      "text/plain": [
       "1394    851\n",
       "896     608\n",
       "886     592\n",
       "923     500\n",
       "893     472\n",
       "       ... \n",
       "637       6\n",
       "1425      3\n",
       "612       0\n",
       "639       0\n",
       "471       0\n",
       "Name: total_tracks, Length: 1437, dtype: int64"
      ]
     },
     "execution_count": 9,
     "metadata": {},
     "output_type": "execute_result"
    }
   ],
   "source": [
    "df = pd.read_csv('./data/playlists.csv')\n",
    "df['total_tracks'].sort_values(ascending = False)"
   ]
  },
  {
   "cell_type": "code",
   "execution_count": 10,
   "metadata": {},
   "outputs": [
    {
     "data": {
      "text/html": [
       "<div>\n",
       "<style scoped>\n",
       "    .dataframe tbody tr th:only-of-type {\n",
       "        vertical-align: middle;\n",
       "    }\n",
       "\n",
       "    .dataframe tbody tr th {\n",
       "        vertical-align: top;\n",
       "    }\n",
       "\n",
       "    .dataframe thead th {\n",
       "        text-align: right;\n",
       "    }\n",
       "</style>\n",
       "<table border=\"1\" class=\"dataframe\">\n",
       "  <thead>\n",
       "    <tr style=\"text-align: right;\">\n",
       "      <th></th>\n",
       "      <th>playlist_name</th>\n",
       "      <th>playlist_id</th>\n",
       "      <th>total_tracks</th>\n",
       "    </tr>\n",
       "  </thead>\n",
       "  <tbody>\n",
       "    <tr>\n",
       "      <th>1394</th>\n",
       "      <td>Sonisphere</td>\n",
       "      <td>2fC7gpl3V9MmCc8gBPHc66</td>\n",
       "      <td>851</td>\n",
       "    </tr>\n",
       "  </tbody>\n",
       "</table>\n",
       "</div>"
      ],
      "text/plain": [
       "     playlist_name             playlist_id  total_tracks\n",
       "1394    Sonisphere  2fC7gpl3V9MmCc8gBPHc66           851"
      ]
     },
     "execution_count": 10,
     "metadata": {},
     "output_type": "execute_result"
    }
   ],
   "source": [
    "df.loc[df['total_tracks'] == 851]"
   ]
  },
  {
   "cell_type": "code",
   "execution_count": 1,
   "metadata": {},
   "outputs": [],
   "source": [
    "import pandas as pd   \n",
    "\n",
    "import spotipy\n",
    "from spotipy.oauth2 import SpotifyClientCredentials, SpotifyOAuth\n",
    "import spotipy.util as util"
   ]
  },
  {
   "cell_type": "markdown",
   "metadata": {},
   "source": [
    "### Setting up Credentials"
   ]
  },
  {
   "cell_type": "code",
   "execution_count": 2,
   "metadata": {},
   "outputs": [],
   "source": [
    "token = util.prompt_for_user_token('222ugx5gr6cxvoyfbs5z2xpvy', # my user id on spotify\n",
    "                                   client_id=\"28926b2395b54676a52b39cbd9477300\", # my 'app' information\n",
    "                                   client_secret=\"6acaf3dbedba475c8c2a5d431de42129\",\n",
    "                                   redirect_uri='http://localhost:8000/')\n",
    "sp = spotipy.Spotify(auth=token) # getting the authorization token\n"
   ]
  },
  {
   "cell_type": "code",
   "execution_count": 3,
   "metadata": {},
   "outputs": [],
   "source": [
    "# genres = [ \"acoustic\", \"afrobeat\", \"alt-rock\", \"alternative\", \"ambient\", \"anime\", \"black-metal\", \"bluegrass\", \n",
    "#                        \"blues\", \"bossanova\", \"brazil\", \"breakbeat\", \"british\", \"cantopop\", \"chicago-house\", \"children\", \"chill\",\n",
    "#                        \"classical\", \"club\", \"comedy\", \"country\", \"dance\", \"dancehall\", \"death-metal\", \"deep-house\", \n",
    "#                        \"detroit-techno\", \"disco\", \"disney\", \"drum-and-bass\", \"dub\", \"dubstep\", \"edm\", \"electro\", \"electronic\", \n",
    "#                        \"emo\", \"folk\", \"forro\", \"french\", \"funk\", \"garage\", \"german\", \"gospel\", \"goth\", \"grindcore\", \"groove\", \n",
    "#                        \"grunge\", \"guitar\", \"happy\", \"hard-rock\", \"hardcore\", \"hardstyle\", \"heavy-metal\", \"hip-hop\", \"holidays\", \n",
    "#                        \"honky-tonk\", \"house\", \"idm\", \"indian\", \"indie\", \"indie-pop\", \"industrial\", \"iranian\", \"j-dance\", \n",
    "#                        \"j-idol\", \"j-pop\", \"j-rock\", \"jazz\", \"k-pop\", \"kids\", \"latin\", \"latino\", \"malay\", \"mandopop\", \"metal\", \n",
    "#                        \"metal-misc\", \"metalcore\", \"minimal-techno\", \"movies\", \"mpb\", \"new-age\", \"new-release\", \"opera\", \n",
    "#                        \"pagode\", \"party\", \"philippines-opm\", \"piano\", \"pop\", \"pop-film\", \"post-dubstep\", \"power-pop\", \n",
    "#                        \"progressive-house\", \"psych-rock\", \"punk\", \"punk-rock\", \"r-n-b\", \"rainy-day\", \"reggae\", \"reggaeton\", \n",
    "#                        \"road-trip\", \"rock\", \"rock-n-roll\", \"rockabilly\", \"romance\", \"sad\", \"salsa\", \"samba\", \"sertanejo\", \n",
    "#                        \"show-tunes\", \"singer-songwriter\", \"ska\", \"sleep\", \"songwriter\", \"soul\", \"soundtracks\", \"spanish\", \n",
    "#                        \"study\", \"summer\", \"swedish\", \"synth-pop\", \"tango\", \"techno\", \"trance\", \"trip-hop\", \"turkish\", \n",
    "#                        \"work-out\", \"world-music\" ]"
   ]
  },
  {
   "cell_type": "code",
   "execution_count": 4,
   "metadata": {},
   "outputs": [],
   "source": [
    "# country_codes= ['AD', 'AR', 'AU', 'AT', 'BE', 'BO', 'BR', 'BG', 'CA', 'CL', 'CO', 'CR', 'CY', 'CZ', 'DK', 'DO', 'EC', 'SV', \n",
    "#                 'EE', 'FI', 'FR', 'DE', 'GR', 'GT', 'HN', 'HK', 'HU', 'IS', 'ID', 'IE', 'IT', 'JP', 'LV', 'LI', 'LT', 'LU', \n",
    "#                 'MY', 'MT', 'MX', 'MC', 'NL', 'NZ', 'NI', 'NO', 'PA', 'PY', 'PE', 'PH', 'PL', 'PT', 'SG', 'ES', 'SK', 'SE', \n",
    "#                 'CH', 'TW', 'TR', 'GB', 'US', 'UY']"
   ]
  },
  {
   "cell_type": "markdown",
   "metadata": {},
   "source": [
    "trying different things before going into the function requests"
   ]
  },
  {
   "cell_type": "code",
   "execution_count": 5,
   "metadata": {},
   "outputs": [],
   "source": [
    "# playlists = sp.user_playlists('spotify', limit=50, offset=0) # pulling playlists from spotify first 50\n",
    "# playlists = sp.track('1tPGSiwtvmMVAqmniJ7oHp') # looking up a track \n",
    "# playlists = sp.recommendations(seed_artists='4NHQUGzhtTLFvgF5SZesLK') # getting recommendations based on seed track\n",
    "# playlists['items'] # what's in here?"
   ]
  },
  {
   "cell_type": "code",
   "execution_count": 6,
   "metadata": {},
   "outputs": [],
   "source": [
    "# Putting a loop together and checking outcome before trying a function\n",
    "\n",
    "# s_playlists = sp.user_playlists('spotify', limit=50, offset= len(playlist_names))\n",
    "# for i, playlist in enumerate(s_playlists['items']):\n",
    "#     print(playlist['name'], '---', playlist['id'])\n",
    "#     playlist_names.append(playlist['name'])\n",
    "#     playlist_id.extend(playlist['id'])\n",
    "    \n"
   ]
  },
  {
   "cell_type": "markdown",
   "metadata": {},
   "source": [
    "testing out getting track info"
   ]
  },
  {
   "cell_type": "code",
   "execution_count": 7,
   "metadata": {},
   "outputs": [],
   "source": [
    "# results = sp.user_playlist('spotify', '37i9dQZF1DXcBWIGoYBM5M', 'tracks')"
   ]
  },
  {
   "cell_type": "code",
   "execution_count": 8,
   "metadata": {},
   "outputs": [],
   "source": [
    "# results['tracks']['items'][3]['track']['name']"
   ]
  },
  {
   "cell_type": "markdown",
   "metadata": {},
   "source": [
    "### Playlist Fuction\n",
    "Starts with 3 empty lists outside of the function,\n",
    "- The function's purpose is to pull playlist names, IDs and the total number of tracks on the playlist, \n",
    "- the function takes a number of playlists argument. \n",
    "- Calls to the Spotipy / Spotify library using 'spotify' as the user_name, maximum pull is 50, offset is where to start, in the function we will start at 0 then, change it based on the length of playlist_names list, which will change as the new playlists are appended to it.\n",
    "- For loop that iterates over the items & playlists in the playlist, pulls the name, id, track totals and appends them to their list.\n",
    "- Additionally there is a 'progress report' every 50 pulls, which starts with a counter at 0, when the counter reaches 50 a print statement with the current length of the playlist_names is displayed and the counter is reset to 0.\n",
    "- If a playlist has no data, a print statement will let me know.\n"
   ]
  },
  {
   "cell_type": "code",
   "execution_count": 9,
   "metadata": {},
   "outputs": [],
   "source": [
    "# empty lists to append to later\n",
    "playlist_names = [] \n",
    "playlist_id = [] \n",
    "total_tracks = []\n",
    "\n",
    "\n",
    "\n",
    "def create_playlist(n_playlists): # function that takes the number of playlists to retrieve\n",
    "    \n",
    "    pulled = 1 # counter for progress report\n",
    "    \n",
    "    while len(playlist_names) < n_playlists: # while the length of playlist names is less than the number of playlists\n",
    "        # make a call to Spotify using spotipy and get 50 playlists created by Spotify start at 0 offset and continue based on\n",
    "        #current length of playlist_names until the playlist length requested is reached.\n",
    "        s_playlists = sp.user_playlists('spotify', limit=50, offset=len(playlist_names)) \n",
    "        for i, playlist in enumerate(s_playlists['items']): # go through each item and playlist\n",
    "            try:\n",
    "                playlist_names.append(playlist['name']) # append name of playlist to list \n",
    "                playlist_id.append(playlist['id'])#append unique id of playlist to list \n",
    "                total_tracks.append(playlist['tracks']['total']) # append total number of tracks on playlist to list\n",
    "                if pulled == 50: # give a progress report every 50 \n",
    "                    print(f'There are now {len(playlist_names)} playlists')# Lets me know how many there are now.\n",
    "                    pulled = 0 # reset counter\n",
    "                pulled += 1 # add to counter\n",
    "            except:\n",
    "                print(\"NO DATA\") #if the playlist has no data, it will print no data    \n",
    "                "
   ]
  },
  {
   "cell_type": "code",
   "execution_count": 10,
   "metadata": {},
   "outputs": [
    {
     "name": "stdout",
     "output_type": "stream",
     "text": [
      "There are now 50 playlists\n",
      "There are now 100 playlists\n",
      "There are now 150 playlists\n",
      "There are now 200 playlists\n",
      "There are now 250 playlists\n",
      "There are now 300 playlists\n",
      "There are now 350 playlists\n",
      "There are now 400 playlists\n",
      "There are now 450 playlists\n",
      "There are now 500 playlists\n",
      "There are now 550 playlists\n",
      "There are now 600 playlists\n",
      "There are now 650 playlists\n",
      "There are now 700 playlists\n",
      "There are now 750 playlists\n",
      "There are now 800 playlists\n",
      "There are now 850 playlists\n",
      "There are now 900 playlists\n",
      "There are now 950 playlists\n",
      "There are now 1000 playlists\n",
      "There are now 1050 playlists\n",
      "There are now 1100 playlists\n",
      "There are now 1150 playlists\n",
      "There are now 1200 playlists\n",
      "There are now 1250 playlists\n",
      "There are now 1300 playlists\n",
      "There are now 1350 playlists\n",
      "There are now 1400 playlists\n"
     ]
    }
   ],
   "source": [
    "create_playlist(1437) # Initially I asked for 1500 but Spotify only has 1437 playlists that they created"
   ]
  },
  {
   "cell_type": "markdown",
   "metadata": {},
   "source": [
    "### Evaluating results\n",
    "Now I will check to make sure everything came out the way I expect it"
   ]
  },
  {
   "cell_type": "code",
   "execution_count": 11,
   "metadata": {},
   "outputs": [
    {
     "data": {
      "text/plain": [
       "['37i9dQZF1DXcBWIGoYBM5M',\n",
       " '37i9dQZF1DX0XUsuxWHRQd',\n",
       " '37i9dQZF1DX1lVhptIYRda',\n",
       " '37i9dQZF1DX10zKzsJ2jva',\n",
       " '37i9dQZF1DX4JAvHpjipBk',\n",
       " '37i9dQZF1DX4dyzvuaRJ0n',\n",
       " '37i9dQZF1DX4SBhb3fqCJd',\n",
       " '37i9dQZF1DWXRqgorJj26U',\n",
       " '37i9dQZF1DX4sWSpwq3LiO',\n",
       " '37i9dQZF1DXcF6B6QPhFDv',\n",
       " '37i9dQZF1DWXJfnUiYjUKT',\n",
       " '37i9dQZF1DXcRXFNfZr7Tp',\n",
       " '37i9dQZF1DX4o1oenSJRJd',\n",
       " '37i9dQZF1DXbTxeAdrVG2l',\n",
       " '37i9dQZF1DX4UtSsGT1Sbe']"
      ]
     },
     "execution_count": 11,
     "metadata": {},
     "output_type": "execute_result"
    }
   ],
   "source": [
    "playlist_id[:15]"
   ]
  },
  {
   "cell_type": "code",
   "execution_count": 12,
   "metadata": {},
   "outputs": [
    {
     "data": {
      "text/plain": [
       "[\"Today's Top Hits\",\n",
       " 'RapCaviar',\n",
       " 'Hot Country',\n",
       " '¡Viva Latino!',\n",
       " 'New Music Friday',\n",
       " 'mint',\n",
       " 'Are & Be',\n",
       " 'Rock Classics',\n",
       " 'Peaceful Piano',\n",
       " 'Rock This',\n",
       " 'New Music Friday',\n",
       " 'just hits',\n",
       " 'All Out 00s',\n",
       " 'All Out 90s',\n",
       " 'All Out 80s']"
      ]
     },
     "execution_count": 12,
     "metadata": {},
     "output_type": "execute_result"
    }
   ],
   "source": [
    "playlist_names[:15]"
   ]
  },
  {
   "cell_type": "code",
   "execution_count": 13,
   "metadata": {},
   "outputs": [
    {
     "data": {
      "text/plain": [
       "[50, 50, 54, 50, 100, 65, 42, 145, 284, 50, 99, 77, 100, 100, 105]"
      ]
     },
     "execution_count": 13,
     "metadata": {},
     "output_type": "execute_result"
    }
   ],
   "source": [
    "total_tracks[:15]"
   ]
  },
  {
   "cell_type": "markdown",
   "metadata": {},
   "source": [
    "### Dataframe and Save\n",
    "Now I will save it to a dataframe with the lists as columns and then save to csv for use in the next notebook"
   ]
  },
  {
   "cell_type": "code",
   "execution_count": 14,
   "metadata": {},
   "outputs": [],
   "source": [
    "playlist = pd.DataFrame(\n",
    "    {'playlist_name': playlist_names,\n",
    "     'playlist_id': playlist_id,\n",
    "     'total_tracks': total_tracks\n",
    "    })"
   ]
  },
  {
   "cell_type": "code",
   "execution_count": 15,
   "metadata": {},
   "outputs": [
    {
     "data": {
      "text/html": [
       "<div>\n",
       "<style scoped>\n",
       "    .dataframe tbody tr th:only-of-type {\n",
       "        vertical-align: middle;\n",
       "    }\n",
       "\n",
       "    .dataframe tbody tr th {\n",
       "        vertical-align: top;\n",
       "    }\n",
       "\n",
       "    .dataframe thead th {\n",
       "        text-align: right;\n",
       "    }\n",
       "</style>\n",
       "<table border=\"1\" class=\"dataframe\">\n",
       "  <thead>\n",
       "    <tr style=\"text-align: right;\">\n",
       "      <th></th>\n",
       "      <th>playlist_name</th>\n",
       "      <th>playlist_id</th>\n",
       "      <th>total_tracks</th>\n",
       "    </tr>\n",
       "  </thead>\n",
       "  <tbody>\n",
       "    <tr>\n",
       "      <th>0</th>\n",
       "      <td>Today's Top Hits</td>\n",
       "      <td>37i9dQZF1DXcBWIGoYBM5M</td>\n",
       "      <td>50</td>\n",
       "    </tr>\n",
       "    <tr>\n",
       "      <th>1</th>\n",
       "      <td>RapCaviar</td>\n",
       "      <td>37i9dQZF1DX0XUsuxWHRQd</td>\n",
       "      <td>50</td>\n",
       "    </tr>\n",
       "    <tr>\n",
       "      <th>2</th>\n",
       "      <td>Hot Country</td>\n",
       "      <td>37i9dQZF1DX1lVhptIYRda</td>\n",
       "      <td>54</td>\n",
       "    </tr>\n",
       "    <tr>\n",
       "      <th>3</th>\n",
       "      <td>¡Viva Latino!</td>\n",
       "      <td>37i9dQZF1DX10zKzsJ2jva</td>\n",
       "      <td>50</td>\n",
       "    </tr>\n",
       "    <tr>\n",
       "      <th>4</th>\n",
       "      <td>New Music Friday</td>\n",
       "      <td>37i9dQZF1DX4JAvHpjipBk</td>\n",
       "      <td>100</td>\n",
       "    </tr>\n",
       "  </tbody>\n",
       "</table>\n",
       "</div>"
      ],
      "text/plain": [
       "      playlist_name             playlist_id  total_tracks\n",
       "0  Today's Top Hits  37i9dQZF1DXcBWIGoYBM5M            50\n",
       "1         RapCaviar  37i9dQZF1DX0XUsuxWHRQd            50\n",
       "2       Hot Country  37i9dQZF1DX1lVhptIYRda            54\n",
       "3     ¡Viva Latino!  37i9dQZF1DX10zKzsJ2jva            50\n",
       "4  New Music Friday  37i9dQZF1DX4JAvHpjipBk           100"
      ]
     },
     "execution_count": 15,
     "metadata": {},
     "output_type": "execute_result"
    }
   ],
   "source": [
    "playlist.head()"
   ]
  },
  {
   "cell_type": "code",
   "execution_count": 16,
   "metadata": {},
   "outputs": [
    {
     "data": {
      "text/plain": [
       "(1437, 3)"
      ]
     },
     "execution_count": 16,
     "metadata": {},
     "output_type": "execute_result"
    }
   ],
   "source": [
    "playlist.shape"
   ]
  },
  {
   "cell_type": "code",
   "execution_count": 17,
   "metadata": {},
   "outputs": [],
   "source": [
    "#playlist.to_csv('./data/playlists.csv', index=False) # commented out so there is no override in the runs"
   ]
  }
 ],
 "metadata": {
  "kernelspec": {
   "display_name": "Python 3",
   "language": "python",
   "name": "python3"
  },
  "language_info": {
   "codemirror_mode": {
    "name": "ipython",
    "version": 3
   },
   "file_extension": ".py",
   "mimetype": "text/x-python",
   "name": "python",
   "nbconvert_exporter": "python",
   "pygments_lexer": "ipython3",
   "version": "3.8.3"
  }
 },
 "nbformat": 4,
 "nbformat_minor": 4
}
