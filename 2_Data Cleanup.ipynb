{
 "cells": [
  {
   "cell_type": "markdown",
   "metadata": {},
   "source": [
    "# Data Clean Up\n",
    "\n",
    "Looking through the data I have, I need to resolve 'duplicates' and null values, evaluate if they are true duplicates/nulls. I also noticed that the featured column does not list the actual artist that was collaborating on the track, instead has the html tags, I will need to extract the artist names from this section and re-place the current value. The same goes for media. I want to extract the Spotify ID in-case I want to extract audio features. \n",
    "\n",
    "<p> I will need to create a target column based on whether the artists sing their own names/labels in the track. I will need to create an 'Alias' column; Akon will almost always sing 'Konvict' in his tracks, Nicki's 'Young Money', Lil' Wayne's 'Weezy' etc."
   ]
  },
  {
   "cell_type": "markdown",
   "metadata": {},
   "source": [
    "### Imports"
   ]
  },
  {
   "cell_type": "code",
   "execution_count": 1,
   "metadata": {},
   "outputs": [],
   "source": [
    "import pandas as pd\n",
    "import numpy as np\n",
    "import regex as re"
   ]
  },
  {
   "cell_type": "code",
   "execution_count": 2,
   "metadata": {},
   "outputs": [],
   "source": [
    "df = pd.read_csv('./data/gathering2_lyrics.csv')"
   ]
  },
  {
   "cell_type": "code",
   "execution_count": 3,
   "metadata": {},
   "outputs": [
    {
     "data": {
      "text/html": [
       "<div>\n",
       "<style scoped>\n",
       "    .dataframe tbody tr th:only-of-type {\n",
       "        vertical-align: middle;\n",
       "    }\n",
       "\n",
       "    .dataframe tbody tr th {\n",
       "        vertical-align: top;\n",
       "    }\n",
       "\n",
       "    .dataframe thead th {\n",
       "        text-align: right;\n",
       "    }\n",
       "</style>\n",
       "<table border=\"1\" class=\"dataframe\">\n",
       "  <thead>\n",
       "    <tr style=\"text-align: right;\">\n",
       "      <th></th>\n",
       "      <th>artist</th>\n",
       "      <th>featured</th>\n",
       "      <th>title</th>\n",
       "      <th>media</th>\n",
       "      <th>release_year</th>\n",
       "      <th>lyrics</th>\n",
       "    </tr>\n",
       "  </thead>\n",
       "  <tbody>\n",
       "    <tr>\n",
       "      <th>0</th>\n",
       "      <td>Jason Derulo</td>\n",
       "      <td>[{'api_path': '/artists/25005', 'header_image_...</td>\n",
       "      <td>Swalla</td>\n",
       "      <td>[{'provider': 'youtube', 'start': 0, 'type': '...</td>\n",
       "      <td>2017-02-24</td>\n",
       "      <td>[Intro: Nicki Minaj]\\nDrank\\nYoung Money\\n\\n[V...</td>\n",
       "    </tr>\n",
       "    <tr>\n",
       "      <th>1</th>\n",
       "      <td>Jason Derulo</td>\n",
       "      <td>[{'api_path': '/artists/14325', 'header_image_...</td>\n",
       "      <td>Talk Dirty</td>\n",
       "      <td>[{'provider': 'youtube', 'start': 0, 'type': '...</td>\n",
       "      <td>2013-08-02</td>\n",
       "      <td>[Intro: Jason Derulo &amp; Rie Abe]\\n(Jason, haha\\...</td>\n",
       "    </tr>\n",
       "    <tr>\n",
       "      <th>2</th>\n",
       "      <td>Jason Derulo</td>\n",
       "      <td>[{'api_path': '/artists/46', 'header_image_url...</td>\n",
       "      <td>Wiggle</td>\n",
       "      <td>[{'native_uri': 'spotify:track:2sLwPnIP3CUVmIu...</td>\n",
       "      <td>2014-06-06</td>\n",
       "      <td>[Intro: Jason Derulo &amp; Snoop Dogg]\\nAyo, Jason...</td>\n",
       "    </tr>\n",
       "    <tr>\n",
       "      <th>3</th>\n",
       "      <td>Jason Derulo</td>\n",
       "      <td>[]</td>\n",
       "      <td>Trumpets</td>\n",
       "      <td>[{'native_uri': 'spotify:track:5KONnBIQ9LqCxye...</td>\n",
       "      <td>2013-11-07</td>\n",
       "      <td>[Chorus]\\nEvery time that you get undressed\\nI...</td>\n",
       "    </tr>\n",
       "    <tr>\n",
       "      <th>4</th>\n",
       "      <td>Jason Derulo</td>\n",
       "      <td>[{'api_path': '/artists/1583', 'header_image_u...</td>\n",
       "      <td>Tip Toe</td>\n",
       "      <td>[{'native_uri': 'spotify:track:2z4pcBLQXF2BXKF...</td>\n",
       "      <td>2017-11-10</td>\n",
       "      <td>[Intro: Jason Derulo &amp; Soaky Siren]\\nDerulo\\nW...</td>\n",
       "    </tr>\n",
       "  </tbody>\n",
       "</table>\n",
       "</div>"
      ],
      "text/plain": [
       "         artist                                           featured  \\\n",
       "0  Jason Derulo  [{'api_path': '/artists/25005', 'header_image_...   \n",
       "1  Jason Derulo  [{'api_path': '/artists/14325', 'header_image_...   \n",
       "2  Jason Derulo  [{'api_path': '/artists/46', 'header_image_url...   \n",
       "3  Jason Derulo                                                 []   \n",
       "4  Jason Derulo  [{'api_path': '/artists/1583', 'header_image_u...   \n",
       "\n",
       "        title                                              media release_year  \\\n",
       "0      Swalla  [{'provider': 'youtube', 'start': 0, 'type': '...   2017-02-24   \n",
       "1  Talk Dirty  [{'provider': 'youtube', 'start': 0, 'type': '...   2013-08-02   \n",
       "2      Wiggle  [{'native_uri': 'spotify:track:2sLwPnIP3CUVmIu...   2014-06-06   \n",
       "3    Trumpets  [{'native_uri': 'spotify:track:5KONnBIQ9LqCxye...   2013-11-07   \n",
       "4     Tip Toe  [{'native_uri': 'spotify:track:2z4pcBLQXF2BXKF...   2017-11-10   \n",
       "\n",
       "                                              lyrics  \n",
       "0  [Intro: Nicki Minaj]\\nDrank\\nYoung Money\\n\\n[V...  \n",
       "1  [Intro: Jason Derulo & Rie Abe]\\n(Jason, haha\\...  \n",
       "2  [Intro: Jason Derulo & Snoop Dogg]\\nAyo, Jason...  \n",
       "3  [Chorus]\\nEvery time that you get undressed\\nI...  \n",
       "4  [Intro: Jason Derulo & Soaky Siren]\\nDerulo\\nW...  "
      ]
     },
     "execution_count": 3,
     "metadata": {},
     "output_type": "execute_result"
    }
   ],
   "source": [
    "df.head()"
   ]
  },
  {
   "cell_type": "markdown",
   "metadata": {},
   "source": [
    "Checking the describe of the data and adding a column for nulls for quick viewing"
   ]
  },
  {
   "cell_type": "code",
   "execution_count": 4,
   "metadata": {},
   "outputs": [],
   "source": [
    "desc = df.describe() # assign describe to variable\n",
    "add_null = pd.concat([df.isnull().sum().rename('Nulls'),desc.T],axis=1)"
   ]
  },
  {
   "cell_type": "code",
   "execution_count": 5,
   "metadata": {},
   "outputs": [
    {
     "data": {
      "text/html": [
       "<div>\n",
       "<style scoped>\n",
       "    .dataframe tbody tr th:only-of-type {\n",
       "        vertical-align: middle;\n",
       "    }\n",
       "\n",
       "    .dataframe tbody tr th {\n",
       "        vertical-align: top;\n",
       "    }\n",
       "\n",
       "    .dataframe thead th {\n",
       "        text-align: right;\n",
       "    }\n",
       "</style>\n",
       "<table border=\"1\" class=\"dataframe\">\n",
       "  <thead>\n",
       "    <tr style=\"text-align: right;\">\n",
       "      <th></th>\n",
       "      <th>Nulls</th>\n",
       "      <th>count</th>\n",
       "      <th>unique</th>\n",
       "      <th>top</th>\n",
       "      <th>freq</th>\n",
       "    </tr>\n",
       "  </thead>\n",
       "  <tbody>\n",
       "    <tr>\n",
       "      <th>artist</th>\n",
       "      <td>0</td>\n",
       "      <td>11890</td>\n",
       "      <td>130</td>\n",
       "      <td>Bruno Mars</td>\n",
       "      <td>100</td>\n",
       "    </tr>\n",
       "    <tr>\n",
       "      <th>featured</th>\n",
       "      <td>0</td>\n",
       "      <td>11890</td>\n",
       "      <td>1899</td>\n",
       "      <td>[]</td>\n",
       "      <td>8784</td>\n",
       "    </tr>\n",
       "    <tr>\n",
       "      <th>title</th>\n",
       "      <td>0</td>\n",
       "      <td>11890</td>\n",
       "      <td>11000</td>\n",
       "      <td>Intro</td>\n",
       "      <td>17</td>\n",
       "    </tr>\n",
       "    <tr>\n",
       "      <th>media</th>\n",
       "      <td>0</td>\n",
       "      <td>11890</td>\n",
       "      <td>10540</td>\n",
       "      <td>[]</td>\n",
       "      <td>1340</td>\n",
       "    </tr>\n",
       "    <tr>\n",
       "      <th>release_year</th>\n",
       "      <td>1920</td>\n",
       "      <td>9970</td>\n",
       "      <td>2786</td>\n",
       "      <td>2016-03-25</td>\n",
       "      <td>42</td>\n",
       "    </tr>\n",
       "    <tr>\n",
       "      <th>lyrics</th>\n",
       "      <td>3</td>\n",
       "      <td>11887</td>\n",
       "      <td>11640</td>\n",
       "      <td>[Instrumental]</td>\n",
       "      <td>62</td>\n",
       "    </tr>\n",
       "  </tbody>\n",
       "</table>\n",
       "</div>"
      ],
      "text/plain": [
       "              Nulls  count unique             top  freq\n",
       "artist            0  11890    130      Bruno Mars   100\n",
       "featured          0  11890   1899              []  8784\n",
       "title             0  11890  11000           Intro    17\n",
       "media             0  11890  10540              []  1340\n",
       "release_year   1920   9970   2786      2016-03-25    42\n",
       "lyrics            3  11887  11640  [Instrumental]    62"
      ]
     },
     "execution_count": 5,
     "metadata": {},
     "output_type": "execute_result"
    }
   ],
   "source": [
    "add_null"
   ]
  },
  {
   "cell_type": "markdown",
   "metadata": {},
   "source": [
    "## Cleanup"
   ]
  },
  {
   "cell_type": "markdown",
   "metadata": {},
   "source": [
    "For the missing year values, It is in a yyy-mm-dd format, I only want the year, and will try to fill the values that I can as I fill the lyrics"
   ]
  },
  {
   "cell_type": "code",
   "execution_count": 6,
   "metadata": {},
   "outputs": [],
   "source": [
    "df['release_year'] = df['release_year'].str[:4] # splitting the strings in release_year value to only give me the year"
   ]
  },
  {
   "cell_type": "markdown",
   "metadata": {},
   "source": [
    "#### Checking Nulls"
   ]
  },
  {
   "cell_type": "code",
   "execution_count": 7,
   "metadata": {},
   "outputs": [
    {
     "data": {
      "text/html": [
       "<div>\n",
       "<style scoped>\n",
       "    .dataframe tbody tr th:only-of-type {\n",
       "        vertical-align: middle;\n",
       "    }\n",
       "\n",
       "    .dataframe tbody tr th {\n",
       "        vertical-align: top;\n",
       "    }\n",
       "\n",
       "    .dataframe thead th {\n",
       "        text-align: right;\n",
       "    }\n",
       "</style>\n",
       "<table border=\"1\" class=\"dataframe\">\n",
       "  <thead>\n",
       "    <tr style=\"text-align: right;\">\n",
       "      <th></th>\n",
       "      <th>artist</th>\n",
       "      <th>featured</th>\n",
       "      <th>title</th>\n",
       "      <th>media</th>\n",
       "      <th>release_year</th>\n",
       "      <th>lyrics</th>\n",
       "    </tr>\n",
       "  </thead>\n",
       "  <tbody>\n",
       "    <tr>\n",
       "      <th>2052</th>\n",
       "      <td>Sia</td>\n",
       "      <td>[{'api_path': '/artists/49361', 'header_image_...</td>\n",
       "      <td>Elastic Heart (Video Breakdown)</td>\n",
       "      <td>[{'provider': 'youtube', 'start': 0, 'type': '...</td>\n",
       "      <td>NaN</td>\n",
       "      <td>NaN</td>\n",
       "    </tr>\n",
       "    <tr>\n",
       "      <th>2378</th>\n",
       "      <td>Lorde</td>\n",
       "      <td>[]</td>\n",
       "      <td>“Yellow Flicker Beat” Single Art</td>\n",
       "      <td>[]</td>\n",
       "      <td>2014</td>\n",
       "      <td>NaN</td>\n",
       "    </tr>\n",
       "    <tr>\n",
       "      <th>5321</th>\n",
       "      <td>Pharrell Williams</td>\n",
       "      <td>[]</td>\n",
       "      <td>Pharrell Burger</td>\n",
       "      <td>[]</td>\n",
       "      <td>2014</td>\n",
       "      <td>NaN</td>\n",
       "    </tr>\n",
       "  </tbody>\n",
       "</table>\n",
       "</div>"
      ],
      "text/plain": [
       "                 artist                                           featured  \\\n",
       "2052                Sia  [{'api_path': '/artists/49361', 'header_image_...   \n",
       "2378              Lorde                                                 []   \n",
       "5321  Pharrell Williams                                                 []   \n",
       "\n",
       "                                 title  \\\n",
       "2052   Elastic Heart (Video Breakdown)   \n",
       "2378  “Yellow Flicker Beat” Single Art   \n",
       "5321                   Pharrell Burger   \n",
       "\n",
       "                                                  media release_year lyrics  \n",
       "2052  [{'provider': 'youtube', 'start': 0, 'type': '...          NaN    NaN  \n",
       "2378                                                 []         2014    NaN  \n",
       "5321                                                 []         2014    NaN  "
      ]
     },
     "execution_count": 7,
     "metadata": {},
     "output_type": "execute_result"
    }
   ],
   "source": [
    "df.loc[df['lyrics'].isnull()]\n",
    "# Elastic Heart already exhists\n",
    "# Yellow Flicker Beat already exhists\n",
    "# Pharrell Burger haha he has his own Signature Burger in Tokyo..."
   ]
  },
  {
   "cell_type": "markdown",
   "metadata": {},
   "source": [
    "Dropping the null values in lyrics"
   ]
  },
  {
   "cell_type": "code",
   "execution_count": 8,
   "metadata": {},
   "outputs": [],
   "source": [
    "df.drop(df.loc[df['lyrics'].isnull()].index, inplace=True)"
   ]
  },
  {
   "cell_type": "code",
   "execution_count": 9,
   "metadata": {},
   "outputs": [
    {
     "data": {
      "text/plain": [
       "(11887, 6)"
      ]
     },
     "execution_count": 9,
     "metadata": {},
     "output_type": "execute_result"
    }
   ],
   "source": [
    "df.shape"
   ]
  },
  {
   "cell_type": "code",
   "execution_count": 10,
   "metadata": {
    "scrolled": true
   },
   "outputs": [
    {
     "data": {
      "text/html": [
       "<div>\n",
       "<style scoped>\n",
       "    .dataframe tbody tr th:only-of-type {\n",
       "        vertical-align: middle;\n",
       "    }\n",
       "\n",
       "    .dataframe tbody tr th {\n",
       "        vertical-align: top;\n",
       "    }\n",
       "\n",
       "    .dataframe thead th {\n",
       "        text-align: right;\n",
       "    }\n",
       "</style>\n",
       "<table border=\"1\" class=\"dataframe\">\n",
       "  <thead>\n",
       "    <tr style=\"text-align: right;\">\n",
       "      <th></th>\n",
       "      <th>artist</th>\n",
       "      <th>featured</th>\n",
       "      <th>title</th>\n",
       "      <th>media</th>\n",
       "      <th>release_year</th>\n",
       "      <th>lyrics</th>\n",
       "    </tr>\n",
       "  </thead>\n",
       "  <tbody>\n",
       "    <tr>\n",
       "      <th>95</th>\n",
       "      <td>Jason Derulo</td>\n",
       "      <td>[]</td>\n",
       "      <td>Red Card</td>\n",
       "      <td>[]</td>\n",
       "      <td>1996</td>\n",
       "      <td>\\n            Lyrics for this song h...</td>\n",
       "    </tr>\n",
       "    <tr>\n",
       "      <th>155</th>\n",
       "      <td>CAKE</td>\n",
       "      <td>[]</td>\n",
       "      <td>Never Gonna Give You Up</td>\n",
       "      <td>[]</td>\n",
       "      <td>2007</td>\n",
       "      <td>You look so good to me right now...\\nYou reall...</td>\n",
       "    </tr>\n",
       "    <tr>\n",
       "      <th>174</th>\n",
       "      <td>CAKE</td>\n",
       "      <td>[]</td>\n",
       "      <td>Bound Away</td>\n",
       "      <td>[]</td>\n",
       "      <td>2011</td>\n",
       "      <td>I'm an unknown individual in an unattended car...</td>\n",
       "    </tr>\n",
       "    <tr>\n",
       "      <th>179</th>\n",
       "      <td>CAKE</td>\n",
       "      <td>[]</td>\n",
       "      <td>Teenage Pregnancy</td>\n",
       "      <td>[]</td>\n",
       "      <td>2011</td>\n",
       "      <td>[Instrumental]</td>\n",
       "    </tr>\n",
       "    <tr>\n",
       "      <th>184</th>\n",
       "      <td>CAKE</td>\n",
       "      <td>[]</td>\n",
       "      <td>Conroy</td>\n",
       "      <td>[]</td>\n",
       "      <td>2007</td>\n",
       "      <td>[Instrumental]</td>\n",
       "    </tr>\n",
       "    <tr>\n",
       "      <th>...</th>\n",
       "      <td>...</td>\n",
       "      <td>...</td>\n",
       "      <td>...</td>\n",
       "      <td>...</td>\n",
       "      <td>...</td>\n",
       "      <td>...</td>\n",
       "    </tr>\n",
       "    <tr>\n",
       "      <th>11561</th>\n",
       "      <td>Ava Max</td>\n",
       "      <td>[]</td>\n",
       "      <td>My Way (Shew Remix)</td>\n",
       "      <td>[{'attribution': 'iamshew', 'provider': 'sound...</td>\n",
       "      <td>2018</td>\n",
       "      <td>[Verse 1]\\nMy momma use to say\\n\"Baby make me ...</td>\n",
       "    </tr>\n",
       "    <tr>\n",
       "      <th>11563</th>\n",
       "      <td>Ava Max</td>\n",
       "      <td>[]</td>\n",
       "      <td>Dream Away</td>\n",
       "      <td>[]</td>\n",
       "      <td>2006</td>\n",
       "      <td>No Lyrics Available Yet</td>\n",
       "    </tr>\n",
       "    <tr>\n",
       "      <th>11570</th>\n",
       "      <td>Ava Max</td>\n",
       "      <td>[]</td>\n",
       "      <td>Treat Me Like a Lady</td>\n",
       "      <td>[]</td>\n",
       "      <td>2006</td>\n",
       "      <td>No Lyrics Available Yet</td>\n",
       "    </tr>\n",
       "    <tr>\n",
       "      <th>11571</th>\n",
       "      <td>Ava Max</td>\n",
       "      <td>[]</td>\n",
       "      <td>Head &amp; Heart</td>\n",
       "      <td>[]</td>\n",
       "      <td>NaN</td>\n",
       "      <td>\\n            Lyrics for this song h...</td>\n",
       "    </tr>\n",
       "    <tr>\n",
       "      <th>11634</th>\n",
       "      <td>J Balvin</td>\n",
       "      <td>[]</td>\n",
       "      <td>En Mí (Interlude)</td>\n",
       "      <td>[{'provider': 'youtube', 'start': 0, 'type': '...</td>\n",
       "      <td>2018</td>\n",
       "      <td>[Instrumental]</td>\n",
       "    </tr>\n",
       "  </tbody>\n",
       "</table>\n",
       "<p>332 rows × 6 columns</p>\n",
       "</div>"
      ],
      "text/plain": [
       "             artist featured                    title  \\\n",
       "95     Jason Derulo       []                 Red Card   \n",
       "155            CAKE       []  Never Gonna Give You Up   \n",
       "174            CAKE       []               Bound Away   \n",
       "179            CAKE       []        Teenage Pregnancy   \n",
       "184            CAKE       []                   Conroy   \n",
       "...             ...      ...                      ...   \n",
       "11561       Ava Max       []      My Way (Shew Remix)   \n",
       "11563       Ava Max       []               Dream Away   \n",
       "11570       Ava Max       []     Treat Me Like a Lady   \n",
       "11571       Ava Max       []             Head & Heart   \n",
       "11634      J Balvin       []        En Mí (Interlude)   \n",
       "\n",
       "                                                   media release_year  \\\n",
       "95                                                    []         1996   \n",
       "155                                                   []         2007   \n",
       "174                                                   []         2011   \n",
       "179                                                   []         2011   \n",
       "184                                                   []         2007   \n",
       "...                                                  ...          ...   \n",
       "11561  [{'attribution': 'iamshew', 'provider': 'sound...         2018   \n",
       "11563                                                 []         2006   \n",
       "11570                                                 []         2006   \n",
       "11571                                                 []          NaN   \n",
       "11634  [{'provider': 'youtube', 'start': 0, 'type': '...         2018   \n",
       "\n",
       "                                                  lyrics  \n",
       "95               \\n            Lyrics for this song h...  \n",
       "155    You look so good to me right now...\\nYou reall...  \n",
       "174    I'm an unknown individual in an unattended car...  \n",
       "179                                       [Instrumental]  \n",
       "184                                       [Instrumental]  \n",
       "...                                                  ...  \n",
       "11561  [Verse 1]\\nMy momma use to say\\n\"Baby make me ...  \n",
       "11563                            No Lyrics Available Yet  \n",
       "11570                            No Lyrics Available Yet  \n",
       "11571            \\n            Lyrics for this song h...  \n",
       "11634                                     [Instrumental]  \n",
       "\n",
       "[332 rows x 6 columns]"
      ]
     },
     "execution_count": 10,
     "metadata": {},
     "output_type": "execute_result"
    }
   ],
   "source": [
    "df[df.duplicated('lyrics', keep = False)]"
   ]
  },
  {
   "cell_type": "markdown",
   "metadata": {},
   "source": [
    "Of the 332 duplicates, there are 63 songs where the lyrics of the song have not yet been release or are unavailable. Additionally there are 69 rows where the lyrics are Instrumental. This is due to some artists like Christina Perri who also do lullabies, MGMT, Diplo, who do electronic music and songs that are Intros to albums. \n",
    "The rest of the tracks that were marked duplicates were true duplicates. Fisherspooner had 10 songs that were the same, because of different Remixes, but the lyrics are all the same\n",
    "<br> Then dropping another 104 rows where the lyrics are less than 150 characters in length, grabbing some odd bits that were pulled </br> \n",
    "<br> I decided to drop BLACKPINK because majority of the songs were duplicates and in Korean script .Initially chose them in my list of artists because I knew they shouted their name in the beginning of the songs, however even the songs were the same the lyrics were written differently (dialect) and would not be flagged as duplicates. I noticed that of the 88 songs that were pulled only about 12 of them were not duplicates."
   ]
  },
  {
   "cell_type": "code",
   "execution_count": 11,
   "metadata": {},
   "outputs": [],
   "source": [
    "df.drop_duplicates(subset='lyrics', keep=\"first\", inplace=True) # Keeping first instance and dropping the rest"
   ]
  },
  {
   "cell_type": "code",
   "execution_count": 12,
   "metadata": {},
   "outputs": [],
   "source": [
    "df.drop(df.loc[df['lyrics'].str.len() < 150].index, inplace=True) # Catching any lyrics that are less than 120 characters"
   ]
  },
  {
   "cell_type": "code",
   "execution_count": 13,
   "metadata": {},
   "outputs": [],
   "source": [
    "df.drop(df.loc[df['artist'] == 'BLACKPINK'].index, inplace=True) # dropping Blackpink, although they do self announce the lyrics are mostly Korean"
   ]
  },
  {
   "cell_type": "markdown",
   "metadata": {},
   "source": [
    "### String Cleanup\n",
    "I need to clean up the characters in the lyrics columns. Where there was a line break we now have \\n. There are also verse sections marked [Verse], [Chorus] [Intro] and so on that need to be removed."
   ]
  },
  {
   "cell_type": "code",
   "execution_count": 14,
   "metadata": {},
   "outputs": [
    {
     "data": {
      "text/plain": [
       "\"[Intro]\\nDa-da-da-da-da-da\\nDa-da-da-da-da-da\\nDa-da-da-da-da-da\\nDa-da-da-da-da-da (Jason Derulo)\\n\\n[Verse 1]\\nPull up, skrrt-skrrt on your body\\nPerformin' just like my 'Rari\\nYou're too fine, need\\u2005a\\u2005ticket\\nI bet you\\u2005taste expensive\\nPourin' up, up, up by\\u2005the liter\\nIf you keepin' up, you's a keeper\\nTequila and vodka\\nGirl, you might be a problem\\n\\n[Pre-Chorus]\\nRun away, run away, run away, run away, I know that I should\\nBut my heart wanna stay, wanna stay, wanna stay, wanna stay now\\nYou can see it in my eyes that I wanna take you down right now if I could\\nSo I hope you know what I mean when I say\\n\\n[Chorus]\\nLet me take you dancin'\\nTwo-step to the bedroom\\nWe don't need no dancefloor\\nLet me see your best move\\nAnything could happen\\nEver since I met you\\nNo need to imagine\\nBaby, all I'm asking\\nIs let me take you dancing\\n\\n[Post-Chorus]\\nLike da-da-da-da-da-da\\nDa-da-da-da-da-da\\nDa-da-da-da-da-da\\nDa-da-da-da-da-da\\nDa-da-da-da-da-da\\nDa-da-da-da-da-da\\nDa-da-da-da-da-da\\nDa-da-da-da-da-da\\n\\n[Verse 2]\\nPull up, skrrt-skrrt on your body\\nIt's just us two in this party\\nThat Louis, that Prada\\nLooks so much better off ya\\nTurn me up, up, up, be my waitress\\nKnow we not in love, so let's make it\\nTequila and vodka\\nGirl, you might be a problem\\n\\n[Pre-Chorus]\\nRun away, run away, run away, run away, I know that I should (Know that I should)\\nBut my heart wanna stay, wanna stay, wanna stay, wanna stay now\\nYou can see it in my eyes that I wanna take you down right now if I could\\nSo I hope you know what I mean when I say\\n\\n[Chorus]\\nLet me take you dancin'\\nTwo-step to the bedroom\\nWe don't need no dancefloor\\nLet me see your best move\\nAnything could happen\\nEver since I met you\\nNo need to imagine\\nBaby, all I'm asking\\nIs let me take you dancing\\n\\n[Post-Chorus]\\nLike da-da-da-da-da-da\\nDa-da-da-da-da-da (Oh)\\nDa-da-da-da-da-da\\nDa-da-da-da-da-da (If you know what I mean)\\nDa-da-da-da-da-da\\nDa-da-da-da-da-da\\nDa-da-da-da-da-da (Girl)\\nDa-da-da-da-da-da\\n\\n[Chorus]\\nLet me take you dancin'\\nTwo-step to the bedroom\\nWe don't need no dancefloor\\nLet me see your best move\\nAnything could happen\\nEver since I met you\\nNo need to imagine\\nBaby, all I'm asking\\nIs let me take you dancing\\n\\n[Post-Chorus]\\nDa-da, da-da-da-da-da-da (Oh, baby)\\nDa-da-da-da-da-da (Oh, baby)\\nDa-da-da-da-da-da (If you know what I mean)\\nDa-da-da-da-da-da\\nDa-da-da-da-da-da (All night)\\nDa-da-da-da-da-da\\nDa-da-da-da-da-da (Dancin')\""
      ]
     },
     "execution_count": 14,
     "metadata": {},
     "output_type": "execute_result"
    }
   ],
   "source": [
    "df['lyrics'][11] # before"
   ]
  },
  {
   "cell_type": "code",
   "execution_count": 15,
   "metadata": {},
   "outputs": [],
   "source": [
    "df['lyrics'] = df['lyrics'].str.encode('ascii', 'ignore') # unicode present \\u2005 and \\u205f\n",
    "df['lyrics'] = df['lyrics'].str.decode(\"utf-8\") #used these 2 lines to encode to ascii then decode to utf-8 to remove them\n",
    "\n",
    "df['lyrics'] = df['lyrics'].str.replace('\\n', ' ').str.replace(\"\\'\", \"\") # removing \\n and \\\n",
    "df['lyrics'] = df['lyrics'].str.replace(r'[\\[].*?[\\]]','') # removing [chorus] [intro] etc\n",
    "\n",
    "df['lyrics'] = df['lyrics'].str.strip() #removing extra space at beginning and end"
   ]
  },
  {
   "cell_type": "code",
   "execution_count": 16,
   "metadata": {},
   "outputs": [
    {
     "data": {
      "text/plain": [
       "'Da-da-da-da-da-da Da-da-da-da-da-da Da-da-da-da-da-da Da-da-da-da-da-da (Jason Derulo)   Pull up, skrrt-skrrt on your body Performin just like my Rari Youre too fine, needaticket I bet youtaste expensive Pourin up, up, up bythe liter If you keepin up, yous a keeper Tequila and vodka Girl, you might be a problem   Run away, run away, run away, run away, I know that I should But my heart wanna stay, wanna stay, wanna stay, wanna stay now You can see it in my eyes that I wanna take you down right now if I could So I hope you know what I mean when I say   Let me take you dancin Two-step to the bedroom We dont need no dancefloor Let me see your best move Anything could happen Ever since I met you No need to imagine Baby, all Im asking Is let me take you dancing   Like da-da-da-da-da-da Da-da-da-da-da-da Da-da-da-da-da-da Da-da-da-da-da-da Da-da-da-da-da-da Da-da-da-da-da-da Da-da-da-da-da-da Da-da-da-da-da-da   Pull up, skrrt-skrrt on your body Its just us two in this party That Louis, that Prada Looks so much better off ya Turn me up, up, up, be my waitress Know we not in love, so lets make it Tequila and vodka Girl, you might be a problem   Run away, run away, run away, run away, I know that I should (Know that I should) But my heart wanna stay, wanna stay, wanna stay, wanna stay now You can see it in my eyes that I wanna take you down right now if I could So I hope you know what I mean when I say   Let me take you dancin Two-step to the bedroom We dont need no dancefloor Let me see your best move Anything could happen Ever since I met you No need to imagine Baby, all Im asking Is let me take you dancing   Like da-da-da-da-da-da Da-da-da-da-da-da (Oh) Da-da-da-da-da-da Da-da-da-da-da-da (If you know what I mean) Da-da-da-da-da-da Da-da-da-da-da-da Da-da-da-da-da-da (Girl) Da-da-da-da-da-da   Let me take you dancin Two-step to the bedroom We dont need no dancefloor Let me see your best move Anything could happen Ever since I met you No need to imagine Baby, all Im asking Is let me take you dancing   Da-da, da-da-da-da-da-da (Oh, baby) Da-da-da-da-da-da (Oh, baby) Da-da-da-da-da-da (If you know what I mean) Da-da-da-da-da-da Da-da-da-da-da-da (All night) Da-da-da-da-da-da Da-da-da-da-da-da (Dancin)'"
      ]
     },
     "execution_count": 16,
     "metadata": {},
     "output_type": "execute_result"
    }
   ],
   "source": [
    "df['lyrics'][11] # after"
   ]
  },
  {
   "cell_type": "markdown",
   "metadata": {},
   "source": [
    "### Featured column\n",
    "Currently the featured column has html if there were featured artist and [] if no additional artists were on the track. I am going to extract the names from the tags and refill the column where possible. Although the exhisting values looks like it is a dictionary, it is actually string type."
   ]
  },
  {
   "cell_type": "code",
   "execution_count": 17,
   "metadata": {},
   "outputs": [],
   "source": [
    "df.reset_index(inplace=True, drop=True)# reseting index, since we dropped a few rows"
   ]
  },
  {
   "cell_type": "code",
   "execution_count": 18,
   "metadata": {},
   "outputs": [],
   "source": [
    "feat = []    # empty featured list\n",
    "for values in df['featured']: # for each item in the featured column\n",
    "    if values != '[]': # if the row value is not []\n",
    "        search = re.findall(r'name(.+?),', values, re.I) # search for the word name and extract the values after all the way to the comma\n",
    "        res = str(search) # find all makes values list, changed it to string\n",
    "        feat.append(re.sub(r'([][:\\'\\\"])', '', res).replace(',', ' & ').strip()) # append to feat list, remove extra characters, separate artists with &, strip extra white space\n",
    "#         print(res.sub(r'[^a-zA-Z0-9$]', \"\", res).strip('  '))\n",
    "    else:\n",
    "        feat.append('NA') # everything else gets appended as an empty string\n",
    "\n",
    "# Thanks Brett & Alex for Regex Help & John for Workarounds to a dictionary that was not a dictionary."
   ]
  },
  {
   "cell_type": "code",
   "execution_count": 19,
   "metadata": {},
   "outputs": [],
   "source": [
    "df['featured'] = feat # overwriting the column with list values"
   ]
  },
  {
   "cell_type": "markdown",
   "metadata": {},
   "source": [
    "### Media column\n",
    "Similar to above the media column gives links/id for media of the song : Youtube, Spotify, Soundcloud. I will extract the Spotify track id, which can later be used to extract additional information about the track should I choose to."
   ]
  },
  {
   "cell_type": "code",
   "execution_count": 20,
   "metadata": {},
   "outputs": [],
   "source": [
    "track_id = []    # empty track_id list\n",
    "for values in df['media']: # for each item in the media column\n",
    "    if values != '[]': # if value is not []\n",
    "        search = re.findall(r\"track:(.+?)'\", values, re.I) # find all values that have track and extract everything after, to the '\n",
    "        res = str(search) # make string instead of list\n",
    "        track_id.append(re.sub(r\"([]\\'[])\", '', res).strip()) # strip extra characters and space and append\n",
    "\n",
    "    else:\n",
    "        track_id.append('NA') # otherwise append empty string\n",
    "        \n",
    "        \n",
    "df.insert(3, 'track_id', track_id) # making a new column and placing it at 3rd column index.\n",
    "df.drop('media', axis = 1, inplace = True) # dropping the old column\n",
    "\n",
    "#https://stackoverflow.com/questions/13148429/how-to-change-the-order-of-dataframe-columns?page=1&tab=votes#tab-top\n"
   ]
  },
  {
   "cell_type": "code",
   "execution_count": 21,
   "metadata": {},
   "outputs": [
    {
     "data": {
      "text/html": [
       "<div>\n",
       "<style scoped>\n",
       "    .dataframe tbody tr th:only-of-type {\n",
       "        vertical-align: middle;\n",
       "    }\n",
       "\n",
       "    .dataframe tbody tr th {\n",
       "        vertical-align: top;\n",
       "    }\n",
       "\n",
       "    .dataframe thead th {\n",
       "        text-align: right;\n",
       "    }\n",
       "</style>\n",
       "<table border=\"1\" class=\"dataframe\">\n",
       "  <thead>\n",
       "    <tr style=\"text-align: right;\">\n",
       "      <th></th>\n",
       "      <th>artist</th>\n",
       "      <th>featured</th>\n",
       "      <th>title</th>\n",
       "      <th>track_id</th>\n",
       "      <th>release_year</th>\n",
       "      <th>lyrics</th>\n",
       "    </tr>\n",
       "  </thead>\n",
       "  <tbody>\n",
       "    <tr>\n",
       "      <th>0</th>\n",
       "      <td>Jason Derulo</td>\n",
       "      <td>Ty Dolla $ign &amp;   Nicki Minaj</td>\n",
       "      <td>Swalla</td>\n",
       "      <td>6kex4EBAj0WHXDKZMEJaaF</td>\n",
       "      <td>2017</td>\n",
       "      <td>Drank Young Money   Love in a thousand differe...</td>\n",
       "    </tr>\n",
       "    <tr>\n",
       "      <th>1</th>\n",
       "      <td>Jason Derulo</td>\n",
       "      <td>2 Chainz</td>\n",
       "      <td>Talk Dirty</td>\n",
       "      <td>5aHCHpekZ854JMVyPaOt7w</td>\n",
       "      <td>2013</td>\n",
       "      <td>(Jason, haha Jason Derulo) Haha, get Jazzy on ...</td>\n",
       "    </tr>\n",
       "    <tr>\n",
       "      <th>2</th>\n",
       "      <td>Jason Derulo</td>\n",
       "      <td>Snoop Dogg</td>\n",
       "      <td>Wiggle</td>\n",
       "      <td>2sLwPnIP3CUVmIuHranJZU</td>\n",
       "      <td>2014</td>\n",
       "      <td>Ayo, Jason (Oh yeah!) Say somethin to her, hol...</td>\n",
       "    </tr>\n",
       "    <tr>\n",
       "      <th>3</th>\n",
       "      <td>Jason Derulo</td>\n",
       "      <td>NA</td>\n",
       "      <td>Trumpets</td>\n",
       "      <td>5KONnBIQ9LqCxyeSPin26k</td>\n",
       "      <td>2013</td>\n",
       "      <td>Every time that you get undressed I hear symph...</td>\n",
       "    </tr>\n",
       "    <tr>\n",
       "      <th>4</th>\n",
       "      <td>Jason Derulo</td>\n",
       "      <td>French Montana</td>\n",
       "      <td>Tip Toe</td>\n",
       "      <td>2z4pcBLQXF2BXKFvd0BuB6</td>\n",
       "      <td>2017</td>\n",
       "      <td>Derulo Whine fa me darlin Way you move ya spin...</td>\n",
       "    </tr>\n",
       "  </tbody>\n",
       "</table>\n",
       "</div>"
      ],
      "text/plain": [
       "         artist                       featured       title  \\\n",
       "0  Jason Derulo  Ty Dolla $ign &   Nicki Minaj      Swalla   \n",
       "1  Jason Derulo                       2 Chainz  Talk Dirty   \n",
       "2  Jason Derulo                     Snoop Dogg      Wiggle   \n",
       "3  Jason Derulo                             NA    Trumpets   \n",
       "4  Jason Derulo                 French Montana     Tip Toe   \n",
       "\n",
       "                 track_id release_year  \\\n",
       "0  6kex4EBAj0WHXDKZMEJaaF         2017   \n",
       "1  5aHCHpekZ854JMVyPaOt7w         2013   \n",
       "2  2sLwPnIP3CUVmIuHranJZU         2014   \n",
       "3  5KONnBIQ9LqCxyeSPin26k         2013   \n",
       "4  2z4pcBLQXF2BXKFvd0BuB6         2017   \n",
       "\n",
       "                                              lyrics  \n",
       "0  Drank Young Money   Love in a thousand differe...  \n",
       "1  (Jason, haha Jason Derulo) Haha, get Jazzy on ...  \n",
       "2  Ayo, Jason (Oh yeah!) Say somethin to her, hol...  \n",
       "3  Every time that you get undressed I hear symph...  \n",
       "4  Derulo Whine fa me darlin Way you move ya spin...  "
      ]
     },
     "execution_count": 21,
     "metadata": {},
     "output_type": "execute_result"
    }
   ],
   "source": [
    "df.head()"
   ]
  },
  {
   "cell_type": "markdown",
   "metadata": {},
   "source": [
    "### Target Column\n",
    "I need to make a traget column to help determine if I would skip the track or not. I made a function to create an alias column where if the artist or featured artist has an alias it will be listed and used to check if the artists mention themselves in the lyrics"
   ]
  },
  {
   "cell_type": "code",
   "execution_count": 22,
   "metadata": {},
   "outputs": [],
   "source": [
    "df.insert(2, 'aliases', '') # create a new  empty column "
   ]
  },
  {
   "cell_type": "code",
   "execution_count": 23,
   "metadata": {},
   "outputs": [],
   "source": [
    "def add_aliases(artist, aliases): # function takes artist name and alias\n",
    "    df.loc[(df['artist'] == artist) | (df['featured'].str.contains(artist)), 'aliases'] += aliases # using .loc changing the value of alias"
   ]
  },
  {
   "cell_type": "code",
   "execution_count": 24,
   "metadata": {},
   "outputs": [],
   "source": [
    "add_aliases('Pitbull', 'Mr. Worldwide, Mr. 305,')\n",
    "add_aliases('The Notorious B.I.G.', 'Notorious,')\n",
    "add_aliases('Sean Paul', 'Sean da Paul, Sean, Paul,')\n",
    "add_aliases('Akon', ' Konvict,')\n",
    "add_aliases('Ludacris', 'Luda,')\n",
    "add_aliases('Lil Wayne', 'Weezy, Lil, Wayne,')\n",
    "add_aliases('Nicki Minaj', 'Young Money, Barbie, Nicki, Minaj,')\n",
    "add_aliases('Cardi B', 'Bardi, Cardi,')\n",
    "add_aliases('Yasiin Bey', 'Mos Def, Mos, Def, Yasiin, Bey,')\n",
    "add_aliases('Rage Against the Machine', 'Rage, Rage Against, The Machine,')\n",
    "add_aliases('Run The Jewels', 'Run Them, The Jewels,')\n",
    "add_aliases('“Weird Al” Yankovic', 'Weird Al, Yankovic,')\n",
    "add_aliases('24kGoldn','24-karat,')\n",
    "add_aliases('Pusha T', 'Pusha,')\n",
    "add_aliases('Tenacious D', 'Tenacious,')\n",
    "add_aliases('Jennifer Lopez', 'JLO, Jennifer, Lopez, Jenny,')\n",
    "add_aliases('J Balvin', 'Balvin,')\n"
   ]
  },
  {
   "cell_type": "markdown",
   "metadata": {},
   "source": [
    "Initially I had split the names by the space to match in the lyrics, which works for Jason Derulo (sometimes he sings the entire name, sometimes Jason and sometimes Derulo), however this caused an issue for bands that had 'the' in their name (The Beatles, The Weeknd, Run the Jewels) or like twenty one Pilots the word one.. so the skip classification became incorrect. \n",
    "I decided to just use the function and enter the aliases (not ideal), however this gave me better control of where the split should be and repetitions."
   ]
  },
  {
   "cell_type": "code",
   "execution_count": 25,
   "metadata": {},
   "outputs": [],
   "source": [
    "add_aliases('Jason Derulo', 'Jason, Derulo,')\n",
    "add_aliases('Britney Spears', 'Britney, Spears,')\n",
    "add_aliases('Lady Gaga', 'Lady, Gaga,')\n",
    "add_aliases('Dua Lipa', 'Dua, Lipa, ')\n",
    "add_aliases('Miley Cyrus', 'Miley, Cyrus,')\n",
    "add_aliases('Post Malone', 'Post, Malone,')\n",
    "add_aliases('Ini Kamoze', 'Ini, Kamoze,')\n",
    "add_aliases('Rachel Platten', 'Rachel, Platten,')\n",
    "add_aliases('Christina Perri', 'Christina, Perri,')\n",
    "add_aliases('Florida Georgia Line', 'Florida Georgia, Georgia Line,')\n",
    "add_aliases('Brad Paisley', 'Brad, Paisley,')        \n",
    "add_aliases('Thomas Rhett', 'Thomas, Rhett,')\n",
    "add_aliases('Spencer Crandall', 'Spencer, Crandall,')\n",
    "add_aliases('Christina Perri', 'Christina, Perri,')\n",
    "add_aliases('Christina Perri', 'Christina, Perri,')\n",
    "add_aliases('Natasha Bedingfield', 'Natasha, Bedingfield,')\n",
    "add_aliases('Daddy Yankee', 'Daddy, Yankee,')\n",
    "add_aliases('Demi Lovato', 'Demi, Lovato,')\n",
    "add_aliases('Major Lazer', 'Major, Lazer,')\n",
    "add_aliases('Imagine Dragons', 'Imagine, Dragons,')\n",
    "add_aliases('Matchbox Twenty', 'Matchbox, Twenty,')\n",
    "add_aliases('Uncle Kracker', 'Uncle, Kracker,')\n",
    "add_aliases('John, Newman', 'John, Newman,')\n",
    "add_aliases('Bruno Mars', 'Bruno, Mars,')\n",
    "add_aliases('Lana Del Rey', 'Lana, Del Rey,')\n",
    "add_aliases('A$AP Ferg', 'A$AP, Ferg,')\n",
    "add_aliases('Pharrell Williams', 'Pharrell, Williams,')\n",
    "add_aliases('Billie Eilish', 'Billie, Eilish,')\n",
    "add_aliases('Ariana Grande', 'Ariana, Grande, Ari,')\n",
    "add_aliases('Megan Thee Stallion', 'Megan, Thee Stallion, Stallion,')\n",
    "add_aliases('Doja Cat', 'Doja, Cat,')\n",
    "add_aliases('Rick Astley', 'Rick, Astley,')\n",
    "add_aliases('Shawn Mendes', 'Shawn, Mendes,')\n",
    "add_aliases('Justin Bieber', 'Justin, Bieber,')\n",
    "add_aliases('Katy Perry', 'Katy, Perry,')\n",
    "add_aliases('Iggy Azalea', 'Iggy, Azalea,')\n",
    "add_aliases('Lil Eazzyy', 'Lil, Eazzyy,')\n",
    "add_aliases('Moneybagg Yo', 'Moneybagg,')\n",
    "add_aliases('Chiddy Bang', 'Chiddy, Bang,')\n",
    "add_aliases('Snoop Dogg', 'Snoop, Dogg,')\n",
    "add_aliases('Missy Elliott', 'Missy, Elliott,')\n",
    "add_aliases('Meek Mill', 'Meek, Mill,')\n",
    "add_aliases('Lil Pump', 'Lil, Pump,')\n",
    "add_aliases('Ellie Goulding', 'Ellie, Goulding,')\n",
    "add_aliases('Colbie Caillat', 'Colbie, Caillat,')\n",
    "add_aliases('Flo Rida', 'Flo, Rida,')\n",
    "add_aliases('Gucci Mane', 'Gucci, Mane,')\n",
    "add_aliases('Yo Gotti', 'Gotti,')\n",
    "add_aliases('Foo Fighters', 'Foo, Fighters,')\n",
    "add_aliases('Princess Nokia', 'Princess, Nokia,')\n",
    "add_aliases('French Montana', 'French, Montana,')\n",
    "add_aliases('Backstreet Boys', 'Backstreet, Boys,')\n",
    "add_aliases('Spice Girls', 'Spice, Girls,')\n",
    "add_aliases('Soulja Boy', 'Soulja,')\n",
    "add_aliases('Travis Scott', 'Travis, Scott,')\n",
    "add_aliases('Sam Smith', 'Sam, Smith,')\n",
    "add_aliases('DJ Khaled', 'DJ, Khaled,')\n",
    "add_aliases('Stone Temple Pilots', 'Stone Temple, Temple Pilots,')\n",
    "add_aliases('Big Sean', 'Big, Sean,')\n",
    "add_aliases('Clean Bandit', 'Clean, Bandit,')\n",
    "add_aliases('Kane Brown', 'Kane, Brown,')\n",
    "add_aliases('Juice WRLD', 'Juice, WRLD,')\n",
    "add_aliases('Ava Max', 'Ava, Max,')\n",
    "add_aliases('Taylor Swift', 'Taylor, Swift,')\n",
    "add_aliases('21 Savage', '21, Savage,')"
   ]
  },
  {
   "cell_type": "code",
   "execution_count": 26,
   "metadata": {},
   "outputs": [],
   "source": [
    "df.loc[df['aliases'] == '', 'aliases'] = 'NA'\n",
    "df['aliases'] = df['aliases'].str.strip()"
   ]
  },
  {
   "cell_type": "markdown",
   "metadata": {},
   "source": [
    "#### Now to create the Target Colum\n",
    "If the artist name or the featured artist name or the alias names are in the lyrics, then it will be classified as a skip, otherwise not. I will now remove the extra commas in the alias column I added when creating the alias (was there just incase additional names were added) if I don't remove the , when I split on the , to check if the name is in the lyrics, then it will also check for spaces."
   ]
  },
  {
   "cell_type": "code",
   "execution_count": 27,
   "metadata": {},
   "outputs": [],
   "source": [
    "df['aliases'] = df['aliases'].str.replace(r',\\s*$', '') # remove commas at end of aliases and any whitespace there mayy be."
   ]
  },
  {
   "cell_type": "code",
   "execution_count": 28,
   "metadata": {},
   "outputs": [
    {
     "data": {
      "text/html": [
       "<div>\n",
       "<style scoped>\n",
       "    .dataframe tbody tr th:only-of-type {\n",
       "        vertical-align: middle;\n",
       "    }\n",
       "\n",
       "    .dataframe tbody tr th {\n",
       "        vertical-align: top;\n",
       "    }\n",
       "\n",
       "    .dataframe thead th {\n",
       "        text-align: right;\n",
       "    }\n",
       "</style>\n",
       "<table border=\"1\" class=\"dataframe\">\n",
       "  <thead>\n",
       "    <tr style=\"text-align: right;\">\n",
       "      <th></th>\n",
       "      <th>artist</th>\n",
       "      <th>featured</th>\n",
       "      <th>aliases</th>\n",
       "      <th>title</th>\n",
       "      <th>track_id</th>\n",
       "      <th>release_year</th>\n",
       "      <th>lyrics</th>\n",
       "    </tr>\n",
       "  </thead>\n",
       "  <tbody>\n",
       "    <tr>\n",
       "      <th>0</th>\n",
       "      <td>Jason Derulo</td>\n",
       "      <td>Ty Dolla $ign &amp;   Nicki Minaj</td>\n",
       "      <td>Young Money, Barbie, Nicki, Minaj,Jason, Derulo</td>\n",
       "      <td>Swalla</td>\n",
       "      <td>6kex4EBAj0WHXDKZMEJaaF</td>\n",
       "      <td>2017</td>\n",
       "      <td>Drank Young Money   Love in a thousand differe...</td>\n",
       "    </tr>\n",
       "    <tr>\n",
       "      <th>1</th>\n",
       "      <td>Jason Derulo</td>\n",
       "      <td>2 Chainz</td>\n",
       "      <td>Jason, Derulo</td>\n",
       "      <td>Talk Dirty</td>\n",
       "      <td>5aHCHpekZ854JMVyPaOt7w</td>\n",
       "      <td>2013</td>\n",
       "      <td>(Jason, haha Jason Derulo) Haha, get Jazzy on ...</td>\n",
       "    </tr>\n",
       "    <tr>\n",
       "      <th>2</th>\n",
       "      <td>Jason Derulo</td>\n",
       "      <td>Snoop Dogg</td>\n",
       "      <td>Jason, Derulo,Snoop, Dogg</td>\n",
       "      <td>Wiggle</td>\n",
       "      <td>2sLwPnIP3CUVmIuHranJZU</td>\n",
       "      <td>2014</td>\n",
       "      <td>Ayo, Jason (Oh yeah!) Say somethin to her, hol...</td>\n",
       "    </tr>\n",
       "    <tr>\n",
       "      <th>3</th>\n",
       "      <td>Jason Derulo</td>\n",
       "      <td>NA</td>\n",
       "      <td>Jason, Derulo</td>\n",
       "      <td>Trumpets</td>\n",
       "      <td>5KONnBIQ9LqCxyeSPin26k</td>\n",
       "      <td>2013</td>\n",
       "      <td>Every time that you get undressed I hear symph...</td>\n",
       "    </tr>\n",
       "    <tr>\n",
       "      <th>4</th>\n",
       "      <td>Jason Derulo</td>\n",
       "      <td>French Montana</td>\n",
       "      <td>Jason, Derulo,French, Montana</td>\n",
       "      <td>Tip Toe</td>\n",
       "      <td>2z4pcBLQXF2BXKFvd0BuB6</td>\n",
       "      <td>2017</td>\n",
       "      <td>Derulo Whine fa me darlin Way you move ya spin...</td>\n",
       "    </tr>\n",
       "    <tr>\n",
       "      <th>...</th>\n",
       "      <td>...</td>\n",
       "      <td>...</td>\n",
       "      <td>...</td>\n",
       "      <td>...</td>\n",
       "      <td>...</td>\n",
       "      <td>...</td>\n",
       "      <td>...</td>\n",
       "    </tr>\n",
       "    <tr>\n",
       "      <th>11450</th>\n",
       "      <td>21 Savage</td>\n",
       "      <td>NA</td>\n",
       "      <td>21, Savage</td>\n",
       "      <td>Hold Up</td>\n",
       "      <td></td>\n",
       "      <td>2018</td>\n",
       "      <td>21, 21 21, 21 Good head make a nigga toes curl...</td>\n",
       "    </tr>\n",
       "    <tr>\n",
       "      <th>11451</th>\n",
       "      <td>21 Savage</td>\n",
       "      <td>NA</td>\n",
       "      <td>21, Savage</td>\n",
       "      <td>Hollow Tips (Freestyle)</td>\n",
       "      <td></td>\n",
       "      <td>2016</td>\n",
       "      <td>I got a lot of extended clips Lot of extended ...</td>\n",
       "    </tr>\n",
       "    <tr>\n",
       "      <th>11452</th>\n",
       "      <td>21 Savage</td>\n",
       "      <td>NA</td>\n",
       "      <td>21, Savage</td>\n",
       "      <td>Act A Fool</td>\n",
       "      <td>NA</td>\n",
       "      <td>NaN</td>\n",
       "      <td>Wheezy Beats Internet, internet Fuck the inter...</td>\n",
       "    </tr>\n",
       "    <tr>\n",
       "      <th>11453</th>\n",
       "      <td>21 Savage</td>\n",
       "      <td>NA</td>\n",
       "      <td>21, Savage</td>\n",
       "      <td>Pass Her</td>\n",
       "      <td></td>\n",
       "      <td>NaN</td>\n",
       "      <td>Good job, First   All the bitches want me (21)...</td>\n",
       "    </tr>\n",
       "    <tr>\n",
       "      <th>11454</th>\n",
       "      <td>21 Savage</td>\n",
       "      <td>Drake &amp;   Young Thug</td>\n",
       "      <td>21, Savage</td>\n",
       "      <td>Issa</td>\n",
       "      <td></td>\n",
       "      <td>NaN</td>\n",
       "      <td>Issa, issa, issa Issa Kylie, might be Jenner, ...</td>\n",
       "    </tr>\n",
       "  </tbody>\n",
       "</table>\n",
       "<p>11455 rows × 7 columns</p>\n",
       "</div>"
      ],
      "text/plain": [
       "             artist                       featured  \\\n",
       "0      Jason Derulo  Ty Dolla $ign &   Nicki Minaj   \n",
       "1      Jason Derulo                       2 Chainz   \n",
       "2      Jason Derulo                     Snoop Dogg   \n",
       "3      Jason Derulo                             NA   \n",
       "4      Jason Derulo                 French Montana   \n",
       "...             ...                            ...   \n",
       "11450     21 Savage                             NA   \n",
       "11451     21 Savage                             NA   \n",
       "11452     21 Savage                             NA   \n",
       "11453     21 Savage                             NA   \n",
       "11454     21 Savage           Drake &   Young Thug   \n",
       "\n",
       "                                               aliases  \\\n",
       "0      Young Money, Barbie, Nicki, Minaj,Jason, Derulo   \n",
       "1                                        Jason, Derulo   \n",
       "2                            Jason, Derulo,Snoop, Dogg   \n",
       "3                                        Jason, Derulo   \n",
       "4                        Jason, Derulo,French, Montana   \n",
       "...                                                ...   \n",
       "11450                                       21, Savage   \n",
       "11451                                       21, Savage   \n",
       "11452                                       21, Savage   \n",
       "11453                                       21, Savage   \n",
       "11454                                       21, Savage   \n",
       "\n",
       "                         title                track_id release_year  \\\n",
       "0                       Swalla  6kex4EBAj0WHXDKZMEJaaF         2017   \n",
       "1                   Talk Dirty  5aHCHpekZ854JMVyPaOt7w         2013   \n",
       "2                       Wiggle  2sLwPnIP3CUVmIuHranJZU         2014   \n",
       "3                     Trumpets  5KONnBIQ9LqCxyeSPin26k         2013   \n",
       "4                      Tip Toe  2z4pcBLQXF2BXKFvd0BuB6         2017   \n",
       "...                        ...                     ...          ...   \n",
       "11450                  Hold Up                                 2018   \n",
       "11451  Hollow Tips (Freestyle)                                 2016   \n",
       "11452               Act A Fool                      NA          NaN   \n",
       "11453                 Pass Her                                  NaN   \n",
       "11454                     Issa                                  NaN   \n",
       "\n",
       "                                                  lyrics  \n",
       "0      Drank Young Money   Love in a thousand differe...  \n",
       "1      (Jason, haha Jason Derulo) Haha, get Jazzy on ...  \n",
       "2      Ayo, Jason (Oh yeah!) Say somethin to her, hol...  \n",
       "3      Every time that you get undressed I hear symph...  \n",
       "4      Derulo Whine fa me darlin Way you move ya spin...  \n",
       "...                                                  ...  \n",
       "11450  21, 21 21, 21 Good head make a nigga toes curl...  \n",
       "11451  I got a lot of extended clips Lot of extended ...  \n",
       "11452  Wheezy Beats Internet, internet Fuck the inter...  \n",
       "11453  Good job, First   All the bitches want me (21)...  \n",
       "11454  Issa, issa, issa Issa Kylie, might be Jenner, ...  \n",
       "\n",
       "[11455 rows x 7 columns]"
      ]
     },
     "execution_count": 28,
     "metadata": {},
     "output_type": "execute_result"
    }
   ],
   "source": [
    "df"
   ]
  },
  {
   "cell_type": "code",
   "execution_count": 29,
   "metadata": {},
   "outputs": [],
   "source": [
    "skip = [] # empty list\n",
    "for item in df.values: #for each row in the dataframe\n",
    "    # if statement to check if name of artist/featured artist or their aliases are in the lyrics\n",
    "    if (item[0].lower().strip() in item[6].lower()) or any(feat.lower().strip() in item[6] for feat in item[1].split('&') if feat.lower() != 'na') or any(alias.lower().strip()in item[6].lower() for alias in item[2].split(',') if alias.lower() != 'na'):\n",
    "        skip.append(1) # append 1 if True\n",
    "    else:\n",
    "        skip.append(0) # append 0 if False\n",
    "        \n"
   ]
  },
  {
   "cell_type": "code",
   "execution_count": 30,
   "metadata": {},
   "outputs": [],
   "source": [
    "df['skip'] = skip"
   ]
  },
  {
   "cell_type": "code",
   "execution_count": 31,
   "metadata": {},
   "outputs": [
    {
     "data": {
      "text/plain": [
       "0    8705\n",
       "1    2750\n",
       "Name: skip, dtype: int64"
      ]
     },
     "execution_count": 31,
     "metadata": {},
     "output_type": "execute_result"
    }
   ],
   "source": [
    "df['skip'].value_counts()"
   ]
  },
  {
   "cell_type": "code",
   "execution_count": 32,
   "metadata": {},
   "outputs": [
    {
     "data": {
      "text/plain": [
       "(7301, 8)"
      ]
     },
     "execution_count": 32,
     "metadata": {},
     "output_type": "execute_result"
    }
   ],
   "source": [
    "df.loc[(df['track_id'] == ''), 'track_id'] = 'NA' # for concistency\n",
    "df.loc[(df['track_id']=='NA')].shape"
   ]
  },
  {
   "cell_type": "markdown",
   "metadata": {},
   "source": [
    "### Spotify API\n",
    "I'm going to use the Spotify API to fill some missing values, like the year. Using Spotify's search ability I will look for the artist name and title and find the release year, if it is explicit and the track_id. The more important part for me is the release year, the song explicity is a bonus and track_id would just be nice to have. None of these are needed for my models, but insighful for EDA "
   ]
  },
  {
   "cell_type": "code",
   "execution_count": 33,
   "metadata": {},
   "outputs": [],
   "source": [
    "import spotipy\n",
    "from spotipy.oauth2 import SpotifyClientCredentials, SpotifyOAuth\n",
    "import spotipy.util as util"
   ]
  },
  {
   "cell_type": "code",
   "execution_count": 34,
   "metadata": {},
   "outputs": [],
   "source": [
    "df.insert(5, 'explicit', '')"
   ]
  },
  {
   "cell_type": "code",
   "execution_count": 35,
   "metadata": {},
   "outputs": [],
   "source": [
    "token = util.prompt_for_user_token(#USER-ID, # my user id on spotify\n",
    "                                   client_id='ID', # my 'app' information\n",
    "                                   client_secret='SECRET',\n",
    "                                   redirect_uri='URI')\n",
    "sp = spotipy.Spotify(auth=token) # getting the authorization token"
   ]
  },
  {
   "cell_type": "code",
   "execution_count": 36,
   "metadata": {},
   "outputs": [],
   "source": [
    "for song in df.values: \n",
    "    results = sp.search(song[0]+' '+song[3])\n",
    "    try:\n",
    "        df.loc[(df['artist'] == song[0]) & (df['title'] == song[3]), ['track_id', 'release_year', 'explicit']] = [results['tracks']['items'][0]['id'], results['tracks']['items'][0]['album']['release_date'][:4], results['tracks']['items'][0]['explicit']]\n",
    "    except:\n",
    "        continue"
   ]
  },
  {
   "cell_type": "markdown",
   "metadata": {},
   "source": [
    "#### Filiing release year\n",
    "With this Spotify filled in 1000 null values in the release year leaving 768 to be filled. To do so I will impose the median release year for each artist. Short from searching for 700 tracks on Google, it is a good alternative. There were also 7k empty values in track_id which I am now down to almost 2k. I will not be filling these."
   ]
  },
  {
   "cell_type": "code",
   "execution_count": 37,
   "metadata": {},
   "outputs": [],
   "source": [
    "df2 = df[['artist', 'release_year']] # making a new df of just artist name and release year"
   ]
  },
  {
   "cell_type": "code",
   "execution_count": 38,
   "metadata": {},
   "outputs": [],
   "source": [
    "df2 = df2.loc[df['release_year'].notnull()] # only want the not null values to get the median"
   ]
  },
  {
   "cell_type": "code",
   "execution_count": 39,
   "metadata": {},
   "outputs": [],
   "source": [
    "df2['release_year'] = df2['release_year'].astype(int) #need a number value for .median to work was string"
   ]
  },
  {
   "cell_type": "code",
   "execution_count": 40,
   "metadata": {},
   "outputs": [],
   "source": [
    "def fill_year(artist): # function to fill release_year\n",
    "    # locate artist with release year as null, fill with median year value of df2 dataframe\n",
    "    df.loc[(df['release_year'].isnull()) & (df['artist'] == artist), 'release_year'] = df2.loc[df['artist'] == artist].median()[0] # there are 767 null values left in release year"
   ]
  },
  {
   "cell_type": "code",
   "execution_count": 41,
   "metadata": {},
   "outputs": [],
   "source": [
    "# to fill the null values I will get the unique artist names from the null finds and iterate through, so I don't have to fill the \n",
    "# names manually\n",
    "for person in df.loc[(df['release_year'].isnull())]['artist'].unique():\n",
    "    fill_year(person)"
   ]
  },
  {
   "cell_type": "code",
   "execution_count": 44,
   "metadata": {},
   "outputs": [],
   "source": [
    "#df.to_csv('./data/lyrics_cleaned.csv', index = False)"
   ]
  },
  {
   "cell_type": "markdown",
   "metadata": {},
   "source": [
    "To the next notebook for EDA"
   ]
  }
 ],
 "metadata": {
  "kernelspec": {
   "display_name": "Python 3",
   "language": "python",
   "name": "python3"
  },
  "language_info": {
   "codemirror_mode": {
    "name": "ipython",
    "version": 3
   },
   "file_extension": ".py",
   "mimetype": "text/x-python",
   "name": "python",
   "nbconvert_exporter": "python",
   "pygments_lexer": "ipython3",
   "version": "3.8.3"
  }
 },
 "nbformat": 4,
 "nbformat_minor": 4
}
