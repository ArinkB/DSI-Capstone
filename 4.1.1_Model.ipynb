{
 "cells": [
  {
   "cell_type": "markdown",
   "metadata": {},
   "source": [
    "# Modeling\n",
    "I will start by running my data through some Naive Bayes models, Logistic Regression, Random Forest and Ada Boost. In this notebook I will leave the stopwords to the english dictionary, based on my [EDA](./2_eda_%26_cleaning.ipynb), there weren't any identifiable words that made it in the categories' top 25 words. I will only run the lyrics column through the models with the target being the skip column."
   ]
  },
  {
   "cell_type": "markdown",
   "metadata": {},
   "source": [
    "\n",
    "\n",
    "#### Table of Contents\n",
    "<br>`Pre-Processing`</br>\n",
    "\n",
    "- [Baseline & Target](#target)\n",
    "- [Pipeline & GridSearch Function](#func)\n",
    "\n",
    "<br>`Modeling`</br>\n",
    "\n",
    "- [MultinomialNB](#Mnb)\n",
    "- [BernoulliNB](#Bnb)\n",
    "- [Logistic Regression](#Lg)\n",
    "- [Ada Boost](#ada)\n",
    "- [Random Forest](#forest)\n",
    "\n",
    "<br>`Conclusion`</br>\n",
    "\n",
    "- [Feat Importance of Best Model](#feat)\n",
    "- [Model Score Visualizations](#viz)\n",
    "- [Notebook Conclusion](#conc)    "
   ]
  },
  {
   "cell_type": "markdown",
   "metadata": {},
   "source": [
    "### Libraries"
   ]
  },
  {
   "cell_type": "code",
   "execution_count": 91,
   "metadata": {},
   "outputs": [],
   "source": [
    "import numpy as np\n",
    "import pandas as pd\n",
    "\n",
    "import matplotlib.pyplot as plt\n",
    "import seaborn as sns\n",
    "\n",
    "from sklearn.feature_extraction.text import CountVectorizer, TfidfVectorizer\n",
    "from sklearn.feature_extraction import text # to add more stopwords\n",
    "\n",
    "from sklearn.model_selection import train_test_split, cross_val_score, GridSearchCV\n",
    "from sklearn.pipeline import Pipeline\n",
    "from sklearn.metrics import confusion_matrix, plot_confusion_matrix, precision_score, f1_score, recall_score\n",
    "\n",
    "from sklearn.naive_bayes import MultinomialNB, BernoulliNB\n",
    "from sklearn.linear_model import LogisticRegression\n",
    "from sklearn.ensemble import AdaBoostClassifier, RandomForestClassifier\n",
    "from sklearn.tree import DecisionTreeClassifier\n"
   ]
  },
  {
   "cell_type": "code",
   "execution_count": 2,
   "metadata": {},
   "outputs": [],
   "source": [
    "df = pd.read_csv('./data/lyrics_cleaned.csv')"
   ]
  },
  {
   "cell_type": "markdown",
   "metadata": {},
   "source": [
    "### Baseline<a id='target'></a>  \n",
    "Because my class in so imbalanced I will not be using accuracy as my score, instead I will be looking at variations of F1 score, confusion matrix, and precision score which are all ideal for imbalanced classes. The reason accuracy is not ideal is because accuracy will always predict on the heavier class when imbalanced."
   ]
  },
  {
   "cell_type": "code",
   "execution_count": 3,
   "metadata": {},
   "outputs": [
    {
     "data": {
      "text/plain": [
       "0    0.75993\n",
       "1    0.24007\n",
       "Name: skip, dtype: float64"
      ]
     },
     "execution_count": 3,
     "metadata": {},
     "output_type": "execute_result"
    }
   ],
   "source": [
    "df[\"skip\"].value_counts(normalize=True) #Baseline"
   ]
  },
  {
   "cell_type": "markdown",
   "metadata": {},
   "source": [
    "There are some words that I don't want displayed on screen so I will replace them as 'vulgar', they can still help my model with it's predictions. These words are not so much easy predictors, as much as they are words that I don't feel comfortable being part of my visualizations or my publicly viewable project."
   ]
  },
  {
   "cell_type": "code",
   "execution_count": 4,
   "metadata": {},
   "outputs": [],
   "source": [
    "some_words = open(\"./data/drop_words.txt\").read().split()\n",
    "\n",
    "for i in some_words:   \n",
    "    df['lyrics'] = df['lyrics'].str.lower().str.replace(rf\"\\b{i}\\b\", 'vulgar')"
   ]
  },
  {
   "cell_type": "markdown",
   "metadata": {},
   "source": [
    "### Train Test Split\n",
    "As mentioned earlier, I will use the lyrics column in my models with my target being the skip column. All other columns were made for EDA purposes."
   ]
  },
  {
   "cell_type": "code",
   "execution_count": 5,
   "metadata": {},
   "outputs": [],
   "source": [
    "X = df['lyrics']\n",
    "y = df['skip']"
   ]
  },
  {
   "cell_type": "code",
   "execution_count": 6,
   "metadata": {},
   "outputs": [
    {
     "data": {
      "text/plain": [
       "((8591,), (2864,), (8591,), (2864,))"
      ]
     },
     "execution_count": 6,
     "metadata": {},
     "output_type": "execute_result"
    }
   ],
   "source": [
    "# since the categories are unbalanced I will stratify y\n",
    "X_train, X_test, y_train, y_test = train_test_split(X, y, random_state=42, stratify=y) \n",
    "# Check shapes of the split\n",
    "X_train.shape, X_test.shape, y_train.shape, y_test.shape"
   ]
  },
  {
   "cell_type": "markdown",
   "metadata": {},
   "source": [
    "### Pipeline Function<a id='func'></a>  \n",
    "I am re-using the pipeline function I made for my Reddit project NLP. Which allows me to put in various models and Vectorizer and returns scores along with confusion matrices. In addition I have added some empty lists that the scores will append to, so that I can create a visualization of the score breakdown for each model and vectorizer"
   ]
  },
  {
   "cell_type": "code",
   "execution_count": 7,
   "metadata": {},
   "outputs": [],
   "source": [
    "train_f1 = []\n",
    "test_f1 = []\n",
    "train_gs =[]\n",
    "test_gs = []\n",
    "precision = []\n",
    "recall = []\n",
    "specificity =[]"
   ]
  },
  {
   "cell_type": "code",
   "execution_count": 9,
   "metadata": {},
   "outputs": [],
   "source": [
    "def start_pipeline(vect, model, color, pipe_params): # takes type of vectorizer, model, color of confusion matrix, and pipe params\n",
    "    \n",
    "    # Types of Vectorizers\n",
    "    if vect == 'cv':\n",
    "        instantiate_vect = CountVectorizer\n",
    "        vect_name = 'CountVectorizer'\n",
    "    elif vect == 'tvec':\n",
    "        instantiate_vect = TfidfVectorizer\n",
    "        vect_name = 'TfidfVectorizer'\n",
    "        \n",
    "      # Types of Models  \n",
    "    if model == 'Mnb':\n",
    "        instantiate_model = MultinomialNB\n",
    "        model_name = 'MultinomialNB'\n",
    "    elif model == 'Bnb':\n",
    "        instantiate_model = BernoulliNB\n",
    "        model_name = 'BernoulliNB'\n",
    "    elif model == 'lg':\n",
    "        instantiate_model = LogisticRegression\n",
    "        model_name = 'LogisticRegression'\n",
    "    elif model == 'ada':\n",
    "        instantiate_model = AdaBoostClassifier\n",
    "        model_name = 'AdaBoostClassifier'     \n",
    "    elif model == 'rdf':\n",
    "        instantiate_model = RandomForestClassifier\n",
    "        model_name = 'RandomForestClassifier'\n",
    "  \n",
    "          \n",
    "        \n",
    "        #----- Pipeline-----#\n",
    "    \n",
    "    pipe = Pipeline([\n",
    "    (vect , instantiate_vect(stop_words = 'english')), # transformer\n",
    "    (model , instantiate_model()) # estimator\n",
    "    ])\n",
    "\n",
    "    # --- Gridsearch----#\n",
    "    gs = GridSearchCV(pipe,\n",
    "                 pipe_params, # defined outside of function for easy change\n",
    "                 cv=5,\n",
    "                 verbose = 1,\n",
    "                 n_jobs=-1)\n",
    "    \n",
    "    \n",
    "    gs.fit(X_train,y_train) # fitting X_train and y_train\n",
    "    preds = gs.predict(X_test) # predict test\n",
    "    train_preds = gs.predict(X_train) # predict train\n",
    "    \n",
    "    #------ Scores & Params------- #\n",
    "    print(f'Gridsearch best score is: {gs.best_score_}') # grid search's best score\n",
    "    print('')\n",
    "    print(f'Gridsearch best params are: {gs.best_params_}') # based on best score give me best params\n",
    "    print('')\n",
    "    print(f'{model_name} with {vect_name} Train Score :  {gs.score(X_train, y_train)*100:.2f}%') \n",
    "    train_gs.append(gs.score(X_train, y_train))\n",
    "    print(f'{model_name} with {vect_name}  Test Score  : {gs.score(X_test, y_test)*100:.2f}%')\n",
    "    test_gs.append(gs.score(X_test, y_test))\n",
    "    print('')\n",
    "    print(f'{model_name} with {vect_name}  F1- Train Score: {f1_score(y_train, train_preds)*100:.2f}%')\n",
    "    train_f1.append(f1_score(y_train, train_preds))\n",
    "    print(f'{model_name} with {vect_name}  F1- Test Score:  {f1_score(y_test, preds)*100:.2f}%')\n",
    "    test_f1.append(f1_score(y_test, preds))\n",
    "    print('')\n",
    "    \n",
    "     # ----- Predictions ------ #\n",
    "        \n",
    "    print(f\"{(precision_score(y_test, preds))*100:.2f}% of the songs were predicted correctly by the model.\")\n",
    "    precision.append(precision_score(y_test, preds))\n",
    "    print(f\"{(recall_score(y_test, preds))*100:.2f}% of the Skipped songs were found.\")\n",
    "    recall.append(recall_score(y_test, preds))\n",
    "    tn, fp, fn, tp = confusion_matrix(y_test, preds).ravel()\n",
    "    print(f\"The specificity(Not Skipped Songs) is: {(tn / (tn + tp))*100:.2f}%\")\n",
    "    specificity.append((tn / (tn + tp)))\n",
    "    \n",
    "    plot_confusion_matrix(gs, X_test, y_test, cmap= color);\n",
    "    "
   ]
  },
  {
   "cell_type": "markdown",
   "metadata": {},
   "source": [
    "### Multinomial Naive Bayes with Count Vectorizer<a id='Mnb'></a>  "
   ]
  },
  {
   "cell_type": "code",
   "execution_count": 10,
   "metadata": {},
   "outputs": [
    {
     "name": "stdout",
     "output_type": "stream",
     "text": [
      "Fitting 5 folds for each of 48 candidates, totalling 240 fits\n"
     ]
    },
    {
     "name": "stderr",
     "output_type": "stream",
     "text": [
      "[Parallel(n_jobs=-1)]: Using backend LokyBackend with 12 concurrent workers.\n",
      "[Parallel(n_jobs=-1)]: Done  26 tasks      | elapsed:   16.9s\n",
      "[Parallel(n_jobs=-1)]: Done 176 tasks      | elapsed:  1.6min\n",
      "[Parallel(n_jobs=-1)]: Done 240 out of 240 | elapsed:  2.2min finished\n"
     ]
    },
    {
     "name": "stdout",
     "output_type": "stream",
     "text": [
      "Gridsearch best score is: 0.7893135069865591\n",
      "\n",
      "Gridsearch best params are: {'cv__max_df': 0.5, 'cv__max_features': 5000, 'cv__min_df': 2, 'cv__ngram_range': (1, 1)}\n",
      "\n",
      "MultinomialNB with CountVectorizer Train Score :  81.74%\n",
      "MultinomialNB with CountVectorizer  Test Score  : 79.05%\n",
      "\n",
      "MultinomialNB with CountVectorizer  F1- Train Score: 65.25%\n",
      "MultinomialNB with CountVectorizer  F1- Test Score:  60.58%\n",
      "\n",
      "55.28% of the words were predicted correctly by the model.\n",
      "67.01% of the Skipped songs were found.\n",
      "The specificity is: 79.64%\n"
     ]
    },
    {
     "data": {
      "image/png": "[encoded data removed]",
      "text/plain": [
       "<Figure size 432x288 with 2 Axes>"
      ]
     },
     "metadata": {
      "needs_background": "light"
     },
     "output_type": "display_data"
    }
   ],
   "source": [
    "start_pipeline('cv', 'Mnb', 'Blues', pipe_params = {\n",
    "                                'cv__max_features': [2_000, 4_500, 5_000, 5_500],\n",
    "                                'cv__min_df' : [2,3], # ignore terms that show up less than 2 or 3 times in corpus\n",
    "                                'cv__max_df' : [.5, .95], # ignore terms that show up either more than 50% or 95% of the corpus\n",
    "                                'cv__ngram_range' : [(1,1), (1,2), (1,3)], # single words and bigrams\n",
    "})"
   ]
  },
  {
   "cell_type": "markdown",
   "metadata": {},
   "source": [
    "Slightly overfit with low precision score, F1 scores are above the .50 that we aim for but could be better"
   ]
  },
  {
   "cell_type": "markdown",
   "metadata": {},
   "source": [
    "### Multinomial Naive Bayes with TFIDF Vectorizer"
   ]
  },
  {
   "cell_type": "code",
   "execution_count": 11,
   "metadata": {},
   "outputs": [
    {
     "name": "stdout",
     "output_type": "stream",
     "text": [
      "Fitting 5 folds for each of 48 candidates, totalling 240 fits\n"
     ]
    },
    {
     "name": "stderr",
     "output_type": "stream",
     "text": [
      "[Parallel(n_jobs=-1)]: Using backend LokyBackend with 12 concurrent workers.\n",
      "[Parallel(n_jobs=-1)]: Done  26 tasks      | elapsed:   15.8s\n",
      "[Parallel(n_jobs=-1)]: Done 176 tasks      | elapsed:  1.6min\n",
      "[Parallel(n_jobs=-1)]: Done 240 out of 240 | elapsed:  2.2min finished\n"
     ]
    },
    {
     "name": "stdout",
     "output_type": "stream",
     "text": [
      "Gridsearch best score is: 0.8072407882591403\n",
      "\n",
      "Gridsearch best params are: {'tvec__max_df': 0.5, 'tvec__max_features': 6000, 'tvec__min_df': 3, 'tvec__ngram_range': (1, 3)}\n",
      "\n",
      "MultinomialNB with TfidfVectorizer Train Score :  83.03%\n",
      "MultinomialNB with TfidfVectorizer  Test Score  : 80.31%\n",
      "\n",
      "MultinomialNB with TfidfVectorizer  F1- Train Score: 61.31%\n",
      "MultinomialNB with TfidfVectorizer  F1- Test Score:  54.52%\n",
      "\n",
      "61.23% of the words were predicted correctly by the model.\n",
      "49.13% of the Skipped songs were found.\n",
      "The specificity is: 85.30%\n"
     ]
    },
    {
     "data": {
      "image/png": "[encoded data removed]",
      "text/plain": [
       "<Figure size 432x288 with 2 Axes>"
      ]
     },
     "metadata": {
      "needs_background": "light"
     },
     "output_type": "display_data"
    }
   ],
   "source": [
    "\n",
    "start_pipeline('tvec', 'Mnb', 'Blues', pipe_params = {\n",
    "                                                        'tvec__max_features': [4_000, 5_000, 6_000, 7_000],\n",
    "                                                        'tvec__ngram_range': [(1,1), (1,2), (1,3)],\n",
    "                                                        'tvec__min_df' : [2,3], \n",
    "                                                        'tvec__max_df' : [.5, .95]})"
   ]
  },
  {
   "cell_type": "markdown",
   "metadata": {},
   "source": [
    "Better precision score, however still overfit with F1 scores being further apart than before"
   ]
  },
  {
   "cell_type": "markdown",
   "metadata": {},
   "source": [
    "### Bernoulli Naive Bayes with Count Vectorizer<a id='Bnb'></a>  "
   ]
  },
  {
   "cell_type": "code",
   "execution_count": 12,
   "metadata": {},
   "outputs": [
    {
     "name": "stdout",
     "output_type": "stream",
     "text": [
      "Fitting 5 folds for each of 240 candidates, totalling 1200 fits\n"
     ]
    },
    {
     "name": "stderr",
     "output_type": "stream",
     "text": [
      "[Parallel(n_jobs=-1)]: Using backend LokyBackend with 12 concurrent workers.\n",
      "[Parallel(n_jobs=-1)]: Done  26 tasks      | elapsed:   15.6s\n",
      "[Parallel(n_jobs=-1)]: Done 176 tasks      | elapsed:  1.6min\n",
      "[Parallel(n_jobs=-1)]: Done 426 tasks      | elapsed:  3.9min\n",
      "[Parallel(n_jobs=-1)]: Done 776 tasks      | elapsed:  7.1min\n",
      "[Parallel(n_jobs=-1)]: Done 1200 out of 1200 | elapsed: 11.9min finished\n"
     ]
    },
    {
     "name": "stdout",
     "output_type": "stream",
     "text": [
      "Gridsearch best score is: 0.7968808516200163\n",
      "\n",
      "Gridsearch best params are: {'Bnb__alpha': 0.275, 'cv__max_df': 0.5, 'cv__max_features': 9000, 'cv__min_df': 3, 'cv__ngram_range': (1, 2)}\n",
      "\n",
      "BernoulliNB with CountVectorizer Train Score :  80.36%\n",
      "BernoulliNB with CountVectorizer  Test Score  : 80.13%\n",
      "\n",
      "BernoulliNB with CountVectorizer  F1- Train Score: 65.52%\n",
      "BernoulliNB with CountVectorizer  F1- Test Score:  65.24%\n",
      "\n",
      "56.27% of the words were predicted correctly by the model.\n",
      "77.62% of the Skipped songs were found.\n",
      "The specificity is: 76.73%\n"
     ]
    },
    {
     "data": {
      "image/png": "[encoded data removed]",
      "text/plain": [
       "<Figure size 432x288 with 2 Axes>"
      ]
     },
     "metadata": {
      "needs_background": "light"
     },
     "output_type": "display_data"
    }
   ],
   "source": [
    "start_pipeline('cv', 'Bnb', 'Greens', pipe_params = {\n",
    "                                                    'Bnb__alpha' : np.linspace(0.2,0.5,5),\n",
    "                                                    'cv__max_features': [5_000, 5_500, 7_000, 9_000],\n",
    "                                                    'cv__min_df' : [2,3],\n",
    "                                                    'cv__max_df' : [.5, .95],\n",
    "                                                    'cv__ngram_range' : [(1,1), (1,2), (1,3)]})"
   ]
  },
  {
   "cell_type": "markdown",
   "metadata": {},
   "source": [
    "Scores are good, but still low on the precision score"
   ]
  },
  {
   "cell_type": "markdown",
   "metadata": {},
   "source": [
    "### Bernoulli Naive Bayes with TFIDF Vectorizer"
   ]
  },
  {
   "cell_type": "code",
   "execution_count": 13,
   "metadata": {},
   "outputs": [
    {
     "name": "stdout",
     "output_type": "stream",
     "text": [
      "Fitting 5 folds for each of 240 candidates, totalling 1200 fits\n"
     ]
    },
    {
     "name": "stderr",
     "output_type": "stream",
     "text": [
      "[Parallel(n_jobs=-1)]: Using backend LokyBackend with 12 concurrent workers.\n",
      "[Parallel(n_jobs=-1)]: Done  26 tasks      | elapsed:   27.3s\n",
      "[Parallel(n_jobs=-1)]: Done 176 tasks      | elapsed:  2.8min\n",
      "[Parallel(n_jobs=-1)]: Done 426 tasks      | elapsed:  6.6min\n",
      "[Parallel(n_jobs=-1)]: Done 776 tasks      | elapsed: 12.0min\n",
      "[Parallel(n_jobs=-1)]: Done 1200 out of 1200 | elapsed: 18.7min finished\n"
     ]
    },
    {
     "name": "stdout",
     "output_type": "stream",
     "text": [
      "Gridsearch best score is: 0.7958330539793217\n",
      "\n",
      "Gridsearch best params are: {'Bnb__alpha': 0.425, 'tvec__max_df': 0.5, 'tvec__max_features': 7000, 'tvec__min_df': 2, 'tvec__ngram_range': (1, 1)}\n",
      "\n",
      "BernoulliNB with TfidfVectorizer Train Score :  80.24%\n",
      "BernoulliNB with TfidfVectorizer  Test Score  : 80.24%\n",
      "\n",
      "BernoulliNB with TfidfVectorizer  F1- Train Score: 65.40%\n",
      "BernoulliNB with TfidfVectorizer  F1- Test Score:  65.28%\n",
      "\n",
      "56.48% of the words were predicted correctly by the model.\n",
      "77.33% of the Skipped songs were found.\n",
      "The specificity is: 76.85%\n"
     ]
    },
    {
     "data": {
      "image/png": "[encoded data removed]",
      "text/plain": [
       "<Figure size 432x288 with 2 Axes>"
      ]
     },
     "metadata": {
      "needs_background": "light"
     },
     "output_type": "display_data"
    }
   ],
   "source": [
    "start_pipeline('tvec', 'Bnb', 'Greens', pipe_params = {\n",
    "                                                'Bnb__alpha' : np.linspace(0.2,0.5,5),\n",
    "                                                'tvec__max_features': [4_000, 5_000, 6_000, 7_000],\n",
    "                                                'tvec__ngram_range': [(1,1), (1,2), (1,3)],\n",
    "                                                'tvec__min_df' : [2,3], \n",
    "                                                'tvec__max_df' : [.5, .95],\n",
    "})"
   ]
  },
  {
   "cell_type": "markdown",
   "metadata": {},
   "source": [
    "Slightly higher than above on the precision, still alot of misclassified lyrics"
   ]
  },
  {
   "cell_type": "markdown",
   "metadata": {},
   "source": [
    "### Logistic Regressions with Count Vectorizer<a id='Lg'></a>  "
   ]
  },
  {
   "cell_type": "code",
   "execution_count": 14,
   "metadata": {},
   "outputs": [
    {
     "name": "stdout",
     "output_type": "stream",
     "text": [
      "Fitting 5 folds for each of 216 candidates, totalling 1080 fits\n"
     ]
    },
    {
     "name": "stderr",
     "output_type": "stream",
     "text": [
      "[Parallel(n_jobs=-1)]: Using backend LokyBackend with 12 concurrent workers.\n",
      "[Parallel(n_jobs=-1)]: Done  26 tasks      | elapsed:   17.7s\n",
      "[Parallel(n_jobs=-1)]: Done 176 tasks      | elapsed:  3.1min\n",
      "[Parallel(n_jobs=-1)]: Done 426 tasks      | elapsed:  7.3min\n",
      "[Parallel(n_jobs=-1)]: Done 776 tasks      | elapsed: 13.6min\n",
      "[Parallel(n_jobs=-1)]: Done 1080 out of 1080 | elapsed: 18.6min finished\n"
     ]
    },
    {
     "name": "stdout",
     "output_type": "stream",
     "text": [
      "Gridsearch best score is: 0.8121274179359498\n",
      "\n",
      "Gridsearch best params are: {'cv__max_df': 0.5, 'cv__max_features': 9000, 'cv__min_df': 2, 'cv__ngram_range': (1, 1), 'lg__C': 0.5, 'lg__max_iter': 5000, 'lg__penalty': 'l2'}\n",
      "\n",
      "LogisticRegression with CountVectorizer Train Score :  99.74%\n",
      "LogisticRegression with CountVectorizer  Test Score  : 81.91%\n",
      "\n",
      "LogisticRegression with CountVectorizer  F1- Train Score: 99.46%\n",
      "LogisticRegression with CountVectorizer  F1- Test Score:  62.13%\n",
      "\n",
      "62.50% of the words were predicted correctly by the model.\n",
      "61.77% of the Skipped songs were found.\n",
      "The specificity is: 81.88%\n"
     ]
    },
    {
     "data": {
      "image/png": "[encoded data removed]",
      "text/plain": [
       "<Figure size 432x288 with 2 Axes>"
      ]
     },
     "metadata": {
      "needs_background": "light"
     },
     "output_type": "display_data"
    }
   ],
   "source": [
    "start_pipeline('cv', 'lg', 'Oranges', pipe_params = {'cv__max_features': [5_000, 5_500, 9_000],\n",
    "                                         'cv__min_df' : [2,3],\n",
    "                                         'cv__max_df' : [.5, .95],\n",
    "                                         'cv__ngram_range' : [(1,1), (1,2), (1,3)],\n",
    "                                         'lg__penalty' : ['l1', 'l2'],\n",
    "                                         'lg__C' : [0.5,1.0,2.5],\n",
    "                                         'lg__max_iter' : [5000]})\n"
   ]
  },
  {
   "cell_type": "markdown",
   "metadata": {},
   "source": [
    "Way overfit"
   ]
  },
  {
   "cell_type": "markdown",
   "metadata": {},
   "source": [
    "### Logistic Regressions with TFIDF Vectorizer"
   ]
  },
  {
   "cell_type": "code",
   "execution_count": 15,
   "metadata": {},
   "outputs": [
    {
     "name": "stdout",
     "output_type": "stream",
     "text": [
      "Fitting 5 folds for each of 216 candidates, totalling 1080 fits\n"
     ]
    },
    {
     "name": "stderr",
     "output_type": "stream",
     "text": [
      "[Parallel(n_jobs=-1)]: Using backend LokyBackend with 12 concurrent workers.\n",
      "[Parallel(n_jobs=-1)]: Done  26 tasks      | elapsed:   19.5s\n",
      "[Parallel(n_jobs=-1)]: Done 176 tasks      | elapsed:  1.7min\n",
      "[Parallel(n_jobs=-1)]: Done 426 tasks      | elapsed:  5.3min\n",
      "[Parallel(n_jobs=-1)]: Done 776 tasks      | elapsed:  9.9min\n",
      "[Parallel(n_jobs=-1)]: Done 1080 out of 1080 | elapsed: 12.8min finished\n"
     ]
    },
    {
     "name": "stdout",
     "output_type": "stream",
     "text": [
      "Gridsearch best score is: 0.8203931137373776\n",
      "\n",
      "Gridsearch best params are: {'lg__C': 2.5, 'lg__max_iter': 5000, 'lg__penalty': 'l2', 'tvec__max_df': 0.5, 'tvec__max_features': 5000, 'tvec__min_df': 2, 'tvec__ngram_range': (1, 1)}\n",
      "\n",
      "LogisticRegression with TfidfVectorizer Train Score :  89.21%\n",
      "LogisticRegression with TfidfVectorizer  Test Score  : 81.98%\n",
      "\n",
      "LogisticRegression with TfidfVectorizer  F1- Train Score: 73.85%\n",
      "LogisticRegression with TfidfVectorizer  F1- Test Score:  56.42%\n",
      "\n",
      "67.34% of the words were predicted correctly by the model.\n",
      "48.55% of the Skipped songs were found.\n",
      "The specificity is: 85.78%\n"
     ]
    },
    {
     "data": {
      "image/png": "[encoded data removed]",
      "text/plain": [
       "<Figure size 432x288 with 2 Axes>"
      ]
     },
     "metadata": {
      "needs_background": "light"
     },
     "output_type": "display_data"
    }
   ],
   "source": [
    "start_pipeline('tvec', 'lg', 'Oranges', pipe_params = {'tvec__max_features': [5_000, 5_500, 9_000],\n",
    "                                            'tvec__min_df' : [2,3],\n",
    "                                            'tvec__max_df' : [.5, .95],\n",
    "                                            'tvec__ngram_range' : [(1,1), (1,2), (1,3)],\n",
    "                                            'lg__penalty' : ['l1', 'l2'],\n",
    "                                            'lg__C' : [0.5,1.0,2.5],\n",
    "                                            'lg__max_iter' : [5000]})"
   ]
  },
  {
   "cell_type": "markdown",
   "metadata": {},
   "source": [
    "Slightly better but not by much"
   ]
  },
  {
   "cell_type": "markdown",
   "metadata": {},
   "source": [
    "### Random Forest with Count Vectorizer<a id='forest'></a>  \n",
    "Trees do well with imbalanced classes"
   ]
  },
  {
   "cell_type": "code",
   "execution_count": 16,
   "metadata": {},
   "outputs": [
    {
     "name": "stdout",
     "output_type": "stream",
     "text": [
      "Fitting 5 folds for each of 1944 candidates, totalling 9720 fits\n"
     ]
    },
    {
     "name": "stderr",
     "output_type": "stream",
     "text": [
      "[Parallel(n_jobs=-1)]: Using backend LokyBackend with 12 concurrent workers.\n",
      "[Parallel(n_jobs=-1)]: Done  26 tasks      | elapsed:   25.9s\n",
      "[Parallel(n_jobs=-1)]: Done 176 tasks      | elapsed:  1.3min\n",
      "[Parallel(n_jobs=-1)]: Done 426 tasks      | elapsed:  5.3min\n",
      "[Parallel(n_jobs=-1)]: Done 776 tasks      | elapsed: 13.2min\n",
      "[Parallel(n_jobs=-1)]: Done 1226 tasks      | elapsed: 17.2min\n",
      "[Parallel(n_jobs=-1)]: Done 1776 tasks      | elapsed: 24.0min\n",
      "[Parallel(n_jobs=-1)]: Done 2426 tasks      | elapsed: 32.0min\n",
      "[Parallel(n_jobs=-1)]: Done 3176 tasks      | elapsed: 40.3min\n",
      "[Parallel(n_jobs=-1)]: Done 4026 tasks      | elapsed: 50.1min\n",
      "[Parallel(n_jobs=-1)]: Done 4976 tasks      | elapsed: 60.6min\n",
      "[Parallel(n_jobs=-1)]: Done 6026 tasks      | elapsed: 71.9min\n",
      "[Parallel(n_jobs=-1)]: Done 7176 tasks      | elapsed: 86.3min\n",
      "[Parallel(n_jobs=-1)]: Done 8426 tasks      | elapsed: 100.5min\n",
      "[Parallel(n_jobs=-1)]: Done 9720 out of 9720 | elapsed: 117.6min finished\n"
     ]
    },
    {
     "name": "stdout",
     "output_type": "stream",
     "text": [
      "Gridsearch best score is: 0.8434414111677946\n",
      "\n",
      "Gridsearch best params are: {'cv__max_df': 0.5, 'cv__max_features': 5000, 'cv__min_df': 2, 'cv__ngram_range': (1, 2), 'rdf__max_depth': None, 'rdf__min_samples_split': 14, 'rdf__n_estimators': 200}\n",
      "\n",
      "RandomForestClassifier with CountVectorizer Train Score :  98.91%\n",
      "RandomForestClassifier with CountVectorizer  Test Score  : 84.88%\n",
      "\n",
      "RandomForestClassifier with CountVectorizer  F1- Train Score: 97.67%\n",
      "RandomForestClassifier with CountVectorizer  F1- Test Score:  61.92%\n",
      "\n",
      "78.40% of the words were predicted correctly by the model.\n",
      "51.16% of the Skipped songs were found.\n",
      "The specificity is: 85.52%\n"
     ]
    },
    {
     "data": {
      "image/png": "[encoded data removed]",
      "text/plain": [
       "<Figure size 432x288 with 2 Axes>"
      ]
     },
     "metadata": {
      "needs_background": "light"
     },
     "output_type": "display_data"
    }
   ],
   "source": [
    "start_pipeline('cv', 'rdf', 'Purples', pipe_params = {'cv__max_features': [5_000, 5_500, 9_000],\n",
    "                                           'cv__min_df' : [2,3],\n",
    "                                           'cv__max_df' : [.5, .95],\n",
    "                                           'cv__ngram_range' : [(1,1), (1,2), (1,3)],\n",
    "                                            'rdf__min_samples_split': [14, 15, 16],\n",
    "                                            'rdf__n_estimators': [100, 150, 200],\n",
    "                                            'rdf__max_depth': [None, 1, 2, 3, 4, 5]})"
   ]
  },
  {
   "cell_type": "markdown",
   "metadata": {},
   "source": [
    "Way Overfit"
   ]
  },
  {
   "cell_type": "markdown",
   "metadata": {},
   "source": [
    "### Random Forest with TFIDF Vectorizer"
   ]
  },
  {
   "cell_type": "code",
   "execution_count": 17,
   "metadata": {},
   "outputs": [
    {
     "name": "stdout",
     "output_type": "stream",
     "text": [
      "Fitting 5 folds for each of 1944 candidates, totalling 9720 fits\n"
     ]
    },
    {
     "name": "stderr",
     "output_type": "stream",
     "text": [
      "[Parallel(n_jobs=-1)]: Using backend LokyBackend with 12 concurrent workers.\n",
      "[Parallel(n_jobs=-1)]: Done  26 tasks      | elapsed:   29.8s\n",
      "[Parallel(n_jobs=-1)]: Done 176 tasks      | elapsed:  2.9min\n",
      "[Parallel(n_jobs=-1)]: Done 426 tasks      | elapsed:  8.0min\n",
      "[Parallel(n_jobs=-1)]: Done 776 tasks      | elapsed: 14.8min\n",
      "[Parallel(n_jobs=-1)]: Done 1226 tasks      | elapsed: 24.5min\n",
      "[Parallel(n_jobs=-1)]: Done 1776 tasks      | elapsed: 35.7min\n",
      "[Parallel(n_jobs=-1)]: Done 2426 tasks      | elapsed: 42.2min\n",
      "[Parallel(n_jobs=-1)]: Done 3176 tasks      | elapsed: 49.7min\n",
      "[Parallel(n_jobs=-1)]: Done 4026 tasks      | elapsed: 58.1min\n",
      "[Parallel(n_jobs=-1)]: Done 4976 tasks      | elapsed: 67.6min\n",
      "[Parallel(n_jobs=-1)]: Done 6026 tasks      | elapsed: 78.3min\n",
      "[Parallel(n_jobs=-1)]: Done 7176 tasks      | elapsed: 90.1min\n",
      "[Parallel(n_jobs=-1)]: Done 8426 tasks      | elapsed: 103.3min\n",
      "[Parallel(n_jobs=-1)]: Done 9720 out of 9720 | elapsed: 117.1min finished\n"
     ]
    },
    {
     "name": "stdout",
     "output_type": "stream",
     "text": [
      "Gridsearch best score is: 0.8428601516570602\n",
      "\n",
      "Gridsearch best params are: {'rdf__max_depth': None, 'rdf__min_samples_split': 16, 'rdf__n_estimators': 200, 'tvec__max_df': 0.5, 'tvec__max_features': 5500, 'tvec__min_df': 3, 'tvec__ngram_range': (1, 3)}\n",
      "\n",
      "RandomForestClassifier with TfidfVectorizer Train Score :  99.12%\n",
      "RandomForestClassifier with TfidfVectorizer  Test Score  : 84.92%\n",
      "\n",
      "RandomForestClassifier with TfidfVectorizer  F1- Train Score: 98.12%\n",
      "RandomForestClassifier with TfidfVectorizer  F1- Test Score:  61.77%\n",
      "\n",
      "78.96% of the words were predicted correctly by the model.\n",
      "50.73% of the Skipped songs were found.\n",
      "The specificity is: 85.65%\n"
     ]
    },
    {
     "data": {
      "image/png": "[encoded data removed]",
      "text/plain": [
       "<Figure size 432x288 with 2 Axes>"
      ]
     },
     "metadata": {
      "needs_background": "light"
     },
     "output_type": "display_data"
    }
   ],
   "source": [
    "start_pipeline('tvec', 'rdf', 'Purples', pipe_params = {'tvec__max_features': [5_000, 5_500, 9_000],\n",
    "                                           'tvec__min_df' : [2,3],\n",
    "                                           'tvec__max_df' : [.5, .95],\n",
    "                                           'tvec__ngram_range' : [(1,1), (1,2), (1,3)],\n",
    "                                           'rdf__min_samples_split': [14, 15, 16],\n",
    "                                           'rdf__n_estimators': [100, 150, 200],\n",
    "                                            'rdf__max_depth': [None, 1, 2, 3, 4, 5]})"
   ]
  },
  {
   "cell_type": "markdown",
   "metadata": {},
   "source": [
    "### Ada Boost with Count Vectorizer<a id='ada'></a>  "
   ]
  },
  {
   "cell_type": "code",
   "execution_count": 18,
   "metadata": {},
   "outputs": [
    {
     "name": "stdout",
     "output_type": "stream",
     "text": [
      "Fitting 5 folds for each of 36 candidates, totalling 180 fits\n"
     ]
    },
    {
     "name": "stderr",
     "output_type": "stream",
     "text": [
      "[Parallel(n_jobs=-1)]: Using backend LokyBackend with 12 concurrent workers.\n",
      "[Parallel(n_jobs=-1)]: Done  26 tasks      | elapsed:   24.5s\n",
      "[Parallel(n_jobs=-1)]: Done 180 out of 180 | elapsed:  2.4min finished\n"
     ]
    },
    {
     "name": "stdout",
     "output_type": "stream",
     "text": [
      "Gridsearch best score is: 0.8852278275874446\n",
      "\n",
      "Gridsearch best params are: {'ada__base_estimator': DecisionTreeClassifier(ccp_alpha=0.001, max_depth=1, min_samples_leaf=6), 'cv__max_df': 0.95, 'cv__max_features': 15000, 'cv__min_df': 2, 'cv__ngram_range': (1, 2)}\n",
      "\n",
      "AdaBoostClassifier with CountVectorizer Train Score :  89.48%\n",
      "AdaBoostClassifier with CountVectorizer  Test Score  : 89.28%\n",
      "\n",
      "AdaBoostClassifier with CountVectorizer  F1- Train Score: 75.42%\n",
      "AdaBoostClassifier with CountVectorizer  F1- Test Score:  74.90%\n",
      "\n",
      "85.61% of the words were predicted correctly by the model.\n",
      "66.57% of the Skipped songs were found.\n",
      "The specificity is: 82.09%\n"
     ]
    },
    {
     "data": {
      "image/png": "[encoded data removed]",
      "text/plain": [
       "<Figure size 432x288 with 2 Axes>"
      ]
     },
     "metadata": {
      "needs_background": "light"
     },
     "output_type": "display_data"
    }
   ],
   "source": [
    "start_pipeline('cv', 'ada', 'Reds', pipe_params = {'cv__max_features': [15_000, 15_500, 16_000],\n",
    "                                           'cv__min_df' : [2,3],\n",
    "                                           'cv__max_df' : [.5, .95],\n",
    "                                           'cv__ngram_range' : [(1,1), (1,2), (1,3)],\n",
    "                                           'ada__base_estimator' : [DecisionTreeClassifier(ccp_alpha=0.001, min_samples_leaf=6, max_depth=1)]})"
   ]
  },
  {
   "cell_type": "markdown",
   "metadata": {},
   "source": [
    "That's more like it! "
   ]
  },
  {
   "cell_type": "markdown",
   "metadata": {},
   "source": [
    "### Ada Boost with TFIDF Vectorizer"
   ]
  },
  {
   "cell_type": "code",
   "execution_count": 20,
   "metadata": {},
   "outputs": [
    {
     "name": "stdout",
     "output_type": "stream",
     "text": [
      "Fitting 5 folds for each of 144 candidates, totalling 720 fits\n"
     ]
    },
    {
     "name": "stderr",
     "output_type": "stream",
     "text": [
      "[Parallel(n_jobs=-1)]: Using backend LokyBackend with 12 concurrent workers.\n",
      "[Parallel(n_jobs=-1)]: Done  26 tasks      | elapsed:   32.6s\n",
      "[Parallel(n_jobs=-1)]: Done 176 tasks      | elapsed:  3.0min\n",
      "[Parallel(n_jobs=-1)]: Done 426 tasks      | elapsed:  7.4min\n",
      "[Parallel(n_jobs=-1)]: Done 720 out of 720 | elapsed: 13.7min finished\n"
     ]
    },
    {
     "name": "stdout",
     "output_type": "stream",
     "text": [
      "Gridsearch best score is: 0.8789425993535241\n",
      "\n",
      "Gridsearch best params are: {'ada__base_estimator': None, 'tvec__max_df': 0.5, 'tvec__max_features': 15500, 'tvec__min_df': 3, 'tvec__ngram_range': (1, 3)}\n",
      "\n",
      "AdaBoostClassifier with TfidfVectorizer Train Score :  89.02%\n",
      "AdaBoostClassifier with TfidfVectorizer  Test Score  : 88.27%\n",
      "\n",
      "AdaBoostClassifier with TfidfVectorizer  F1- Train Score: 74.59%\n",
      "AdaBoostClassifier with TfidfVectorizer  F1- Test Score:  72.55%\n",
      "\n",
      "82.84% of the words were predicted correctly by the model.\n",
      "64.53% of the Skipped songs were found.\n",
      "The specificity is: 82.44%\n"
     ]
    },
    {
     "data": {
      "image/png": "[encoded data removed]",
      "text/plain": [
       "<Figure size 432x288 with 2 Axes>"
      ]
     },
     "metadata": {
      "needs_background": "light"
     },
     "output_type": "display_data"
    }
   ],
   "source": [
    "start_pipeline('tvec', 'ada', 'Reds', pipe_params = {'tvec__max_features': [15_000, 15_500, 16_000],\n",
    "                                           'tvec__min_df' : [2,3],\n",
    "                                           'tvec__max_df' : [.5, .95],\n",
    "                                           'tvec__ngram_range' : [(1,1), (1,2), (1,3)],\n",
    "                                           'ada__base_estimator' : [None, DecisionTreeClassifier(), RandomForestClassifier(), ExtraTreesClassifier()]})"
   ]
  },
  {
   "cell_type": "markdown",
   "metadata": {},
   "source": [
    "Precision a little lower than the countvectorized Ada Boost Model, however the F1 scores and train/test scores are much closer to eachother on this one.  "
   ]
  },
  {
   "cell_type": "markdown",
   "metadata": {},
   "source": [
    "### Feature Importance<a id='feature'></a>  \n",
    "Using the AdaBoost model and count Vectorizer I will check to see what type 15 words helped the model predict the classes. The model and vectorizer will have the gridsearch's best parameters input."
   ]
  },
  {
   "cell_type": "code",
   "execution_count": 29,
   "metadata": {},
   "outputs": [],
   "source": [
    "cv = CountVectorizer(max_df=0.95, max_features=15_000, min_df=2,\n",
    "                                 ngram_range=(1, 2),\n",
    "                                 stop_words= 'english')  ## all params from gridsearch"
   ]
  },
  {
   "cell_type": "code",
   "execution_count": 41,
   "metadata": {},
   "outputs": [],
   "source": [
    "X_train_cv = cv.fit_transform(X_train)\n",
    "X_test_cv = cv.transform(X_test)\n",
    "ada = AdaBoostClassifier() #instantiating the model\n",
    "ada.fit(X_train_cv, y_train);"
   ]
  },
  {
   "cell_type": "markdown",
   "metadata": {},
   "source": [
    "#### Extracting Feature Importance to plot"
   ]
  },
  {
   "cell_type": "code",
   "execution_count": 83,
   "metadata": {},
   "outputs": [],
   "source": [
    "sorted_feat = ada.feature_importances_.argsort()[::-1] # sorting feature importance based on gini weight\n",
    "words = np.take(cv.get_feature_names(), sorted_feat[:15]) # getting feature names from count vectorizer\n",
    "feat = pd.DataFrame((list(zip(words, sorted_feat))),columns = ['Features', 'Importance']) # creating a dataframe \n",
    "feat.set_index(feat.Features, inplace=True) # setting the feature name as index for y axis\n",
    "unit = feat[:15].sort_values('Importance', ascending=False)['Importance'] # sort by importance show top 15\n",
    "color = [\"#399BC6\" if i > 10_000 else '#91D4BC' for i in unit] # 2 colors, features that are more than 10_000\n",
    "labels = unit.index # setting labels to the index"
   ]
  },
  {
   "cell_type": "code",
   "execution_count": 85,
   "metadata": {},
   "outputs": [
    {
     "data": {
      "image/png": "[encoded data removed]",
      "text/plain": [
       "<Figure size 1800x864 with 1 Axes>"
      ]
     },
     "metadata": {
      "needs_background": "light"
     },
     "output_type": "display_data"
    }
   ],
   "source": [
    "#plotting\n",
    "plt.figure(figsize=(25,12))\n",
    "plt.barh(labels, unit, color = color)\n",
    "plt.yticks(fontsize=20)\n",
    "plt.xticks(fontsize=20)\n",
    "plt.xlabel('Feature Importance', fontsize=30)\n",
    "plt.title(f'Top {15} Predictable words to Skipped Songs', fontsize=42, color =\"#596FE3\", weight='bold')\n",
    "plt.savefig(f'./visuals/pred_words_cv.png', transparent=True, bbox_inches='tight'); #saving\n"
   ]
  },
  {
   "cell_type": "markdown",
   "metadata": {},
   "source": [
    "Apart from *'vulgar'* these words did not appear in my top 15 words in my EDA, it also makes a lot of sense as to why they have such heavy importance in determining which classes they belong to. \n",
    "With the exception of *'right', 'yo', 'la'* all the other words are aliases / names of the artists."
   ]
  },
  {
   "cell_type": "markdown",
   "metadata": {},
   "source": [
    "### Score Visualization<a id='viz'></a>  \n",
    "Combining all the scores I extracted from each model run through the pipeline."
   ]
  },
  {
   "cell_type": "code",
   "execution_count": 90,
   "metadata": {},
   "outputs": [
    {
     "data": {
      "text/plain": [
       "[0.6700581395348837,\n",
       " 0.49127906976744184,\n",
       " 0.7761627906976745,\n",
       " 0.7732558139534884,\n",
       " 0.6177325581395349,\n",
       " 0.48546511627906974,\n",
       " 0.5116279069767442,\n",
       " 0.5072674418604651,\n",
       " 0.6656976744186046,\n",
       " 0.6453488372093024]"
      ]
     },
     "execution_count": 90,
     "metadata": {},
     "output_type": "execute_result"
    }
   ],
   "source": [
    "recall"
   ]
  },
  {
   "cell_type": "markdown",
   "metadata": {},
   "source": [
    "### Conclusion<a id='conc'></a>\n",
    "Of all my models here, the AdaBoost with CountVectorizer did the best. With a precision score of 85.61%, speicificity at 82.09% and the train test scores in both the model score and F1 score being minimally apart, showing little sign of overfitting.\n",
    "The best params being bi-grams and max_features at 15,000. To note I did add some options in the pipe params for AdaBoost, but it performed better with its standard settings.\n",
    "\n",
    "\n",
    "<b> What's next? </b>\n",
    "I ran these models with a Word Lemmatizer in the [next notebook](./4.1.2_Model_Word_Lem.ipynb) to see if it will help my model's predictions be more precise, the conclusion on that was that the models performed marginally worse than here, but overall the AdaBoost models performed better with Lemmatizing as well.\n",
    "\n",
    "<br> I also re-ran the AdaBoost model with the best params through different options for re-balancing in [this notebook](./4.1.3_Model-Resampling.ipynb), of all the options I liked the results of the RandomOverSampling, although the model did lose 183 Not Skipped songs, it found an additional 73 Skipped songs. The other methods, (SMOTE & NearMiss) found more Skipped songs, but at a greater loss for the not skipped songs, compared to ROS</br> \n",
    "\n",
    "<br>Finally, I am attempting to better my scores with [Neural Networks](./4.2_Model_RNN.ipynb), because of the class imbalance I am trying different options such as re-weighing the classes, and applying the oversampling to the neural networks. I will be using GridSearchCV there as well to try and tune the hyper-parameters for the best outcome.</br>"
   ]
  }
 ],
 "metadata": {
  "kernelspec": {
   "display_name": "Python 3",
   "language": "python",
   "name": "python3"
  },
  "language_info": {
   "codemirror_mode": {
    "name": "ipython",
    "version": 3
   },
   "file_extension": ".py",
   "mimetype": "text/x-python",
   "name": "python",
   "nbconvert_exporter": "python",
   "pygments_lexer": "ipython3",
   "version": "3.8.3"
  }
 },
 "nbformat": 4,
 "nbformat_minor": 4
}
