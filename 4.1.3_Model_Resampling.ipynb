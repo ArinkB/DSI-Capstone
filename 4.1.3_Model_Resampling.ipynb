{
 "cells": [
  {
   "cell_type": "markdown",
   "metadata": {},
   "source": [
    "# Modeling - Resampling\n",
    "\n",
    "Taking my best model (ADA with CountVectorizer) I will try different re-sampling techniques and evaluate their scores, to help form a decision on whether I should resample. From my previous notebook without resampling, the AdaBoost model with CountVectorizer had pretty good F1 scores.\n"
   ]
  },
  {
   "cell_type": "markdown",
   "metadata": {},
   "source": [
    "\n",
    "\n",
    "#### Table of Contents\n",
    "<br>`Pre-Processing`</br>\n",
    "\n",
    "- [Pre-Processing](#target)\n",
    "\n",
    "<br>`Re-Sampling`</br>\n",
    "\n",
    "- [Base](#base)\n",
    "- [Random Over Sampling](#ROS)\n",
    "- [SMOTE](#smote)\n",
    "- [Near Miss (Under Sampling](#under)\n",
    "\n",
    "<br>`Conclusion`</br>\n",
    "- [Classification Reports](#report)\n",
    "- [Notebook Conclusion](#conc)    "
   ]
  },
  {
   "cell_type": "markdown",
   "metadata": {},
   "source": [
    "### Libraries"
   ]
  },
  {
   "cell_type": "code",
   "execution_count": 1,
   "metadata": {},
   "outputs": [],
   "source": [
    "import numpy as np\n",
    "import pandas as pd\n",
    "\n",
    "from sklearn.feature_extraction.text import CountVectorizer\n",
    "\n",
    "from sklearn.model_selection import train_test_split\n",
    "from sklearn.pipeline import make_pipeline\n",
    "from sklearn.metrics import confusion_matrix, plot_confusion_matrix, precision_score, f1_score, recall_score\n",
    "from sklearn.ensemble import AdaBoostClassifier\n",
    "\n",
    "from imblearn.pipeline import make_pipeline as make_pipeline_imb\n",
    "from imblearn.over_sampling import SMOTE, RandomOverSampler\n",
    "from imblearn.under_sampling import NearMiss\n",
    "from imblearn.metrics import classification_report_imbalanced"
   ]
  },
  {
   "cell_type": "code",
   "execution_count": 2,
   "metadata": {},
   "outputs": [],
   "source": [
    "df = pd.read_csv('./data/lyrics_cleaned.csv')"
   ]
  },
  {
   "cell_type": "markdown",
   "metadata": {},
   "source": [
    "### Pre-Processing<a id='target'></a>  \n",
    "Same Pre-Processing as before, checking the baseline, changing some words, train, test split and Count Vectorizing"
   ]
  },
  {
   "cell_type": "code",
   "execution_count": 3,
   "metadata": {},
   "outputs": [
    {
     "data": {
      "text/plain": [
       "0    0.75993\n",
       "1    0.24007\n",
       "Name: skip, dtype: float64"
      ]
     },
     "execution_count": 3,
     "metadata": {},
     "output_type": "execute_result"
    }
   ],
   "source": [
    "df[\"skip\"].value_counts(normalize=True) #Baseline"
   ]
  },
  {
   "cell_type": "code",
   "execution_count": 5,
   "metadata": {},
   "outputs": [],
   "source": [
    "some_words = open(\"./data/drop_words.txt\").read().split()\n",
    "for i in some_words:   \n",
    "    df['lyrics'] = df['lyrics'].str.lower().str.replace(rf\"\\b{i}\\b\", 'vulgar')"
   ]
  },
  {
   "cell_type": "markdown",
   "metadata": {},
   "source": [
    "### Train Test Split\n",
    "As mentioned earlier, I will use the lyrics column in my models with my target being the skip column. All other columns were made for EDA purposes."
   ]
  },
  {
   "cell_type": "code",
   "execution_count": 6,
   "metadata": {},
   "outputs": [],
   "source": [
    "X = df['lyrics']\n",
    "y = df['skip']"
   ]
  },
  {
   "cell_type": "code",
   "execution_count": 7,
   "metadata": {},
   "outputs": [
    {
     "data": {
      "text/plain": [
       "((8591,), (2864,), (8591,), (2864,))"
      ]
     },
     "execution_count": 7,
     "metadata": {},
     "output_type": "execute_result"
    }
   ],
   "source": [
    "# since the categories are unbalanced I will stratify y\n",
    "X_train, X_test, y_train, y_test = train_test_split(X, y, random_state=42, stratify=y) \n",
    "# Check shapes of the split\n",
    "X_train.shape, X_test.shape, y_train.shape, y_test.shape"
   ]
  },
  {
   "cell_type": "code",
   "execution_count": 8,
   "metadata": {},
   "outputs": [],
   "source": [
    "cv = CountVectorizer(max_df=0.95, max_features=15_000, min_df=2,\n",
    "                                 ngram_range=(1, 2),\n",
    "                                 stop_words= 'english')  ## all params from gridsearch"
   ]
  },
  {
   "cell_type": "code",
   "execution_count": 9,
   "metadata": {},
   "outputs": [],
   "source": [
    "X_train = cv.fit_transform(X_train)\n",
    "X_test = cv.transform(X_test)"
   ]
  },
  {
   "cell_type": "markdown",
   "metadata": {},
   "source": [
    "#### Print Scores Function\n",
    "I took part of my Pipeline function code and extracted only the scoring part here"
   ]
  },
  {
   "cell_type": "code",
   "execution_count": 10,
   "metadata": {},
   "outputs": [],
   "source": [
    "def print_results(headline, model, preds):\n",
    "    print(headline)\n",
    "    \n",
    "    print(f' Train Score :  {model.score(X_train, y_train)*100:.2f}%')\n",
    "    print(f' Test Score  : {model.score(X_test, y_test)*100:.2f}%')\n",
    "    print('')\n",
    "    train_preds = model.predict(X_train)\n",
    "    print(f' F1- Train Score: {f1_score(y_train, train_preds)*100:.2f}%')\n",
    "    print(f' F1- Test Score:  {f1_score(y_test, preds)*100:.2f}%')\n",
    "    print('')\n",
    "    \n",
    "     # ----- Predictions ------ #\n",
    "        \n",
    "    print(f\"{(precision_score(y_test, preds))*100:.2f}% of the songs were predicted correctly by the model.\")\n",
    "\n",
    "    print(f\"{(recall_score(y_test, preds))*100:.2f}% of the Skipped songs were found.\")\n",
    "\n",
    "    tn, fp, fn, tp = confusion_matrix(y_test, preds).ravel()\n",
    "    print(f\"The specificity is: {(tn / (tn + tp))*100:.2f}%\")\n",
    "\n",
    "    plot_confusion_matrix(model, X_test, y_test, cmap= 'Blues');"
   ]
  },
  {
   "cell_type": "code",
   "execution_count": 11,
   "metadata": {},
   "outputs": [],
   "source": [
    "ada = AdaBoostClassifier # choosing the model"
   ]
  },
  {
   "cell_type": "markdown",
   "metadata": {},
   "source": [
    "### Base Model<a id='base'></a>  "
   ]
  },
  {
   "cell_type": "code",
   "execution_count": 12,
   "metadata": {},
   "outputs": [],
   "source": [
    "pipeline = make_pipeline(ada(random_state=42))\n",
    "model = pipeline.fit(X_train, y_train)\n",
    "prediction = model.predict(X_test)"
   ]
  },
  {
   "cell_type": "code",
   "execution_count": 13,
   "metadata": {
    "scrolled": false
   },
   "outputs": [
    {
     "name": "stdout",
     "output_type": "stream",
     "text": [
      "normal classification\n",
      " Train Score :  89.48%\n",
      " Test Score  : 89.28%\n",
      "\n",
      " F1- Train Score: 75.42%\n",
      " F1- Test Score:  74.90%\n",
      "\n",
      "85.61% of the songs were predicted correctly by the model.\n",
      "66.57% of the Skipped songs were found.\n",
      "The specificity is: 82.09%\n"
     ]
    },
    {
     "data": {
      "image/png": "[encoded data removed]",
      "text/plain": [
       "<Figure size 432x288 with 2 Axes>"
      ]
     },
     "metadata": {
      "needs_background": "light"
     },
     "output_type": "display_data"
    }
   ],
   "source": [
    "print_results(\"normal classification\", model, prediction)\n"
   ]
  },
  {
   "cell_type": "markdown",
   "metadata": {},
   "source": [
    "### Over Sampling (Random over Sampler)<a id='ROS'></a>  "
   ]
  },
  {
   "cell_type": "code",
   "execution_count": 14,
   "metadata": {},
   "outputs": [],
   "source": [
    "over_pipeline = make_pipeline_imb(RandomOverSampler(random_state=42), ada(random_state=42))\n",
    "over_model = over_pipeline.fit(X_train, y_train)\n",
    "over_prediction = over_model.predict(X_test)"
   ]
  },
  {
   "cell_type": "code",
   "execution_count": 15,
   "metadata": {},
   "outputs": [
    {
     "name": "stdout",
     "output_type": "stream",
     "text": [
      "OVER classification\n",
      " Train Score :  86.13%\n",
      " Test Score  : 85.34%\n",
      "\n",
      " F1- Train Score: 73.31%\n",
      " F1- Test Score:  71.66%\n",
      "\n",
      "66.88% of the songs were predicted correctly by the model.\n",
      "77.18% of the Skipped songs were found.\n",
      "The specificity is: 78.27%\n"
     ]
    },
    {
     "data": {
      "image/png": "[encoded data removed]",
      "text/plain": [
       "<Figure size 432x288 with 2 Axes>"
      ]
     },
     "metadata": {
      "needs_background": "light"
     },
     "output_type": "display_data"
    }
   ],
   "source": [
    "print_results(\"OVER classification\", over_model, over_prediction)"
   ]
  },
  {
   "cell_type": "markdown",
   "metadata": {},
   "source": [
    "### SMOTE (Synthetic Over Sampling)<a id='smote'></a>  "
   ]
  },
  {
   "cell_type": "code",
   "execution_count": 16,
   "metadata": {},
   "outputs": [],
   "source": [
    "smote_pipeline = make_pipeline_imb(SMOTE(random_state=42), ada(random_state=42))\n",
    "smote_model = smote_pipeline.fit(X_train, y_train)\n",
    "smote_prediction = smote_model.predict(X_test)\n"
   ]
  },
  {
   "cell_type": "code",
   "execution_count": 17,
   "metadata": {},
   "outputs": [
    {
     "name": "stdout",
     "output_type": "stream",
     "text": [
      "SMOTE classification\n",
      " Train Score :  81.33%\n",
      " Test Score  : 79.82%\n",
      "\n",
      " F1- Train Score: 65.56%\n",
      " F1- Test Score:  63.74%\n",
      "\n",
      "56.07% of the songs were predicted correctly by the model.\n",
      "73.84% of the Skipped songs were found.\n",
      "The specificity is: 77.78%\n"
     ]
    },
    {
     "data": {
      "image/png": "[encoded data removed]",
      "text/plain": [
       "<Figure size 432x288 with 2 Axes>"
      ]
     },
     "metadata": {
      "needs_background": "light"
     },
     "output_type": "display_data"
    }
   ],
   "source": [
    "print_results(\"SMOTE classification\",smote_model, smote_prediction)"
   ]
  },
  {
   "cell_type": "markdown",
   "metadata": {},
   "source": [
    "### Near Miss (Under Sampling)<a id='under'></a>  "
   ]
  },
  {
   "cell_type": "code",
   "execution_count": 18,
   "metadata": {},
   "outputs": [],
   "source": [
    "# build model with undersampling\n",
    "under_pipeline = make_pipeline_imb(NearMiss(), ada(random_state=42))\n",
    "under_model = under_pipeline.fit(X_train, y_train)\n",
    "under_prediction = under_model.predict(X_test)"
   ]
  },
  {
   "cell_type": "code",
   "execution_count": 19,
   "metadata": {},
   "outputs": [
    {
     "name": "stdout",
     "output_type": "stream",
     "text": [
      "NearMiss classification\n",
      " Train Score :  66.67%\n",
      " Test Score  : 66.24%\n",
      "\n",
      " F1- Train Score: 56.60%\n",
      " F1- Test Score:  55.91%\n",
      "\n",
      "40.73% of the songs were predicted correctly by the model.\n",
      "89.10% of the Skipped songs were found.\n",
      "The specificity is: 67.69%\n"
     ]
    },
    {
     "data": {
      "image/png": "[encoded data removed]",
      "text/plain": [
       "<Figure size 432x288 with 2 Axes>"
      ]
     },
     "metadata": {
      "needs_background": "light"
     },
     "output_type": "display_data"
    }
   ],
   "source": [
    "print_results(\"NearMiss classification\", under_model, under_prediction)"
   ]
  },
  {
   "cell_type": "markdown",
   "metadata": {},
   "source": [
    "### Classification Reports<a id='report'></a>  \n",
    "A stacked view of all the models above classification report, using the sklearn imbalanced library to get insight into the specificity, geometric mean and index balanced accuracy."
   ]
  },
  {
   "cell_type": "code",
   "execution_count": 20,
   "metadata": {},
   "outputs": [],
   "source": [
    "class style:\n",
    "   BOLD = '\\033[1m'\n",
    "   END = '\\033[0m'\n",
    "    \n",
    "#https://stackoverflow.com/questions/24834876/how-can-i-make-text-bold-in-python"
   ]
  },
  {
   "cell_type": "code",
   "execution_count": 21,
   "metadata": {},
   "outputs": [],
   "source": [
    "def reports(preds, header):\n",
    "    print(style.BOLD + header + style.END)\n",
    "    print(classification_report_imbalanced(y_test, preds, \\\n",
    "    target_names=['not_skipped', 'skipped']))\n",
    "    print('')  "
   ]
  },
  {
   "cell_type": "code",
   "execution_count": 22,
   "metadata": {},
   "outputs": [
    {
     "name": "stdout",
     "output_type": "stream",
     "text": [
      "\u001b[1mBase AdaBoost Model\u001b[0m\n",
      "                   pre       rec       spe        f1       geo       iba       sup\n",
      "\n",
      "not_skipped       0.90      0.96      0.67      0.93      0.80      0.66      2176\n",
      "    skipped       0.86      0.67      0.96      0.75      0.80      0.62       688\n",
      "\n",
      "avg / total       0.89      0.89      0.74      0.89      0.80      0.65      2864\n",
      "\n",
      "\n",
      "\u001b[1mROS Model\u001b[0m\n",
      "                   pre       rec       spe        f1       geo       iba       sup\n",
      "\n",
      "not_skipped       0.92      0.88      0.77      0.90      0.82      0.69      2176\n",
      "    skipped       0.67      0.77      0.88      0.72      0.82      0.67       688\n",
      "\n",
      "avg / total       0.86      0.85      0.80      0.86      0.82      0.68      2864\n",
      "\n",
      "\n",
      "\u001b[1mSMOTE Model\u001b[0m\n",
      "                   pre       rec       spe        f1       geo       iba       sup\n",
      "\n",
      "not_skipped       0.91      0.82      0.74      0.86      0.78      0.61      2176\n",
      "    skipped       0.56      0.74      0.82      0.64      0.78      0.60       688\n",
      "\n",
      "avg / total       0.82      0.80      0.76      0.81      0.78      0.61      2864\n",
      "\n",
      "\n",
      "\u001b[1mNear Miss Model\u001b[0m\n",
      "                   pre       rec       spe        f1       geo       iba       sup\n",
      "\n",
      "not_skipped       0.94      0.59      0.89      0.73      0.73      0.51      2176\n",
      "    skipped       0.41      0.89      0.59      0.56      0.73      0.54       688\n",
      "\n",
      "avg / total       0.82      0.66      0.82      0.69      0.73      0.52      2864\n",
      "\n",
      "\n"
     ]
    }
   ],
   "source": [
    "reports(prediction, 'Base AdaBoost Model')\n",
    "reports(over_prediction, 'ROS Model')\n",
    "reports(smote_prediction, 'SMOTE Model')\n",
    "reports(under_prediction, 'Near Miss Model')"
   ]
  },
  {
   "cell_type": "markdown",
   "metadata": {},
   "source": [
    "### Conclusion<a id='conc'></a>\n",
    "Both Near Miss (undersampling) and Random over Sampling, increased the amount of skipped songs classified, however they both missclassified more not-skipped songs compared to the 'Base' Model. If I were to pick any of the sampling methods, it would be the ROS model, because although it lost 186 not skipped songs to gain 73 skipped songs, I believe that is a fair trade for not having to listen to songs that fall under the irritating category for me. However losing 815 not skipped songs to gain 155 skipped songs is too much (Near Miss)\n",
    "<br> Next: [Attempting Neural Networks](./4.2_Model_RNN.ipynb)"
   ]
  }
 ],
 "metadata": {
  "kernelspec": {
   "display_name": "Python 3",
   "language": "python",
   "name": "python3"
  },
  "language_info": {
   "codemirror_mode": {
    "name": "ipython",
    "version": 3
   },
   "file_extension": ".py",
   "mimetype": "text/x-python",
   "name": "python",
   "nbconvert_exporter": "python",
   "pygments_lexer": "ipython3",
   "version": "3.8.3"
  }
 },
 "nbformat": 4,
 "nbformat_minor": 4
}
