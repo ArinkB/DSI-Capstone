{
 "cells": [
  {
   "cell_type": "markdown",
   "metadata": {},
   "source": [
    "# Modeling\n",
    "I will start by running my data through some Naive Bayes models, Logistic Regression, Random Forest and Ada Boost. In this notebook I will leave the stopwords to the english dictionary, based on my [EDA](./2_eda_%26_cleaning.ipynb), there weren't any identifiable words that made it in the categories' top 25 words. I will only run the lyrics column through the models with the target being the skip column."
   ]
  },
  {
   "cell_type": "markdown",
   "metadata": {},
   "source": [
    "\n",
    "\n",
    "#### Table of Contents\n",
    "<br>`Pre-Processing`</br>\n",
    "\n",
    "- [Baseline & Target](#target)\n",
    "- [Pipeline & GridSearch Function](#func)\n",
    "\n",
    "<br>`Modeling`</br>\n",
    "\n",
    "- [MultinomialNB](#Mnb)\n",
    "- [BernoulliNB](#Bnb)\n",
    "- [Logistic Regression](#Lg)\n",
    "- [Ada Boost](#ada)\n",
    "- [Random Forest](#forest)\n",
    "\n",
    "<br>`Conclusion`</br>\n",
    "\n",
    "- [Feat Importance of Best Model](#feat)\n",
    "- [Notebook Conclusion](#conc)    "
   ]
  },
  {
   "cell_type": "markdown",
   "metadata": {},
   "source": [
    "### Libraries"
   ]
  },
  {
   "cell_type": "code",
   "execution_count": 1,
   "metadata": {},
   "outputs": [],
   "source": [
    "import numpy as np\n",
    "import pandas as pd\n",
    "\n",
    "from sklearn.feature_extraction.text import CountVectorizer, TfidfVectorizer\n",
    "from sklearn.feature_extraction import text # to add more stopwords\n",
    "\n",
    "from sklearn.model_selection import train_test_split, cross_val_score, GridSearchCV\n",
    "from sklearn.pipeline import Pipeline\n",
    "from sklearn.metrics import confusion_matrix, plot_confusion_matrix, precision_score, f1_score, recall_score\n",
    "\n",
    "from sklearn.naive_bayes import MultinomialNB, BernoulliNB\n",
    "from sklearn.linear_model import LogisticRegression\n",
    "from sklearn.ensemble import AdaBoostClassifier, RandomForestClassifier"
   ]
  },
  {
   "cell_type": "code",
   "execution_count": 2,
   "metadata": {},
   "outputs": [],
   "source": [
    "df = pd.read_csv('./data/lyrics_cleaned.csv')"
   ]
  },
  {
   "cell_type": "markdown",
   "metadata": {},
   "source": [
    "### Baseline<a id='target'></a>  \n",
    "Because my class in so imbalanced I will not be using accuracy as my score, instead I will be looking at variations of F1 score, confusion matrix, and precision score which are all ideal for imbalanced classes. The reason accuracy is not ideal is because accuracy will always predict on the heavier class when imbalanced."
   ]
  },
  {
   "cell_type": "code",
   "execution_count": 3,
   "metadata": {},
   "outputs": [
    {
     "data": {
      "text/plain": [
       "0    0.75993\n",
       "1    0.24007\n",
       "Name: skip, dtype: float64"
      ]
     },
     "execution_count": 3,
     "metadata": {},
     "output_type": "execute_result"
    }
   ],
   "source": [
    "df[\"skip\"].value_counts(normalize=True) #Baseline"
   ]
  },
  {
   "cell_type": "markdown",
   "metadata": {},
   "source": [
    "There are some words that I don't want displayed on screen so I will replace them as 'vulgar', they can still help my model with it's predictions. These words are not so much easy predictors, as much as they are words that I don't feel comfortable being part of my visualizations or my publicly viewable project."
   ]
  },
  {
   "cell_type": "code",
   "execution_count": 4,
   "metadata": {},
   "outputs": [],
   "source": [
    "some_words = open(\"./data/drop_words.txt\").read().split()\n",
    "\n",
    "for i in some_words:   \n",
    "    df['lyrics'] = df['lyrics'].str.lower().str.replace(rf\"\\b{i}\\b\", 'vulgar')"
   ]
  },
  {
   "cell_type": "markdown",
   "metadata": {},
   "source": [
    "### Train Test Split\n",
    "As mentioned earlier, I will use the lyrics column in my models with my target being the skip column. All other columns were made for EDA purposes."
   ]
  },
  {
   "cell_type": "code",
   "execution_count": 5,
   "metadata": {},
   "outputs": [],
   "source": [
    "X = df['lyrics']\n",
    "y = df['skip']"
   ]
  },
  {
   "cell_type": "code",
   "execution_count": 6,
   "metadata": {},
   "outputs": [
    {
     "data": {
      "text/plain": [
       "((8591,), (2864,), (8591,), (2864,))"
      ]
     },
     "execution_count": 6,
     "metadata": {},
     "output_type": "execute_result"
    }
   ],
   "source": [
    "# since the categories are unbalanced I will stratify y\n",
    "X_train, X_test, y_train, y_test = train_test_split(X, y, random_state=42, stratify=y) \n",
    "# Check shapes of the split\n",
    "X_train.shape, X_test.shape, y_train.shape, y_test.shape"
   ]
  },
  {
   "cell_type": "markdown",
   "metadata": {},
   "source": [
    "### Pipeline Function<a id='func'></a>  \n",
    "I am re-using the pipeline function I made for my Reddit project NLP. Which allows me to put in various models and Vectorizer and returns scores along with confusion matrices."
   ]
  },
  {
   "cell_type": "code",
   "execution_count": 7,
   "metadata": {},
   "outputs": [],
   "source": [
    "def start_pipeline(vect, model, color, pipe_params): # takes type of vectorizer, model, color of confusion matrix, and pipe params\n",
    "    \n",
    "    # Types of Vectorizers\n",
    "    if vect == 'cv':\n",
    "        instantiate_vect = CountVectorizer\n",
    "        vect_name = 'CountVectorizer'\n",
    "    elif vect == 'tvec':\n",
    "        instantiate_vect = TfidfVectorizer\n",
    "        vect_name = 'TfidfVectorizer'\n",
    "        \n",
    "      # Types of Models  \n",
    "    if model == 'Mnb':\n",
    "        instantiate_model = MultinomialNB\n",
    "        model_name = 'MultinomialNB'\n",
    "    elif model == 'Bnb':\n",
    "        instantiate_model = BernoulliNB\n",
    "        model_name = 'BernoulliNB'\n",
    "    elif model == 'lg':\n",
    "        instantiate_model = LogisticRegression\n",
    "        model_name = 'LogisticRegression'\n",
    "    elif model == 'ada':\n",
    "        instantiate_model = AdaBoostClassifier\n",
    "        model_name = 'AdaBoostClassifier'     \n",
    "    elif model == 'rdf':\n",
    "        instantiate_model = RandomForestClassifier\n",
    "        model_name = 'RandomForestClassifier'\n",
    "          \n",
    "        \n",
    "        #----- Pipeline-----#\n",
    "    \n",
    "    pipe = Pipeline([\n",
    "    (vect , instantiate_vect(stop_words = 'english')), # transformer\n",
    "    (model , instantiate_model()) # estimator\n",
    "    ])\n",
    "\n",
    "    # --- Gridsearch----#\n",
    "    gs = GridSearchCV(pipe,\n",
    "                 pipe_params, # defined outside of function for easy change\n",
    "                 cv=5,\n",
    "                 verbose = 1,\n",
    "                 n_jobs=-1)\n",
    "    \n",
    "    \n",
    "    gs.fit(X_train,y_train) # fitting X_train and y_train\n",
    "    preds = gs.predict(X_test) # predict test\n",
    "    train_preds = gs.predict(X_train) # predict train\n",
    "    \n",
    "    #------ Scores & Params------- #\n",
    "    print(f'Gridsearch best score is: {gs.best_score_}')\n",
    "    print('')\n",
    "    print(f'Gridsearch best params are: {gs.best_params_}')\n",
    "    print('')\n",
    "    print(f'{model_name} with {vect_name} Train Score :  {gs.score(X_train, y_train)*100:.2f}%')\n",
    "    print(f'{model_name} with {vect_name}  Test Score  : {gs.score(X_test, y_test)*100:.2f}%')\n",
    "    print('')\n",
    "    print(f'{model_name} with {vect_name}  F1- Train Score: {f1_score(y_train, train_preds)}')\n",
    "    print(f'{model_name} with {vect_name}  F1- Test Score:  {f1_score(y_test, preds)}')\n",
    "    print('')\n",
    "    \n",
    "     # ----- Predictions ------ #\n",
    "        \n",
    "    print(f\"{(precision_score(y_test, preds))*100:.2f}% of the words were predicted correctly by the model.\")\n",
    "    print(f\"{(recall_score(y_test, preds))*100:.2f}% of the Skipped songs were found.\")\n",
    "\n",
    "    tn, fp, fn, tp = confusion_matrix(y_test, preds).ravel()\n",
    "    print(f\"The specificity is: {(tn / (tn + fp))*100:.2f}%\")\n",
    "    \n",
    "    plot_confusion_matrix(gs, X_test, y_test, cmap= color);"
   ]
  },
  {
   "cell_type": "markdown",
   "metadata": {},
   "source": [
    "### Multinomial Naive Bayes with Count Vectorizer<a id='Mnb'></a>  "
   ]
  },
  {
   "cell_type": "code",
   "execution_count": 8,
   "metadata": {},
   "outputs": [
    {
     "name": "stdout",
     "output_type": "stream",
     "text": [
      "Fitting 5 folds for each of 48 candidates, totalling 240 fits\n"
     ]
    },
    {
     "name": "stderr",
     "output_type": "stream",
     "text": [
      "[Parallel(n_jobs=-1)]: Using backend LokyBackend with 12 concurrent workers.\n",
      "[Parallel(n_jobs=-1)]: Done  26 tasks      | elapsed:   18.2s\n",
      "[Parallel(n_jobs=-1)]: Done 176 tasks      | elapsed:  1.8min\n",
      "[Parallel(n_jobs=-1)]: Done 240 out of 240 | elapsed:  2.5min finished\n"
     ]
    },
    {
     "name": "stdout",
     "output_type": "stream",
     "text": [
      "Gridsearch best score is: 0.7893135069865591\n",
      "\n",
      "Gridsearch best params are: {'cv__max_df': 0.5, 'cv__max_features': 5000, 'cv__min_df': 2, 'cv__ngram_range': (1, 1)}\n",
      "\n",
      "MultinomialNB with CountVectorizer Train Score :  81.74%\n",
      "MultinomialNB with CountVectorizer  Test Score  : 79.05%\n",
      "\n",
      "MultinomialNB with CountVectorizer  F1- Train Score: 0.6524916943521596\n",
      "MultinomialNB with CountVectorizer  F1- Test Score:  0.6057818659658343\n",
      "\n",
      "55.28% of the words were predicted correctly by the model.\n",
      "67.01% of the Skipped songs were found.\n",
      "The specificity is: 82.86%\n"
     ]
    },
    {
     "data": {
      "image/png": "[encoded data removed]",
      "text/plain": [
       "<Figure size 432x288 with 2 Axes>"
      ]
     },
     "metadata": {
      "needs_background": "light"
     },
     "output_type": "display_data"
    }
   ],
   "source": [
    "start_pipeline('cv', 'Mnb', 'Blues', pipe_params = {\n",
    "                                'cv__max_features': [2_000, 4_500, 5_000, 5_500],\n",
    "                                'cv__min_df' : [2,3], # ignore terms that show up less than 2 or 3 times in corpus\n",
    "                                'cv__max_df' : [.5, .95], # ignore terms that show up either more than 50% or 95% of the corpus\n",
    "                                'cv__ngram_range' : [(1,1), (1,2), (1,3)], # single words and bigrams\n",
    "})"
   ]
  },
  {
   "cell_type": "markdown",
   "metadata": {},
   "source": [
    "Slightly overfit with low precision score, F1 scores are above the .50 that we aim for but could be better"
   ]
  },
  {
   "cell_type": "markdown",
   "metadata": {},
   "source": [
    "### Multinomial Naive Bayes with TFIDF Vectorizer"
   ]
  },
  {
   "cell_type": "code",
   "execution_count": 9,
   "metadata": {},
   "outputs": [
    {
     "name": "stdout",
     "output_type": "stream",
     "text": [
      "Fitting 5 folds for each of 48 candidates, totalling 240 fits\n"
     ]
    },
    {
     "name": "stderr",
     "output_type": "stream",
     "text": [
      "[Parallel(n_jobs=-1)]: Using backend LokyBackend with 12 concurrent workers.\n",
      "[Parallel(n_jobs=-1)]: Done  26 tasks      | elapsed:   17.1s\n",
      "[Parallel(n_jobs=-1)]: Done 176 tasks      | elapsed:  1.8min\n",
      "[Parallel(n_jobs=-1)]: Done 240 out of 240 | elapsed:  2.5min finished\n"
     ]
    },
    {
     "name": "stdout",
     "output_type": "stream",
     "text": [
      "Gridsearch best score is: 0.8072407882591403\n",
      "\n",
      "Gridsearch best params are: {'tvec__max_df': 0.5, 'tvec__max_features': 6000, 'tvec__min_df': 3, 'tvec__ngram_range': (1, 3)}\n",
      "\n",
      "MultinomialNB with TfidfVectorizer Train Score :  83.03%\n",
      "MultinomialNB with TfidfVectorizer  Test Score  : 80.31%\n",
      "\n",
      "MultinomialNB with TfidfVectorizer  F1- Train Score: 0.6130573248407644\n",
      "MultinomialNB with TfidfVectorizer  F1- Test Score:  0.5451612903225806\n",
      "\n",
      "61.23% of the words were predicted correctly by the model.\n",
      "49.13% of the Skipped songs were found.\n",
      "The specificity is: 90.17%\n"
     ]
    },
    {
     "data": {
      "image/png": "[encoded data removed]",
      "text/plain": [
       "<Figure size 432x288 with 2 Axes>"
      ]
     },
     "metadata": {
      "needs_background": "light"
     },
     "output_type": "display_data"
    }
   ],
   "source": [
    "\n",
    "start_pipeline('tvec', 'Mnb', 'Blues', pipe_params = {\n",
    "                                                        'tvec__max_features': [4_000, 5_000, 6_000, 7_000],\n",
    "                                                        'tvec__ngram_range': [(1,1), (1,2), (1,3)],\n",
    "                                                        'tvec__min_df' : [2,3], \n",
    "                                                        'tvec__max_df' : [.5, .95]})"
   ]
  },
  {
   "cell_type": "markdown",
   "metadata": {},
   "source": [
    "Better precision score, however still overfit with F1 scores being further apart than before"
   ]
  },
  {
   "cell_type": "markdown",
   "metadata": {},
   "source": [
    "### Bernoulli Naive Bayes with Count Vectorizer<a id='Bnb'></a>  "
   ]
  },
  {
   "cell_type": "code",
   "execution_count": 10,
   "metadata": {},
   "outputs": [
    {
     "name": "stdout",
     "output_type": "stream",
     "text": [
      "Fitting 5 folds for each of 240 candidates, totalling 1200 fits\n"
     ]
    },
    {
     "name": "stderr",
     "output_type": "stream",
     "text": [
      "[Parallel(n_jobs=-1)]: Using backend LokyBackend with 12 concurrent workers.\n",
      "[Parallel(n_jobs=-1)]: Done  26 tasks      | elapsed:   17.3s\n",
      "[Parallel(n_jobs=-1)]: Done 176 tasks      | elapsed:  1.8min\n",
      "[Parallel(n_jobs=-1)]: Done 426 tasks      | elapsed:  4.4min\n",
      "[Parallel(n_jobs=-1)]: Done 776 tasks      | elapsed:  8.0min\n",
      "[Parallel(n_jobs=-1)]: Done 1200 out of 1200 | elapsed: 12.4min finished\n"
     ]
    },
    {
     "name": "stdout",
     "output_type": "stream",
     "text": [
      "Gridsearch best score is: 0.7968808516200163\n",
      "\n",
      "Gridsearch best params are: {'Bnb__alpha': 0.275, 'cv__max_df': 0.5, 'cv__max_features': 9000, 'cv__min_df': 3, 'cv__ngram_range': (1, 2)}\n",
      "\n",
      "BernoulliNB with CountVectorizer Train Score :  80.36%\n",
      "BernoulliNB with CountVectorizer  Test Score  : 80.13%\n",
      "\n",
      "BernoulliNB with CountVectorizer  F1- Train Score: 0.6552217453505007\n",
      "BernoulliNB with CountVectorizer  F1- Test Score:  0.6524129505192425\n",
      "\n",
      "56.27% of the words were predicted correctly by the model.\n",
      "77.62% of the Skipped songs were found.\n",
      "The specificity is: 80.93%\n"
     ]
    },
    {
     "data": {
      "image/png": "[encoded data removed]",
      "text/plain": [
       "<Figure size 432x288 with 2 Axes>"
      ]
     },
     "metadata": {
      "needs_background": "light"
     },
     "output_type": "display_data"
    }
   ],
   "source": [
    "start_pipeline('cv', 'Bnb', 'Greens', pipe_params = {\n",
    "                                                    'Bnb__alpha' : np.linspace(0.2,0.5,5),\n",
    "                                                    'cv__max_features': [5_000, 5_500, 7_000, 9_000],\n",
    "                                                    'cv__min_df' : [2,3],\n",
    "                                                    'cv__max_df' : [.5, .95],\n",
    "                                                    'cv__ngram_range' : [(1,1), (1,2), (1,3)]})"
   ]
  },
  {
   "cell_type": "markdown",
   "metadata": {},
   "source": [
    "Scores are good, but still low on the precision score"
   ]
  },
  {
   "cell_type": "markdown",
   "metadata": {},
   "source": [
    "### Bernoulli Naive Bayes with TFIDF Vectorizer"
   ]
  },
  {
   "cell_type": "code",
   "execution_count": 11,
   "metadata": {},
   "outputs": [
    {
     "name": "stdout",
     "output_type": "stream",
     "text": [
      "Fitting 5 folds for each of 240 candidates, totalling 1200 fits\n"
     ]
    },
    {
     "name": "stderr",
     "output_type": "stream",
     "text": [
      "[Parallel(n_jobs=-1)]: Using backend LokyBackend with 12 concurrent workers.\n",
      "[Parallel(n_jobs=-1)]: Done  26 tasks      | elapsed:   16.8s\n",
      "[Parallel(n_jobs=-1)]: Done 176 tasks      | elapsed:  1.8min\n",
      "[Parallel(n_jobs=-1)]: Done 426 tasks      | elapsed:  4.4min\n",
      "[Parallel(n_jobs=-1)]: Done 776 tasks      | elapsed:  7.9min\n",
      "[Parallel(n_jobs=-1)]: Done 1200 out of 1200 | elapsed: 12.2min finished\n"
     ]
    },
    {
     "name": "stdout",
     "output_type": "stream",
     "text": [
      "Gridsearch best score is: 0.7958330539793217\n",
      "\n",
      "Gridsearch best params are: {'Bnb__alpha': 0.425, 'tvec__max_df': 0.5, 'tvec__max_features': 7000, 'tvec__min_df': 2, 'tvec__ngram_range': (1, 1)}\n",
      "\n",
      "BernoulliNB with TfidfVectorizer Train Score :  80.24%\n",
      "BernoulliNB with TfidfVectorizer  Test Score  : 80.24%\n",
      "\n",
      "BernoulliNB with TfidfVectorizer  F1- Train Score: 0.654034229828851\n",
      "BernoulliNB with TfidfVectorizer  F1- Test Score:  0.652760736196319\n",
      "\n",
      "56.48% of the words were predicted correctly by the model.\n",
      "77.33% of the Skipped songs were found.\n",
      "The specificity is: 81.16%\n"
     ]
    },
    {
     "data": {
      "image/png": "[encoded data removed]",
      "text/plain": [
       "<Figure size 432x288 with 2 Axes>"
      ]
     },
     "metadata": {
      "needs_background": "light"
     },
     "output_type": "display_data"
    }
   ],
   "source": [
    "start_pipeline('tvec', 'Bnb', 'Greens', pipe_params = {\n",
    "                                                'Bnb__alpha' : np.linspace(0.2,0.5,5),\n",
    "                                                'tvec__max_features': [4_000, 5_000, 6_000, 7_000],\n",
    "                                                'tvec__ngram_range': [(1,1), (1,2), (1,3)],\n",
    "                                                'tvec__min_df' : [2,3], \n",
    "                                                'tvec__max_df' : [.5, .95],\n",
    "})"
   ]
  },
  {
   "cell_type": "markdown",
   "metadata": {},
   "source": [
    "Slightly higher than above on the precision, still alot of misclassified lyrics"
   ]
  },
  {
   "cell_type": "markdown",
   "metadata": {},
   "source": [
    "### Logistic Regressions with Count Vectorizer<a id='Lg'></a>  "
   ]
  },
  {
   "cell_type": "code",
   "execution_count": 12,
   "metadata": {},
   "outputs": [
    {
     "name": "stdout",
     "output_type": "stream",
     "text": [
      "Fitting 5 folds for each of 216 candidates, totalling 1080 fits\n"
     ]
    },
    {
     "name": "stderr",
     "output_type": "stream",
     "text": [
      "[Parallel(n_jobs=-1)]: Using backend LokyBackend with 12 concurrent workers.\n",
      "[Parallel(n_jobs=-1)]: Done  26 tasks      | elapsed:   11.4s\n",
      "[Parallel(n_jobs=-1)]: Done 176 tasks      | elapsed:  1.9min\n",
      "[Parallel(n_jobs=-1)]: Done 426 tasks      | elapsed:  4.6min\n",
      "[Parallel(n_jobs=-1)]: Done 776 tasks      | elapsed:  8.4min\n",
      "[Parallel(n_jobs=-1)]: Done 1080 out of 1080 | elapsed: 11.8min finished\n"
     ]
    },
    {
     "name": "stdout",
     "output_type": "stream",
     "text": [
      "Gridsearch best score is: 0.8121274179359498\n",
      "\n",
      "Gridsearch best params are: {'cv__max_df': 0.5, 'cv__max_features': 9000, 'cv__min_df': 2, 'cv__ngram_range': (1, 1), 'lg__C': 0.5, 'lg__max_iter': 5000, 'lg__penalty': 'l2'}\n",
      "\n",
      "LogisticRegression with CountVectorizer Train Score :  99.74%\n",
      "LogisticRegression with CountVectorizer  Test Score  : 81.91%\n",
      "\n",
      "LogisticRegression with CountVectorizer  F1- Train Score: 0.9946367625548512\n",
      "LogisticRegression with CountVectorizer  F1- Test Score:  0.6213450292397661\n",
      "\n",
      "62.50% of the words were predicted correctly by the model.\n",
      "61.77% of the Skipped songs were found.\n",
      "The specificity is: 88.28%\n"
     ]
    },
    {
     "data": {
      "image/png": "[encoded data removed]",
      "text/plain": [
       "<Figure size 432x288 with 2 Axes>"
      ]
     },
     "metadata": {
      "needs_background": "light"
     },
     "output_type": "display_data"
    }
   ],
   "source": [
    "start_pipeline('cv', 'lg', 'Oranges', pipe_params = {'cv__max_features': [5_000, 5_500, 9_000],\n",
    "                                         'cv__min_df' : [2,3],\n",
    "                                         'cv__max_df' : [.5, .95],\n",
    "                                         'cv__ngram_range' : [(1,1), (1,2), (1,3)],\n",
    "                                         'lg__penalty' : ['l1', 'l2'],\n",
    "                                         'lg__C' : [0.5,1.0,2.5],\n",
    "                                         'lg__max_iter' : [5000]})\n"
   ]
  },
  {
   "cell_type": "markdown",
   "metadata": {},
   "source": [
    "Way overfit"
   ]
  },
  {
   "cell_type": "markdown",
   "metadata": {},
   "source": [
    "### Logistic Regressions with TFIDF Vectorizer"
   ]
  },
  {
   "cell_type": "code",
   "execution_count": 13,
   "metadata": {},
   "outputs": [
    {
     "name": "stdout",
     "output_type": "stream",
     "text": [
      "Fitting 5 folds for each of 216 candidates, totalling 1080 fits\n"
     ]
    },
    {
     "name": "stderr",
     "output_type": "stream",
     "text": [
      "[Parallel(n_jobs=-1)]: Using backend LokyBackend with 12 concurrent workers.\n",
      "[Parallel(n_jobs=-1)]: Done  26 tasks      | elapsed:   14.3s\n",
      "[Parallel(n_jobs=-1)]: Done 176 tasks      | elapsed:  1.5min\n",
      "[Parallel(n_jobs=-1)]: Done 426 tasks      | elapsed:  3.8min\n",
      "[Parallel(n_jobs=-1)]: Done 776 tasks      | elapsed:  7.0min\n",
      "[Parallel(n_jobs=-1)]: Done 1080 out of 1080 | elapsed: 10.0min finished\n"
     ]
    },
    {
     "name": "stdout",
     "output_type": "stream",
     "text": [
      "Gridsearch best score is: 0.8203931137373776\n",
      "\n",
      "Gridsearch best params are: {'lg__C': 2.5, 'lg__max_iter': 5000, 'lg__penalty': 'l2', 'tvec__max_df': 0.5, 'tvec__max_features': 5000, 'tvec__min_df': 2, 'tvec__ngram_range': (1, 1)}\n",
      "\n",
      "LogisticRegression with TfidfVectorizer Train Score :  89.21%\n",
      "LogisticRegression with TfidfVectorizer  Test Score  : 81.98%\n",
      "\n",
      "LogisticRegression with TfidfVectorizer  F1- Train Score: 0.7385049365303245\n",
      "LogisticRegression with TfidfVectorizer  F1- Test Score:  0.5641891891891891\n",
      "\n",
      "67.34% of the words were predicted correctly by the model.\n",
      "48.55% of the Skipped songs were found.\n",
      "The specificity is: 92.56%\n"
     ]
    },
    {
     "data": {
      "image/png": "[encoded data removed]",
      "text/plain": [
       "<Figure size 432x288 with 2 Axes>"
      ]
     },
     "metadata": {
      "needs_background": "light"
     },
     "output_type": "display_data"
    }
   ],
   "source": [
    "start_pipeline('tvec', 'lg', 'Oranges', pipe_params = {'tvec__max_features': [5_000, 5_500, 9_000],\n",
    "                                            'tvec__min_df' : [2,3],\n",
    "                                            'tvec__max_df' : [.5, .95],\n",
    "                                            'tvec__ngram_range' : [(1,1), (1,2), (1,3)],\n",
    "                                            'lg__penalty' : ['l1', 'l2'],\n",
    "                                            'lg__C' : [0.5,1.0,2.5],\n",
    "                                            'lg__max_iter' : [5000]})"
   ]
  },
  {
   "cell_type": "markdown",
   "metadata": {},
   "source": [
    "Slightly better but not by much"
   ]
  },
  {
   "cell_type": "markdown",
   "metadata": {},
   "source": [
    "### Ada Boost with Count Vectorizer<a id='ada'></a>  "
   ]
  },
  {
   "cell_type": "code",
   "execution_count": 14,
   "metadata": {},
   "outputs": [
    {
     "name": "stdout",
     "output_type": "stream",
     "text": [
      "Fitting 5 folds for each of 36 candidates, totalling 180 fits\n"
     ]
    },
    {
     "name": "stderr",
     "output_type": "stream",
     "text": [
      "[Parallel(n_jobs=-1)]: Using backend LokyBackend with 12 concurrent workers.\n",
      "[Parallel(n_jobs=-1)]: Done  26 tasks      | elapsed:   24.3s\n",
      "[Parallel(n_jobs=-1)]: Done 180 out of 180 | elapsed:  2.5min finished\n"
     ]
    },
    {
     "name": "stdout",
     "output_type": "stream",
     "text": [
      "Gridsearch best score is: 0.8806880709403428\n",
      "\n",
      "Gridsearch best params are: {'cv__max_df': 0.95, 'cv__max_features': 9000, 'cv__min_df': 2, 'cv__ngram_range': (1, 1)}\n",
      "\n",
      "AdaBoostClassifier with CountVectorizer Train Score :  89.24%\n",
      "AdaBoostClassifier with CountVectorizer  Test Score  : 88.58%\n",
      "\n",
      "AdaBoostClassifier with CountVectorizer  F1- Train Score: 0.7451737451737451\n",
      "AdaBoostClassifier with CountVectorizer  F1- Test Score:  0.7295285359801488\n",
      "\n",
      "84.64% of the words were predicted correctly by the model.\n",
      "64.10% of the Skipped songs were found.\n",
      "The specificity is: 96.32%\n"
     ]
    },
    {
     "data": {
      "image/png": "[encoded data removed]",
      "text/plain": [
       "<Figure size 432x288 with 2 Axes>"
      ]
     },
     "metadata": {
      "needs_background": "light"
     },
     "output_type": "display_data"
    }
   ],
   "source": [
    "start_pipeline('cv', 'ada', 'Reds', pipe_params = {'cv__max_features': [5_000, 5_500, 9_000],\n",
    "                                           'cv__min_df' : [2,3],\n",
    "                                           'cv__max_df' : [.5, .95],\n",
    "                                           'cv__ngram_range' : [(1,1), (1,2), (1,3)]})"
   ]
  },
  {
   "cell_type": "markdown",
   "metadata": {},
   "source": [
    "That's more like it! "
   ]
  },
  {
   "cell_type": "markdown",
   "metadata": {},
   "source": [
    "### Ada Boost with TFIDF Vectorizer"
   ]
  },
  {
   "cell_type": "code",
   "execution_count": 15,
   "metadata": {},
   "outputs": [
    {
     "name": "stdout",
     "output_type": "stream",
     "text": [
      "Fitting 5 folds for each of 36 candidates, totalling 180 fits\n"
     ]
    },
    {
     "name": "stderr",
     "output_type": "stream",
     "text": [
      "[Parallel(n_jobs=-1)]: Using backend LokyBackend with 12 concurrent workers.\n",
      "[Parallel(n_jobs=-1)]: Done  26 tasks      | elapsed:   30.3s\n",
      "[Parallel(n_jobs=-1)]: Done 180 out of 180 | elapsed:  3.0min finished\n"
     ]
    },
    {
     "name": "stdout",
     "output_type": "stream",
     "text": [
      "Gridsearch best score is: 0.8745199343636587\n",
      "\n",
      "Gridsearch best params are: {'tvec__max_df': 0.95, 'tvec__max_features': 9000, 'tvec__min_df': 3, 'tvec__ngram_range': (1, 3)}\n",
      "\n",
      "AdaBoostClassifier with TfidfVectorizer Train Score :  88.70%\n",
      "AdaBoostClassifier with TfidfVectorizer  Test Score  : 88.51%\n",
      "\n",
      "AdaBoostClassifier with TfidfVectorizer  F1- Train Score: 0.7313969571230982\n",
      "AdaBoostClassifier with TfidfVectorizer  F1- Test Score:  0.7287716405605936\n",
      "\n",
      "84.19% of the words were predicted correctly by the model.\n",
      "64.24% of the Skipped songs were found.\n",
      "The specificity is: 96.19%\n"
     ]
    },
    {
     "data": {
      "image/png": "[encoded data removed]",
      "text/plain": [
       "<Figure size 432x288 with 2 Axes>"
      ]
     },
     "metadata": {
      "needs_background": "light"
     },
     "output_type": "display_data"
    }
   ],
   "source": [
    "start_pipeline('tvec', 'ada', 'Reds', pipe_params = {'tvec__max_features': [5_000, 5_500, 9_000],\n",
    "                                           'tvec__min_df' : [2,3],\n",
    "                                           'tvec__max_df' : [.5, .95],\n",
    "                                           'tvec__ngram_range' : [(1,1), (1,2), (1,3)]})"
   ]
  },
  {
   "cell_type": "markdown",
   "metadata": {},
   "source": [
    "Precision a little lower than the countvectorized Ada Boost Model, however the F1 scores and train/test scores are much closer to eachother on this one.  "
   ]
  },
  {
   "cell_type": "markdown",
   "metadata": {},
   "source": [
    "### Random Forest with Count Vectorizer<a id='forest'></a>  \n",
    "I know I'm doing this in the wrong order, should be the Trees first then the boosters, but I got such good scores with the Ada Boost, I wanted to see how the Random Forest will do. Especially since the trees do well with unbalanced classes"
   ]
  },
  {
   "cell_type": "code",
   "execution_count": 16,
   "metadata": {},
   "outputs": [
    {
     "name": "stdout",
     "output_type": "stream",
     "text": [
      "Fitting 5 folds for each of 1944 candidates, totalling 9720 fits\n"
     ]
    },
    {
     "name": "stderr",
     "output_type": "stream",
     "text": [
      "[Parallel(n_jobs=-1)]: Using backend LokyBackend with 12 concurrent workers.\n",
      "[Parallel(n_jobs=-1)]: Done  26 tasks      | elapsed:   26.1s\n",
      "[Parallel(n_jobs=-1)]: Done 176 tasks      | elapsed:  1.3min\n",
      "[Parallel(n_jobs=-1)]: Done 426 tasks      | elapsed:  3.8min\n",
      "[Parallel(n_jobs=-1)]: Done 776 tasks      | elapsed:  9.2min\n",
      "[Parallel(n_jobs=-1)]: Done 1226 tasks      | elapsed: 13.5min\n",
      "[Parallel(n_jobs=-1)]: Done 1776 tasks      | elapsed: 20.7min\n",
      "[Parallel(n_jobs=-1)]: Done 2426 tasks      | elapsed: 29.4min\n",
      "[Parallel(n_jobs=-1)]: Done 3176 tasks      | elapsed: 38.4min\n",
      "[Parallel(n_jobs=-1)]: Done 4026 tasks      | elapsed: 49.0min\n",
      "[Parallel(n_jobs=-1)]: Done 4976 tasks      | elapsed: 60.4min\n",
      "[Parallel(n_jobs=-1)]: Done 6026 tasks      | elapsed: 72.1min\n",
      "[Parallel(n_jobs=-1)]: Done 7176 tasks      | elapsed: 86.4min\n",
      "[Parallel(n_jobs=-1)]: Done 8426 tasks      | elapsed: 103.7min\n",
      "[Parallel(n_jobs=-1)]: Done 9720 out of 9720 | elapsed: 140.9min finished\n"
     ]
    },
    {
     "name": "stdout",
     "output_type": "stream",
     "text": [
      "Gridsearch best score is: 0.8454197116253935\n",
      "\n",
      "Gridsearch best params are: {'cv__max_df': 0.5, 'cv__max_features': 5000, 'cv__min_df': 2, 'cv__ngram_range': (1, 2), 'rdf__max_depth': None, 'rdf__min_samples_split': 14, 'rdf__n_estimators': 200}\n",
      "\n",
      "RandomForestClassifier with CountVectorizer Train Score :  98.94%\n",
      "RandomForestClassifier with CountVectorizer  Test Score  : 85.30%\n",
      "\n",
      "RandomForestClassifier with CountVectorizer  F1- Train Score: 0.9774361517480784\n",
      "RandomForestClassifier with CountVectorizer  F1- Test Score:  0.6251113089937667\n",
      "\n",
      "80.69% of the words were predicted correctly by the model.\n",
      "51.02% of the Skipped songs were found.\n",
      "The specificity is: 96.14%\n"
     ]
    },
    {
     "data": {
      "image/png": "[encoded data removed]",
      "text/plain": [
       "<Figure size 432x288 with 2 Axes>"
      ]
     },
     "metadata": {
      "needs_background": "light"
     },
     "output_type": "display_data"
    }
   ],
   "source": [
    "start_pipeline('cv', 'rdf', 'Purples', pipe_params = {'cv__max_features': [5_000, 5_500, 9_000],\n",
    "                                           'cv__min_df' : [2,3],\n",
    "                                           'cv__max_df' : [.5, .95],\n",
    "                                           'cv__ngram_range' : [(1,1), (1,2), (1,3)],\n",
    "                                            'rdf__min_samples_split': [14, 15, 16],\n",
    "                                            'rdf__n_estimators': [100, 150, 200],\n",
    "                                            'rdf__max_depth': [None, 1, 2, 3, 4, 5]})"
   ]
  },
  {
   "cell_type": "markdown",
   "metadata": {},
   "source": [
    "Way Overfit"
   ]
  },
  {
   "cell_type": "markdown",
   "metadata": {},
   "source": [
    "### Random Forest with TFIDF Vectorizer"
   ]
  },
  {
   "cell_type": "code",
   "execution_count": null,
   "metadata": {},
   "outputs": [
    {
     "name": "stdout",
     "output_type": "stream",
     "text": [
      "Fitting 5 folds for each of 1944 candidates, totalling 9720 fits\n"
     ]
    },
    {
     "name": "stderr",
     "output_type": "stream",
     "text": [
      "[Parallel(n_jobs=-1)]: Using backend LokyBackend with 12 concurrent workers.\n",
      "[Parallel(n_jobs=-1)]: Done  26 tasks      | elapsed:  1.1min\n",
      "[Parallel(n_jobs=-1)]: Done 176 tasks      | elapsed:  8.9min\n"
     ]
    }
   ],
   "source": [
    "start_pipeline('tvec', 'rdf', 'Purples', pipe_params = {'tvec__max_features': [5_000, 5_500, 9_000],\n",
    "                                           'tvec__min_df' : [2,3],\n",
    "                                           'tvec__max_df' : [.5, .95],\n",
    "                                           'tvec__ngram_range' : [(1,1), (1,2), (1,3)],\n",
    "                                           'rdf__min_samples_split': [14, 15, 16],\n",
    "                                           'rdf__n_estimators': [100, 150, 200],\n",
    "                                            'rdf__max_depth': [None, 1, 2, 3, 4, 5]})"
   ]
  },
  {
   "cell_type": "markdown",
   "metadata": {},
   "source": [
    "Glad I jumped to Ada Boost"
   ]
  },
  {
   "cell_type": "markdown",
   "metadata": {},
   "source": [
    "### Extracting Word Importance<a id='feat'></a>\n",
    "Again using a function I created in my Reddit NLP I will extract word importance in my best scoring model (Ada Boost with TFIDF Vectorizer)."
   ]
  },
  {
   "cell_type": "code",
   "execution_count": null,
   "metadata": {},
   "outputs": [],
   "source": [
    "def word_importance(model, vect, num): # takes model, vectorizer, and number of features\n",
    "    skip_sorted = model.feature_log_prob_[1, :].argsort()[::-1] # getting the log probability of the feature [::-1] gives top features\n",
    "    noskip_sorted = model.feature_log_prob_[0, :].argsort()[::-1]\n",
    "\n",
    "    skip = np.take(vect.get_feature_names(), skip_sorted[:num])\n",
    "    noskip = np.take(vect.get_feature_names(), noskip_sorted[:num]) # takes element from array, along axis, returns with feature_name\n",
    "\n",
    "#Code addapted from:    \n",
    "#https://stackoverflow.com/questions/50526898/how-to-get-feature-importance-in-naive-bayes/50530697#50530697\n",
    "#user piman314    \n",
    "\n",
    "    print(f' Words in common in both classes : {np.intersect1d(skip, noskipo)}') #print a list where both words are in both arrays\n",
    "    print('')\n",
    "    \n",
    "    skip_feat = pd.DataFrame((list(zip(skip, skip_sorted))),columns = ['Features', 'Importance'])\n",
    "    noskip_feat = pd.DataFrame((list(zip(noskip, noskip_sorted))),columns = ['Features', 'Importance'])\n",
    "    \n",
    "    ### Graph of skipTheAsshole Feature Importance\n",
    "\n",
    "    \n",
    "    skip_feat.set_index(skip_feat.Features, inplace=True) # so y label shows right\n",
    "\n",
    "    skip_unit = skip_feat[:num].sort_values('Importance', ascending=False)['Importance'] # sort by coefficient show top 5\n",
    "    color = ['#DF6120' if i > 5000 else \"#40668C\" for i in skip_unit]\n",
    "\n",
    "    labels = skip_unit.index #only labels of selected\n",
    "\n",
    "    plt.figure(figsize=(25,12))\n",
    "    plt.barh(labels, skip_unit, color = color)\n",
    "    plt.yticks(fontsize=20)\n",
    "    plt.xticks(fontsize=20)\n",
    "    plt.xlabel('Feature Importance', fontsize=30)\n",
    "    plt.title(f'Top {num} Predictable Words to Skipped Songs', fontsize=42, color ='#FF4500', weight='bold')\n",
    "    if vect == cv:\n",
    "        plt.savefig(f'./visuals/skip_pred_words_cv.png', transparent=True, bbox_inches='tight')\n",
    "    else:    \n",
    "        plt.savefig(f'./visuals/skip_pred_words_tfid.png', transparent=True, bbox_inches='tight')\n",
    "\n",
    "    \n",
    "    ### Graph of noskipOMIL Feature Importance\n",
    "\n",
    "    noskip_feat.set_index(noskip_feat.Features, inplace=True) # so y label shows right\n",
    "\n",
    "    noskip_unit = noskip_feat[:num].sort_values('Importance', ascending=False)['Importance'] # sort by coefficient show top 5\n",
    "    color = ['#DF6120' if i > 5000 else \"#40668C\" for i in noskip_unit]\n",
    "\n",
    "    labels = noskip_unit.index #only labels of selected\n",
    "\n",
    "    plt.figure(figsize=(25,12))\n",
    "    plt.barh(labels, noskip_unit, color = color)\n",
    "    plt.yticks(fontsize=20)\n",
    "    plt.xticks(fontsize=20)\n",
    "    plt.xlabel('Feature Importance', fontsize=30)\n",
    "    plt.title(f'Top {num} Predictable Words to Not Skipped Songs', fontsize=42, color ='#FF4500', weight='bold')\n",
    "    if vect == cv:\n",
    "        plt.savefig('./visuals/noskip_pred_words_cv.png', transparent=True, bbox_inches='tight')\n",
    "    else:    \n",
    "        plt.savefig('./visuals/noskip_pred_words_tfid.png', transparent=True, bbox_inches='tight')"
   ]
  },
  {
   "cell_type": "markdown",
   "metadata": {},
   "source": [
    "### Conclusion<a id='conc'></a>\n",
    "Of all my models here, the AdaBoost with TFIDF Vectorizer did the best. With a precision score of 84.19%, speicificity at 96.19% and the train test scores in both the model score and F1 score being minimally apart, showing little sign of overfitting.\n",
    "The best params being tri-grams and max_features at 9000. To note I did add some options in the pipe params for AdaBoost, but it performed better with its standard settings.\n",
    "\n",
    "<b> What's next? </b>\n",
    "I'd like to rerun these models with a Word Lemmatizer in the [next notebook](./4.1_Model_Word_Lem.ipynb) to see if it will help my model's predictions be more precise, after that I will look into Regularization Neural Networks and possible play with some SVM. \n",
    "<br> Depending on what happens with the next set of models I might consider doing some resampling to help with the class imbalance, however with the way the scores are going so far, especially with the AdaBoost score, it might not be needed.</br>"
   ]
  }
 ],
 "metadata": {
  "kernelspec": {
   "display_name": "Python 3",
   "language": "python",
   "name": "python3"
  },
  "language_info": {
   "codemirror_mode": {
    "name": "ipython",
    "version": 3
   },
   "file_extension": ".py",
   "mimetype": "text/x-python",
   "name": "python",
   "nbconvert_exporter": "python",
   "pygments_lexer": "ipython3",
   "version": "3.8.3"
  }
 },
 "nbformat": 4,
 "nbformat_minor": 4
}
