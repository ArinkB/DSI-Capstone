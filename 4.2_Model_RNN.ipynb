{
 "cells": [
  {
   "cell_type": "markdown",
   "metadata": {},
   "source": [
    "# Neural Net Modeling\n",
    "In continuing with modeling, I want to see if I can better my scores and skipped song finds using Neural Networks. I will use the Keras library with the pre-processing tokenizer."
   ]
  },
  {
   "cell_type": "markdown",
   "metadata": {},
   "source": [
    "\n",
    "\n",
    "#### Table of Contents\n",
    "<br>`Pre-Processing`</br>\n",
    "\n",
    "- [Baseline](#base)\n",
    "- [Tokenizer](#token)\n",
    "\n",
    "<br>`Modeling`</br>\n",
    "\n",
    "- [MultinomialNB](#Mnb)\n",
    "- [BernoulliNB](#Bnb)\n",
    "- [Logistic Regression](#Lg)\n",
    "- [Ada Boost](#ada)\n",
    "- [Random Forest](#forest)\n",
    "\n",
    "<br>`Conclusion`</br>\n",
    "\n",
    "- [Feat Importance of Best Model](#feat)\n",
    "- [Notebook Conclusion](#conc)    "
   ]
  },
  {
   "cell_type": "markdown",
   "metadata": {},
   "source": [
    "### Libraries"
   ]
  },
  {
   "cell_type": "code",
   "execution_count": 79,
   "metadata": {},
   "outputs": [],
   "source": [
    "import pandas as pd\n",
    "import numpy as np\n",
    "\n",
    "import matplotlib.pyplot as plt\n",
    "import seaborn as sns\n",
    "\n",
    "from sklearn.feature_extraction.text import CountVectorizer, TfidfVectorizer\n",
    "from sklearn.feature_extraction import text # to add more stopwords\n",
    "\n",
    "from sklearn.model_selection import train_test_split, cross_val_score, GridSearchCV\n",
    "from sklearn.pipeline import Pipeline\n",
    "from sklearn.metrics import confusion_matrix, plot_confusion_matrix, precision_score, f1_score, roc_auc_score\n",
    "from sklearn.preprocessing import StandardScaler\n",
    "\n",
    "from tensorflow.keras.models import Sequential\n",
    "from tensorflow.keras.layers import Dense, Dropout\n",
    "from keras.preprocessing.text import Tokenizer\n",
    "from keras.metrics import TruePositives, TrueNegatives, FalsePositives, FalseNegatives, Precision, Recall, AUC, Accuracy\n",
    "from keras.wrappers.scikit_learn import KerasClassifier\n",
    "from keras.optimizers import SGD, RMSprop, Adam\n",
    "from keras.constraints import maxnorm"
   ]
  },
  {
   "cell_type": "code",
   "execution_count": 2,
   "metadata": {},
   "outputs": [],
   "source": [
    "df = pd.read_csv('./data/lyrics_cleaned.csv')"
   ]
  },
  {
   "cell_type": "markdown",
   "metadata": {},
   "source": [
    "### Baseline<a id='base'></a>  \n",
    "Continuing with using confusion matrix and f1 score to have close in-depth look at how the neural network is scoring with my imbalanced data."
   ]
  },
  {
   "cell_type": "code",
   "execution_count": 3,
   "metadata": {},
   "outputs": [
    {
     "name": "stdout",
     "output_type": "stream",
     "text": [
      "Total: 11455\n",
      "    Skipped(1) count is: 2750 (24.01% of total)\n",
      "   Not Skipped(0) count is: 8705 (75.99% of total)\n",
      "\n"
     ]
    }
   ],
   "source": [
    "neg, pos = np.bincount(df['skip'])\n",
    "total = neg + pos\n",
    "print(f\"Total: {total}\\n    Skipped(1) count is: {pos} ({100 * pos / total:.2f}% of total)\\n   Not Skipped(0) count is: {neg} ({100 * neg / total:.2f}% of total)\\n\")"
   ]
  },
  {
   "cell_type": "markdown",
   "metadata": {},
   "source": [
    "Again changing some words to a more vague term"
   ]
  },
  {
   "cell_type": "code",
   "execution_count": 4,
   "metadata": {},
   "outputs": [],
   "source": [
    "some_words = open(\"./data/drop_words.txt\").read().split()\n",
    "\n",
    "for i in some_words:   \n",
    "    df['lyrics'] = df['lyrics'].str.lower().str.replace(rf\"\\b{i}\\b\", 'vulgar')"
   ]
  },
  {
   "cell_type": "markdown",
   "metadata": {},
   "source": [
    "### Train Test Split\n",
    "Tokenizer to create a Bag of Words, then train, test, split followed by standard scaler"
   ]
  },
  {
   "cell_type": "code",
   "execution_count": 5,
   "metadata": {},
   "outputs": [],
   "source": [
    "X = df['lyrics']\n",
    "y = df['skip']"
   ]
  },
  {
   "cell_type": "markdown",
   "metadata": {},
   "source": [
    "### Tokenizer<a id='token'></a>"
   ]
  },
  {
   "cell_type": "code",
   "execution_count": 6,
   "metadata": {},
   "outputs": [],
   "source": [
    "token = Tokenizer()\n",
    "token.fit_on_texts(X)\n",
    "encode_X = token.texts_to_matrix(X, mode='count')"
   ]
  },
  {
   "cell_type": "code",
   "execution_count": 7,
   "metadata": {},
   "outputs": [
    {
     "data": {
      "text/plain": [
       "((8591, 58899), (2864, 58899), (8591,), (2864,))"
      ]
     },
     "execution_count": 7,
     "metadata": {},
     "output_type": "execute_result"
    }
   ],
   "source": [
    "# since the categories are unbalanced I will stratify y\n",
    "X_train, X_test, y_train, y_test = train_test_split(encode_X, y, random_state=42, stratify=y) \n",
    "# Check shapes of the split\n",
    "X_train.shape, X_test.shape, y_train.shape, y_test.shape"
   ]
  },
  {
   "cell_type": "code",
   "execution_count": 8,
   "metadata": {},
   "outputs": [],
   "source": [
    "ss = StandardScaler()\n",
    "X_train_sc = ss.fit_transform(X_train)\n",
    "X_test_sc = ss.transform(X_test)"
   ]
  },
  {
   "cell_type": "markdown",
   "metadata": {},
   "source": [
    "### Re-Weighting\n",
    "Because my classes as so imbalanced (76%, 24%) I want to re-weigh my classes, so that the smaller class has a heavier weight "
   ]
  },
  {
   "cell_type": "code",
   "execution_count": 9,
   "metadata": {},
   "outputs": [
    {
     "name": "stdout",
     "output_type": "stream",
     "text": [
      "Weight for class 0: 0.66\n",
      "Weight for class 1: 2.08\n"
     ]
    }
   ],
   "source": [
    "\n",
    "weight_for_0 = (1 / neg)*(total)/2.0  # /2 helps keep the loss to similar size\n",
    "weight_for_1 = (1 / pos)*(total)/2.0\n",
    "\n",
    "class_weight = {0: weight_for_0, 1: weight_for_1} # mapping the weights\n",
    "\n",
    "print(f'Weight for class 0: {weight_for_0 :.2f}')\n",
    "print(f'Weight for class 1: {weight_for_1 :.2f}')"
   ]
  },
  {
   "cell_type": "markdown",
   "metadata": {},
   "source": [
    "Again due to the imbalance factor, looking at accuracy alone is not a good metric, so getting better insight with recall, precision, AUC and confusion matrix will tell me how well my model is doing"
   ]
  },
  {
   "cell_type": "code",
   "execution_count": 10,
   "metadata": {},
   "outputs": [],
   "source": [
    "METRICS = [\n",
    "      TruePositives(name='tp'),\n",
    "      FalsePositives(name='fp'),\n",
    "      TrueNegatives(name='tn'),\n",
    "      FalseNegatives(name='fn'), \n",
    "      Precision(name='precision'),\n",
    "      Recall(name='recall'),\n",
    "      AUC(name='auc'),\n",
    "      Accuracy(name='accuracy')]\n"
   ]
  },
  {
   "cell_type": "markdown",
   "metadata": {},
   "source": [
    "### Gridsearching  Keras Classifier"
   ]
  },
  {
   "cell_type": "code",
   "execution_count": 80,
   "metadata": {},
   "outputs": [],
   "source": [
    "def create_model(dropout_rate=0.0, weight_constraint=0): # creating a model function\n",
    "    model = Sequential() # instantiate model\n",
    "    model.add(Dense(15, # first layer\n",
    "                    input_dim=X_train_sc.shape[1], # shape of X_train_sc\n",
    "                    kernel_initializer='normal', # starting weight\n",
    "                    activation='linear',\n",
    "                    kernel_constraint=maxnorm(weight_constraint)))\n",
    "    model.add(Dropout(dropout_rate))\n",
    "    model.add(Dense(1, # exit layer\n",
    "                    kernel_initializer='normal', # final weight\n",
    "                    activation='sigmoid'))\n",
    "    optimizer = RMSprop(lr= 0.01, momentum= 0.6)\n",
    "    model.compile(loss='binary_crossentropy',optimizer=optimizer,  metrics=METRICS) \n",
    "    # metrics is defined is previous cell, optimizer is initialized at adam and kernel_initializer at uniform, the gridsearch\n",
    "    # will overwrite these as it searches for best params.\n",
    "    return model"
   ]
  },
  {
   "cell_type": "code",
   "execution_count": 81,
   "metadata": {},
   "outputs": [],
   "source": [
    "# using keras wrappers we can 'trick' it into allowing us to gridsearch a Keras Classifier\n",
    "model = KerasClassifier(build_fn=create_model, verbose=1)\n",
    "#https://machinelearningmastery.com/grid-search-hyperparameters-deep-learning-models-python-keras/"
   ]
  },
  {
   "cell_type": "code",
   "execution_count": 82,
   "metadata": {},
   "outputs": [],
   "source": [
    "# grid search parameters\n",
    "weight_constraint = [1, 2, 3, 4, 5]\n",
    "dropout_rate = [0.0, 0.1, 0.2, 0.3, 0.4, 0.5, 0.6, 0.7, 0.8, 0.9]\n",
    "param_grid = dict(dropout_rate=dropout_rate, weight_constraint=weight_constraint)\n",
    "# feeding into gridsearch\n",
    "\n",
    "grid = GridSearchCV(estimator=model, param_grid=param_grid, n_jobs=1, cv=3)"
   ]
  },
  {
   "cell_type": "code",
   "execution_count": null,
   "metadata": {
    "scrolled": true
   },
   "outputs": [
    {
     "name": "stdout",
     "output_type": "stream",
     "text": [
      "90/90 [==============================] - 0s 4ms/step - loss: 0.7982 - tp: 563.0000 - fp: 678.0000 - tn: 1485.0000 - fn: 138.0000 - precision: 0.4537 - recall: 0.8031 - auc: 0.8029 - accuracy: 0.0014\n",
      "90/90 [==============================] - 0s 4ms/step - loss: 0.6002 - tp: 534.0000 - fp: 604.0000 - tn: 1594.0000 - fn: 132.0000 - precision: 0.4692 - recall: 0.8018 - auc: 0.8156 - accuracy: 6.9832e-04\n"
     ]
    }
   ],
   "source": [
    "grid_result = grid.fit(X_train_sc, y_train, epochs=100, verbose=0, validation_data=(X_test_sc, y_test), class_weight=class_weight, batch_size=100) \n",
    "# because my biggest issue is that validation loss keeps increasing, I wanted to make sure I add validation data for score output.\n",
    "# class is being re-weighted for hopefully better scores\n",
    "\n",
    "#summarize results\n",
    "print(\"Best: %f using %s\" % (grid_result.best_score_, grid_result.best_params_)) # returns best score and best params\n"
   ]
  },
  {
   "cell_type": "code",
   "execution_count": 69,
   "metadata": {},
   "outputs": [],
   "source": [
    "model = Sequential()\n",
    "model.add(Dense(15, \n",
    "                input_dim=X_train_sc.shape[1],\n",
    "                kernel_initializer= 'normal',\n",
    "                activation='linear'))\n",
    "model.add(Dense(1, \n",
    "                kernel_initializer= 'normal',\n",
    "                activation='sigmoid'))"
   ]
  },
  {
   "cell_type": "code",
   "execution_count": 70,
   "metadata": {},
   "outputs": [],
   "source": [
    "optimizer = RMSprop(lr = 0.01, momentum = 0.6)"
   ]
  },
  {
   "cell_type": "code",
   "execution_count": 71,
   "metadata": {},
   "outputs": [],
   "source": [
    "model.compile(loss='binary_crossentropy', \n",
    "              optimizer=optimizer,\n",
    "              metrics=METRICS)"
   ]
  },
  {
   "cell_type": "code",
   "execution_count": 72,
   "metadata": {},
   "outputs": [
    {
     "name": "stdout",
     "output_type": "stream",
     "text": [
      "Epoch 1/100\n",
      "86/86 [==============================] - 2s 27ms/step - loss: 0.7076 - tp: 1880.0000 - fp: 2251.0000 - tn: 6454.0000 - fn: 870.0000 - precision: 0.4551 - recall: 0.6836 - auc: 0.7356 - accuracy: 0.1746 - val_loss: 1.0424 - val_tp: 485.0000 - val_fp: 445.0000 - val_tn: 1731.0000 - val_fn: 203.0000 - val_precision: 0.5215 - val_recall: 0.7049 - val_auc: 0.7860 - val_accuracy: 0.0129\n",
      "Epoch 2/100\n",
      "86/86 [==============================] - 1s 16ms/step - loss: 0.3368 - tp: 1937.0000 - fp: 442.0000 - tn: 6087.0000 - fn: 125.0000 - precision: 0.8142 - recall: 0.9394 - auc: 0.9727 - accuracy: 0.1277 - val_loss: 2.5280 - val_tp: 415.0000 - val_fp: 367.0000 - val_tn: 1809.0000 - val_fn: 273.0000 - val_precision: 0.5307 - val_recall: 0.6032 - val_auc: 0.7570 - val_accuracy: 0.0628\n",
      "Epoch 3/100\n",
      "86/86 [==============================] - 1s 16ms/step - loss: 0.2918 - tp: 2012.0000 - fp: 232.0000 - tn: 6297.0000 - fn: 50.0000 - precision: 0.8966 - recall: 0.9758 - auc: 0.9848 - accuracy: 0.2006 - val_loss: 3.9149 - val_tp: 402.0000 - val_fp: 377.0000 - val_tn: 1799.0000 - val_fn: 286.0000 - val_precision: 0.5160 - val_recall: 0.5843 - val_auc: 0.7357 - val_accuracy: 0.0775\n",
      "Epoch 4/100\n",
      "86/86 [==============================] - 1s 16ms/step - loss: 0.3725 - tp: 1981.0000 - fp: 281.0000 - tn: 6248.0000 - fn: 81.0000 - precision: 0.8758 - recall: 0.9607 - auc: 0.9799 - accuracy: 0.2036 - val_loss: 3.6755 - val_tp: 390.0000 - val_fp: 374.0000 - val_tn: 1802.0000 - val_fn: 298.0000 - val_precision: 0.5105 - val_recall: 0.5669 - val_auc: 0.7237 - val_accuracy: 0.0660\n",
      "Epoch 5/100\n",
      "86/86 [==============================] - 1s 16ms/step - loss: 0.3349 - tp: 2014.0000 - fp: 226.0000 - tn: 6303.0000 - fn: 48.0000 - precision: 0.8991 - recall: 0.9767 - auc: 0.9831 - accuracy: 0.2376 - val_loss: 4.4834 - val_tp: 394.0000 - val_fp: 361.0000 - val_tn: 1815.0000 - val_fn: 294.0000 - val_precision: 0.5219 - val_recall: 0.5727 - val_auc: 0.7331 - val_accuracy: 0.0859\n",
      "Epoch 6/100\n",
      "86/86 [==============================] - 1s 16ms/step - loss: 0.2568 - tp: 1990.0000 - fp: 203.0000 - tn: 6326.0000 - fn: 72.0000 - precision: 0.9074 - recall: 0.9651 - auc: 0.9815 - accuracy: 0.2141 - val_loss: 5.6414 - val_tp: 387.0000 - val_fp: 383.0000 - val_tn: 1793.0000 - val_fn: 301.0000 - val_precision: 0.5026 - val_recall: 0.5625 - val_auc: 0.7170 - val_accuracy: 0.0918\n",
      "Epoch 7/100\n",
      "86/86 [==============================] - 1s 16ms/step - loss: 0.2705 - tp: 2025.0000 - fp: 173.0000 - tn: 6356.0000 - fn: 37.0000 - precision: 0.9213 - recall: 0.9821 - auc: 0.9872 - accuracy: 0.2648 - val_loss: 9.5716 - val_tp: 383.0000 - val_fp: 393.0000 - val_tn: 1783.0000 - val_fn: 305.0000 - val_precision: 0.4936 - val_recall: 0.5567 - val_auc: 0.6975 - val_accuracy: 0.1184\n",
      "Epoch 8/100\n",
      "86/86 [==============================] - 1s 16ms/step - loss: 0.2347 - tp: 2018.0000 - fp: 137.0000 - tn: 6392.0000 - fn: 44.0000 - precision: 0.9364 - recall: 0.9787 - auc: 0.9862 - accuracy: 0.2717 - val_loss: 12.8864 - val_tp: 382.0000 - val_fp: 421.0000 - val_tn: 1755.0000 - val_fn: 306.0000 - val_precision: 0.4757 - val_recall: 0.5552 - val_auc: 0.6945 - val_accuracy: 0.1585\n",
      "Epoch 9/100\n",
      "86/86 [==============================] - 1s 16ms/step - loss: 0.1404 - tp: 2050.0000 - fp: 73.0000 - tn: 6456.0000 - fn: 12.0000 - precision: 0.9656 - recall: 0.9942 - auc: 0.9953 - accuracy: 0.4372 - val_loss: 26.7022 - val_tp: 416.0000 - val_fp: 420.0000 - val_tn: 1756.0000 - val_fn: 272.0000 - val_precision: 0.4976 - val_recall: 0.6047 - val_auc: 0.7103 - val_accuracy: 0.4567\n",
      "Epoch 10/100\n",
      "86/86 [==============================] - 1s 16ms/step - loss: 0.3380 - tp: 2022.0000 - fp: 156.0000 - tn: 6373.0000 - fn: 40.0000 - precision: 0.9284 - recall: 0.9806 - auc: 0.9865 - accuracy: 0.3651 - val_loss: 10.4759 - val_tp: 395.0000 - val_fp: 394.0000 - val_tn: 1782.0000 - val_fn: 293.0000 - val_precision: 0.5006 - val_recall: 0.5741 - val_auc: 0.7061 - val_accuracy: 0.1334\n",
      "Epoch 11/100\n",
      "86/86 [==============================] - 1s 16ms/step - loss: 0.1768 - tp: 2029.0000 - fp: 107.0000 - tn: 6422.0000 - fn: 33.0000 - precision: 0.9499 - recall: 0.9840 - auc: 0.9919 - accuracy: 0.3316 - val_loss: 19.0462 - val_tp: 400.0000 - val_fp: 435.0000 - val_tn: 1741.0000 - val_fn: 288.0000 - val_precision: 0.4790 - val_recall: 0.5814 - val_auc: 0.6969 - val_accuracy: 0.2629\n",
      "Epoch 12/100\n",
      "86/86 [==============================] - 1s 16ms/step - loss: 0.3415 - tp: 2022.0000 - fp: 132.0000 - tn: 6397.0000 - fn: 40.0000 - precision: 0.9387 - recall: 0.9806 - auc: 0.9857 - accuracy: 0.4445 - val_loss: 21.0398 - val_tp: 379.0000 - val_fp: 473.0000 - val_tn: 1703.0000 - val_fn: 309.0000 - val_precision: 0.4448 - val_recall: 0.5509 - val_auc: 0.6779 - val_accuracy: 0.2716\n",
      "Epoch 13/100\n",
      "86/86 [==============================] - 1s 16ms/step - loss: 0.0911 - tp: 2050.0000 - fp: 62.0000 - tn: 6467.0000 - fn: 12.0000 - precision: 0.9706 - recall: 0.9942 - auc: 0.9956 - accuracy: 0.5430 - val_loss: 29.5590 - val_tp: 405.0000 - val_fp: 429.0000 - val_tn: 1747.0000 - val_fn: 283.0000 - val_precision: 0.4856 - val_recall: 0.5887 - val_auc: 0.7033 - val_accuracy: 0.4672\n",
      "Epoch 14/100\n",
      "86/86 [==============================] - 1s 16ms/step - loss: 0.1525 - tp: 2046.0000 - fp: 66.0000 - tn: 6463.0000 - fn: 16.0000 - precision: 0.9688 - recall: 0.9922 - auc: 0.9939 - accuracy: 0.6860 - val_loss: 36.0499 - val_tp: 406.0000 - val_fp: 436.0000 - val_tn: 1740.0000 - val_fn: 282.0000 - val_precision: 0.4822 - val_recall: 0.5901 - val_auc: 0.7009 - val_accuracy: 0.5223\n",
      "Epoch 15/100\n",
      "86/86 [==============================] - 1s 16ms/step - loss: 0.2728 - tp: 2030.0000 - fp: 109.0000 - tn: 6420.0000 - fn: 32.0000 - precision: 0.9490 - recall: 0.9845 - auc: 0.9883 - accuracy: 0.5893 - val_loss: 27.5454 - val_tp: 403.0000 - val_fp: 450.0000 - val_tn: 1726.0000 - val_fn: 285.0000 - val_precision: 0.4725 - val_recall: 0.5858 - val_auc: 0.6986 - val_accuracy: 0.3928\n",
      "Epoch 16/100\n",
      "86/86 [==============================] - 1s 16ms/step - loss: 0.0780 - tp: 2051.0000 - fp: 44.0000 - tn: 6485.0000 - fn: 11.0000 - precision: 0.9790 - recall: 0.9947 - auc: 0.9956 - accuracy: 0.6442 - val_loss: 41.2460 - val_tp: 404.0000 - val_fp: 458.0000 - val_tn: 1718.0000 - val_fn: 284.0000 - val_precision: 0.4687 - val_recall: 0.5872 - val_auc: 0.6933 - val_accuracy: 0.5272\n",
      "Epoch 17/100\n",
      "86/86 [==============================] - 1s 16ms/step - loss: 0.1178 - tp: 2048.0000 - fp: 47.0000 - tn: 6482.0000 - fn: 14.0000 - precision: 0.9776 - recall: 0.9932 - auc: 0.9958 - accuracy: 0.7678 - val_loss: 50.9466 - val_tp: 417.0000 - val_fp: 445.0000 - val_tn: 1731.0000 - val_fn: 271.0000 - val_precision: 0.4838 - val_recall: 0.6061 - val_auc: 0.7043 - val_accuracy: 0.6068\n",
      "Epoch 18/100\n",
      "86/86 [==============================] - 1s 16ms/step - loss: 0.0875 - tp: 2052.0000 - fp: 33.0000 - tn: 6496.0000 - fn: 10.0000 - precision: 0.9842 - recall: 0.9952 - auc: 0.9960 - accuracy: 0.8155 - val_loss: 61.0922 - val_tp: 416.0000 - val_fp: 452.0000 - val_tn: 1724.0000 - val_fn: 272.0000 - val_precision: 0.4793 - val_recall: 0.6047 - val_auc: 0.7004 - val_accuracy: 0.6247\n",
      "Epoch 19/100\n",
      "86/86 [==============================] - 1s 16ms/step - loss: 0.0791 - tp: 2054.0000 - fp: 25.0000 - tn: 6504.0000 - fn: 8.0000 - precision: 0.9880 - recall: 0.9961 - auc: 0.9975 - accuracy: 0.8749 - val_loss: 70.6409 - val_tp: 402.0000 - val_fp: 457.0000 - val_tn: 1719.0000 - val_fn: 286.0000 - val_precision: 0.4680 - val_recall: 0.5843 - val_auc: 0.6911 - val_accuracy: 0.6466\n",
      "Epoch 20/100\n",
      "86/86 [==============================] - 1s 16ms/step - loss: 0.2094 - tp: 2047.0000 - fp: 52.0000 - tn: 6477.0000 - fn: 15.0000 - precision: 0.9752 - recall: 0.9927 - auc: 0.9943 - accuracy: 0.8909 - val_loss: 69.9826 - val_tp: 412.0000 - val_fp: 457.0000 - val_tn: 1719.0000 - val_fn: 276.0000 - val_precision: 0.4741 - val_recall: 0.5988 - val_auc: 0.6971 - val_accuracy: 0.6491\n",
      "Epoch 21/100\n",
      "86/86 [==============================] - 1s 16ms/step - loss: 0.1366 - tp: 2047.0000 - fp: 50.0000 - tn: 6479.0000 - fn: 15.0000 - precision: 0.9762 - recall: 0.9927 - auc: 0.9941 - accuracy: 0.8628 - val_loss: 73.2023 - val_tp: 416.0000 - val_fp: 449.0000 - val_tn: 1727.0000 - val_fn: 272.0000 - val_precision: 0.4809 - val_recall: 0.6047 - val_auc: 0.7016 - val_accuracy: 0.6575\n"
     ]
    },
    {
     "name": "stdout",
     "output_type": "stream",
     "text": [
      "Epoch 22/100\n",
      "86/86 [==============================] - 1s 16ms/step - loss: 0.0662 - tp: 2055.0000 - fp: 20.0000 - tn: 6509.0000 - fn: 7.0000 - precision: 0.9904 - recall: 0.9966 - auc: 0.9971 - accuracy: 0.8943 - val_loss: 83.8391 - val_tp: 414.0000 - val_fp: 464.0000 - val_tn: 1712.0000 - val_fn: 274.0000 - val_precision: 0.4715 - val_recall: 0.6017 - val_auc: 0.6973 - val_accuracy: 0.6592\n",
      "Epoch 23/100\n",
      "86/86 [==============================] - 1s 16ms/step - loss: 0.0498 - tp: 2059.0000 - fp: 12.0000 - tn: 6517.0000 - fn: 3.0000 - precision: 0.9942 - recall: 0.9985 - auc: 0.9984 - accuracy: 0.9192 - val_loss: 83.5431 - val_tp: 418.0000 - val_fp: 458.0000 - val_tn: 1718.0000 - val_fn: 270.0000 - val_precision: 0.4772 - val_recall: 0.6076 - val_auc: 0.7020 - val_accuracy: 0.6749\n",
      "Epoch 24/100\n",
      "86/86 [==============================] - 1s 16ms/step - loss: 0.0605 - tp: 2055.0000 - fp: 25.0000 - tn: 6504.0000 - fn: 7.0000 - precision: 0.9880 - recall: 0.9966 - auc: 0.9973 - accuracy: 0.9272 - val_loss: 95.0023 - val_tp: 413.0000 - val_fp: 456.0000 - val_tn: 1720.0000 - val_fn: 275.0000 - val_precision: 0.4753 - val_recall: 0.6003 - val_auc: 0.6996 - val_accuracy: 0.6878\n",
      "Epoch 25/100\n",
      "86/86 [==============================] - 1s 16ms/step - loss: 0.0492 - tp: 2056.0000 - fp: 17.0000 - tn: 6512.0000 - fn: 6.0000 - precision: 0.9918 - recall: 0.9971 - auc: 0.9980 - accuracy: 0.9347 - val_loss: 94.7611 - val_tp: 420.0000 - val_fp: 462.0000 - val_tn: 1714.0000 - val_fn: 268.0000 - val_precision: 0.4762 - val_recall: 0.6105 - val_auc: 0.7008 - val_accuracy: 0.6847\n",
      "Epoch 26/100\n",
      "86/86 [==============================] - 1s 16ms/step - loss: 0.1358 - tp: 2055.0000 - fp: 26.0000 - tn: 6503.0000 - fn: 7.0000 - precision: 0.9875 - recall: 0.9966 - auc: 0.9969 - accuracy: 0.9540 - val_loss: 116.8043 - val_tp: 423.0000 - val_fp: 449.0000 - val_tn: 1727.0000 - val_fn: 265.0000 - val_precision: 0.4851 - val_recall: 0.6148 - val_auc: 0.7048 - val_accuracy: 0.7022\n",
      "Epoch 27/100\n",
      "86/86 [==============================] - 1s 16ms/step - loss: 0.0881 - tp: 2054.0000 - fp: 20.0000 - tn: 6509.0000 - fn: 8.0000 - precision: 0.9904 - recall: 0.9961 - auc: 0.9971 - accuracy: 0.9573 - val_loss: 112.2243 - val_tp: 408.0000 - val_fp: 483.0000 - val_tn: 1693.0000 - val_fn: 280.0000 - val_precision: 0.4579 - val_recall: 0.5930 - val_auc: 0.6862 - val_accuracy: 0.6690\n",
      "Epoch 28/100\n",
      "86/86 [==============================] - 1s 16ms/step - loss: 0.0178 - tp: 2059.0000 - fp: 10.0000 - tn: 6519.0000 - fn: 3.0000 - precision: 0.9952 - recall: 0.9985 - auc: 0.9989 - accuracy: 0.9554 - val_loss: 124.8679 - val_tp: 412.0000 - val_fp: 470.0000 - val_tn: 1706.0000 - val_fn: 276.0000 - val_precision: 0.4671 - val_recall: 0.5988 - val_auc: 0.6932 - val_accuracy: 0.6903\n",
      "Epoch 29/100\n",
      "86/86 [==============================] - 1s 16ms/step - loss: 0.0167 - tp: 2059.0000 - fp: 9.0000 - tn: 6520.0000 - fn: 3.0000 - precision: 0.9956 - recall: 0.9985 - auc: 0.9991 - accuracy: 0.9641 - val_loss: 129.6008 - val_tp: 416.0000 - val_fp: 477.0000 - val_tn: 1699.0000 - val_fn: 272.0000 - val_precision: 0.4658 - val_recall: 0.6047 - val_auc: 0.6942 - val_accuracy: 0.6910\n",
      "Epoch 30/100\n",
      "86/86 [==============================] - 1s 16ms/step - loss: 0.0309 - tp: 2059.0000 - fp: 11.0000 - tn: 6518.0000 - fn: 3.0000 - precision: 0.9947 - recall: 0.9985 - auc: 0.9988 - accuracy: 0.9768 - val_loss: 147.8410 - val_tp: 418.0000 - val_fp: 467.0000 - val_tn: 1709.0000 - val_fn: 270.0000 - val_precision: 0.4723 - val_recall: 0.6076 - val_auc: 0.6982 - val_accuracy: 0.7053\n",
      "Epoch 31/100\n",
      "86/86 [==============================] - 1s 16ms/step - loss: 0.0205 - tp: 2060.0000 - fp: 8.0000 - tn: 6521.0000 - fn: 2.0000 - precision: 0.9961 - recall: 0.9990 - auc: 0.9991 - accuracy: 0.9803 - val_loss: 156.6045 - val_tp: 424.0000 - val_fp: 453.0000 - val_tn: 1723.0000 - val_fn: 264.0000 - val_precision: 0.4835 - val_recall: 0.6163 - val_auc: 0.7054 - val_accuracy: 0.7144\n",
      "Epoch 32/100\n",
      "86/86 [==============================] - 1s 16ms/step - loss: 0.0338 - tp: 2059.0000 - fp: 6.0000 - tn: 6523.0000 - fn: 3.0000 - precision: 0.9971 - recall: 0.9985 - auc: 0.9991 - accuracy: 0.9836 - val_loss: 148.7411 - val_tp: 407.0000 - val_fp: 495.0000 - val_tn: 1681.0000 - val_fn: 281.0000 - val_precision: 0.4512 - val_recall: 0.5916 - val_auc: 0.6834 - val_accuracy: 0.6868\n",
      "Epoch 33/100\n",
      "86/86 [==============================] - 1s 16ms/step - loss: 0.1539 - tp: 2055.0000 - fp: 22.0000 - tn: 6507.0000 - fn: 7.0000 - precision: 0.9894 - recall: 0.9966 - auc: 0.9969 - accuracy: 0.9740 - val_loss: 163.0710 - val_tp: 420.0000 - val_fp: 475.0000 - val_tn: 1701.0000 - val_fn: 268.0000 - val_precision: 0.4693 - val_recall: 0.6105 - val_auc: 0.6978 - val_accuracy: 0.7084\n",
      "Epoch 34/100\n",
      "86/86 [==============================] - 1s 16ms/step - loss: 0.0223 - tp: 2060.0000 - fp: 7.0000 - tn: 6522.0000 - fn: 2.0000 - precision: 0.9966 - recall: 0.9990 - auc: 0.9991 - accuracy: 0.9823 - val_loss: 155.9226 - val_tp: 423.0000 - val_fp: 472.0000 - val_tn: 1704.0000 - val_fn: 265.0000 - val_precision: 0.4726 - val_recall: 0.6148 - val_auc: 0.7001 - val_accuracy: 0.7123\n",
      "Epoch 35/100\n",
      "86/86 [==============================] - 1s 16ms/step - loss: 0.0157 - tp: 2061.0000 - fp: 3.0000 - tn: 6526.0000 - fn: 1.0000 - precision: 0.9985 - recall: 0.9995 - auc: 0.9995 - accuracy: 0.9860 - val_loss: 160.6586 - val_tp: 419.0000 - val_fp: 471.0000 - val_tn: 1705.0000 - val_fn: 269.0000 - val_precision: 0.4708 - val_recall: 0.6090 - val_auc: 0.6984 - val_accuracy: 0.7105\n",
      "Epoch 36/100\n",
      "86/86 [==============================] - 1s 16ms/step - loss: 0.0075 - tp: 2061.0000 - fp: 3.0000 - tn: 6526.0000 - fn: 1.0000 - precision: 0.9985 - recall: 0.9995 - auc: 0.9995 - accuracy: 0.9859 - val_loss: 164.8619 - val_tp: 422.0000 - val_fp: 470.0000 - val_tn: 1706.0000 - val_fn: 266.0000 - val_precision: 0.4731 - val_recall: 0.6134 - val_auc: 0.6991 - val_accuracy: 0.7105\n",
      "Epoch 37/100\n",
      "86/86 [==============================] - 1s 16ms/step - loss: 0.0101 - tp: 2061.0000 - fp: 2.0000 - tn: 6527.0000 - fn: 1.0000 - precision: 0.9990 - recall: 0.9995 - auc: 0.9998 - accuracy: 0.9871 - val_loss: 158.5641 - val_tp: 424.0000 - val_fp: 471.0000 - val_tn: 1705.0000 - val_fn: 264.0000 - val_precision: 0.4737 - val_recall: 0.6163 - val_auc: 0.7016 - val_accuracy: 0.7109\n",
      "Epoch 38/100\n",
      "86/86 [==============================] - 1s 16ms/step - loss: 0.0108 - tp: 2061.0000 - fp: 4.0000 - tn: 6525.0000 - fn: 1.0000 - precision: 0.9981 - recall: 0.9995 - auc: 0.9995 - accuracy: 0.9877 - val_loss: 169.4982 - val_tp: 428.0000 - val_fp: 454.0000 - val_tn: 1722.0000 - val_fn: 260.0000 - val_precision: 0.4853 - val_recall: 0.6221 - val_auc: 0.7078 - val_accuracy: 0.7221\n",
      "Epoch 39/100\n",
      "86/86 [==============================] - 1s 16ms/step - loss: 0.1341 - tp: 2055.0000 - fp: 21.0000 - tn: 6508.0000 - fn: 7.0000 - precision: 0.9899 - recall: 0.9966 - auc: 0.9976 - accuracy: 0.9818 - val_loss: 168.4129 - val_tp: 417.0000 - val_fp: 470.0000 - val_tn: 1706.0000 - val_fn: 271.0000 - val_precision: 0.4701 - val_recall: 0.6061 - val_auc: 0.6954 - val_accuracy: 0.7029\n",
      "Epoch 40/100\n",
      "86/86 [==============================] - 1s 16ms/step - loss: 0.1679 - tp: 2053.0000 - fp: 33.0000 - tn: 6496.0000 - fn: 9.0000 - precision: 0.9842 - recall: 0.9956 - auc: 0.9957 - accuracy: 0.9801 - val_loss: 169.5034 - val_tp: 428.0000 - val_fp: 453.0000 - val_tn: 1723.0000 - val_fn: 260.0000 - val_precision: 0.4858 - val_recall: 0.6221 - val_auc: 0.7082 - val_accuracy: 0.7238\n",
      "Epoch 41/100\n",
      "86/86 [==============================] - 1s 16ms/step - loss: 0.3296 - tp: 2050.0000 - fp: 45.0000 - tn: 6484.0000 - fn: 12.0000 - precision: 0.9785 - recall: 0.9942 - auc: 0.9939 - accuracy: 0.9709 - val_loss: 191.3373 - val_tp: 435.0000 - val_fp: 448.0000 - val_tn: 1728.0000 - val_fn: 253.0000 - val_precision: 0.4926 - val_recall: 0.6323 - val_auc: 0.7128 - val_accuracy: 0.7308\n",
      "Epoch 42/100\n",
      "86/86 [==============================] - 1s 16ms/step - loss: 0.3309 - tp: 2046.0000 - fp: 43.0000 - tn: 6486.0000 - fn: 16.0000 - precision: 0.9794 - recall: 0.9922 - auc: 0.9934 - accuracy: 0.9688 - val_loss: 148.4328 - val_tp: 413.0000 - val_fp: 475.0000 - val_tn: 1701.0000 - val_fn: 275.0000 - val_precision: 0.4651 - val_recall: 0.6003 - val_auc: 0.6927 - val_accuracy: 0.6990\n"
     ]
    },
    {
     "name": "stdout",
     "output_type": "stream",
     "text": [
      "Epoch 43/100\n",
      "86/86 [==============================] - 1s 16ms/step - loss: 0.2538 - tp: 2051.0000 - fp: 40.0000 - tn: 6489.0000 - fn: 11.0000 - precision: 0.9809 - recall: 0.9947 - auc: 0.9946 - accuracy: 0.9653 - val_loss: 156.5215 - val_tp: 432.0000 - val_fp: 457.0000 - val_tn: 1719.0000 - val_fn: 256.0000 - val_precision: 0.4859 - val_recall: 0.6279 - val_auc: 0.7113 - val_accuracy: 0.7214\n",
      "Epoch 44/100\n",
      "86/86 [==============================] - 1s 16ms/step - loss: 0.2495 - tp: 2048.0000 - fp: 39.0000 - tn: 6490.0000 - fn: 14.0000 - precision: 0.9813 - recall: 0.9932 - auc: 0.9942 - accuracy: 0.9636 - val_loss: 139.9593 - val_tp: 422.0000 - val_fp: 481.0000 - val_tn: 1695.0000 - val_fn: 266.0000 - val_precision: 0.4673 - val_recall: 0.6134 - val_auc: 0.6973 - val_accuracy: 0.7011\n",
      "Epoch 45/100\n",
      "86/86 [==============================] - 1s 16ms/step - loss: 0.0711 - tp: 2056.0000 - fp: 17.0000 - tn: 6512.0000 - fn: 6.0000 - precision: 0.9918 - recall: 0.9971 - auc: 0.9979 - accuracy: 0.9707 - val_loss: 139.9923 - val_tp: 425.0000 - val_fp: 476.0000 - val_tn: 1700.0000 - val_fn: 263.0000 - val_precision: 0.4717 - val_recall: 0.6177 - val_auc: 0.7000 - val_accuracy: 0.7015\n",
      "Epoch 46/100\n",
      "86/86 [==============================] - 1s 16ms/step - loss: 0.0445 - tp: 2056.0000 - fp: 14.0000 - tn: 6515.0000 - fn: 6.0000 - precision: 0.9932 - recall: 0.9971 - auc: 0.9980 - accuracy: 0.9772 - val_loss: 148.6703 - val_tp: 417.0000 - val_fp: 499.0000 - val_tn: 1677.0000 - val_fn: 271.0000 - val_precision: 0.4552 - val_recall: 0.6061 - val_auc: 0.6894 - val_accuracy: 0.6878\n",
      "Epoch 47/100\n",
      "86/86 [==============================] - 1s 16ms/step - loss: 0.0480 - tp: 2060.0000 - fp: 10.0000 - tn: 6519.0000 - fn: 2.0000 - precision: 0.9952 - recall: 0.9990 - auc: 0.9991 - accuracy: 0.9792 - val_loss: 153.8851 - val_tp: 430.0000 - val_fp: 478.0000 - val_tn: 1698.0000 - val_fn: 258.0000 - val_precision: 0.4736 - val_recall: 0.6250 - val_auc: 0.7035 - val_accuracy: 0.7064\n",
      "Epoch 48/100\n",
      "86/86 [==============================] - 1s 16ms/step - loss: 0.0274 - tp: 2060.0000 - fp: 5.0000 - tn: 6524.0000 - fn: 2.0000 - precision: 0.9976 - recall: 0.9990 - auc: 0.9991 - accuracy: 0.9839 - val_loss: 151.1351 - val_tp: 422.0000 - val_fp: 487.0000 - val_tn: 1689.0000 - val_fn: 266.0000 - val_precision: 0.4642 - val_recall: 0.6134 - val_auc: 0.6953 - val_accuracy: 0.6903\n",
      "Epoch 49/100\n",
      "86/86 [==============================] - 1s 16ms/step - loss: 0.3669 - tp: 2049.0000 - fp: 44.0000 - tn: 6485.0000 - fn: 13.0000 - precision: 0.9790 - recall: 0.9937 - auc: 0.9944 - accuracy: 0.9686 - val_loss: 150.4100 - val_tp: 414.0000 - val_fp: 491.0000 - val_tn: 1685.0000 - val_fn: 274.0000 - val_precision: 0.4575 - val_recall: 0.6017 - val_auc: 0.6895 - val_accuracy: 0.6962\n",
      "Epoch 50/100\n",
      "86/86 [==============================] - 1s 16ms/step - loss: 0.2267 - tp: 2049.0000 - fp: 37.0000 - tn: 6492.0000 - fn: 13.0000 - precision: 0.9823 - recall: 0.9937 - auc: 0.9954 - accuracy: 0.9678 - val_loss: 144.8662 - val_tp: 413.0000 - val_fp: 492.0000 - val_tn: 1684.0000 - val_fn: 275.0000 - val_precision: 0.4564 - val_recall: 0.6003 - val_auc: 0.6886 - val_accuracy: 0.6896\n",
      "Epoch 51/100\n",
      "86/86 [==============================] - 1s 16ms/step - loss: 0.2461 - tp: 2054.0000 - fp: 28.0000 - tn: 6501.0000 - fn: 8.0000 - precision: 0.9866 - recall: 0.9961 - auc: 0.9961 - accuracy: 0.9737 - val_loss: 140.0346 - val_tp: 422.0000 - val_fp: 495.0000 - val_tn: 1681.0000 - val_fn: 266.0000 - val_precision: 0.4602 - val_recall: 0.6134 - val_auc: 0.6941 - val_accuracy: 0.7001\n",
      "Epoch 52/100\n",
      "86/86 [==============================] - 1s 16ms/step - loss: 0.0706 - tp: 2057.0000 - fp: 17.0000 - tn: 6512.0000 - fn: 5.0000 - precision: 0.9918 - recall: 0.9976 - auc: 0.9978 - accuracy: 0.9668 - val_loss: 129.8107 - val_tp: 413.0000 - val_fp: 498.0000 - val_tn: 1678.0000 - val_fn: 275.0000 - val_precision: 0.4533 - val_recall: 0.6003 - val_auc: 0.6872 - val_accuracy: 0.6858\n",
      "Epoch 53/100\n",
      "86/86 [==============================] - 1s 16ms/step - loss: 0.0253 - tp: 2058.0000 - fp: 10.0000 - tn: 6519.0000 - fn: 4.0000 - precision: 0.9952 - recall: 0.9981 - auc: 0.9987 - accuracy: 0.9678 - val_loss: 155.3682 - val_tp: 434.0000 - val_fp: 485.0000 - val_tn: 1691.0000 - val_fn: 254.0000 - val_precision: 0.4723 - val_recall: 0.6308 - val_auc: 0.7063 - val_accuracy: 0.7112\n",
      "Epoch 54/100\n",
      "86/86 [==============================] - 1s 16ms/step - loss: 0.0253 - tp: 2059.0000 - fp: 9.0000 - tn: 6520.0000 - fn: 3.0000 - precision: 0.9956 - recall: 0.9985 - auc: 0.9988 - accuracy: 0.9846 - val_loss: 168.6632 - val_tp: 416.0000 - val_fp: 501.0000 - val_tn: 1675.0000 - val_fn: 272.0000 - val_precision: 0.4537 - val_recall: 0.6047 - val_auc: 0.6874 - val_accuracy: 0.6885\n",
      "Epoch 55/100\n",
      "86/86 [==============================] - 1s 16ms/step - loss: 0.0329 - tp: 2060.0000 - fp: 7.0000 - tn: 6522.0000 - fn: 2.0000 - precision: 0.9966 - recall: 0.9990 - auc: 0.9993 - accuracy: 0.9851 - val_loss: 181.3655 - val_tp: 436.0000 - val_fp: 472.0000 - val_tn: 1704.0000 - val_fn: 252.0000 - val_precision: 0.4802 - val_recall: 0.6337 - val_auc: 0.7101 - val_accuracy: 0.7228\n",
      "Epoch 56/100\n",
      "86/86 [==============================] - 1s 16ms/step - loss: 0.0630 - tp: 2059.0000 - fp: 5.0000 - tn: 6524.0000 - fn: 3.0000 - precision: 0.9976 - recall: 0.9985 - auc: 0.9992 - accuracy: 0.9902 - val_loss: 185.3372 - val_tp: 416.0000 - val_fp: 505.0000 - val_tn: 1671.0000 - val_fn: 272.0000 - val_precision: 0.4517 - val_recall: 0.6047 - val_auc: 0.6876 - val_accuracy: 0.6913\n",
      "Epoch 57/100\n",
      "86/86 [==============================] - 1s 16ms/step - loss: 0.0116 - tp: 2061.0000 - fp: 2.0000 - tn: 6527.0000 - fn: 1.0000 - precision: 0.9990 - recall: 0.9995 - auc: 0.9996 - accuracy: 0.9923 - val_loss: 187.8243 - val_tp: 417.0000 - val_fp: 509.0000 - val_tn: 1667.0000 - val_fn: 271.0000 - val_precision: 0.4503 - val_recall: 0.6061 - val_auc: 0.6865 - val_accuracy: 0.6861\n",
      "Epoch 58/100\n",
      "86/86 [==============================] - 1s 16ms/step - loss: 0.0041 - tp: 2062.0000 - fp: 4.0000 - tn: 6525.0000 - fn: 0.0000e+00 - precision: 0.9981 - recall: 1.0000 - auc: 0.9998 - accuracy: 0.9919 - val_loss: 189.0509 - val_tp: 431.0000 - val_fp: 478.0000 - val_tn: 1698.0000 - val_fn: 257.0000 - val_precision: 0.4741 - val_recall: 0.6265 - val_auc: 0.7040 - val_accuracy: 0.7168\n",
      "Epoch 59/100\n",
      "86/86 [==============================] - 1s 16ms/step - loss: 0.0017 - tp: 2062.0000 - fp: 1.0000 - tn: 6528.0000 - fn: 0.0000e+00 - precision: 0.9995 - recall: 1.0000 - auc: 0.9999 - accuracy: 0.9946 - val_loss: 192.2344 - val_tp: 432.0000 - val_fp: 472.0000 - val_tn: 1704.0000 - val_fn: 256.0000 - val_precision: 0.4779 - val_recall: 0.6279 - val_auc: 0.7059 - val_accuracy: 0.7221\n",
      "Epoch 60/100\n",
      "86/86 [==============================] - 1s 16ms/step - loss: 0.0099 - tp: 2061.0000 - fp: 2.0000 - tn: 6527.0000 - fn: 1.0000 - precision: 0.9990 - recall: 0.9995 - auc: 0.9998 - accuracy: 0.9934 - val_loss: 186.7658 - val_tp: 430.0000 - val_fp: 485.0000 - val_tn: 1691.0000 - val_fn: 258.0000 - val_precision: 0.4699 - val_recall: 0.6250 - val_auc: 0.7018 - val_accuracy: 0.7158\n",
      "Epoch 61/100\n",
      "86/86 [==============================] - 1s 16ms/step - loss: 3.8119e-10 - tp: 2062.0000 - fp: 0.0000e+00 - tn: 6529.0000 - fn: 0.0000e+00 - precision: 1.0000 - recall: 1.0000 - auc: 1.0000 - accuracy: 0.9956 - val_loss: 186.7672 - val_tp: 430.0000 - val_fp: 485.0000 - val_tn: 1691.0000 - val_fn: 258.0000 - val_precision: 0.4699 - val_recall: 0.6250 - val_auc: 0.7018 - val_accuracy: 0.7158\n",
      "Epoch 62/100\n",
      "86/86 [==============================] - 1s 16ms/step - loss: 3.2283e-10 - tp: 2062.0000 - fp: 0.0000e+00 - tn: 6529.0000 - fn: 0.0000e+00 - precision: 1.0000 - recall: 1.0000 - auc: 1.0000 - accuracy: 0.9956 - val_loss: 186.7720 - val_tp: 430.0000 - val_fp: 485.0000 - val_tn: 1691.0000 - val_fn: 258.0000 - val_precision: 0.4699 - val_recall: 0.6250 - val_auc: 0.7018 - val_accuracy: 0.7158\n",
      "Epoch 63/100\n",
      "86/86 [==============================] - 1s 16ms/step - loss: 2.6737e-10 - tp: 2062.0000 - fp: 0.0000e+00 - tn: 6529.0000 - fn: 0.0000e+00 - precision: 1.0000 - recall: 1.0000 - auc: 1.0000 - accuracy: 0.9956 - val_loss: 186.7760 - val_tp: 430.0000 - val_fp: 485.0000 - val_tn: 1691.0000 - val_fn: 258.0000 - val_precision: 0.4699 - val_recall: 0.6250 - val_auc: 0.7018 - val_accuracy: 0.7158\n"
     ]
    },
    {
     "name": "stdout",
     "output_type": "stream",
     "text": [
      "Epoch 64/100\n",
      "86/86 [==============================] - 1s 16ms/step - loss: 2.2868e-10 - tp: 2062.0000 - fp: 0.0000e+00 - tn: 6529.0000 - fn: 0.0000e+00 - precision: 1.0000 - recall: 1.0000 - auc: 1.0000 - accuracy: 0.9956 - val_loss: 186.7794 - val_tp: 430.0000 - val_fp: 485.0000 - val_tn: 1691.0000 - val_fn: 258.0000 - val_precision: 0.4699 - val_recall: 0.6250 - val_auc: 0.7018 - val_accuracy: 0.7161\n",
      "Epoch 65/100\n",
      "86/86 [==============================] - 1s 16ms/step - loss: 2.0008e-10 - tp: 2062.0000 - fp: 0.0000e+00 - tn: 6529.0000 - fn: 0.0000e+00 - precision: 1.0000 - recall: 1.0000 - auc: 1.0000 - accuracy: 0.9956 - val_loss: 186.7824 - val_tp: 430.0000 - val_fp: 485.0000 - val_tn: 1691.0000 - val_fn: 258.0000 - val_precision: 0.4699 - val_recall: 0.6250 - val_auc: 0.7018 - val_accuracy: 0.7161\n",
      "Epoch 66/100\n",
      "86/86 [==============================] - 1s 16ms/step - loss: 1.7801e-10 - tp: 2062.0000 - fp: 0.0000e+00 - tn: 6529.0000 - fn: 0.0000e+00 - precision: 1.0000 - recall: 1.0000 - auc: 1.0000 - accuracy: 0.9956 - val_loss: 186.7851 - val_tp: 430.0000 - val_fp: 485.0000 - val_tn: 1691.0000 - val_fn: 258.0000 - val_precision: 0.4699 - val_recall: 0.6250 - val_auc: 0.7024 - val_accuracy: 0.7161\n",
      "Epoch 67/100\n",
      "86/86 [==============================] - 1s 16ms/step - loss: 1.6044e-10 - tp: 2062.0000 - fp: 0.0000e+00 - tn: 6529.0000 - fn: 0.0000e+00 - precision: 1.0000 - recall: 1.0000 - auc: 1.0000 - accuracy: 0.9956 - val_loss: 186.7875 - val_tp: 430.0000 - val_fp: 484.0000 - val_tn: 1692.0000 - val_fn: 258.0000 - val_precision: 0.4705 - val_recall: 0.6250 - val_auc: 0.7024 - val_accuracy: 0.7161\n",
      "Epoch 68/100\n",
      "86/86 [==============================] - 1s 16ms/step - loss: 1.4610e-10 - tp: 2062.0000 - fp: 0.0000e+00 - tn: 6529.0000 - fn: 0.0000e+00 - precision: 1.0000 - recall: 1.0000 - auc: 1.0000 - accuracy: 0.9956 - val_loss: 186.7897 - val_tp: 430.0000 - val_fp: 484.0000 - val_tn: 1692.0000 - val_fn: 258.0000 - val_precision: 0.4705 - val_recall: 0.6250 - val_auc: 0.7024 - val_accuracy: 0.7165\n",
      "Epoch 69/100\n",
      "86/86 [==============================] - 1s 16ms/step - loss: 1.3416e-10 - tp: 2062.0000 - fp: 0.0000e+00 - tn: 6529.0000 - fn: 0.0000e+00 - precision: 1.0000 - recall: 1.0000 - auc: 1.0000 - accuracy: 0.9956 - val_loss: 186.7915 - val_tp: 430.0000 - val_fp: 484.0000 - val_tn: 1692.0000 - val_fn: 258.0000 - val_precision: 0.4705 - val_recall: 0.6250 - val_auc: 0.7024 - val_accuracy: 0.7165\n",
      "Epoch 70/100\n",
      "86/86 [==============================] - 1s 16ms/step - loss: 1.2406e-10 - tp: 2062.0000 - fp: 0.0000e+00 - tn: 6529.0000 - fn: 0.0000e+00 - precision: 1.0000 - recall: 1.0000 - auc: 1.0000 - accuracy: 0.9956 - val_loss: 186.7935 - val_tp: 430.0000 - val_fp: 484.0000 - val_tn: 1692.0000 - val_fn: 258.0000 - val_precision: 0.4705 - val_recall: 0.6250 - val_auc: 0.7025 - val_accuracy: 0.7165\n",
      "Epoch 71/100\n",
      "86/86 [==============================] - 1s 16ms/step - loss: 1.1539e-10 - tp: 2062.0000 - fp: 0.0000e+00 - tn: 6529.0000 - fn: 0.0000e+00 - precision: 1.0000 - recall: 1.0000 - auc: 1.0000 - accuracy: 0.9956 - val_loss: 186.7953 - val_tp: 430.0000 - val_fp: 484.0000 - val_tn: 1692.0000 - val_fn: 258.0000 - val_precision: 0.4705 - val_recall: 0.6250 - val_auc: 0.7025 - val_accuracy: 0.7165\n",
      "Epoch 72/100\n",
      "86/86 [==============================] - 1s 16ms/step - loss: 1.0789e-10 - tp: 2062.0000 - fp: 0.0000e+00 - tn: 6529.0000 - fn: 0.0000e+00 - precision: 1.0000 - recall: 1.0000 - auc: 1.0000 - accuracy: 0.9956 - val_loss: 186.7969 - val_tp: 430.0000 - val_fp: 484.0000 - val_tn: 1692.0000 - val_fn: 258.0000 - val_precision: 0.4705 - val_recall: 0.6250 - val_auc: 0.7025 - val_accuracy: 0.7165\n",
      "Epoch 73/100\n",
      "86/86 [==============================] - 1s 16ms/step - loss: 1.0131e-10 - tp: 2062.0000 - fp: 0.0000e+00 - tn: 6529.0000 - fn: 0.0000e+00 - precision: 1.0000 - recall: 1.0000 - auc: 1.0000 - accuracy: 0.9956 - val_loss: 186.7984 - val_tp: 430.0000 - val_fp: 484.0000 - val_tn: 1692.0000 - val_fn: 258.0000 - val_precision: 0.4705 - val_recall: 0.6250 - val_auc: 0.7025 - val_accuracy: 0.7165\n",
      "Epoch 74/100\n",
      "86/86 [==============================] - 1s 16ms/step - loss: 9.5506e-11 - tp: 2062.0000 - fp: 0.0000e+00 - tn: 6529.0000 - fn: 0.0000e+00 - precision: 1.0000 - recall: 1.0000 - auc: 1.0000 - accuracy: 0.9956 - val_loss: 186.7999 - val_tp: 430.0000 - val_fp: 484.0000 - val_tn: 1692.0000 - val_fn: 258.0000 - val_precision: 0.4705 - val_recall: 0.6250 - val_auc: 0.7025 - val_accuracy: 0.7165\n",
      "Epoch 75/100\n",
      "86/86 [==============================] - 1s 16ms/step - loss: 9.0340e-11 - tp: 2062.0000 - fp: 0.0000e+00 - tn: 6529.0000 - fn: 0.0000e+00 - precision: 1.0000 - recall: 1.0000 - auc: 1.0000 - accuracy: 0.9956 - val_loss: 186.8012 - val_tp: 430.0000 - val_fp: 484.0000 - val_tn: 1692.0000 - val_fn: 258.0000 - val_precision: 0.4705 - val_recall: 0.6250 - val_auc: 0.7025 - val_accuracy: 0.7165\n",
      "Epoch 76/100\n",
      "86/86 [==============================] - 1s 16ms/step - loss: 8.5707e-11 - tp: 2062.0000 - fp: 0.0000e+00 - tn: 6529.0000 - fn: 0.0000e+00 - precision: 1.0000 - recall: 1.0000 - auc: 1.0000 - accuracy: 0.9956 - val_loss: 186.8025 - val_tp: 430.0000 - val_fp: 484.0000 - val_tn: 1692.0000 - val_fn: 258.0000 - val_precision: 0.4705 - val_recall: 0.6250 - val_auc: 0.7025 - val_accuracy: 0.7165\n",
      "Epoch 77/100\n",
      "86/86 [==============================] - 1s 16ms/step - loss: 8.1538e-11 - tp: 2062.0000 - fp: 0.0000e+00 - tn: 6529.0000 - fn: 0.0000e+00 - precision: 1.0000 - recall: 1.0000 - auc: 1.0000 - accuracy: 0.9956 - val_loss: 186.8038 - val_tp: 430.0000 - val_fp: 484.0000 - val_tn: 1692.0000 - val_fn: 258.0000 - val_precision: 0.4705 - val_recall: 0.6250 - val_auc: 0.7025 - val_accuracy: 0.7165\n",
      "Epoch 78/100\n",
      "86/86 [==============================] - 1s 16ms/step - loss: 7.7755e-11 - tp: 2062.0000 - fp: 0.0000e+00 - tn: 6529.0000 - fn: 0.0000e+00 - precision: 1.0000 - recall: 1.0000 - auc: 1.0000 - accuracy: 0.9956 - val_loss: 186.8049 - val_tp: 430.0000 - val_fp: 484.0000 - val_tn: 1692.0000 - val_fn: 258.0000 - val_precision: 0.4705 - val_recall: 0.6250 - val_auc: 0.7025 - val_accuracy: 0.7165\n",
      "Epoch 79/100\n",
      "86/86 [==============================] - 1s 16ms/step - loss: 7.4311e-11 - tp: 2062.0000 - fp: 0.0000e+00 - tn: 6529.0000 - fn: 0.0000e+00 - precision: 1.0000 - recall: 1.0000 - auc: 1.0000 - accuracy: 0.9956 - val_loss: 186.8060 - val_tp: 430.0000 - val_fp: 484.0000 - val_tn: 1692.0000 - val_fn: 258.0000 - val_precision: 0.4705 - val_recall: 0.6250 - val_auc: 0.7025 - val_accuracy: 0.7165\n",
      "Epoch 80/100\n",
      "86/86 [==============================] - 1s 16ms/step - loss: 7.1164e-11 - tp: 2062.0000 - fp: 0.0000e+00 - tn: 6529.0000 - fn: 0.0000e+00 - precision: 1.0000 - recall: 1.0000 - auc: 1.0000 - accuracy: 0.9956 - val_loss: 186.8071 - val_tp: 430.0000 - val_fp: 484.0000 - val_tn: 1692.0000 - val_fn: 258.0000 - val_precision: 0.4705 - val_recall: 0.6250 - val_auc: 0.7025 - val_accuracy: 0.7165\n",
      "Epoch 81/100\n",
      "86/86 [==============================] - 1s 16ms/step - loss: 6.8278e-11 - tp: 2062.0000 - fp: 0.0000e+00 - tn: 6529.0000 - fn: 0.0000e+00 - precision: 1.0000 - recall: 1.0000 - auc: 1.0000 - accuracy: 0.9956 - val_loss: 186.8082 - val_tp: 430.0000 - val_fp: 484.0000 - val_tn: 1692.0000 - val_fn: 258.0000 - val_precision: 0.4705 - val_recall: 0.6250 - val_auc: 0.7025 - val_accuracy: 0.7165\n",
      "Epoch 82/100\n",
      "86/86 [==============================] - 1s 16ms/step - loss: 6.5618e-11 - tp: 2062.0000 - fp: 0.0000e+00 - tn: 6529.0000 - fn: 0.0000e+00 - precision: 1.0000 - recall: 1.0000 - auc: 1.0000 - accuracy: 0.9956 - val_loss: 186.8091 - val_tp: 430.0000 - val_fp: 484.0000 - val_tn: 1692.0000 - val_fn: 258.0000 - val_precision: 0.4705 - val_recall: 0.6250 - val_auc: 0.7025 - val_accuracy: 0.7161\n",
      "Epoch 83/100\n",
      "86/86 [==============================] - 1s 16ms/step - loss: 6.3162e-11 - tp: 2062.0000 - fp: 0.0000e+00 - tn: 6529.0000 - fn: 0.0000e+00 - precision: 1.0000 - recall: 1.0000 - auc: 1.0000 - accuracy: 0.9956 - val_loss: 186.8101 - val_tp: 430.0000 - val_fp: 484.0000 - val_tn: 1692.0000 - val_fn: 258.0000 - val_precision: 0.4705 - val_recall: 0.6250 - val_auc: 0.7025 - val_accuracy: 0.7161\n",
      "Epoch 84/100\n"
     ]
    },
    {
     "name": "stdout",
     "output_type": "stream",
     "text": [
      "86/86 [==============================] - 1s 16ms/step - loss: 6.0887e-11 - tp: 2062.0000 - fp: 0.0000e+00 - tn: 6529.0000 - fn: 0.0000e+00 - precision: 1.0000 - recall: 1.0000 - auc: 1.0000 - accuracy: 0.9956 - val_loss: 186.8110 - val_tp: 430.0000 - val_fp: 484.0000 - val_tn: 1692.0000 - val_fn: 258.0000 - val_precision: 0.4705 - val_recall: 0.6250 - val_auc: 0.7025 - val_accuracy: 0.7161\n",
      "Epoch 85/100\n",
      "86/86 [==============================] - 1s 16ms/step - loss: 5.8770e-11 - tp: 2062.0000 - fp: 0.0000e+00 - tn: 6529.0000 - fn: 0.0000e+00 - precision: 1.0000 - recall: 1.0000 - auc: 1.0000 - accuracy: 0.9956 - val_loss: 186.8119 - val_tp: 430.0000 - val_fp: 484.0000 - val_tn: 1692.0000 - val_fn: 258.0000 - val_precision: 0.4705 - val_recall: 0.6250 - val_auc: 0.7025 - val_accuracy: 0.7161\n",
      "Epoch 86/100\n",
      "86/86 [==============================] - 1s 16ms/step - loss: 5.6795e-11 - tp: 2062.0000 - fp: 0.0000e+00 - tn: 6529.0000 - fn: 0.0000e+00 - precision: 1.0000 - recall: 1.0000 - auc: 1.0000 - accuracy: 0.9956 - val_loss: 186.8128 - val_tp: 430.0000 - val_fp: 484.0000 - val_tn: 1692.0000 - val_fn: 258.0000 - val_precision: 0.4705 - val_recall: 0.6250 - val_auc: 0.7025 - val_accuracy: 0.7161\n",
      "Epoch 87/100\n",
      "86/86 [==============================] - 1s 16ms/step - loss: 5.4950e-11 - tp: 2062.0000 - fp: 0.0000e+00 - tn: 6529.0000 - fn: 0.0000e+00 - precision: 1.0000 - recall: 1.0000 - auc: 1.0000 - accuracy: 0.9956 - val_loss: 186.8136 - val_tp: 430.0000 - val_fp: 484.0000 - val_tn: 1692.0000 - val_fn: 258.0000 - val_precision: 0.4705 - val_recall: 0.6250 - val_auc: 0.7025 - val_accuracy: 0.7161\n",
      "Epoch 88/100\n",
      "86/86 [==============================] - 1s 16ms/step - loss: 5.3224e-11 - tp: 2062.0000 - fp: 0.0000e+00 - tn: 6529.0000 - fn: 0.0000e+00 - precision: 1.0000 - recall: 1.0000 - auc: 1.0000 - accuracy: 0.9956 - val_loss: 186.8144 - val_tp: 430.0000 - val_fp: 484.0000 - val_tn: 1692.0000 - val_fn: 258.0000 - val_precision: 0.4705 - val_recall: 0.6250 - val_auc: 0.7025 - val_accuracy: 0.7161\n",
      "Epoch 89/100\n",
      "86/86 [==============================] - 1s 16ms/step - loss: 5.1606e-11 - tp: 2062.0000 - fp: 0.0000e+00 - tn: 6529.0000 - fn: 0.0000e+00 - precision: 1.0000 - recall: 1.0000 - auc: 1.0000 - accuracy: 0.9956 - val_loss: 186.8152 - val_tp: 430.0000 - val_fp: 484.0000 - val_tn: 1692.0000 - val_fn: 258.0000 - val_precision: 0.4705 - val_recall: 0.6250 - val_auc: 0.7025 - val_accuracy: 0.7161\n",
      "Epoch 90/100\n",
      "86/86 [==============================] - 1s 16ms/step - loss: 5.0081e-11 - tp: 2062.0000 - fp: 0.0000e+00 - tn: 6529.0000 - fn: 0.0000e+00 - precision: 1.0000 - recall: 1.0000 - auc: 1.0000 - accuracy: 0.9956 - val_loss: 186.8159 - val_tp: 430.0000 - val_fp: 484.0000 - val_tn: 1692.0000 - val_fn: 258.0000 - val_precision: 0.4705 - val_recall: 0.6250 - val_auc: 0.7025 - val_accuracy: 0.7161\n",
      "Epoch 91/100\n",
      "86/86 [==============================] - 1s 16ms/step - loss: 4.8647e-11 - tp: 2062.0000 - fp: 0.0000e+00 - tn: 6529.0000 - fn: 0.0000e+00 - precision: 1.0000 - recall: 1.0000 - auc: 1.0000 - accuracy: 0.9956 - val_loss: 186.8167 - val_tp: 430.0000 - val_fp: 484.0000 - val_tn: 1692.0000 - val_fn: 258.0000 - val_precision: 0.4705 - val_recall: 0.6250 - val_auc: 0.7025 - val_accuracy: 0.7161\n",
      "Epoch 92/100\n",
      "86/86 [==============================] - 1s 16ms/step - loss: 4.7290e-11 - tp: 2062.0000 - fp: 0.0000e+00 - tn: 6529.0000 - fn: 0.0000e+00 - precision: 1.0000 - recall: 1.0000 - auc: 1.0000 - accuracy: 0.9956 - val_loss: 186.8174 - val_tp: 430.0000 - val_fp: 484.0000 - val_tn: 1692.0000 - val_fn: 258.0000 - val_precision: 0.4705 - val_recall: 0.6250 - val_auc: 0.7025 - val_accuracy: 0.7161\n",
      "Epoch 93/100\n",
      "86/86 [==============================] - 1s 16ms/step - loss: 4.6010e-11 - tp: 2062.0000 - fp: 0.0000e+00 - tn: 6529.0000 - fn: 0.0000e+00 - precision: 1.0000 - recall: 1.0000 - auc: 1.0000 - accuracy: 0.9956 - val_loss: 186.8181 - val_tp: 430.0000 - val_fp: 484.0000 - val_tn: 1692.0000 - val_fn: 258.0000 - val_precision: 0.4705 - val_recall: 0.6250 - val_auc: 0.7025 - val_accuracy: 0.7161\n",
      "Epoch 94/100\n",
      "86/86 [==============================] - 1s 16ms/step - loss: 4.4798e-11 - tp: 2062.0000 - fp: 0.0000e+00 - tn: 6529.0000 - fn: 0.0000e+00 - precision: 1.0000 - recall: 1.0000 - auc: 1.0000 - accuracy: 0.9956 - val_loss: 186.8188 - val_tp: 430.0000 - val_fp: 484.0000 - val_tn: 1692.0000 - val_fn: 258.0000 - val_precision: 0.4705 - val_recall: 0.6250 - val_auc: 0.7025 - val_accuracy: 0.7161\n",
      "Epoch 95/100\n",
      "86/86 [==============================] - 1s 16ms/step - loss: 4.3648e-11 - tp: 2062.0000 - fp: 0.0000e+00 - tn: 6529.0000 - fn: 0.0000e+00 - precision: 1.0000 - recall: 1.0000 - auc: 1.0000 - accuracy: 0.9956 - val_loss: 186.8194 - val_tp: 430.0000 - val_fp: 484.0000 - val_tn: 1692.0000 - val_fn: 258.0000 - val_precision: 0.4705 - val_recall: 0.6250 - val_auc: 0.7025 - val_accuracy: 0.7161\n",
      "Epoch 96/100\n",
      "86/86 [==============================] - 1s 16ms/step - loss: 4.2557e-11 - tp: 2062.0000 - fp: 0.0000e+00 - tn: 6529.0000 - fn: 0.0000e+00 - precision: 1.0000 - recall: 1.0000 - auc: 1.0000 - accuracy: 0.9956 - val_loss: 186.8201 - val_tp: 430.0000 - val_fp: 484.0000 - val_tn: 1692.0000 - val_fn: 258.0000 - val_precision: 0.4705 - val_recall: 0.6250 - val_auc: 0.7025 - val_accuracy: 0.7161\n",
      "Epoch 97/100\n",
      "86/86 [==============================] - 1s 16ms/step - loss: 4.1520e-11 - tp: 2062.0000 - fp: 0.0000e+00 - tn: 6529.0000 - fn: 0.0000e+00 - precision: 1.0000 - recall: 1.0000 - auc: 1.0000 - accuracy: 0.9956 - val_loss: 186.8207 - val_tp: 430.0000 - val_fp: 484.0000 - val_tn: 1692.0000 - val_fn: 258.0000 - val_precision: 0.4705 - val_recall: 0.6250 - val_auc: 0.7025 - val_accuracy: 0.7161\n",
      "Epoch 98/100\n",
      "86/86 [==============================] - 1s 16ms/step - loss: 4.0531e-11 - tp: 2062.0000 - fp: 0.0000e+00 - tn: 6529.0000 - fn: 0.0000e+00 - precision: 1.0000 - recall: 1.0000 - auc: 1.0000 - accuracy: 0.9956 - val_loss: 186.8213 - val_tp: 430.0000 - val_fp: 484.0000 - val_tn: 1692.0000 - val_fn: 258.0000 - val_precision: 0.4705 - val_recall: 0.6250 - val_auc: 0.7025 - val_accuracy: 0.7161\n",
      "Epoch 99/100\n",
      "86/86 [==============================] - 1s 16ms/step - loss: 3.9591e-11 - tp: 2062.0000 - fp: 0.0000e+00 - tn: 6529.0000 - fn: 0.0000e+00 - precision: 1.0000 - recall: 1.0000 - auc: 1.0000 - accuracy: 0.9956 - val_loss: 186.8219 - val_tp: 430.0000 - val_fp: 484.0000 - val_tn: 1692.0000 - val_fn: 258.0000 - val_precision: 0.4705 - val_recall: 0.6250 - val_auc: 0.7025 - val_accuracy: 0.7161\n",
      "Epoch 100/100\n",
      "86/86 [==============================] - 1s 16ms/step - loss: 3.8692e-11 - tp: 2062.0000 - fp: 0.0000e+00 - tn: 6529.0000 - fn: 0.0000e+00 - precision: 1.0000 - recall: 1.0000 - auc: 1.0000 - accuracy: 0.9956 - val_loss: 186.8225 - val_tp: 430.0000 - val_fp: 484.0000 - val_tn: 1692.0000 - val_fn: 258.0000 - val_precision: 0.4705 - val_recall: 0.6250 - val_auc: 0.7025 - val_accuracy: 0.7161\n"
     ]
    }
   ],
   "source": [
    "history = model.fit(X_train_sc, y_train, epochs=100, verbose=1, validation_data=(X_test_sc, y_test), class_weight=class_weight, batch_size=100)\n"
   ]
  },
  {
   "cell_type": "code",
   "execution_count": 73,
   "metadata": {},
   "outputs": [],
   "source": [
    "def plot_metrics(history): # plotting function\n",
    "    plt.figure(figsize=(12,10)) # figsize\n",
    "    metrics =  ['loss', 'precision','auc','recall'] # returns subplots of these 4 metrics\n",
    "    for n, metric in enumerate(metrics): \n",
    "        name = metric.capitalize() # to label axis\n",
    "        plt.subplot(2,2,n+1)\n",
    "        plt.plot(history.history[metric], label='Training'), # plotting training and testing\n",
    "        plt.plot(history.history['val_'+metric], label='Testing')    \n",
    "        plt.xlabel('Epoch') # x will show the Epoch location\n",
    "        plt.ylabel(name) # Metric name from above\n",
    "        plt.legend() # show legend\n"
   ]
  },
  {
   "cell_type": "code",
   "execution_count": 74,
   "metadata": {},
   "outputs": [
    {
     "data": {
      "image/png": "[encoded data removed]",
      "text/plain": [
       "<Figure size 864x720 with 4 Axes>"
      ]
     },
     "metadata": {
      "needs_background": "light"
     },
     "output_type": "display_data"
    }
   ],
   "source": [
    "plot_metrics(history)"
   ]
  },
  {
   "cell_type": "code",
   "execution_count": 33,
   "metadata": {},
   "outputs": [],
   "source": [
    "train_predictions_baseline = model.predict(X_train, batch_size=80)\n",
    "test_predictions_baseline = model.predict(X_test, batch_size=80)"
   ]
  },
  {
   "cell_type": "code",
   "execution_count": 34,
   "metadata": {},
   "outputs": [],
   "source": [
    "def plot_cm(labels, predictions, p=0.5):\n",
    "  cm = confusion_matrix(labels, predictions > p)\n",
    "  plt.figure(figsize=(5,5))\n",
    "  sns.heatmap(cm, annot=True, fmt=\"d\")\n",
    "  plt.title('Confusion matrix @{:.2f}'.format(p))\n",
    "  plt.ylabel('Actual label')\n",
    "  plt.xlabel('Predicted label')\n",
    "\n",
    "  print('Legitimate Transactions Detected (True Negatives): ', cm[0][0])\n",
    "  print('Legitimate Transactions Incorrectly Detected (False Positives): ', cm[0][1])\n",
    "  print('Fraudulent Transactions Missed (False Negatives): ', cm[1][0])\n",
    "  print('Fraudulent Transactions Detected (True Positives): ', cm[1][1])\n",
    "  print('Total Fraudulent Transactions: ', np.sum(cm[1]))"
   ]
  },
  {
   "cell_type": "code",
   "execution_count": 35,
   "metadata": {},
   "outputs": [
    {
     "name": "stdout",
     "output_type": "stream",
     "text": [
      "Legitimate Transactions Detected (True Negatives):  19\n",
      "Legitimate Transactions Incorrectly Detected (False Positives):  2157\n",
      "Fraudulent Transactions Missed (False Negatives):  6\n",
      "Fraudulent Transactions Detected (True Positives):  682\n",
      "Total Fraudulent Transactions:  688\n"
     ]
    },
    {
     "data": {
      "image/png": "[encoded data removed]",
      "text/plain": [
       "<Figure size 360x360 with 2 Axes>"
      ]
     },
     "metadata": {
      "needs_background": "light"
     },
     "output_type": "display_data"
    }
   ],
   "source": [
    "plot_cm(y_test, test_predictions_baseline)"
   ]
  },
  {
   "cell_type": "code",
   "execution_count": null,
   "metadata": {},
   "outputs": [],
   "source": []
  }
 ],
 "metadata": {
  "kernelspec": {
   "display_name": "Python 3",
   "language": "python",
   "name": "python3"
  },
  "language_info": {
   "codemirror_mode": {
    "name": "ipython",
    "version": 3
   },
   "file_extension": ".py",
   "mimetype": "text/x-python",
   "name": "python",
   "nbconvert_exporter": "python",
   "pygments_lexer": "ipython3",
   "version": "3.8.3"
  }
 },
 "nbformat": 4,
 "nbformat_minor": 4
}
