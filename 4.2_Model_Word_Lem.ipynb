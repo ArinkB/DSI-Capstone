{
 "cells": [
  {
   "cell_type": "markdown",
   "metadata": {},
   "source": [
    "# Modeling with Lemmatized Words\n",
    "In this notebook I plan to run the same models as the previous notebook, with the exception of lemmatizing the words prior to vectorizing and modeling. This will take the words to a more meaningful base form, and therefore have less words for the models to place. without lemmatizing I may have words like dance, dancing, danced, dances, after lemmatizing all these words would fall under dance.\n",
    "\n",
    "#### Table of Contents\n",
    "<br>`Pre-Processing`</br>\n",
    "\n",
    "- [Baseline & Target](#target)\n",
    "- [Pipeline & GridSearch Function](#pipe)\n",
    "\n",
    "<br>`Modeling`</br>\n",
    "\n",
    "- [MultinomialNB](#Mnb)\n",
    "- [BernoulliNB](#Bnb)\n",
    "- [Ada Boost](#ada)\n",
    "\n",
    "<br>`Conclusion`</br>\n",
    "\n",
    "- [TLDR](#conc)    "
   ]
  },
  {
   "cell_type": "markdown",
   "metadata": {},
   "source": [
    "### Importing Libraries"
   ]
  },
  {
   "cell_type": "code",
   "execution_count": 1,
   "metadata": {},
   "outputs": [],
   "source": [
    "import numpy as np\n",
    "import pandas as pd\n",
    "\n",
    "from sklearn.feature_extraction.text import CountVectorizer, TfidfVectorizer\n",
    "from sklearn.feature_extraction import text # to add more stopwords\n",
    "\n",
    "from sklearn.model_selection import train_test_split, cross_val_score, GridSearchCV\n",
    "from sklearn.pipeline import Pipeline\n",
    "from sklearn.metrics import confusion_matrix, plot_confusion_matrix, accuracy_score, precision_score, f1_score, recall_score\n",
    "\n",
    "from sklearn.naive_bayes import MultinomialNB, BernoulliNB\n",
    "from sklearn.linear_model import LogisticRegression\n",
    "from sklearn.ensemble import AdaBoostClassifier, RandomForestClassifier\n",
    "\n",
    "from nltk.stem import WordNetLemmatizer "
   ]
  },
  {
   "cell_type": "code",
   "execution_count": 2,
   "metadata": {},
   "outputs": [],
   "source": [
    "df = pd.read_csv('./data/lyrics_cleaned.csv')"
   ]
  },
  {
   "cell_type": "markdown",
   "metadata": {},
   "source": [
    "### Baseline Score<a id='target'></a>"
   ]
  },
  {
   "cell_type": "code",
   "execution_count": 3,
   "metadata": {},
   "outputs": [
    {
     "data": {
      "text/plain": [
       "0    0.75993\n",
       "1    0.24007\n",
       "Name: skip, dtype: float64"
      ]
     },
     "execution_count": 3,
     "metadata": {},
     "output_type": "execute_result"
    }
   ],
   "source": [
    "df[\"skip\"].value_counts(normalize=True)"
   ]
  },
  {
   "cell_type": "markdown",
   "metadata": {},
   "source": [
    "### Pre-Processing"
   ]
  },
  {
   "cell_type": "markdown",
   "metadata": {},
   "source": [
    "There are some words that I don't want displayed on screen so I will replace them as 'vulgar', they can still help my model with it's predictions. These words are not so much easy predictors, as much as they are words that I don't feel comfortable being part of my visualizations or my publicly viewable project."
   ]
  },
  {
   "cell_type": "code",
   "execution_count": 4,
   "metadata": {},
   "outputs": [],
   "source": [
    "some_words = open(\"./data/drop_words.txt\").read().split()\n",
    "\n",
    "for i in some_words:   \n",
    "    df['lyrics'] = df['lyrics'].str.lower().str.replace(rf\"\\b{i}\\b\", 'vulgar')"
   ]
  },
  {
   "cell_type": "markdown",
   "metadata": {},
   "source": [
    "To lemmatize my words, I first have to iterate through each value in the row if the lyrics column, then I have to split the values into separate words and lemmatize them. In the process the string in the column because a list of the words, I then need to reiterate through the values in the column and rejoin the list to be one string, so that they can be split apart correctly in the vectorizer in the pipeline\n",
    "<br>Let's see what the lyrics look like prior to lemmatizing:</br>"
   ]
  },
  {
   "cell_type": "code",
   "execution_count": 5,
   "metadata": {},
   "outputs": [
    {
     "data": {
      "text/plain": [
       "'drank young money   love in a thousand different flavors i wish that i could taste them all tonight no, i aint got no dinner plans so you should bring all your friends i swear that a-all yall my type   all you girls in here, if youre feeling thirsty come on take a sip cause you know what im servin, ooh   shimmy shimmy yay, shimmy yay, shimmy ya (drank) swalla-la-la (drank) swalla-la-la (swalla-la-la) swalla-la-la shimmy shimmy yay, shimmy yay, shimmy ya (drank) swalla-la-la (drank) swalla-la-la (swalla-la-la) swalla-la-la freaky, freaky gyal my freaky, freaky gyal   shimmy shimmy shimmy yay, shimmy yah bad girls gon swalla-la-la bust down on my wrist in this bitch my pinky-ring bigger than his met her out in beverly hills, ay dolla got too many girls, ay met her out in beverly hills all she wear is red bottom heels when she back it up, put it on the snap when she droppin low, put it on the gram dj poppin, she gon swallow that champagne poppin, she gon swallow that   all you girls in here, if youre feeling thirsty come on take a sip cause you know what im servin, ooh   shimmy shimmy yay, shimmy yay, shimmy ya (drank) swalla-la-la (drank) swalla-la-la (swalla-la-la) swalla-la-la shimmy shimmy yay, shimmy yay, shimmy ya (drank) swalla-la-la (drank) swalla-la-la (swalla-la-la) swalla-la-la freaky, freaky gyal my freaky, freaky gyal   bad gyal no swalla nuttin, word to the dalai lama he know im a fashion killa, word to john galliano he copping that valentino, aint no telling me \"no\" im that bitch, and he know, he know how yall wifing these thots? you dont get wins for that im having another good year, we dont get blimps for that pussy game still cold, we dont get minks for that when im poppin them bananas, we dont link chimps for that i gave these bitches two years, now your times up bless her heart, she throwing shots but every line sucks im in that cherry red foreign with the brown guts my shit slappin like dude did lebrons nuts   all you girls in here, if youre feeling thirsty come on take a sip cause you know what im servin   shimmy shimmy yay, shimmy yay, shimmy ya (my love) (drank) swalla-la-la (my love) (drank) swalla-la-la (swalla-la-la) swalla-la-la shimmy shimmy yay, shimmy yay, shimmy ya (kyuh!) (drank) swalla-la-la (drank) swalla-la-la (swalla-la-la) swalla-la-la   young money swalla-la-la j.d freaky, freaky gyal swalla-la-la my freaky, freaky gyal swalla-la-la my freaky, freaky gyal swalla-la-la my freaky, freaky gyal derulo'"
      ]
     },
     "execution_count": 5,
     "metadata": {},
     "output_type": "execute_result"
    }
   ],
   "source": [
    "before = df['lyrics'][0]\n",
    "before"
   ]
  },
  {
   "cell_type": "code",
   "execution_count": 6,
   "metadata": {},
   "outputs": [],
   "source": [
    "lemmatizer = WordNetLemmatizer() #instantiate model\n",
    "df['lyrics'] = df['lyrics'].map(lambda x: [lemmatizer.lemmatize(word) for word in x.split()]) # for each row in the lyrics column, split the words and lemmatize\n",
    "df['lyrics'] =  df['lyrics'].map(lambda x: ' '.join(x)) # for each row in the lyrics column rejoin the individual words"
   ]
  },
  {
   "cell_type": "code",
   "execution_count": 7,
   "metadata": {},
   "outputs": [
    {
     "data": {
      "text/plain": [
       "'drank young money love in a thousand different flavor i wish that i could taste them all tonight no, i aint got no dinner plan so you should bring all your friend i swear that a-all yall my type all you girl in here, if youre feeling thirsty come on take a sip cause you know what im servin, ooh shimmy shimmy yay, shimmy yay, shimmy ya (drank) swalla-la-la (drank) swalla-la-la (swalla-la-la) swalla-la-la shimmy shimmy yay, shimmy yay, shimmy ya (drank) swalla-la-la (drank) swalla-la-la (swalla-la-la) swalla-la-la freaky, freaky gyal my freaky, freaky gyal shimmy shimmy shimmy yay, shimmy yah bad girl gon swalla-la-la bust down on my wrist in this bitch my pinky-ring bigger than his met her out in beverly hills, ay dolla got too many girls, ay met her out in beverly hill all she wear is red bottom heel when she back it up, put it on the snap when she droppin low, put it on the gram dj poppin, she gon swallow that champagne poppin, she gon swallow that all you girl in here, if youre feeling thirsty come on take a sip cause you know what im servin, ooh shimmy shimmy yay, shimmy yay, shimmy ya (drank) swalla-la-la (drank) swalla-la-la (swalla-la-la) swalla-la-la shimmy shimmy yay, shimmy yay, shimmy ya (drank) swalla-la-la (drank) swalla-la-la (swalla-la-la) swalla-la-la freaky, freaky gyal my freaky, freaky gyal bad gyal no swalla nuttin, word to the dalai lama he know im a fashion killa, word to john galliano he copping that valentino, aint no telling me \"no\" im that bitch, and he know, he know how yall wifing these thots? you dont get win for that im having another good year, we dont get blimp for that pussy game still cold, we dont get mink for that when im poppin them bananas, we dont link chimp for that i gave these bitch two years, now your time up bless her heart, she throwing shot but every line suck im in that cherry red foreign with the brown gut my shit slappin like dude did lebrons nut all you girl in here, if youre feeling thirsty come on take a sip cause you know what im servin shimmy shimmy yay, shimmy yay, shimmy ya (my love) (drank) swalla-la-la (my love) (drank) swalla-la-la (swalla-la-la) swalla-la-la shimmy shimmy yay, shimmy yay, shimmy ya (kyuh!) (drank) swalla-la-la (drank) swalla-la-la (swalla-la-la) swalla-la-la young money swalla-la-la j.d freaky, freaky gyal swalla-la-la my freaky, freaky gyal swalla-la-la my freaky, freaky gyal swalla-la-la my freaky, freaky gyal derulo'"
      ]
     },
     "execution_count": 7,
     "metadata": {},
     "output_type": "execute_result"
    }
   ],
   "source": [
    "after = df['lyrics'][0]\n",
    "after"
   ]
  },
  {
   "cell_type": "markdown",
   "metadata": {},
   "source": [
    "After Lemmatizing the lyrics look similar there are some minor changes in this specific song, I'll iterate through the words in the before lemmatize and pull out the words that are no longer in the after lemmatize:"
   ]
  },
  {
   "cell_type": "code",
   "execution_count": 8,
   "metadata": {},
   "outputs": [
    {
     "name": "stdout",
     "output_type": "stream",
     "text": [
      "flavors\n",
      "plans\n",
      "friends\n",
      "heels\n",
      "wins\n",
      "blimps\n",
      "minks\n",
      "chimps\n",
      "bitches\n",
      "times\n",
      "shots\n",
      "sucks\n",
      "guts\n",
      "nuts\n"
     ]
    }
   ],
   "source": [
    "for word in before.split():\n",
    "    if word not in after:\n",
    "        print(word)"
   ]
  },
  {
   "cell_type": "markdown",
   "metadata": {},
   "source": [
    "In this case the lematizer just removed the pluralization of these words, in other lyrics it removes past tense, active etc."
   ]
  },
  {
   "cell_type": "markdown",
   "metadata": {},
   "source": [
    "### Train Test Split\n",
    "Same as the last set of models, X will be the lyrics and y (target) is the Skip classes\n"
   ]
  },
  {
   "cell_type": "code",
   "execution_count": 9,
   "metadata": {},
   "outputs": [],
   "source": [
    "X = df['lyrics']\n",
    "y = df['skip']"
   ]
  },
  {
   "cell_type": "code",
   "execution_count": 10,
   "metadata": {},
   "outputs": [
    {
     "data": {
      "text/plain": [
       "((8591,), (2864,), (8591,), (2864,))"
      ]
     },
     "execution_count": 10,
     "metadata": {},
     "output_type": "execute_result"
    }
   ],
   "source": [
    "# since the categories are unbalanced I will stratify y\n",
    "X_train, X_test, y_train, y_test = train_test_split(X, y, random_state=42, stratify=y) \n",
    "# Check shapes of the split\n",
    "X_train.shape, X_test.shape, y_train.shape, y_test.shape"
   ]
  },
  {
   "cell_type": "markdown",
   "metadata": {},
   "source": [
    "## TLDR:<a id='conc'></a>\n",
    "<b>All the models here scored slightly lower than the models in the first notebook, may have to re-tweak the word lemmatizer</b>"
   ]
  },
  {
   "cell_type": "markdown",
   "metadata": {},
   "source": [
    "### Pipeline Fucntion<a id='pipe'></a>"
   ]
  },
  {
   "cell_type": "code",
   "execution_count": 11,
   "metadata": {},
   "outputs": [],
   "source": [
    "def start_pipeline(vect, model, color, pipe_params): # takes type of vectorizer, model, color of confusion matrix, and pipe params\n",
    "    \n",
    "    # Types of Vectorizers\n",
    "    if vect == 'cv':\n",
    "        instantiate_vect = CountVectorizer\n",
    "        vect_name = 'CountVectorizer'\n",
    "    elif vect == 'tvec':\n",
    "        instantiate_vect = TfidfVectorizer\n",
    "        vect_name = 'TfidfVectorizer'\n",
    "        \n",
    "      # Types of Models  \n",
    "    if model == 'Mnb':\n",
    "        instantiate_model = MultinomialNB\n",
    "        model_name = 'MultinomialNB'\n",
    "    elif model == 'Bnb':\n",
    "        instantiate_model = BernoulliNB\n",
    "        model_name = 'BernoulliNB'\n",
    "    elif model == 'lg':\n",
    "        instantiate_model = LogisticRegression\n",
    "        model_name = 'LogisticRegression'\n",
    "    elif model == 'ada':\n",
    "        instantiate_model = AdaBoostClassifier\n",
    "        model_name = 'AdaBoostClassifier'     \n",
    "    elif model == 'rdf':\n",
    "        instantiate_model = RandomForestClassifier\n",
    "        model_name = 'RandomForestClassifier'\n",
    "          \n",
    "        \n",
    "        #----- Pipeline-----#\n",
    "    \n",
    "    pipe = Pipeline([\n",
    "    (vect , instantiate_vect(stop_words = 'english')), # transformer\n",
    "    (model , instantiate_model()) # estimator\n",
    "    ])\n",
    "\n",
    "    # --- Gridsearch----#\n",
    "    gs = GridSearchCV(pipe,\n",
    "                 pipe_params, # defined outside of function for easy change\n",
    "                 cv=5,\n",
    "                 verbose = 1,\n",
    "                 n_jobs=-1)\n",
    "    \n",
    "    \n",
    "    gs.fit(X_train,y_train) # fitting X_train and y_train\n",
    "    preds = gs.predict(X_test) # predict test\n",
    "    train_preds = gs.predict(X_train) # predict train\n",
    "    \n",
    "    #------ Scores & Params------- #\n",
    "    print(f'Gridsearch best score is: {gs.best_score_}')\n",
    "    print('')\n",
    "    print(f'Gridsearch best params are: {gs.best_params_}')\n",
    "    print('')\n",
    "    print(f'{model_name} with {vect_name} Train Score :  {gs.score(X_train, y_train)*100:.2f}%')\n",
    "    print(f'{model_name} with {vect_name}  Test Score  : {gs.score(X_test, y_test)*100:.2f}%')\n",
    "    print('')\n",
    "    print(f'{model_name} with {vect_name}  F1- Train Score: {f1_score(y_train, train_preds)}')\n",
    "    print(f'{model_name} with {vect_name}  F1- Test Score:  {f1_score(y_test, preds)}')\n",
    "    print('')\n",
    "    \n",
    "     # ----- Predictions ------ #\n",
    "        \n",
    "    print(f\"{(precision_score(y_test, preds))*100:.2f}% of the words were predicted correctly by the model.\")\n",
    "    print(f\"{(recall_score(y_test, preds))*100:.2f}% of the Skipped songs were found.\")\n",
    "\n",
    "    tn, fp, fn, tp = confusion_matrix(y_test, preds).ravel()\n",
    "    print(f\"The specificity is: {(tn / (tn + fp))*100:.2f}%\")\n",
    "    \n",
    "    plot_confusion_matrix(gs, X_test, y_test, cmap= color);"
   ]
  },
  {
   "cell_type": "markdown",
   "metadata": {},
   "source": [
    "In my note review of each upcoming model, I will make comparison notes to the first notebook, since the only thing that has changed between these two is the lemmatized words"
   ]
  },
  {
   "cell_type": "markdown",
   "metadata": {},
   "source": [
    "### Multinomial Naive Bayes with Count Vectorizer<a id='Mnb'></a>"
   ]
  },
  {
   "cell_type": "code",
   "execution_count": 12,
   "metadata": {},
   "outputs": [
    {
     "name": "stdout",
     "output_type": "stream",
     "text": [
      "Fitting 5 folds for each of 48 candidates, totalling 240 fits\n"
     ]
    },
    {
     "name": "stderr",
     "output_type": "stream",
     "text": [
      "[Parallel(n_jobs=-1)]: Using backend LokyBackend with 12 concurrent workers.\n",
      "[Parallel(n_jobs=-1)]: Done  26 tasks      | elapsed:   35.9s\n",
      "[Parallel(n_jobs=-1)]: Done 176 tasks      | elapsed:  3.5min\n",
      "[Parallel(n_jobs=-1)]: Done 240 out of 240 | elapsed:  4.8min finished\n"
     ]
    },
    {
     "name": "stdout",
     "output_type": "stream",
     "text": [
      "Gridsearch best score is: 0.7891974988842769\n",
      "\n",
      "Gridsearch best params are: {'cv__max_df': 0.5, 'cv__max_features': 5500, 'cv__min_df': 2, 'cv__ngram_range': (1, 1)}\n",
      "\n",
      "MultinomialNB with CountVectorizer Train Score :  81.91%\n",
      "MultinomialNB with CountVectorizer  Test Score  : 79.05%\n",
      "\n",
      "MultinomialNB with CountVectorizer  F1- Train Score: 0.6537433155080214\n",
      "MultinomialNB with CountVectorizer  F1- Test Score:  0.6036988110964332\n",
      "\n",
      "55.33% of the words were predicted correctly by the model.\n",
      "66.42% of the Skipped songs were found.\n",
      "The specificity is: 83.04%\n"
     ]
    },
    {
     "data": {
      "image/png": "[encoded data removed]",
      "text/plain": [
       "<Figure size 432x288 with 2 Axes>"
      ]
     },
     "metadata": {
      "needs_background": "light"
     },
     "output_type": "display_data"
    }
   ],
   "source": [
    "start_pipeline('cv', 'Mnb', 'Blues', pipe_params = {\n",
    "                                'cv__max_features': [2_000, 4_500, 5_000, 5_500],\n",
    "                                'cv__min_df' : [2,3], # ignore terms that show up less than 2 or 3 times in corpus\n",
    "                                'cv__max_df' : [.5, .95], # ignore terms that show up either more than 50% or 95% of the corpus\n",
    "                                'cv__ngram_range' : [(1,1), (1,2), (1,3)], # single words and bigrams\n",
    "})"
   ]
  },
  {
   "cell_type": "markdown",
   "metadata": {},
   "source": [
    "Slight Increase in overall scores however still overfit"
   ]
  },
  {
   "cell_type": "markdown",
   "metadata": {},
   "source": [
    "### Multinomial Naive Bayes with TFIDF Vectorizer"
   ]
  },
  {
   "cell_type": "code",
   "execution_count": 13,
   "metadata": {},
   "outputs": [
    {
     "name": "stdout",
     "output_type": "stream",
     "text": [
      "Fitting 5 folds for each of 48 candidates, totalling 240 fits\n"
     ]
    },
    {
     "name": "stderr",
     "output_type": "stream",
     "text": [
      "[Parallel(n_jobs=-1)]: Using backend LokyBackend with 12 concurrent workers.\n",
      "[Parallel(n_jobs=-1)]: Done  26 tasks      | elapsed:   34.1s\n",
      "[Parallel(n_jobs=-1)]: Done 176 tasks      | elapsed:  3.5min\n",
      "[Parallel(n_jobs=-1)]: Done 240 out of 240 | elapsed:  4.9min finished\n"
     ]
    },
    {
     "name": "stdout",
     "output_type": "stream",
     "text": [
      "Gridsearch best score is: 0.8058442890897529\n",
      "\n",
      "Gridsearch best params are: {'tvec__max_df': 0.5, 'tvec__max_features': 4000, 'tvec__min_df': 2, 'tvec__ngram_range': (1, 3)}\n",
      "\n",
      "MultinomialNB with TfidfVectorizer Train Score :  82.24%\n",
      "MultinomialNB with TfidfVectorizer  Test Score  : 80.55%\n",
      "\n",
      "MultinomialNB with TfidfVectorizer  F1- Train Score: 0.5971488912354804\n",
      "MultinomialNB with TfidfVectorizer  F1- Test Score:  0.5547561950439649\n",
      "\n",
      "61.63% of the words were predicted correctly by the model.\n",
      "50.44% of the Skipped songs were found.\n",
      "The specificity is: 90.07%\n"
     ]
    },
    {
     "data": {
      "image/png": "[encoded data removed]",
      "text/plain": [
       "<Figure size 432x288 with 2 Axes>"
      ]
     },
     "metadata": {
      "needs_background": "light"
     },
     "output_type": "display_data"
    }
   ],
   "source": [
    "\n",
    "start_pipeline('tvec', 'Mnb', 'Blues', pipe_params = {\n",
    "                                                        'tvec__max_features': [4_000, 5_000, 6_000, 7_000],\n",
    "                                                        'tvec__ngram_range': [(1,1), (1,2), (1,3)],\n",
    "                                                        'tvec__min_df' : [2,3], \n",
    "                                                        'tvec__max_df' : [.5, .95]})"
   ]
  },
  {
   "cell_type": "markdown",
   "metadata": {},
   "source": [
    "Again slightly better, scores have gotten closer to eachother compared to countvectorizer model and first notebook model, but still overfit"
   ]
  },
  {
   "cell_type": "markdown",
   "metadata": {},
   "source": [
    "### Bernoulli Naive Bayes with Count Vectorizer<a id='Bnb'></a>"
   ]
  },
  {
   "cell_type": "code",
   "execution_count": 14,
   "metadata": {},
   "outputs": [
    {
     "name": "stdout",
     "output_type": "stream",
     "text": [
      "Fitting 5 folds for each of 240 candidates, totalling 1200 fits\n"
     ]
    },
    {
     "name": "stderr",
     "output_type": "stream",
     "text": [
      "[Parallel(n_jobs=-1)]: Using backend LokyBackend with 12 concurrent workers.\n",
      "[Parallel(n_jobs=-1)]: Done  26 tasks      | elapsed:   35.9s\n",
      "[Parallel(n_jobs=-1)]: Done 176 tasks      | elapsed:  3.9min\n",
      "[Parallel(n_jobs=-1)]: Done 426 tasks      | elapsed:  8.6min\n",
      "[Parallel(n_jobs=-1)]: Done 776 tasks      | elapsed: 17.6min\n",
      "[Parallel(n_jobs=-1)]: Done 1200 out of 1200 | elapsed: 29.5min finished\n"
     ]
    },
    {
     "name": "stdout",
     "output_type": "stream",
     "text": [
      "Gridsearch best score is: 0.7945530369675089\n",
      "\n",
      "Gridsearch best params are: {'Bnb__alpha': 0.425, 'cv__max_df': 0.5, 'cv__max_features': 9000, 'cv__min_df': 3, 'cv__ngram_range': (1, 3)}\n",
      "\n",
      "BernoulliNB with CountVectorizer Train Score :  80.19%\n",
      "BernoulliNB with CountVectorizer  Test Score  : 79.68%\n",
      "\n",
      "BernoulliNB with CountVectorizer  F1- Train Score: 0.6529363784665579\n",
      "BernoulliNB with CountVectorizer  F1- Test Score:  0.6442542787286064\n",
      "\n",
      "55.59% of the words were predicted correctly by the model.\n",
      "76.60% of the Skipped songs were found.\n",
      "The specificity is: 80.65%\n"
     ]
    },
    {
     "data": {
      "image/png": "[encoded data removed]",
      "text/plain": [
       "<Figure size 432x288 with 2 Axes>"
      ]
     },
     "metadata": {
      "needs_background": "light"
     },
     "output_type": "display_data"
    }
   ],
   "source": [
    "start_pipeline('cv', 'Bnb', 'Greens', pipe_params = {\n",
    "                                                    'Bnb__alpha' : np.linspace(0.2,0.5,5),\n",
    "                                                    'cv__max_features': [5_000, 5_500, 7_000, 9_000],\n",
    "                                                    'cv__min_df' : [2,3],\n",
    "                                                    'cv__max_df' : [.5, .95],\n",
    "                                                    'cv__ngram_range' : [(1,1), (1,2), (1,3)]})"
   ]
  },
  {
   "cell_type": "markdown",
   "metadata": {},
   "source": [
    "Slight drop from first notebook"
   ]
  },
  {
   "cell_type": "markdown",
   "metadata": {},
   "source": [
    "### Bernoulli Naive Bayes with TFIDF Vectorizer"
   ]
  },
  {
   "cell_type": "code",
   "execution_count": null,
   "metadata": {},
   "outputs": [
    {
     "name": "stdout",
     "output_type": "stream",
     "text": [
      "Fitting 5 folds for each of 240 candidates, totalling 1200 fits\n"
     ]
    },
    {
     "name": "stderr",
     "output_type": "stream",
     "text": [
      "[Parallel(n_jobs=-1)]: Using backend LokyBackend with 12 concurrent workers.\n",
      "[Parallel(n_jobs=-1)]: Done  26 tasks      | elapsed:   42.5s\n",
      "[Parallel(n_jobs=-1)]: Done 176 tasks      | elapsed:  4.9min\n"
     ]
    }
   ],
   "source": [
    "start_pipeline('tvec', 'Bnb', 'Greens', pipe_params = {\n",
    "                                                'Bnb__alpha' : np.linspace(0.2,0.5,5),\n",
    "                                                'tvec__max_features': [4_000, 5_000, 6_000, 7_000],\n",
    "                                                'tvec__ngram_range': [(1,1), (1,2), (1,3)],\n",
    "                                                'tvec__min_df' : [2,3], \n",
    "                                                'tvec__max_df' : [.5, .95],\n",
    "})"
   ]
  },
  {
   "cell_type": "markdown",
   "metadata": {},
   "source": [
    "Better than countvectorizer, but still slightly less than the previous notebook. I do like the closeness is scores though"
   ]
  },
  {
   "cell_type": "markdown",
   "metadata": {},
   "source": [
    "### Ada Boost with Count Vectorizer<a id='ada'></a>"
   ]
  },
  {
   "cell_type": "code",
   "execution_count": null,
   "metadata": {},
   "outputs": [],
   "source": [
    "start_pipeline('cv', 'ada', 'Reds', pipe_params = {'cv__max_features': [5_000, 5_500, 9_000],\n",
    "                                           'cv__min_df' : [2,3],\n",
    "                                           'cv__max_df' : [.5, .95],\n",
    "                                           'cv__ngram_range' : [(1,1), (1,2), (1,3)]})"
   ]
  },
  {
   "cell_type": "markdown",
   "metadata": {},
   "source": [
    "Again, great closeness, minimal misclassification, however slightly lower than the first notebook. We've lost about 3% on precision"
   ]
  },
  {
   "cell_type": "markdown",
   "metadata": {},
   "source": [
    "### Ada Boost with TFIDF Vectorizer"
   ]
  },
  {
   "cell_type": "code",
   "execution_count": null,
   "metadata": {},
   "outputs": [],
   "source": [
    "start_pipeline('tvec', 'ada', 'Reds', pipe_params = {'tvec__max_features': [5_000, 5_500, 9_000],\n",
    "                                           'tvec__min_df' : [2,3],\n",
    "                                           'tvec__max_df' : [.5, .95],\n",
    "                                           'tvec__ngram_range' : [(1,1), (1,2), (1,3)]})"
   ]
  },
  {
   "cell_type": "markdown",
   "metadata": {},
   "source": [
    "Similar, better all around but lower than not lemmatizing"
   ]
  }
 ],
 "metadata": {
  "kernelspec": {
   "display_name": "Python 3",
   "language": "python",
   "name": "python3"
  },
  "language_info": {
   "codemirror_mode": {
    "name": "ipython",
    "version": 3
   },
   "file_extension": ".py",
   "mimetype": "text/x-python",
   "name": "python",
   "nbconvert_exporter": "python",
   "pygments_lexer": "ipython3",
   "version": "3.8.3"
  }
 },
 "nbformat": 4,
 "nbformat_minor": 4
}
