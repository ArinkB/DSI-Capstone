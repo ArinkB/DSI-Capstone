{
 "cells": [
  {
   "cell_type": "code",
   "execution_count": 16,
   "metadata": {},
   "outputs": [],
   "source": [
    "\n",
    "# Importing Libraries\n",
    "import numpy as np\n",
    "import pandas as pd\n",
    "\n",
    "import matplotlib.pyplot as plt\n",
    "import seaborn as sns\n",
    "%matplotlib inline\n",
    "\n",
    "from sklearn.feature_extraction.text import CountVectorizer, TfidfVectorizer\n",
    "from sklearn.feature_extraction import text # to add more stopwords\n",
    "\n",
    "from sklearn.model_selection import train_test_split, cross_val_score, GridSearchCV\n",
    "from sklearn.pipeline import Pipeline\n",
    "from sklearn.metrics import confusion_matrix, plot_confusion_matrix, accuracy_score, precision_score, f1_score\n",
    "\n",
    "from sklearn.naive_bayes import MultinomialNB, BernoulliNB"
   ]
  },
  {
   "cell_type": "code",
   "execution_count": 17,
   "metadata": {},
   "outputs": [],
   "source": [
    "df = pd.read_csv('./data/lyrics_cleaned.csv')"
   ]
  },
  {
   "cell_type": "code",
   "execution_count": 20,
   "metadata": {},
   "outputs": [
    {
     "data": {
      "text/html": [
       "<div>\n",
       "<style scoped>\n",
       "    .dataframe tbody tr th:only-of-type {\n",
       "        vertical-align: middle;\n",
       "    }\n",
       "\n",
       "    .dataframe tbody tr th {\n",
       "        vertical-align: top;\n",
       "    }\n",
       "\n",
       "    .dataframe thead th {\n",
       "        text-align: right;\n",
       "    }\n",
       "</style>\n",
       "<table border=\"1\" class=\"dataframe\">\n",
       "  <thead>\n",
       "    <tr style=\"text-align: right;\">\n",
       "      <th></th>\n",
       "      <th>artist</th>\n",
       "      <th>featured</th>\n",
       "      <th>aliases</th>\n",
       "      <th>title</th>\n",
       "      <th>track_id</th>\n",
       "      <th>explicit</th>\n",
       "      <th>release_year</th>\n",
       "      <th>lyrics</th>\n",
       "      <th>skip</th>\n",
       "    </tr>\n",
       "  </thead>\n",
       "  <tbody>\n",
       "    <tr>\n",
       "      <th>5762</th>\n",
       "      <td>Rick Astley</td>\n",
       "      <td>NaN</td>\n",
       "      <td>Rick, Astley</td>\n",
       "      <td>Never Gonna Give You Up</td>\n",
       "      <td>7GhIk7Il098yCjg4BQjzvb</td>\n",
       "      <td>False</td>\n",
       "      <td>1987</td>\n",
       "      <td>Were no strangers to love You know the rules a...</td>\n",
       "      <td>0</td>\n",
       "    </tr>\n",
       "    <tr>\n",
       "      <th>5763</th>\n",
       "      <td>Rick Astley</td>\n",
       "      <td>NaN</td>\n",
       "      <td>Rick, Astley</td>\n",
       "      <td>Together Forever</td>\n",
       "      <td>6ZiVaOE4ikIsYbuhVHizz9</td>\n",
       "      <td>False</td>\n",
       "      <td>1987</td>\n",
       "      <td>If theres anything you need All you have to do...</td>\n",
       "      <td>0</td>\n",
       "    </tr>\n",
       "    <tr>\n",
       "      <th>5764</th>\n",
       "      <td>Rick Astley</td>\n",
       "      <td>NaN</td>\n",
       "      <td>Rick, Astley</td>\n",
       "      <td>Dance</td>\n",
       "      <td>4mFtfh6vWW3tXyxAhDCt7h</td>\n",
       "      <td>False</td>\n",
       "      <td>2016</td>\n",
       "      <td>God walks home through the local park Meets th...</td>\n",
       "      <td>0</td>\n",
       "    </tr>\n",
       "    <tr>\n",
       "      <th>5765</th>\n",
       "      <td>Rick Astley</td>\n",
       "      <td>NaN</td>\n",
       "      <td>Rick, Astley</td>\n",
       "      <td>Keep Singing</td>\n",
       "      <td>6TdHgARbMSVuftE4Lb0dHY</td>\n",
       "      <td>False</td>\n",
       "      <td>2016</td>\n",
       "      <td>When I was a boy I saw my daddy crying at the ...</td>\n",
       "      <td>0</td>\n",
       "    </tr>\n",
       "    <tr>\n",
       "      <th>5766</th>\n",
       "      <td>Rick Astley</td>\n",
       "      <td>NaN</td>\n",
       "      <td>Rick, Astley</td>\n",
       "      <td>Angels On My Side</td>\n",
       "      <td>5EW05nJtJ9EcxDWPygONxV</td>\n",
       "      <td>False</td>\n",
       "      <td>2016</td>\n",
       "      <td>Sometimes I just dont feel like waking up Wann...</td>\n",
       "      <td>0</td>\n",
       "    </tr>\n",
       "    <tr>\n",
       "      <th>...</th>\n",
       "      <td>...</td>\n",
       "      <td>...</td>\n",
       "      <td>...</td>\n",
       "      <td>...</td>\n",
       "      <td>...</td>\n",
       "      <td>...</td>\n",
       "      <td>...</td>\n",
       "      <td>...</td>\n",
       "      <td>...</td>\n",
       "    </tr>\n",
       "    <tr>\n",
       "      <th>5854</th>\n",
       "      <td>Rick Astley</td>\n",
       "      <td>NaN</td>\n",
       "      <td>Rick, Astley</td>\n",
       "      <td>Get Lucky</td>\n",
       "      <td>NaN</td>\n",
       "      <td>NaN</td>\n",
       "      <td>2001</td>\n",
       "      <td>Like the legend of the phoenix, huh All ends w...</td>\n",
       "      <td>0</td>\n",
       "    </tr>\n",
       "    <tr>\n",
       "      <th>5855</th>\n",
       "      <td>Rick Astley</td>\n",
       "      <td>NaN</td>\n",
       "      <td>Rick, Astley</td>\n",
       "      <td>Don’t Ask</td>\n",
       "      <td>5VsqWmwtPlQGE7cVfqgWrK</td>\n",
       "      <td>False</td>\n",
       "      <td>2001</td>\n",
       "      <td>I may not always show it But deep down dont yo...</td>\n",
       "      <td>0</td>\n",
       "    </tr>\n",
       "    <tr>\n",
       "      <th>5856</th>\n",
       "      <td>Rick Astley</td>\n",
       "      <td>NaN</td>\n",
       "      <td>Rick, Astley</td>\n",
       "      <td>Breathe</td>\n",
       "      <td>2sMAAGQjuaFqscFCv5ReVD</td>\n",
       "      <td>False</td>\n",
       "      <td>2001</td>\n",
       "      <td>Paper towers of vogue and vanity fair They are...</td>\n",
       "      <td>0</td>\n",
       "    </tr>\n",
       "    <tr>\n",
       "      <th>5857</th>\n",
       "      <td>Rick Astley</td>\n",
       "      <td>NaN</td>\n",
       "      <td>Rick, Astley</td>\n",
       "      <td>Full Of You</td>\n",
       "      <td>52SCOX2Imxh7heIu4KW8Wt</td>\n",
       "      <td>False</td>\n",
       "      <td>2001</td>\n",
       "      <td>Cardboard boxes on the floor They contain memo...</td>\n",
       "      <td>0</td>\n",
       "    </tr>\n",
       "    <tr>\n",
       "      <th>5858</th>\n",
       "      <td>Rick Astley</td>\n",
       "      <td>NaN</td>\n",
       "      <td>Rick, Astley</td>\n",
       "      <td>Really Got A Problem</td>\n",
       "      <td>3BqH0DjEfuLFSZw7LihZhW</td>\n",
       "      <td>False</td>\n",
       "      <td>1991</td>\n",
       "      <td>Here we are Riding high Weve some so far We ca...</td>\n",
       "      <td>0</td>\n",
       "    </tr>\n",
       "  </tbody>\n",
       "</table>\n",
       "<p>97 rows × 9 columns</p>\n",
       "</div>"
      ],
      "text/plain": [
       "           artist featured       aliases                    title  \\\n",
       "5762  Rick Astley      NaN  Rick, Astley  Never Gonna Give You Up   \n",
       "5763  Rick Astley      NaN  Rick, Astley         Together Forever   \n",
       "5764  Rick Astley      NaN  Rick, Astley                    Dance   \n",
       "5765  Rick Astley      NaN  Rick, Astley             Keep Singing   \n",
       "5766  Rick Astley      NaN  Rick, Astley        Angels On My Side   \n",
       "...           ...      ...           ...                      ...   \n",
       "5854  Rick Astley      NaN  Rick, Astley                Get Lucky   \n",
       "5855  Rick Astley      NaN  Rick, Astley                Don’t Ask   \n",
       "5856  Rick Astley      NaN  Rick, Astley                  Breathe   \n",
       "5857  Rick Astley      NaN  Rick, Astley              Full Of You   \n",
       "5858  Rick Astley      NaN  Rick, Astley     Really Got A Problem   \n",
       "\n",
       "                    track_id explicit  release_year  \\\n",
       "5762  7GhIk7Il098yCjg4BQjzvb    False          1987   \n",
       "5763  6ZiVaOE4ikIsYbuhVHizz9    False          1987   \n",
       "5764  4mFtfh6vWW3tXyxAhDCt7h    False          2016   \n",
       "5765  6TdHgARbMSVuftE4Lb0dHY    False          2016   \n",
       "5766  5EW05nJtJ9EcxDWPygONxV    False          2016   \n",
       "...                      ...      ...           ...   \n",
       "5854                     NaN      NaN          2001   \n",
       "5855  5VsqWmwtPlQGE7cVfqgWrK    False          2001   \n",
       "5856  2sMAAGQjuaFqscFCv5ReVD    False          2001   \n",
       "5857  52SCOX2Imxh7heIu4KW8Wt    False          2001   \n",
       "5858  3BqH0DjEfuLFSZw7LihZhW    False          1991   \n",
       "\n",
       "                                                 lyrics  skip  \n",
       "5762  Were no strangers to love You know the rules a...     0  \n",
       "5763  If theres anything you need All you have to do...     0  \n",
       "5764  God walks home through the local park Meets th...     0  \n",
       "5765  When I was a boy I saw my daddy crying at the ...     0  \n",
       "5766  Sometimes I just dont feel like waking up Wann...     0  \n",
       "...                                                 ...   ...  \n",
       "5854  Like the legend of the phoenix, huh All ends w...     0  \n",
       "5855  I may not always show it But deep down dont yo...     0  \n",
       "5856  Paper towers of vogue and vanity fair They are...     0  \n",
       "5857  Cardboard boxes on the floor They contain memo...     0  \n",
       "5858  Here we are Riding high Weve some so far We ca...     0  \n",
       "\n",
       "[97 rows x 9 columns]"
      ]
     },
     "execution_count": 20,
     "metadata": {},
     "output_type": "execute_result"
    }
   ],
   "source": [
    "df[df['artist'] == 'Rick Astley']"
   ]
  },
  {
   "cell_type": "code",
   "execution_count": 3,
   "metadata": {},
   "outputs": [
    {
     "data": {
      "text/plain": [
       "0    0.75993\n",
       "1    0.24007\n",
       "Name: skip, dtype: float64"
      ]
     },
     "execution_count": 3,
     "metadata": {},
     "output_type": "execute_result"
    }
   ],
   "source": [
    "df[\"skip\"].value_counts(normalize=True)"
   ]
  },
  {
   "cell_type": "markdown",
   "metadata": {},
   "source": [
    "There are some words that I don't want displayed on screen so I will replace them as 'vulgar', they can still help my model with it's predictions. These words are not so much easy predictors, as much as they are words that I don't feel comfortable being part of my visualizations or my publicly viewable project."
   ]
  },
  {
   "cell_type": "code",
   "execution_count": 4,
   "metadata": {},
   "outputs": [],
   "source": [
    "some_words = open(\"./data/drop_words.txt\").read().split()\n",
    "\n",
    "for i in some_words:   \n",
    "    df['lyrics'] = df['lyrics'].str.lower().str.replace(rf\"\\b{i}\\b\", 'vulgar')"
   ]
  },
  {
   "cell_type": "markdown",
   "metadata": {},
   "source": [
    "Train Test Split"
   ]
  },
  {
   "cell_type": "code",
   "execution_count": 6,
   "metadata": {},
   "outputs": [],
   "source": [
    "X = df['lyrics']\n",
    "y = df['skip']"
   ]
  },
  {
   "cell_type": "code",
   "execution_count": 7,
   "metadata": {},
   "outputs": [
    {
     "data": {
      "text/plain": [
       "((8591,), (2864,), (8591,), (2864,))"
      ]
     },
     "execution_count": 7,
     "metadata": {},
     "output_type": "execute_result"
    }
   ],
   "source": [
    "# since the categories are unbalanced I will stratify y\n",
    "X_train, X_test, y_train, y_test = train_test_split(X, y, random_state=42, stratify=y) \n",
    "# Check shapes of the split\n",
    "X_train.shape, X_test.shape, y_train.shape, y_test.shape"
   ]
  },
  {
   "cell_type": "code",
   "execution_count": 10,
   "metadata": {},
   "outputs": [],
   "source": [
    "def start_pipeline(vect, model, color, pipe_params):\n",
    "    \n",
    "    if vect == 'cv':\n",
    "        instantiate_vect = CountVectorizer\n",
    "        vect_name = 'CountVectorizer'\n",
    "    elif vect == 'tvec':\n",
    "        instantiate_vect = TfidfVectorizer\n",
    "        vect_name = 'TfidfVectorizer'\n",
    "        \n",
    "    if model == 'Mnb':\n",
    "        instantiate_model = MultinomialNB\n",
    "        model_name = 'MultinomialNB'\n",
    "    elif model == 'Bnb':\n",
    "        instantiate_model = BernoulliNB\n",
    "        model_name = 'BernoulliNB'\n",
    "        \n",
    "        \n",
    "        #----- Pipeline-----#\n",
    "    \n",
    "    pipe = Pipeline([\n",
    "    (vect , instantiate_vect(stop_words = 'english')), # transformer\n",
    "    (model , instantiate_model()) # estimator\n",
    "    ])\n",
    "\n",
    "    # --- Gridsearch----#\n",
    "    gs = GridSearchCV(pipe,\n",
    "                 pipe_params, # defined outside of function for easy change\n",
    "                 cv=5,\n",
    "                 verbose = 1,\n",
    "                 n_jobs=-1)\n",
    "    \n",
    "    \n",
    "    gs.fit(X_train,y_train)\n",
    "    preds = gs.predict(X_test)\n",
    "    train_preds = gs.predict(X_train)\n",
    "    \n",
    "    #------ Scores & Params------- #\n",
    "    print(f'Gridsearch best score is: {gs.best_score_}')\n",
    "    print('')\n",
    "    print(f'Gridsearch best params are: {gs.best_params_}')\n",
    "    print('')\n",
    "    print(f'{model_name} with {vect_name} Train Score :  {gs.score(X_train, y_train)*100:.2f}%')\n",
    "    print(f'{model_name} with {vect_name}  Test Score  :  {gs.score(X_test, y_test)*100:.2f}%')\n",
    "    print('')\n",
    "    print(f'{model_name} with {vect_name}  F1- Train Score is {f1_score(y_train, train_preds)}')\n",
    "    print(f'{model_name} with {vect_name}  F1- Test Score is F1-Score is {f1_score(y_test, preds)}')\n",
    "    print('')\n",
    "    \n",
    "     # ----- Predictions ------ #\n",
    "        \n",
    "    print(f\"{(precision_score(y_test, preds))*100:.2f}% of the words were predicted correctly by the model.\")\n",
    "    \n",
    "    tn, fp, fn, tp = confusion_matrix(y_test, preds).ravel()\n",
    "    print(f\"The specificity is: {(tn / (tn + fp))*100:.2f}%\")\n",
    "    \n",
    "    plot_confusion_matrix(gs, X_test, y_test, cmap= color);"
   ]
  },
  {
   "cell_type": "code",
   "execution_count": 11,
   "metadata": {},
   "outputs": [
    {
     "name": "stdout",
     "output_type": "stream",
     "text": [
      "Fitting 5 folds for each of 48 candidates, totalling 240 fits\n"
     ]
    },
    {
     "name": "stderr",
     "output_type": "stream",
     "text": [
      "[Parallel(n_jobs=-1)]: Using backend LokyBackend with 12 concurrent workers.\n",
      "[Parallel(n_jobs=-1)]: Done  26 tasks      | elapsed:   17.0s\n",
      "[Parallel(n_jobs=-1)]: Done 176 tasks      | elapsed:  1.7min\n",
      "[Parallel(n_jobs=-1)]: Done 240 out of 240 | elapsed:  2.3min finished\n"
     ]
    },
    {
     "name": "stdout",
     "output_type": "stream",
     "text": [
      "Gridsearch best score is: 0.7893135069865591\n",
      "\n",
      "Gridsearch best params are: {'cv__max_df': 0.5, 'cv__max_features': 5000, 'cv__min_df': 2, 'cv__ngram_range': (1, 1)}\n",
      "\n",
      "MultinomialNB with CountVectorizer Train Score :  81.74%\n",
      "MultinomialNB with CountVectorizer  Test Score  :  79.05%\n",
      "\n",
      "MultinomialNB with CountVectorizer  F1- Train Score is 0.6524916943521596\n",
      "MultinomialNB with CountVectorizer  F1- Test Score is F1-Score is 0.6057818659658343\n",
      "\n",
      "55.28% of the words were predicted correctly by the model.\n",
      "The specificity is: 82.86%\n"
     ]
    },
    {
     "data": {
      "image/png": "[encoded data removed]",
      "text/plain": [
       "<Figure size 432x288 with 2 Axes>"
      ]
     },
     "metadata": {
      "needs_background": "light"
     },
     "output_type": "display_data"
    }
   ],
   "source": [
    "start_pipeline('cv', 'Mnb', 'Blues', pipe_params = {\n",
    "                                'cv__max_features': [2_000, 4_500, 5_000, 5_500],\n",
    "                                'cv__min_df' : [2,3], # ignore terms that show up less than 2 or 3 times in corpus\n",
    "                                'cv__max_df' : [.5, .95], # ignore terms that show up either more than 50% or 95% of the corpus\n",
    "                                'cv__ngram_range' : [(1,1), (1,2), (1,3)], # single words and bigrams\n",
    "})"
   ]
  },
  {
   "cell_type": "code",
   "execution_count": 12,
   "metadata": {},
   "outputs": [
    {
     "name": "stdout",
     "output_type": "stream",
     "text": [
      "Fitting 5 folds for each of 48 candidates, totalling 240 fits\n"
     ]
    },
    {
     "name": "stderr",
     "output_type": "stream",
     "text": [
      "[Parallel(n_jobs=-1)]: Using backend LokyBackend with 12 concurrent workers.\n",
      "[Parallel(n_jobs=-1)]: Done  26 tasks      | elapsed:   17.1s\n",
      "[Parallel(n_jobs=-1)]: Done 176 tasks      | elapsed:  1.7min\n",
      "[Parallel(n_jobs=-1)]: Done 240 out of 240 | elapsed:  2.4min finished\n"
     ]
    },
    {
     "name": "stdout",
     "output_type": "stream",
     "text": [
      "Gridsearch best score is: 0.8072407882591403\n",
      "\n",
      "Gridsearch best params are: {'tvec__max_df': 0.5, 'tvec__max_features': 6000, 'tvec__min_df': 3, 'tvec__ngram_range': (1, 3)}\n",
      "\n",
      "MultinomialNB with TfidfVectorizer Train Score :  83.03%\n",
      "MultinomialNB with TfidfVectorizer  Test Score  :  80.31%\n",
      "\n",
      "MultinomialNB with TfidfVectorizer  F1- Train Score is 0.6130573248407644\n",
      "MultinomialNB with TfidfVectorizer  F1- Test Score is F1-Score is 0.5451612903225806\n",
      "\n",
      "61.23% of the words were predicted correctly by the model.\n",
      "The specificity is: 90.17%\n"
     ]
    },
    {
     "data": {
      "image/png": "[encoded data removed]",
      "text/plain": [
       "<Figure size 432x288 with 2 Axes>"
      ]
     },
     "metadata": {
      "needs_background": "light"
     },
     "output_type": "display_data"
    }
   ],
   "source": [
    "\n",
    "start_pipeline('tvec', 'Mnb', 'Blues', pipe_params = {\n",
    "                                                        'tvec__max_features': [4_000, 5_000, 6_000, 7_000],\n",
    "                                                        'tvec__ngram_range': [(1,1), (1,2), (1,3)],\n",
    "                                                        'tvec__min_df' : [2,3], \n",
    "                                                        'tvec__max_df' : [.5, .95]})"
   ]
  },
  {
   "cell_type": "code",
   "execution_count": 13,
   "metadata": {},
   "outputs": [
    {
     "name": "stdout",
     "output_type": "stream",
     "text": [
      "Fitting 5 folds for each of 240 candidates, totalling 1200 fits\n"
     ]
    },
    {
     "name": "stderr",
     "output_type": "stream",
     "text": [
      "[Parallel(n_jobs=-1)]: Using backend LokyBackend with 12 concurrent workers.\n",
      "[Parallel(n_jobs=-1)]: Done  26 tasks      | elapsed:   15.7s\n",
      "[Parallel(n_jobs=-1)]: Done 176 tasks      | elapsed:  1.7min\n",
      "[Parallel(n_jobs=-1)]: Done 426 tasks      | elapsed:  4.2min\n",
      "[Parallel(n_jobs=-1)]: Done 776 tasks      | elapsed:  7.6min\n",
      "[Parallel(n_jobs=-1)]: Done 1200 out of 1200 | elapsed: 11.7min finished\n"
     ]
    },
    {
     "name": "stdout",
     "output_type": "stream",
     "text": [
      "Gridsearch best score is: 0.7968808516200163\n",
      "\n",
      "Gridsearch best params are: {'Bnb__alpha': 0.275, 'cv__max_df': 0.5, 'cv__max_features': 9000, 'cv__min_df': 3, 'cv__ngram_range': (1, 2)}\n",
      "\n",
      "BernoulliNB with CountVectorizer Train Score :  80.36%\n",
      "BernoulliNB with CountVectorizer  Test Score  :  80.13%\n",
      "\n",
      "BernoulliNB with CountVectorizer  F1- Train Score is 0.6552217453505007\n",
      "BernoulliNB with CountVectorizer  F1- Test Score is F1-Score is 0.6524129505192425\n",
      "\n",
      "56.27% of the words were predicted correctly by the model.\n",
      "The specificity is: 80.93%\n"
     ]
    },
    {
     "data": {
      "image/png": "[encoded data removed]",
      "text/plain": [
       "<Figure size 432x288 with 2 Axes>"
      ]
     },
     "metadata": {
      "needs_background": "light"
     },
     "output_type": "display_data"
    }
   ],
   "source": [
    "start_pipeline('cv', 'Bnb', 'Greens', pipe_params = {\n",
    "                                                    'Bnb__alpha' : np.linspace(0.2,0.5,5),\n",
    "                                                    'cv__max_features': [5_000, 5_500, 7_000, 9_000],\n",
    "                                                    'cv__min_df' : [2,3],\n",
    "                                                    'cv__max_df' : [.5, .95],\n",
    "                                                    'cv__ngram_range' : [(1,1), (1,2), (1,3)]})"
   ]
  },
  {
   "cell_type": "code",
   "execution_count": 14,
   "metadata": {},
   "outputs": [
    {
     "name": "stdout",
     "output_type": "stream",
     "text": [
      "Fitting 5 folds for each of 240 candidates, totalling 1200 fits\n"
     ]
    },
    {
     "name": "stderr",
     "output_type": "stream",
     "text": [
      "[Parallel(n_jobs=-1)]: Using backend LokyBackend with 12 concurrent workers.\n",
      "[Parallel(n_jobs=-1)]: Done  26 tasks      | elapsed:   15.7s\n",
      "[Parallel(n_jobs=-1)]: Done 176 tasks      | elapsed:  1.7min\n",
      "[Parallel(n_jobs=-1)]: Done 426 tasks      | elapsed:  4.1min\n",
      "[Parallel(n_jobs=-1)]: Done 776 tasks      | elapsed:  7.5min\n",
      "[Parallel(n_jobs=-1)]: Done 1200 out of 1200 | elapsed: 11.8min finished\n"
     ]
    },
    {
     "name": "stdout",
     "output_type": "stream",
     "text": [
      "Gridsearch best score is: 0.7958330539793217\n",
      "\n",
      "Gridsearch best params are: {'Bnb__alpha': 0.425, 'tvec__max_df': 0.5, 'tvec__max_features': 7000, 'tvec__min_df': 2, 'tvec__ngram_range': (1, 1)}\n",
      "\n",
      "BernoulliNB with TfidfVectorizer Train Score :  80.24%\n",
      "BernoulliNB with TfidfVectorizer  Test Score  :  80.24%\n",
      "\n",
      "BernoulliNB with TfidfVectorizer  F1- Train Score is 0.654034229828851\n",
      "BernoulliNB with TfidfVectorizer  F1- Test Score is F1-Score is 0.652760736196319\n",
      "\n",
      "56.48% of the words were predicted correctly by the model.\n",
      "The specificity is: 81.16%\n"
     ]
    },
    {
     "data": {
      "image/png": "[encoded data removed]",
      "text/plain": [
       "<Figure size 432x288 with 2 Axes>"
      ]
     },
     "metadata": {
      "needs_background": "light"
     },
     "output_type": "display_data"
    }
   ],
   "source": [
    "start_pipeline('tvec', 'Bnb', 'Greens', pipe_params = {\n",
    "                                                'Bnb__alpha' : np.linspace(0.2,0.5,5),\n",
    "                                                'tvec__max_features': [4_000, 5_000, 6_000, 7_000],\n",
    "                                                'tvec__ngram_range': [(1,1), (1,2), (1,3)],\n",
    "                                                'tvec__min_df' : [2,3], \n",
    "                                                'tvec__max_df' : [.5, .95],\n",
    "})"
   ]
  },
  {
   "cell_type": "code",
   "execution_count": null,
   "metadata": {},
   "outputs": [],
   "source": []
  }
 ],
 "metadata": {
  "kernelspec": {
   "display_name": "Python 3",
   "language": "python",
   "name": "python3"
  },
  "language_info": {
   "codemirror_mode": {
    "name": "ipython",
    "version": 3
   },
   "file_extension": ".py",
   "mimetype": "text/x-python",
   "name": "python",
   "nbconvert_exporter": "python",
   "pygments_lexer": "ipython3",
   "version": "3.8.3"
  }
 },
 "nbformat": 4,
 "nbformat_minor": 4
}
