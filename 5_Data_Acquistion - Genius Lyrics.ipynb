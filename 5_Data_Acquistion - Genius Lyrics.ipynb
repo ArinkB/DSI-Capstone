{
 "cells": [
  {
   "cell_type": "markdown",
   "metadata": {},
   "source": [
    "# Getting Lyrics for Each Track from Genius\n",
    "The Capstone scope has changed directions some, I still want to do a skip prediction model, but instead of looking at Spotify user behavior, it will be based on whether I would skip the song or not. The classification will be if the track begins with the artist announcing their name within the first verse. Using the lyrics I will do some NLP modeling. Lyrics are pulled from Genius using the Lyricsgenius library."
   ]
  },
  {
   "cell_type": "markdown",
   "metadata": {},
   "source": [
    "### Imports"
   ]
  },
  {
   "cell_type": "code",
   "execution_count": 1,
   "metadata": {},
   "outputs": [],
   "source": [
    "import pandas as pd\n",
    "import numpy as np\n",
    "\n",
    "import time   \n",
    "import lyricsgenius\n",
    "\n",
    "%load_ext email_notify_magic\n",
    "# sends me an email when a cell has finished running (for long running cells)\n",
    "# https://pypi.org/project/email-notify-magic/"
   ]
  },
  {
   "cell_type": "markdown",
   "metadata": {},
   "source": [
    "Setting up email notifications for cell run completion, and testing it out the first time. Because of the possibility of insecurity and the need to provide the password. I decided to use a throwaway email, that was created when Pokemon Go came out."
   ]
  },
  {
   "cell_type": "code",
   "execution_count": 2,
   "metadata": {},
   "outputs": [
    {
     "name": "stdout",
     "output_type": "stream",
     "text": [
      "Type your password and press enter: ········\n",
      "Type your password and press enter: ········\n"
     ]
    }
   ],
   "source": [
    "%%email funnyshitthisis@gmail.com -k\n",
    "# when this cell finishes running send an email. \n",
    "# (Testing it out before the cell I really need it for)\n",
    "\n",
    "tracks_df = pd.read_csv('./data/tracks_cleaned.csv')"
   ]
  },
  {
   "cell_type": "code",
   "execution_count": 3,
   "metadata": {},
   "outputs": [
    {
     "data": {
      "text/html": [
       "<div>\n",
       "<style scoped>\n",
       "    .dataframe tbody tr th:only-of-type {\n",
       "        vertical-align: middle;\n",
       "    }\n",
       "\n",
       "    .dataframe tbody tr th {\n",
       "        vertical-align: top;\n",
       "    }\n",
       "\n",
       "    .dataframe thead th {\n",
       "        text-align: right;\n",
       "    }\n",
       "</style>\n",
       "<table border=\"1\" class=\"dataframe\">\n",
       "  <thead>\n",
       "    <tr style=\"text-align: right;\">\n",
       "      <th></th>\n",
       "      <th>artists</th>\n",
       "      <th>title</th>\n",
       "      <th>track_id</th>\n",
       "      <th>popularity</th>\n",
       "      <th>explicit</th>\n",
       "      <th>release_year</th>\n",
       "    </tr>\n",
       "  </thead>\n",
       "  <tbody>\n",
       "    <tr>\n",
       "      <th>0</th>\n",
       "      <td>Shawn Mendes</td>\n",
       "      <td>Wonder</td>\n",
       "      <td>5KCbr5ndeby4y4ggthdiAb</td>\n",
       "      <td>0</td>\n",
       "      <td>False</td>\n",
       "      <td>2020</td>\n",
       "    </tr>\n",
       "    <tr>\n",
       "      <th>1</th>\n",
       "      <td>Justin Bieber</td>\n",
       "      <td>Holy (feat. Chance The Rapper)</td>\n",
       "      <td>5u1n1kITHCxxp8twBcZxWy</td>\n",
       "      <td>92</td>\n",
       "      <td>False</td>\n",
       "      <td>2020</td>\n",
       "    </tr>\n",
       "    <tr>\n",
       "      <th>2</th>\n",
       "      <td>24kGoldn</td>\n",
       "      <td>Mood (feat. Iann Dior)</td>\n",
       "      <td>3tjFYV6RSFtuktYl3ZtYcq</td>\n",
       "      <td>100</td>\n",
       "      <td>True</td>\n",
       "      <td>2020</td>\n",
       "    </tr>\n",
       "    <tr>\n",
       "      <th>3</th>\n",
       "      <td>Internet Money</td>\n",
       "      <td>Lemonade</td>\n",
       "      <td>02kDW379Yfd5PzW5A6vuGt</td>\n",
       "      <td>93</td>\n",
       "      <td>True</td>\n",
       "      <td>2020</td>\n",
       "    </tr>\n",
       "    <tr>\n",
       "      <th>4</th>\n",
       "      <td>BLACKPINK</td>\n",
       "      <td>Bet You Wanna (feat. Cardi B)</td>\n",
       "      <td>1hPkiovjTqiJAJen4uyNRg</td>\n",
       "      <td>0</td>\n",
       "      <td>False</td>\n",
       "      <td>2020</td>\n",
       "    </tr>\n",
       "  </tbody>\n",
       "</table>\n",
       "</div>"
      ],
      "text/plain": [
       "          artists                           title                track_id  \\\n",
       "0    Shawn Mendes                          Wonder  5KCbr5ndeby4y4ggthdiAb   \n",
       "1   Justin Bieber  Holy (feat. Chance The Rapper)  5u1n1kITHCxxp8twBcZxWy   \n",
       "2        24kGoldn          Mood (feat. Iann Dior)  3tjFYV6RSFtuktYl3ZtYcq   \n",
       "3  Internet Money                        Lemonade  02kDW379Yfd5PzW5A6vuGt   \n",
       "4       BLACKPINK   Bet You Wanna (feat. Cardi B)  1hPkiovjTqiJAJen4uyNRg   \n",
       "\n",
       "   popularity  explicit  release_year  \n",
       "0           0     False          2020  \n",
       "1          92     False          2020  \n",
       "2         100      True          2020  \n",
       "3          93      True          2020  \n",
       "4           0     False          2020  "
      ]
     },
     "execution_count": 3,
     "metadata": {},
     "output_type": "execute_result"
    }
   ],
   "source": [
    "tracks_df.head()"
   ]
  },
  {
   "cell_type": "code",
   "execution_count": 4,
   "metadata": {},
   "outputs": [
    {
     "name": "stdout",
     "output_type": "stream",
     "text": [
      " There are now 76338 rows remaining\n"
     ]
    }
   ],
   "source": [
    "print(f' There are now {tracks_df.shape[0]} rows remaining')"
   ]
  },
  {
   "cell_type": "code",
   "execution_count": 5,
   "metadata": {},
   "outputs": [],
   "source": [
    "# Empty list to hold all the lyrics for the tracks\n",
    "lyrics = []"
   ]
  },
  {
   "cell_type": "markdown",
   "metadata": {},
   "source": [
    "### Get Lyrics function\n",
    "The function takes no arguments, and runs starting with a while loop.\n",
    "- While the length of the lyrics list (above) is not equal to the length of the dataframe\n",
    "- call to the lyricsgenius library\n",
    "- For each track (row) in the dataframe's values\n",
    "- search for song matching the track/row's 2nd column value ('title') and the 1st column value ('artist')\n",
    "- try to append the result to the lyrics list\n",
    "- except if there is an issue (more likely no results) then append NaN (easy to find missing values later)\n",
    "- sleep 15seconds and go again."
   ]
  },
  {
   "cell_type": "code",
   "execution_count": 6,
   "metadata": {},
   "outputs": [],
   "source": [
    "# lyricsgrenius is a python library that makes API pulls from Genius alot easier, instead of scrapping the entire HTML page to\n",
    "# get the lyrics this makes it seemless where all I need to provide is the name of the artist and the song title.\n",
    "# https://pypi.org/project/lyricsgenius/\n",
    "\n",
    "def get_lyrics(): #no arguments needed\n",
    "    while len(lyrics) != len(tracks_df): # while the length of list is not equal to length of dataframe\n",
    "        genius = lyricsgenius.Genius(\"2AaY5B5Iylvf3X2oQl_4Jmk74pSZ-J8VqcboMk1PO_y7N8wlN83D9a85uhNh49Id\") # call to lyricsgenius\n",
    "        for track in tracks_df.values: # for each track in the dataframe. I have indexed it to 5 rows for submission only\n",
    "            song = genius.search_song(track[1], track[0]) # find song on Genius with matching name and artist\n",
    "            try:    \n",
    "                lyrics.append(song.lyrics) # append value to list\n",
    "            except:\n",
    "                lyrics.append(np.NAN) # if nothing to append, append NaN\n",
    "        time.sleep(15) # take a catnap        "
   ]
  },
  {
   "cell_type": "code",
   "execution_count": null,
   "metadata": {},
   "outputs": [],
   "source": [
    "%%email funnyshitthisis@gmail.com --body 'Done'\n",
    "# This is where the email notification comes handy. Getting 80k + Lyrics will take a long time."
   ]
  },
  {
   "cell_type": "code",
   "execution_count": null,
   "metadata": {},
   "outputs": [
    {
     "name": "stdout",
     "output_type": "stream",
     "text": [
      "Type your password and press enter: ········\n",
      "Searching for \"Wonder\" by Shawn Mendes...\n",
      "Done.\n",
      "Searching for \"Holy (feat. Chance The Rapper)\" by Justin Bieber...\n",
      "Done.\n",
      "Searching for \"Mood (feat. Iann Dior)\" by 24kGoldn...\n",
      "Done.\n",
      "Searching for \"Lemonade\" by Internet Money...\n",
      "Done.\n",
      "Searching for \"Bet You Wanna (feat. Cardi B)\" by BLACKPINK...\n",
      "Done.\n",
      "Searching for \"Head & Heart (feat. MNEK)\" by Joel Corry...\n",
      "Done.\n",
      "Searching for \"you broke me first\" by Tate McRae...\n",
      "Done.\n",
      "Searching for \"Dynamite\" by BTS...\n",
      "Done.\n",
      "Searching for \"For The Night (feat. Lil Baby & DaBaby)\" by Pop Smoke...\n",
      "Done.\n",
      "Searching for \"Laugh Now Cry Later (feat. Lil Durk)\" by Drake...\n",
      "Done.\n",
      "Searching for \"WAP (feat. Megan Thee Stallion)\" by Cardi B...\n",
      "Done.\n",
      "Searching for \"Take You Dancing\" by Jason Derulo...\n",
      "Done.\n",
      "Searching for \"Breaking Me\" by Topic...\n",
      "Done.\n",
      "Searching for \"Savage Love (Laxed – Siren Beat) [BTS Remix]\" by Jawsh 685...\n",
      "Done.\n",
      "Searching for \"Watermelon Sugar\" by Harry Styles...\n",
      "Done.\n",
      "Searching for \"my ex's best friend (with blackbear)\" by Machine Gun Kelly...\n",
      "Done.\n",
      "Searching for \"What You Know Bout Love\" by Pop Smoke...\n",
      "Done.\n",
      "Searching for \"Put Your Records On\" by Ritt Momney...\n",
      "Done.\n",
      "Searching for \"Better\" by ZAYN...\n",
      "Done.\n",
      "Searching for \"ROCKSTAR (feat. Roddy Ricch)\" by DaBaby...\n",
      "Done.\n",
      "Searching for \"FRANCHISE (feat. Young Thug & M.I.A.)\" by Travis Scott...\n",
      "Done.\n",
      "Searching for \"Midnight Sky\" by Miley Cyrus...\n",
      "Done.\n",
      "Searching for \"Diamonds\" by Sam Smith...\n",
      "Done.\n",
      "Searching for \"Go Crazy\" by Chris Brown...\n",
      "Done.\n",
      "Searching for \"POPSTAR (feat. Drake)\" by DJ Khaled...\n",
      "Done.\n",
      "Searching for \"Me Gusta (with Cardi B & Myke Towers)\" by Anitta...\n",
      "Done.\n",
      "Searching for \"Your Man\" by Joji...\n",
      "Done.\n",
      "Searching for \"Mad at Disney\" by salem ilese...\n",
      "Done.\n",
      "Searching for \"OK Not To Be OK\" by Marshmello...\n",
      "Done.\n",
      "Searching for \"Wolves (feat. Post Malone)\" by Big Sean...\n",
      "Done.\n",
      "Searching for \"Daisy\" by Ashnikko...\n",
      "Done.\n",
      "Searching for \"Ice Cream (with Selena Gomez)\" by BLACKPINK...\n",
      "Done.\n",
      "Searching for \"Tick Tock (feat. 24kGoldn)\" by Clean Bandit...\n",
      "Done.\n",
      "Searching for \"Be Like That - feat. Swae Lee & Khalid\" by Kane Brown...\n",
      "Done.\n",
      "Searching for \"Come & Go (with Marshmello)\" by Juice WRLD...\n",
      "Done.\n",
      "Searching for \"Kings & Queens\" by Ava Max...\n",
      "Done.\n",
      "Searching for \"Heather\" by Conan Gray...\n",
      "Done.\n",
      "Searching for \"Still Don't Know My Name\" by Labrinth...\n",
      "Done.\n",
      "Searching for \"Hawái\" by Maluma...\n",
      "Done.\n",
      "Searching for \"Roses - Imanbek Remix\" by SAINt JHN...\n",
      "Done.\n",
      "Searching for \"Wishing Well\" by Juice WRLD...\n",
      "Done.\n",
      "Searching for \"UN DIA (ONE DAY) (Feat. Tainy)\" by J Balvin...\n",
      "Done.\n",
      "Searching for \"Jerusalema (feat. Nomcebo Zikode)\" by Master KG...\n",
      "Done.\n",
      "Searching for \"Control\" by Zoe Wees...\n",
      "Done.\n",
      "Searching for \"Stuck with U (with Justin Bieber)\" by Ariana Grande...\n",
      "Done.\n",
      "Searching for \"my future\" by Billie Eilish...\n",
      "Done.\n",
      "Searching for \"Break My Heart\" by Dua Lipa...\n",
      "Done.\n",
      "Searching for \"cardigan\" by Taylor Swift...\n",
      "Done.\n",
      "Searching for \"WHATS POPPIN (feat. DaBaby, Tory Lanez & Lil Wayne) - Remix\" by Jack Harlow...\n",
      "Done.\n",
      "Searching for \"Stunnin'\" by Curtis Waters...\n",
      "Done.\n",
      "Searching for \"Runnin\" by 21 Savage...\n",
      "Done.\n",
      "Searching for \"Don’t Stop (feat. Young Thug)\" by Megan Thee Stallion...\n",
      "Done.\n",
      "Searching for \"Lemonade (Feat. Roddy Ricch & Don Toliver) [Remix]\" by Internet Money...\n",
      "Done.\n",
      "Searching for \"Mr. Right Now (feat. Drake)\" by 21 Savage...\n",
      "Done.\n",
      "Searching for \"Martin & Gina\" by Polo G...\n",
      "Done.\n",
      "Searching for \"24 (feat. Lil Baby)\" by Money Man...\n",
      "Done.\n",
      "Searching for \"Narrow Road (feat. Lil Baby)\" by NLE Choppa...\n",
      "Done.\n",
      "Searching for \"Glock In My Lap\" by 21 Savage...\n",
      "Done.\n",
      "Searching for \"POV (feat. Rubi Rose)\" by Wiz Khalifa...\n",
      "Done.\n",
      "Searching for \"Moonwalking in Calabasas (feat. Blueface) - Remix\" by DDG...\n",
      "Done.\n",
      "Searching for \"Blood Walk\" by YG...\n",
      "Done.\n",
      "Searching for \"DOLLAZ ON MY HEAD (feat. Young Thug)\" by Gunna...\n",
      "Done.\n",
      "Searching for \"Rags2Riches 2 (feat. Lil Baby)\" by Rod Wave...\n",
      "Done.\n",
      "Searching for \"BLIND (feat. Young Thug)\" by DaBaby...\n",
      "Done.\n",
      "Searching for \"Blastoff (feat. Juice Wrld & Trippie Redd)\" by Internet Money...\n",
      "Done.\n",
      "Searching for \"Outta Time (feat. Drake)\" by Bryson Tiller...\n",
      "Done.\n",
      "Searching for \"Conversations\" by Juice WRLD...\n",
      "Done.\n",
      "Searching for \"Onna Come Up\" by Lil Eazzyy...\n",
      "Done.\n",
      "Searching for \"Stuntin' On You (feat. DaBaby)\" by Tyla Yaweh...\n",
      "Done.\n",
      "Searching for \"Whole Lotta Choppas\" by Sada Baby...\n",
      "Done.\n",
      "Searching for \"The Woo (feat. 50 Cent & Roddy Ricch)\" by Pop Smoke...\n",
      "Done.\n",
      "Searching for \"GREECE (feat. Drake)\" by DJ Khaled...\n",
      "Done.\n",
      "Searching for \"Wet (She Got That…)\" by YFN Lucci...\n",
      "Done.\n",
      "Searching for \"My Window (feat. Lil Wayne)\" by YoungBoy Never Broke Again...\n",
      "Done.\n",
      "Searching for \"Patek\" by Future...\n",
      "Done.\n",
      "Searching for \"Epidemic\" by Polo G...\n",
      "Done.\n",
      "Searching for \"RELENTLESS (feat. Lil Uzi Vert)\" by Gunna...\n",
      "Done.\n",
      "Searching for \"Got It On Me\" by Pop Smoke...\n",
      "Done.\n",
      "Searching for \"Said Sum\" by Moneybagg Yo...\n",
      "Done.\n",
      "Searching for \"Tap In (feat. Post Malone, DaBaby & Jack Harlow)\" by Saweetie...\n",
      "Done.\n",
      "Searching for \"We Paid (feat. 42 Dugg)\" by Lil Baby...\n"
     ]
    }
   ],
   "source": [
    "%%email funnyshitthisis@gmail.com --body 'Done'\n",
    "get_lyrics() # calling the function"
   ]
  },
  {
   "cell_type": "code",
   "execution_count": null,
   "metadata": {},
   "outputs": [],
   "source": [
    "len(lyrics)"
   ]
  },
  {
   "cell_type": "code",
   "execution_count": null,
   "metadata": {},
   "outputs": [],
   "source": [
    "df = tracks_df[0:18477]"
   ]
  },
  {
   "cell_type": "code",
   "execution_count": null,
   "metadata": {},
   "outputs": [],
   "source": [
    "df"
   ]
  },
  {
   "cell_type": "code",
   "execution_count": null,
   "metadata": {},
   "outputs": [],
   "source": [
    "df['lyrics'] = lyrics"
   ]
  },
  {
   "cell_type": "code",
   "execution_count": null,
   "metadata": {},
   "outputs": [],
   "source": [
    "df.drop_duplicates(['artists','title'],keep= 'first', inplace=True)"
   ]
  },
  {
   "cell_type": "code",
   "execution_count": null,
   "metadata": {},
   "outputs": [],
   "source": []
  },
  {
   "cell_type": "code",
   "execution_count": null,
   "metadata": {},
   "outputs": [],
   "source": [
    "# df.to_csv('./data/lyrics_cp.csv')"
   ]
  },
  {
   "cell_type": "code",
   "execution_count": null,
   "metadata": {},
   "outputs": [],
   "source": [
    "len(tracks_df)"
   ]
  },
  {
   "cell_type": "markdown",
   "metadata": {},
   "source": [
    "### Some Additional Cleanup\n",
    "Now that I have all my lyrics I need to drop any duplicates that might have remained: \n",
    "<br> Clean up the strings as there are some obscure characters in them \\n & \\ </br>\n",
    "<br>I will also remove the [verse 1] [chorus] parts as the artist's names are listed in there and will through my model off.</br> <br>And finally I will create a binarized column on whether the artist self-announces at the beginning of the track, I will need to extract the &feat artist name from title to add to the artist column. </br>"
   ]
  },
  {
   "cell_type": "code",
   "execution_count": null,
   "metadata": {},
   "outputs": [],
   "source": [
    "lyrics[0] = lyrics[0].replace('\\n', ' ') "
   ]
  },
  {
   "cell_type": "code",
   "execution_count": null,
   "metadata": {},
   "outputs": [],
   "source": [
    "lyrics[0].replace(\"\\'\", \"\")"
   ]
  },
  {
   "cell_type": "code",
   "execution_count": null,
   "metadata": {},
   "outputs": [],
   "source": [
    "lyrics[10664]"
   ]
  },
  {
   "cell_type": "code",
   "execution_count": null,
   "metadata": {},
   "outputs": [],
   "source": [
    "del lyrics[6607]"
   ]
  },
  {
   "cell_type": "code",
   "execution_count": null,
   "metadata": {},
   "outputs": [],
   "source": [
    "len(tracks_df)"
   ]
  },
  {
   "cell_type": "code",
   "execution_count": null,
   "metadata": {},
   "outputs": [],
   "source": [
    "tracks_df.iloc[6607]"
   ]
  },
  {
   "cell_type": "markdown",
   "metadata": {},
   "source": [
    "# Drop track_id"
   ]
  },
  {
   "cell_type": "code",
   "execution_count": null,
   "metadata": {},
   "outputs": [],
   "source": []
  }
 ],
 "metadata": {
  "kernelspec": {
   "display_name": "Python 3",
   "language": "python",
   "name": "python3"
  },
  "language_info": {
   "codemirror_mode": {
    "name": "ipython",
    "version": 3
   },
   "file_extension": ".py",
   "mimetype": "text/x-python",
   "name": "python",
   "nbconvert_exporter": "python",
   "pygments_lexer": "ipython3",
   "version": "3.8.3"
  }
 },
 "nbformat": 4,
 "nbformat_minor": 4
}
