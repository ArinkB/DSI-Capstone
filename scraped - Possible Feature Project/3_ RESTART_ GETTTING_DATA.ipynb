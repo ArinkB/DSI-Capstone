{
 "cells": [
  {
   "cell_type": "markdown",
   "metadata": {},
   "source": [
    "# Data Acquisition\n",
    "\n",
    "Calling the Genius API directly(not using)"
   ]
  },
  {
   "cell_type": "code",
   "execution_count": null,
   "metadata": {},
   "outputs": [],
   "source": [
    "import requests\n",
    "from bs4 import BeautifulSoup\n",
    "import os\n",
    "import re\n",
    "\n",
    "import pandas as pd\n",
    "import numpy as np"
   ]
  },
  {
   "cell_type": "code",
   "execution_count": null,
   "metadata": {},
   "outputs": [],
   "source": [
    "GENIUS_API_TOKEN=API"
   ]
  },
  {
   "cell_type": "code",
   "execution_count": null,
   "metadata": {},
   "outputs": [],
   "source": [
    "# songs = []\n",
    "# song_info = []\n",
    "# pulled_lyrics = []"
   ]
  },
  {
   "cell_type": "code",
   "execution_count": null,
   "metadata": {},
   "outputs": [],
   "source": [
    "# artist = []\n",
    "# title = []\n",
    "# feature = []"
   ]
  },
  {
   "cell_type": "code",
   "execution_count": null,
   "metadata": {},
   "outputs": [],
   "source": [
    "# Get artist object from Genius API\n",
    "def request_artist_info(artist_name, page):\n",
    "    base_url = 'https://api.genius.com'\n",
    "    headers = {'Authorization': 'Bearer ' + GENIUS_API_TOKEN}\n",
    "    search_url = base_url + '/search?per_page=10&page=' + str(page)\n",
    "    data = {'q': artist_name}\n",
    "    response = requests.get(search_url, data=data, headers=headers)\n",
    "    return response\n",
    "\n",
    "# Get Genius.com song url's from artist object\n",
    "def request_song_url(artist_name, song_cap):\n",
    "    page = 1\n",
    "    songs = []\n",
    "\n",
    "\n",
    "    while True:\n",
    "        response = request_artist_info(artist_name, page)\n",
    "        json = response.json()\n",
    "        # Collect up to song_cap song objects from artist\n",
    "        song_info = []\n",
    "        for hit in json['response']['hits']:\n",
    "            if artist_name.lower() in hit['result']['primary_artist']['name'].lower():\n",
    "                song_info.append(hit)\n",
    "\n",
    "        # Collect song URL's from song objects\n",
    "\n",
    "        for song in song_info:\n",
    "            if (len(songs) < song_cap):\n",
    "                url = song['result']['url']\n",
    "                songs.append(url)\n",
    "\n",
    "        if (len(songs) == song_cap):\n",
    "            break\n",
    "        else:\n",
    "            page += 1\n",
    "                \n",
    "    print('Found {} songs by {}'.format(len(songs), artist_name))\n",
    "    return songs"
   ]
  },
  {
   "cell_type": "code",
   "execution_count": null,
   "metadata": {},
   "outputs": [],
   "source": [
    "# Scrape lyrics from a Genius.com song URL\n",
    "def scrape_song_lyrics(url):\n",
    "    page = requests.get(url)\n",
    "    html = BeautifulSoup(page.text, 'html.parser')\n",
    "    lyrics = html.find('div', class_='lyrics').get_text()\n",
    "    #remove identifiers like chorus, verse, etc\n",
    "    lyrics = re.sub(r'[\\(\\[].*?[\\)\\]]', '', lyrics)\n",
    "    #remove empty lines\n",
    "    lyrics = os.linesep.join([s for s in lyrics.splitlines() if s])         \n",
    "    return lyrics"
   ]
  },
  {
   "cell_type": "code",
   "execution_count": null,
   "metadata": {},
   "outputs": [],
   "source": [
    "def write_lyrics_to_file(artist_name, song_count):\n",
    "    f = open('lyrics/' + artist_name.lower() + '.txt', 'wb')\n",
    "    urls = request_song_url(artist_name, song_count)\n",
    "    for url in urls:\n",
    "        lyrics = scrape_song_lyrics(url)\n",
    "#         pulled_lyrics.append(lyrics)\n",
    "        f.write(lyrics.encode(\"utf8\"))\n",
    "    f.close()\n",
    "    num_lines = sum(1 for line in open('lyrics/' + artist_name.lower() + '.txt', 'rb'))\n",
    "    print('Wrote {} lines to file from {} songs'.format(num_lines, song_count))\n"
   ]
  },
  {
   "cell_type": "code",
   "execution_count": null,
   "metadata": {},
   "outputs": [],
   "source": [
    "write_lyrics_to_file('CAKE', 20)"
   ]
  },
  {
   "cell_type": "code",
   "execution_count": null,
   "metadata": {},
   "outputs": [],
   "source": [
    "for song in songs:\n",
    "    for info in song_info:\n",
    "        if song in info['result']['url']:\n",
    "            try:\n",
    "                artist.append(info['result']['primary_artist']['name'])\n",
    "                title.append(info['result']['title'])\n",
    "                feature.append(re.sub(r'^[^\\(]+', '', info['result']['title_with_featured'].replace('\\xa0', ' ')))\n",
    "\n",
    "            except:\n",
    "                artist.append(np.NaN)\n",
    "                title.append(np.NaN)\n",
    "                feature.append(np.NaN)\n",
    "                \n",
    "for track in pulled_lyrics:\n",
    "    lyrics.append(track)"
   ]
  },
  {
   "cell_type": "code",
   "execution_count": null,
   "metadata": {},
   "outputs": [],
   "source": [
    "chosen_artists = ['Jason Derulo', 'Cake', 'System of A Down', 'Nicki Minaj', 'Britney Spears', 'BLACKPINK', \n",
    "                  'Will.i.am', 'Lady Gaga', 'Shakira', 'Ludacris', 'Akon', 'Sean Paul', 'Usher', 'Dua Lipa', \n",
    "                  'The Weeknd', 'Cardi B', 'Miley Cyrus', 'Logic', 'Post Malone','Ini Kamoze', 'Rachel Platten', \n",
    "                  'Sia', 'Muse', 'Maroon 5', 'Christina Perri', 'Lorde', 'Lil Wayne', 'Diplo', 'Florida Georgia Line', 'Brad Paisley',\n",
    "                  'Thomas Rhett', 'Spencer Crandall', 'Jennifer Lopez', 'Ozuna', 'natasha bedingfield', 'Daddy Yankee', 'Demi Lovato', \n",
    "                  'Major Lazer', 'Imagine Dragons', 'Gotye', 'Birdy', 'Matchbox Twenty', 'Uncle Kracker', \n",
    "                  'John Newman', 'Bruno Mars', 'P!nk', 'Lana Del Rey', 'Keane', 'A$AP Ferg', 'JoJo', 'Gorillaz', 'rage against the machine',\n",
    "                  'Deadmau5', 'The Proclaimers', 'Mumford & Sons', 'Run The Jewels', 'Fischerspooner', 'Mos Def', 'Pharell Williams', \n",
    "                  'Weird Al Yankovic', 'Tones and I', 'Billie Eilish', 'Ariana Grande', 'Megan Thee Stallion', 'Doja Cat', 'DaBaby', \n",
    "                  'Halsey', 'rick astley', 'Shawn Mendes', 'Justin Bieber', '24kGoldn', 'Lizzo', 'Katy Perry', 'Dirty South', 'iggy azalea',\n",
    "                  'Armin van Buuren', 'Ellie Goulding', 'Tenacious D', 'The Notorious B.I.G.', 'tupac shakur', 'Colbie Caillat', 'Flo Rida',\n",
    "                  'Gucci Mane', 'Young Money', 'Migos', 'Yo Gotti', 'G-Eazy', 'foo fighters', 'Kehlani', 'Princess Nokia', 'French Montana'\n",
    "                  'Backstreet Boys', 'Spice Girls', 'Soulja boy', 'ZAYN', 'Travis Scott', 'Sam Smith', 'The Beatles', 'DJ Khaled', 'Stone Temple Pilots',\n",
    "                  'Big Sean' ,'Ashnikko', 'Clean Bandit' ,'Kane Brown', 'Juice WRLD' ,'Ava Max', 'J Balvin', 'Taylor Swift', '21 Savage', \n",
    "                  'Lil Eazzyy', 'Future', 'Moneybagg Yo' ,'Saweetie', 'AWOLNATION', 'Weezer', 'MGMT', 'Chiddy Bang', 'Twenty One Pilots', 'The Prodigy', \n",
    "                  'The Presidents Of The United States Of America', 'Meek Mill', 'Drake', 'Lil Pump', 'Pusha T', 'Pitbull', 'Kesha', 'Macklemore', 'T-Pain']"
   ]
  },
  {
   "cell_type": "code",
   "execution_count": null,
   "metadata": {},
   "outputs": [],
   "source": [
    "for a in chosen_artists: \n",
    "    write_lyrics_to_file(a, 10)"
   ]
  },
  {
   "cell_type": "code",
   "execution_count": null,
   "metadata": {},
   "outputs": [],
   "source": [
    "len(artist)"
   ]
  },
  {
   "cell_type": "code",
   "execution_count": null,
   "metadata": {},
   "outputs": [],
   "source": [
    "len(title)"
   ]
  },
  {
   "cell_type": "code",
   "execution_count": null,
   "metadata": {},
   "outputs": [],
   "source": [
    "title"
   ]
  },
  {
   "cell_type": "code",
   "execution_count": null,
   "metadata": {},
   "outputs": [],
   "source": [
    "len(feature)"
   ]
  },
  {
   "cell_type": "code",
   "execution_count": null,
   "metadata": {},
   "outputs": [],
   "source": [
    "len(pulled_lyrics)"
   ]
  },
  {
   "cell_type": "code",
   "execution_count": null,
   "metadata": {},
   "outputs": [],
   "source": [
    "df = pd.DataFrame({\n",
    "'Artist' : artist,\n",
    "'Featuring' : feature,\n",
    "'Title' : title,\n",
    "'lyrics' : lyrics})\n",
    "\n"
   ]
  },
  {
   "cell_type": "code",
   "execution_count": null,
   "metadata": {},
   "outputs": [],
   "source": [
    "df[df.duplicated(keep=False)].value_counts('title')"
   ]
  },
  {
   "cell_type": "code",
   "execution_count": null,
   "metadata": {},
   "outputs": [],
   "source": []
  }
 ],
 "metadata": {
  "kernelspec": {
   "display_name": "Python 3",
   "language": "python",
   "name": "python3"
  },
  "language_info": {
   "codemirror_mode": {
    "name": "ipython",
    "version": 3
   },
   "file_extension": ".py",
   "mimetype": "text/x-python",
   "name": "python",
   "nbconvert_exporter": "python",
   "pygments_lexer": "ipython3",
   "version": "3.8.3"
  }
 },
 "nbformat": 4,
 "nbformat_minor": 4
}
