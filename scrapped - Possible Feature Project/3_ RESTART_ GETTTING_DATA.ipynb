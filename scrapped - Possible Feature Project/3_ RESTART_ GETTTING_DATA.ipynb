{
 "cells": [
  {
   "cell_type": "markdown",
   "metadata": {},
   "source": [
    "# Data Acquisition\n",
    "\n",
    "Calling the Genius API directly(not using)"
   ]
  },
  {
   "cell_type": "code",
   "execution_count": 63,
   "metadata": {},
   "outputs": [],
   "source": [
    "import requests\n",
    "from bs4 import BeautifulSoup\n",
    "import os\n",
    "import re\n",
    "\n",
    "import pandas as pd\n",
    "import numpy as np"
   ]
  },
  {
   "cell_type": "code",
   "execution_count": 64,
   "metadata": {},
   "outputs": [],
   "source": [
    "GENIUS_API_TOKEN=\"2AaY5B5Iylvf3X2oQl_4Jmk74pSZ-J8VqcboMk1PO_y7N8wlN83D9a85uhNh49Id\""
   ]
  },
  {
   "cell_type": "code",
   "execution_count": 65,
   "metadata": {},
   "outputs": [],
   "source": [
    "# Get artist object from Genius API\n",
    "def request_artist_info(artist_name, page):\n",
    "    base_url = 'https://api.genius.com'\n",
    "    headers = {'Authorization': 'Bearer ' + GENIUS_API_TOKEN}\n",
    "    search_url = base_url + '/search?per_page=10&page=' + str(page)\n",
    "    data = {'q': artist_name}\n",
    "    response = requests.get(search_url, data=data, headers=headers)\n",
    "    return response\n",
    "\n",
    "# Get Genius.com song url's from artist object\n",
    "def request_song_url(artist_name, song_cap):\n",
    "    page = 1\n",
    "    songs = []\n",
    "\n",
    "\n",
    "    while True:\n",
    "        response = request_artist_info(artist_name, page)\n",
    "        json = response.json()\n",
    "        # Collect up to song_cap song objects from artist\n",
    "        song_info = []\n",
    "        for hit in json['response']['hits']:\n",
    "            if artist_name.lower() in hit['result']['primary_artist']['name'].lower():\n",
    "                song_info.append(hit)\n",
    "\n",
    "        # Collect song URL's from song objects\n",
    "\n",
    "        for song in song_info:\n",
    "            if (len(songs) < song_cap):\n",
    "                url = song['result']['url']\n",
    "                songs.append(url)\n",
    "\n",
    "        if (len(songs) == song_cap):\n",
    "            break\n",
    "        else:\n",
    "            page += 1\n",
    "                \n",
    "    print('Found {} songs by {}'.format(len(songs), artist_name))\n",
    "    return songs"
   ]
  },
  {
   "cell_type": "code",
   "execution_count": 66,
   "metadata": {},
   "outputs": [],
   "source": [
    "# Scrape lyrics from a Genius.com song URL\n",
    "def scrape_song_lyrics(url):\n",
    "    page = requests.get(url)\n",
    "    html = BeautifulSoup(page.text, 'html.parser')\n",
    "    lyrics = html.find('div', class_='lyrics').get_text()\n",
    "    #remove identifiers like chorus, verse, etc\n",
    "    lyrics = re.sub(r'[\\(\\[].*?[\\)\\]]', '', lyrics)\n",
    "    #remove empty lines\n",
    "    lyrics = os.linesep.join([s for s in lyrics.splitlines() if s])         \n",
    "    return lyrics"
   ]
  },
  {
   "cell_type": "code",
   "execution_count": 67,
   "metadata": {},
   "outputs": [],
   "source": [
    "def write_lyrics_to_file(artist_name, song_count):\n",
    "    f = open('lyrics/' + artist_name.lower() + '.txt', 'wb')\n",
    "    urls = request_song_url(artist_name, song_count)\n",
    "    for url in urls:\n",
    "        lyrics = scrape_song_lyrics(url)\n",
    "#         pulled_lyrics.append(lyrics)\n",
    "        f.write(lyrics.encode(\"utf8\"))\n",
    "    f.close()\n",
    "    num_lines = sum(1 for line in open('lyrics/' + artist_name.lower() + '.txt', 'rb'))\n",
    "    print('Wrote {} lines to file from {} songs'.format(num_lines, song_count))\n"
   ]
  },
  {
   "cell_type": "code",
   "execution_count": 68,
   "metadata": {},
   "outputs": [
    {
     "name": "stdout",
     "output_type": "stream",
     "text": [
      "Found 20 songs by CAKE\n",
      "Wrote 1186 lines to file from 20 songs\n"
     ]
    }
   ],
   "source": [
    "write_lyrics_to_file('CAKE', 20)"
   ]
  },
  {
   "cell_type": "code",
   "execution_count": 29,
   "metadata": {},
   "outputs": [],
   "source": [
    "for song in songs:\n",
    "    for info in song_info:\n",
    "        if song in info['result']['url']:\n",
    "            try:\n",
    "                artist.append(info['result']['primary_artist']['name'])\n",
    "                title.append(info['result']['title'])\n",
    "                feature.append(re.sub(r'^[^\\(]+', '', info['result']['title_with_featured'].replace('\\xa0', ' ')))\n",
    "\n",
    "            except:\n",
    "                artist.append(np.NaN)\n",
    "                title.append(np.NaN)\n",
    "                feature.append(np.NaN)"
   ]
  },
  {
   "cell_type": "code",
   "execution_count": null,
   "metadata": {},
   "outputs": [],
   "source": []
  },
  {
   "cell_type": "code",
   "execution_count": null,
   "metadata": {},
   "outputs": [],
   "source": []
  },
  {
   "cell_type": "code",
   "execution_count": null,
   "metadata": {},
   "outputs": [],
   "source": [
    "# artists = ['Jason Derulo', 'Cake', 'System of A Down']\n",
    "#, 'Nicki Minaj', 'Britney Spears', 'BLACKPINK', 'Will.i.am', 'Lady Gaga', 'Shakira', 'Ludacris', 'Akon', 'Sean Paul', 'Usher', 'Dua Lipa', 'The Weeknd', 'Cardi B', 'Miley Cyrus', 'Logic', 'Post Malone', 'Ini Kamoze', 'Rachel Platten', 'Sia', 'Muse', 'Maroon 5', 'Christina Perri', 'Lorde', 'John Newman', 'Bruno Mars', 'P!nk', 'Lana Del Rey', 'Keane', 'Deadmau5', 'The Proclaimers', 'Mumford & Sons', 'Run The Jewels', 'Fischerspooner', 'Mos Def', 'Pharell Williams', 'Weird Al Yankovic', 'Tones and I', 'Billie Eilish', 'Ariana Grande', 'Megan Thee Stallion', 'Doja Cat', 'DaBaby', 'Halsey', 'rick astley'"
   ]
  },
  {
   "cell_type": "code",
   "execution_count": null,
   "metadata": {},
   "outputs": [],
   "source": [
    "# for a in artists: \n",
    "#     write_lyrics_to_file(a, 10)"
   ]
  },
  {
   "cell_type": "code",
   "execution_count": null,
   "metadata": {},
   "outputs": [],
   "source": [
    "\n"
   ]
  },
  {
   "cell_type": "code",
   "execution_count": 34,
   "metadata": {},
   "outputs": [
    {
     "data": {
      "text/plain": [
       "['CAKE',\n",
       " 'GONE.Fludd & CAKEBOY',\n",
       " 'CAKEBOY',\n",
       " 'CAKE',\n",
       " 'CAKE',\n",
       " 'GONE.Fludd & CAKEBOY',\n",
       " 'CAKEBOY',\n",
       " 'CAKE',\n",
       " 'CAKEBOY',\n",
       " 'CAKE',\n",
       " 'CAKEBOY',\n",
       " 'CAKE',\n",
       " 'GONE.Fludd & CAKEBOY',\n",
       " 'CAKEBOY',\n",
       " 'CAKE',\n",
       " 'CAKEBOY',\n",
       " 'CAKE',\n",
       " 'CAKEBOY',\n",
       " 'CAKE',\n",
       " 'CAKEBOY']"
      ]
     },
     "execution_count": 34,
     "metadata": {},
     "output_type": "execute_result"
    }
   ],
   "source": [
    "artist"
   ]
  },
  {
   "cell_type": "code",
   "execution_count": 35,
   "metadata": {},
   "outputs": [
    {
     "data": {
      "text/plain": [
       "20"
      ]
     },
     "execution_count": 35,
     "metadata": {},
     "output_type": "execute_result"
    }
   ],
   "source": [
    "len(artist)"
   ]
  },
  {
   "cell_type": "code",
   "execution_count": 36,
   "metadata": {},
   "outputs": [
    {
     "data": {
      "text/plain": [
       "20"
      ]
     },
     "execution_count": 36,
     "metadata": {},
     "output_type": "execute_result"
    }
   ],
   "source": [
    "len(title)"
   ]
  },
  {
   "cell_type": "code",
   "execution_count": 37,
   "metadata": {},
   "outputs": [
    {
     "data": {
      "text/plain": [
       "['Short Skirt/Long Jacket',\n",
       " 'GLAM!',\n",
       " 'УБЕЙ МЕНЯ (KILL ME)',\n",
       " 'The Distance',\n",
       " 'Short Skirt/Long Jacket',\n",
       " 'GLAM!',\n",
       " 'УБЕЙ МЕНЯ (KILL ME)',\n",
       " 'The Distance',\n",
       " 'ДЕНЬГИ МНЕ НЕ ВРУТ (THE MONEY IS NOT LYING TO ME)',\n",
       " 'Comfort Eagle',\n",
       " 'GL9CK',\n",
       " 'Short Skirt/Long Jacket',\n",
       " 'GLAM!',\n",
       " 'УБЕЙ МЕНЯ (KILL ME)',\n",
       " 'The Distance',\n",
       " 'ДЕНЬГИ МНЕ НЕ ВРУТ (THE MONEY IS NOT LYING TO ME)',\n",
       " 'Comfort Eagle',\n",
       " 'GL9CK',\n",
       " 'Frank Sinatra',\n",
       " 'НОВЫЙ ДЕНЬ (NEW DAY)']"
      ]
     },
     "execution_count": 37,
     "metadata": {},
     "output_type": "execute_result"
    }
   ],
   "source": [
    "title"
   ]
  },
  {
   "cell_type": "code",
   "execution_count": 11,
   "metadata": {},
   "outputs": [
    {
     "data": {
      "text/plain": [
       "3"
      ]
     },
     "execution_count": 11,
     "metadata": {},
     "output_type": "execute_result"
    }
   ],
   "source": [
    "len(feature)"
   ]
  },
  {
   "cell_type": "code",
   "execution_count": 12,
   "metadata": {},
   "outputs": [
    {
     "ename": "NameError",
     "evalue": "name 'pulled_lyrics' is not defined",
     "output_type": "error",
     "traceback": [
      "\u001b[1;31m---------------------------------------------------------------------------\u001b[0m",
      "\u001b[1;31mNameError\u001b[0m                                 Traceback (most recent call last)",
      "\u001b[1;32m<ipython-input-12-2ead50960292>\u001b[0m in \u001b[0;36m<module>\u001b[1;34m\u001b[0m\n\u001b[1;32m----> 1\u001b[1;33m \u001b[0mlen\u001b[0m\u001b[1;33m(\u001b[0m\u001b[0mpulled_lyrics\u001b[0m\u001b[1;33m)\u001b[0m\u001b[1;33m\u001b[0m\u001b[1;33m\u001b[0m\u001b[0m\n\u001b[0m",
      "\u001b[1;31mNameError\u001b[0m: name 'pulled_lyrics' is not defined"
     ]
    }
   ],
   "source": [
    "len(pulled_lyrics)"
   ]
  },
  {
   "cell_type": "code",
   "execution_count": null,
   "metadata": {},
   "outputs": [],
   "source": [
    "df = pd.DataFrame({\n",
    "'Artist' : artist,\n",
    "'Featuring' : feature,\n",
    "'Title' : title})\n",
    "\n"
   ]
  },
  {
   "cell_type": "code",
   "execution_count": null,
   "metadata": {},
   "outputs": [],
   "source": [
    "df[df.duplicated(keep=False)].value_counts('title')"
   ]
  },
  {
   "cell_type": "code",
   "execution_count": null,
   "metadata": {},
   "outputs": [],
   "source": []
  }
 ],
 "metadata": {
  "kernelspec": {
   "display_name": "Python 3",
   "language": "python",
   "name": "python3"
  },
  "language_info": {
   "codemirror_mode": {
    "name": "ipython",
    "version": 3
   },
   "file_extension": ".py",
   "mimetype": "text/x-python",
   "name": "python",
   "nbconvert_exporter": "python",
   "pygments_lexer": "ipython3",
   "version": "3.8.3"
  }
 },
 "nbformat": 4,
 "nbformat_minor": 4
}
